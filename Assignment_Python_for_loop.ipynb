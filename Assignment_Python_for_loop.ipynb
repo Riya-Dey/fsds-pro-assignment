{
  "nbformat": 4,
  "nbformat_minor": 0,
  "metadata": {
    "colab": {
      "provenance": []
    },
    "kernelspec": {
      "name": "python3",
      "display_name": "Python 3"
    },
    "language_info": {
      "name": "python"
    }
  },
  "cells": [
    {
      "cell_type": "markdown",
      "source": [
        "# Basic Level:"
      ],
      "metadata": {
        "id": "dXKB3zP91NZ1"
      }
    },
    {
      "cell_type": "markdown",
      "source": [
        "**1. Write a Python program to print the numbers from 1 to 10 using a `for` loop.**"
      ],
      "metadata": {
        "id": "XO29x7Ao1xd2"
      }
    },
    {
      "cell_type": "code",
      "execution_count": null,
      "metadata": {
        "id": "_N1RalLomqI9",
        "colab": {
          "base_uri": "https://localhost:8080/"
        },
        "outputId": "ce48946b-f49f-42ce-9c2f-2973d1c056f9"
      },
      "outputs": [
        {
          "output_type": "stream",
          "name": "stdout",
          "text": [
            "Printing 1 to 10 using for loop: [1, 2, 3, 4, 5, 6, 7, 8, 9, 10]\n"
          ]
        }
      ],
      "source": [
        "def print_num(n):\n",
        "  numbers = []\n",
        "  for i in range (1, n+1):\n",
        "    numbers.append(i)\n",
        "  return numbers\n",
        "\n",
        "n = 10\n",
        "num = print_num(n)\n",
        "print(\"Printing 1 to 10 using for loop:\", num)"
      ]
    },
    {
      "cell_type": "markdown",
      "source": [
        "**2. Create a program that calculates the sum of all numbers in a list using a `for` loop.**"
      ],
      "metadata": {
        "id": "1xNqcCQ33ypU"
      }
    },
    {
      "cell_type": "code",
      "source": [
        "def calculate_sum(L):\n",
        "  sum = 0\n",
        "  for i in L:\n",
        "    sum += i\n",
        "  return sum\n",
        "\n",
        "L = [2, 3, 5]\n",
        "result = calculate_sum(L)\n",
        "print(\"The summation of all numbers in the list is:\", result)"
      ],
      "metadata": {
        "colab": {
          "base_uri": "https://localhost:8080/"
        },
        "id": "V2kevgef1K7s",
        "outputId": "220ff19b-cae6-41e2-806a-98e9be3efab9"
      },
      "execution_count": null,
      "outputs": [
        {
          "output_type": "stream",
          "name": "stdout",
          "text": [
            "The summation of all numbers in the list is: 10\n"
          ]
        }
      ]
    },
    {
      "cell_type": "markdown",
      "source": [
        "**3. Write a program to print the characters of a string in reverse order using a `for` loop.**"
      ],
      "metadata": {
        "id": "PsLMPQhQ7Gc9"
      }
    },
    {
      "cell_type": "code",
      "source": [
        "def reverse_string(string):\n",
        "    reversed_string = \"\"\n",
        "    for char in reversed(string):\n",
        "        reversed_string += char\n",
        "    return reversed_string\n",
        "\n",
        "input_string = input(\"Enter a string: \")\n",
        "reversed_string = reverse_string(input_string)\n",
        "print(\"String in reverse order:\", reversed_string)"
      ],
      "metadata": {
        "colab": {
          "base_uri": "https://localhost:8080/"
        },
        "id": "65bROR3e1K-9",
        "outputId": "7e9f22be-f571-45e9-e2a3-1c40320c39a1"
      },
      "execution_count": null,
      "outputs": [
        {
          "output_type": "stream",
          "name": "stdout",
          "text": [
            "Enter a string: relax\n",
            "String in reverse order: xaler\n"
          ]
        }
      ]
    },
    {
      "cell_type": "markdown",
      "source": [
        "**4. Develop a program that finds the factorial of a given number using a `for` loop.**"
      ],
      "metadata": {
        "id": "g7NpAwMiM9Zx"
      }
    },
    {
      "cell_type": "code",
      "source": [
        "def factorial(n):\n",
        "    result = 1\n",
        "    for i in range(1, n+1):\n",
        "        result *= i\n",
        "    return result\n",
        "\n",
        "##Example\n",
        "num = int(input(\"Enter a number to find its factorial: \"))\n",
        "\n",
        "##Calculate factorial\n",
        "fact = factorial(num)\n",
        "\n",
        "##Output\n",
        "print(\"Factorial of\", num, \"is:\", fact)"
      ],
      "metadata": {
        "id": "inE-33Kp1LH1",
        "colab": {
          "base_uri": "https://localhost:8080/"
        },
        "outputId": "ef6a17fa-fd8f-456a-9229-eec00279ef2d"
      },
      "execution_count": null,
      "outputs": [
        {
          "output_type": "stream",
          "name": "stdout",
          "text": [
            "Enter a number to find its factorial: 7\n",
            "Factorial of 7 is: 5040\n"
          ]
        }
      ]
    },
    {
      "cell_type": "markdown",
      "source": [
        "**5. Create a program to print the multiplication table of a given number using a `for` loop.**"
      ],
      "metadata": {
        "id": "88KRCYJ_yxl1"
      }
    },
    {
      "cell_type": "code",
      "source": [
        "def multiplication_table(number):\n",
        "    print(\"Multiplication Table of\", number)\n",
        "    print(\"---------------------------\")\n",
        "    for i in range(1, 11):\n",
        "        print(number, \"X\", i, \"=\", number * i)\n",
        "\n",
        "##Input\n",
        "num = int(input(\"Enter a number to print its multiplication table: \"))\n",
        "\n",
        "##Print multiplication table\n",
        "multiplication_table(num)"
      ],
      "metadata": {
        "colab": {
          "base_uri": "https://localhost:8080/"
        },
        "id": "gYzwV_EBy7sW",
        "outputId": "0f0304f6-a74e-4720-99bb-c242f7fa71af"
      },
      "execution_count": null,
      "outputs": [
        {
          "output_type": "stream",
          "name": "stdout",
          "text": [
            "Enter a number to print its multiplication table: 10\n",
            "Multiplication Table of 10\n",
            "---------------------------\n",
            "10 X 1 = 10\n",
            "10 X 2 = 20\n",
            "10 X 3 = 30\n",
            "10 X 4 = 40\n",
            "10 X 5 = 50\n",
            "10 X 6 = 60\n",
            "10 X 7 = 70\n",
            "10 X 8 = 80\n",
            "10 X 9 = 90\n",
            "10 X 10 = 100\n"
          ]
        }
      ]
    },
    {
      "cell_type": "markdown",
      "source": [
        "**6. Write a program that counts the number of even and odd numbers in a list using a `for` loop.**"
      ],
      "metadata": {
        "id": "d2mTQWAA0saN"
      }
    },
    {
      "cell_type": "code",
      "source": [
        "def count_even_odd(numbers):\n",
        "    even_count = 0\n",
        "    odd_count = 0\n",
        "    for num in numbers:\n",
        "        if num % 2 == 0:\n",
        "            even_count += 1\n",
        "        else:\n",
        "            odd_count += 1\n",
        "    return even_count, odd_count\n",
        "\n",
        "##Input\n",
        "numbers = [int(x) for x in input(\"Enter a list of numbers separated by space: \").split()]\n",
        "\n",
        "##Count even and odd numbers\n",
        "even_count, odd_count = count_even_odd(numbers)\n",
        "\n",
        "##Output\n",
        "print(\"Number of even numbers:\", even_count)\n",
        "print(\"Number of odd numbers:\", odd_count)"
      ],
      "metadata": {
        "colab": {
          "base_uri": "https://localhost:8080/"
        },
        "id": "ErXJEt7Gy7kN",
        "outputId": "c9c7aa33-c4d3-41e8-cc51-ad42d3e4dda7"
      },
      "execution_count": null,
      "outputs": [
        {
          "output_type": "stream",
          "name": "stdout",
          "text": [
            "Enter a list of numbers separated by space: 2\n",
            "Number of even numbers: 1\n",
            "Number of odd numbers: 0\n"
          ]
        }
      ]
    },
    {
      "cell_type": "markdown",
      "source": [
        "**7. Develop a program that prints the squares of numbers from 1 to 5 using a `for` loop.**"
      ],
      "metadata": {
        "id": "5saSchgGH99m"
      }
    },
    {
      "cell_type": "code",
      "source": [
        "def square_num(n):\n",
        "  numbers = []\n",
        "  for i in range(1, n+1):\n",
        "    numbers.append(i**2)\n",
        "  return numbers\n",
        "\n",
        "##Example usage\n",
        "n = 5\n",
        "result = square_num(n)\n",
        "print(result)"
      ],
      "metadata": {
        "colab": {
          "base_uri": "https://localhost:8080/"
        },
        "id": "RTxFhYDIy7d9",
        "outputId": "2d7d31ad-1bbd-4c99-c67a-d696afc9edfb"
      },
      "execution_count": null,
      "outputs": [
        {
          "output_type": "stream",
          "name": "stdout",
          "text": [
            "[1, 4, 9, 16, 25]\n"
          ]
        }
      ]
    },
    {
      "cell_type": "markdown",
      "source": [
        "**8. Create a program to find the length of a string without using the `len()` function.**"
      ],
      "metadata": {
        "id": "i2K6L-5oK_yP"
      }
    },
    {
      "cell_type": "code",
      "source": [
        "def string_length(string):\n",
        "    count = 0\n",
        "    for char in string:\n",
        "        count += 1\n",
        "    return count\n",
        "\n",
        "##Input\n",
        "input_string = input(\"Enter a string: \")\n",
        "\n",
        "##Calculate length of string\n",
        "length = string_length(input_string)\n",
        "\n",
        "##Output\n",
        "print(\"Length of the string:\", length)"
      ],
      "metadata": {
        "colab": {
          "base_uri": "https://localhost:8080/"
        },
        "id": "n2p26Fpmy7Xd",
        "outputId": "3074a5c5-94aa-434e-f7ed-42afe71bafdd"
      },
      "execution_count": null,
      "outputs": [
        {
          "output_type": "stream",
          "name": "stdout",
          "text": [
            "Enter a string: graph\n",
            "Length of the string: 5\n"
          ]
        }
      ]
    },
    {
      "cell_type": "markdown",
      "source": [
        "**9. Write a program that calculates the average of a list of numbers using a `for` loop.**"
      ],
      "metadata": {
        "id": "cXuie-26RE8n"
      }
    },
    {
      "cell_type": "code",
      "source": [
        "def calculate_average(numbers):\n",
        "    total = 0\n",
        "    for num in numbers:\n",
        "        total += num\n",
        "    return total / len(numbers)\n",
        "\n",
        "##Input\n",
        "numbers = [float(x) for x in input(\"Enter a list of numbers separated by space: \").split()]\n",
        "\n",
        "##Calculate average\n",
        "average = calculate_average(numbers)\n",
        "\n",
        "##Output\n",
        "print(\"Average of the numbers:\", average)"
      ],
      "metadata": {
        "colab": {
          "base_uri": "https://localhost:8080/"
        },
        "id": "I5NgqoV9y7Ta",
        "outputId": "fe7ba821-7a46-4244-98c3-4f9da30b480a"
      },
      "execution_count": null,
      "outputs": [
        {
          "output_type": "stream",
          "name": "stdout",
          "text": [
            "Enter a list of numbers separated by space: 5 8 7 2 3\n",
            "Average of the numbers: 5.0\n"
          ]
        }
      ]
    },
    {
      "cell_type": "markdown",
      "source": [
        "**10. Develop a program that prints the first `n` Fibonacci numbers using a `for` loop.**"
      ],
      "metadata": {
        "id": "P41xlB5IR8Nr"
      }
    },
    {
      "cell_type": "code",
      "source": [
        "def fibonacci_numbers(n):\n",
        "    fib_list = [0, 1]            ##Initialize with the first two Fibonacci numbers\n",
        "    if n <= 0:\n",
        "        return []\n",
        "    elif n == 1:\n",
        "        return [0]\n",
        "    elif n == 2:\n",
        "        return fib_list\n",
        "    else:\n",
        "        for i in range(2, n):\n",
        "            fib_list.append(fib_list[-1] + fib_list[-2])\n",
        "        return fib_list\n",
        "\n",
        "##Input\n",
        "n = int(input(\"Enter the number of Fibonacci numbers to print: \"))\n",
        "\n",
        "##Generate and print Fibonacci numbers\n",
        "fibonacci_sequence = fibonacci_numbers(n)\n",
        "print(\"Fibonacci numbers:\", fibonacci_sequence)"
      ],
      "metadata": {
        "id": "zg-jJypxy7Ou",
        "colab": {
          "base_uri": "https://localhost:8080/"
        },
        "outputId": "fa1c9e25-1b09-492f-efc8-e9fc890c9644"
      },
      "execution_count": null,
      "outputs": [
        {
          "output_type": "stream",
          "name": "stdout",
          "text": [
            "Enter the number of Fibonacci numbers to print: 7\n",
            "Fibonacci numbers: [0, 1, 1, 2, 3, 5, 8]\n"
          ]
        }
      ]
    },
    {
      "cell_type": "markdown",
      "source": [
        "# Intermediate Level:"
      ],
      "metadata": {
        "id": "krFgxe8l3tiO"
      }
    },
    {
      "cell_type": "markdown",
      "source": [
        "**11. Write a program to check if a given list contains any duplicates using a `for` loop.**"
      ],
      "metadata": {
        "id": "FPXXF3t44TWu"
      }
    },
    {
      "cell_type": "code",
      "source": [
        "def check_duplicate(L):\n",
        "  for elements in L:\n",
        "    if L.count(elements) > 1:\n",
        "      return \"This list contains duplicate\"\n",
        "  return \"This list contains no duplicates\"\n",
        "\n",
        "##Example usage\n",
        "L = [1, 2, 3, 3, 4, 5]\n",
        "result = check_duplicate(L)\n",
        "print(result)"
      ],
      "metadata": {
        "colab": {
          "base_uri": "https://localhost:8080/"
        },
        "id": "fwMz5Orw4TEd",
        "outputId": "66622200-67a2-4061-eb5d-e26a6a4e1569"
      },
      "execution_count": null,
      "outputs": [
        {
          "output_type": "stream",
          "name": "stdout",
          "text": [
            "This list contains duplicate\n"
          ]
        }
      ]
    },
    {
      "cell_type": "markdown",
      "source": [
        "**12. Create a program that prints the prime numbers in a given range using a `for` loop.**"
      ],
      "metadata": {
        "id": "EEnOmJJ_CV1z"
      }
    },
    {
      "cell_type": "code",
      "source": [
        "def is_prime(num):\n",
        "    if num <= 1:\n",
        "        return False\n",
        "    for i in range(2, int(num ** 0.5) + 1):\n",
        "        if num % i == 0:\n",
        "            return False\n",
        "    return True\n",
        "\n",
        "def print_prime_in_range(start, end):\n",
        "    print(\"Prime numbers between\", start, \"and\", end, \"are:\")\n",
        "    for num in range(start, end + 1):\n",
        "        if is_prime(num):\n",
        "            print(num)\n",
        "\n",
        "##Example usage\n",
        "start_range = int(input(\"Enter the start of the range: \"))\n",
        "end_range = int(input(\"Enter the end of the range: \"))\n",
        "\n",
        "print_prime_in_range(start_range, end_range)"
      ],
      "metadata": {
        "id": "YPeKiwS7-EtG",
        "colab": {
          "base_uri": "https://localhost:8080/"
        },
        "outputId": "32e6bbe4-9ff3-432b-f66b-5e628f443478"
      },
      "execution_count": null,
      "outputs": [
        {
          "output_type": "stream",
          "name": "stdout",
          "text": [
            "Enter the start of the range: 2\n",
            "Enter the end of the range: 29\n",
            "Prime numbers between 2 and 29 are:\n",
            "2\n",
            "3\n",
            "5\n",
            "7\n",
            "11\n",
            "13\n",
            "17\n",
            "19\n",
            "23\n",
            "29\n"
          ]
        }
      ]
    },
    {
      "cell_type": "markdown",
      "source": [
        "**13. Develop a program that counts the number of vowels in a string using a `for` loop.**"
      ],
      "metadata": {
        "id": "pFJXefb3D3Ue"
      }
    },
    {
      "cell_type": "code",
      "source": [
        "def count_vowels(string):\n",
        "    vowels = 'aeiouAEIOU'\n",
        "    vowel_count = 0\n",
        "    for char in string:\n",
        "        if char in vowels:\n",
        "            vowel_count += 1\n",
        "    return vowel_count\n",
        "\n",
        "##Example usage\n",
        "input_string = input(\"Enter a string: \")\n",
        "print(\"Number of vowels in the string is:\", count_vowels(input_string))"
      ],
      "metadata": {
        "id": "4Stee5dX-Eqd",
        "colab": {
          "base_uri": "https://localhost:8080/"
        },
        "outputId": "6f74781b-51b3-4212-b98e-8968d6483b79"
      },
      "execution_count": null,
      "outputs": [
        {
          "output_type": "stream",
          "name": "stdout",
          "text": [
            "Enter a string: delay\n",
            "Number of vowels in the string is: 2\n"
          ]
        }
      ]
    },
    {
      "cell_type": "markdown",
      "source": [
        "**14. Write a program to find the maximum element in a 2D list using a nested `for` loop.**"
      ],
      "metadata": {
        "id": "9l-cVKkIS-J9"
      }
    },
    {
      "cell_type": "code",
      "source": [
        "def find_max_2d(arr):\n",
        "    max_element = float('-inf')  ##Initialize with negative infinity\n",
        "    for row in arr:\n",
        "        for element in row:\n",
        "            if element > max_element:\n",
        "                max_element = element\n",
        "    return max_element\n",
        "\n",
        "##Example usage\n",
        "matrix = [\n",
        "    [1, 2, 3],\n",
        "    [4, 5, 6],\n",
        "    [7, 8, 10]\n",
        "]\n",
        "\n",
        "maximum = find_max_2d(matrix)\n",
        "print(\"Maximum element in the 2D list:\", maximum)"
      ],
      "metadata": {
        "id": "e9OQDrBo-EnW",
        "colab": {
          "base_uri": "https://localhost:8080/"
        },
        "outputId": "b53806bd-53ba-4837-a572-f1d49a182c08"
      },
      "execution_count": null,
      "outputs": [
        {
          "output_type": "stream",
          "name": "stdout",
          "text": [
            "Maximum element in the 2D list: 10\n"
          ]
        }
      ]
    },
    {
      "cell_type": "markdown",
      "source": [
        "**15. Create a program that removes all occurrences of a specific element from a list using a `for` loop.**"
      ],
      "metadata": {
        "id": "xj7Fowq-YPWX"
      }
    },
    {
      "cell_type": "code",
      "source": [
        "def remove_specific_element(specific_element, L):\n",
        "  for element in L:\n",
        "    if element == specific_element:\n",
        "      L.remove(specific_element)\n",
        "  return f\"List without the specific element is {L}\"\n",
        "\n",
        "##Example usage\n",
        "specific_element = input(\"Enter the specific element you want to remove from list: \").lower()\n",
        "L = [\"coconut\", \"pistachio\", \"butter\", \"garlic\", \"chocolate\"]\n",
        "result = remove_specific_element(specific_element, L)\n",
        "print(result)"
      ],
      "metadata": {
        "id": "X99LX_U44S_d",
        "colab": {
          "base_uri": "https://localhost:8080/"
        },
        "outputId": "043a2c01-a6ab-42d3-f9fa-8e6c1a6aa0d1"
      },
      "execution_count": null,
      "outputs": [
        {
          "output_type": "stream",
          "name": "stdout",
          "text": [
            "Enter the specific element you want to remove from list: chocolate\n",
            "List without the specific element is ['coconut', 'pistachio', 'butter', 'garlic']\n"
          ]
        }
      ]
    },
    {
      "cell_type": "markdown",
      "source": [
        "**16. Develop a program that generates a multiplication table for numbers from 1 to 5 using a nested `for` loop.**"
      ],
      "metadata": {
        "id": "ohFpg4JtCKBa"
      }
    },
    {
      "cell_type": "code",
      "source": [
        "def multiplication_table(start, end):\n",
        "  for i in range(start, end + 1):\n",
        "\n",
        "    ##Print the header row for the current number\n",
        "    print(f\"Multiplication table for {i}:\")\n",
        "\n",
        "    ##Iterate over each multiplier from 1 to 10\n",
        "    for j in range(1, 11):\n",
        "\n",
        "        ##Calculate the product and print it\n",
        "        product = i * j\n",
        "        print(f\"{i} * {j} = {product}\")\n",
        "\n",
        "    ##Print an empty line between tables\n",
        "    print()\n",
        "\n",
        "\n",
        "# Define the range of numbers for the multiplication table\n",
        "start_number = 1\n",
        "end_number = 5\n",
        "\n",
        "# Generate the multiplication table\n",
        "multiplication_table(start_number, end_number)"
      ],
      "metadata": {
        "id": "rY3qLeTs4So6",
        "colab": {
          "base_uri": "https://localhost:8080/"
        },
        "outputId": "8dea59bf-5931-4742-c8c2-494f84db5a95"
      },
      "execution_count": null,
      "outputs": [
        {
          "output_type": "stream",
          "name": "stdout",
          "text": [
            "Multiplication table for 1:\n",
            "1 * 1 = 1\n",
            "1 * 2 = 2\n",
            "1 * 3 = 3\n",
            "1 * 4 = 4\n",
            "1 * 5 = 5\n",
            "1 * 6 = 6\n",
            "1 * 7 = 7\n",
            "1 * 8 = 8\n",
            "1 * 9 = 9\n",
            "1 * 10 = 10\n",
            "\n",
            "Multiplication table for 2:\n",
            "2 * 1 = 2\n",
            "2 * 2 = 4\n",
            "2 * 3 = 6\n",
            "2 * 4 = 8\n",
            "2 * 5 = 10\n",
            "2 * 6 = 12\n",
            "2 * 7 = 14\n",
            "2 * 8 = 16\n",
            "2 * 9 = 18\n",
            "2 * 10 = 20\n",
            "\n",
            "Multiplication table for 3:\n",
            "3 * 1 = 3\n",
            "3 * 2 = 6\n",
            "3 * 3 = 9\n",
            "3 * 4 = 12\n",
            "3 * 5 = 15\n",
            "3 * 6 = 18\n",
            "3 * 7 = 21\n",
            "3 * 8 = 24\n",
            "3 * 9 = 27\n",
            "3 * 10 = 30\n",
            "\n",
            "Multiplication table for 4:\n",
            "4 * 1 = 4\n",
            "4 * 2 = 8\n",
            "4 * 3 = 12\n",
            "4 * 4 = 16\n",
            "4 * 5 = 20\n",
            "4 * 6 = 24\n",
            "4 * 7 = 28\n",
            "4 * 8 = 32\n",
            "4 * 9 = 36\n",
            "4 * 10 = 40\n",
            "\n",
            "Multiplication table for 5:\n",
            "5 * 1 = 5\n",
            "5 * 2 = 10\n",
            "5 * 3 = 15\n",
            "5 * 4 = 20\n",
            "5 * 5 = 25\n",
            "5 * 6 = 30\n",
            "5 * 7 = 35\n",
            "5 * 8 = 40\n",
            "5 * 9 = 45\n",
            "5 * 10 = 50\n",
            "\n"
          ]
        }
      ]
    },
    {
      "cell_type": "markdown",
      "source": [
        "**17. Write a program that converts a list of Fahrenheit temperatures to Celsius using a `for` loop.**"
      ],
      "metadata": {
        "id": "1LewWm6dMClz"
      }
    },
    {
      "cell_type": "code",
      "source": [
        "def fahrenheit_to_celsius(fahrenheit_temps):\n",
        "    celsius_temps = []\n",
        "    for temp in fahrenheit_temps:\n",
        "        celsius = (temp - 32) * 5.0/9.0\n",
        "        celsius_temps.append(celsius)\n",
        "        print(f\"{temp}°F is {celsius:.2f}°C\")\n",
        "    return celsius_temps\n",
        "\n",
        "fahrenheit_temps = [32, 45, 64, 72, 89]\n",
        "celsius_temps = fahrenheit_to_celsius(fahrenheit_temps)"
      ],
      "metadata": {
        "id": "QSW-4VOR4Sks",
        "colab": {
          "base_uri": "https://localhost:8080/"
        },
        "outputId": "0fccf1f8-179a-4448-ba62-9edb1b1822fc"
      },
      "execution_count": null,
      "outputs": [
        {
          "output_type": "stream",
          "name": "stdout",
          "text": [
            "32°F is 0.00°C\n",
            "45°F is 7.22°C\n",
            "64°F is 17.78°C\n",
            "72°F is 22.22°C\n",
            "89°F is 31.67°C\n"
          ]
        }
      ]
    },
    {
      "cell_type": "markdown",
      "source": [
        "**18. Create a program to print the common elements from two lists using a `for` loop.**"
      ],
      "metadata": {
        "id": "ipT2KBu4YZxy"
      }
    },
    {
      "cell_type": "code",
      "source": [
        "def common_elements(list1, list2):\n",
        "    common_elements = []\n",
        "    for element in list1:\n",
        "        if element in list2:\n",
        "            common_elements.append(element)\n",
        "            return common_elements\n",
        "            break\n",
        "\n",
        "##Example usage\n",
        "list1 = [1, 2, 3, 4, 5]\n",
        "list2 = [3, 4, 5, 6, 7]\n",
        "result = common_elements(list1, list2)\n",
        "print(\"Common elements between two lists are:\", result)"
      ],
      "metadata": {
        "id": "knwYax0F4SdK",
        "colab": {
          "base_uri": "https://localhost:8080/"
        },
        "outputId": "9f1a6fd0-dc2c-465a-a2fc-e065ad714e1d"
      },
      "execution_count": null,
      "outputs": [
        {
          "output_type": "stream",
          "name": "stdout",
          "text": [
            "Common elements between two lists are: [3]\n"
          ]
        }
      ]
    },
    {
      "cell_type": "markdown",
      "source": [
        "**19. Develop a program that prints the pattern of right-angled triangles using a `for` loop. Use ‘*’ to draw the pattern**"
      ],
      "metadata": {
        "id": "EjJeXeilZMhs"
      }
    },
    {
      "cell_type": "code",
      "source": [
        "def right_angled_triangle(n):\n",
        "    for i in range(1, n + 1):\n",
        "        print('*' * i)\n",
        "\n",
        "##Example usage\n",
        "n = 5\n",
        "right_angled_triangle(n)"
      ],
      "metadata": {
        "id": "zx1BCVfz4SZa",
        "colab": {
          "base_uri": "https://localhost:8080/"
        },
        "outputId": "28a6bc64-05b1-4d8a-9f64-8da3afd362e8"
      },
      "execution_count": null,
      "outputs": [
        {
          "output_type": "stream",
          "name": "stdout",
          "text": [
            "*\n",
            "**\n",
            "***\n",
            "****\n",
            "*****\n"
          ]
        }
      ]
    },
    {
      "cell_type": "markdown",
      "source": [
        "**20. Write a program to find the greatest common divisor (GCD) of two numbers using a `for` loop.**"
      ],
      "metadata": {
        "id": "Nl-TayoUaFim"
      }
    },
    {
      "cell_type": "code",
      "source": [
        "def find_gcd(a, b):\n",
        "    for i in range(min(a, b), 0, -1):\n",
        "        if a % i == 0 and b % i == 0:\n",
        "            return i\n",
        "\n",
        "##Example usage\n",
        "num1 = int(input(\"Enter the first number: \"))\n",
        "num2 = int(input(\"Enter the second number: \"))\n",
        "print(\"The GCD of\", num1, \"and\", num2, \"is:\", find_gcd(num1, num2))"
      ],
      "metadata": {
        "id": "ivk95xs74SHq",
        "colab": {
          "base_uri": "https://localhost:8080/"
        },
        "outputId": "d9fa18bf-d926-4796-db4d-fa59e87e6485"
      },
      "execution_count": null,
      "outputs": [
        {
          "output_type": "stream",
          "name": "stdout",
          "text": [
            "Enter the first number: 24\n",
            "Enter the second number: 72\n",
            "The GCD of 24 and 72 is: 24\n"
          ]
        }
      ]
    },
    {
      "cell_type": "markdown",
      "source": [
        "# Advanced Level:"
      ],
      "metadata": {
        "id": "7erggIabSmFA"
      }
    },
    {
      "cell_type": "markdown",
      "source": [
        "**21. Create a program that calculates the sum of the digits of numbers in a list using a list comprehension.**"
      ],
      "metadata": {
        "id": "sOeowBBlS1Wf"
      }
    },
    {
      "cell_type": "code",
      "source": [
        "def sum_of_digits(numbers):\n",
        "    return [sum(int(digit) for digit in str(number)) for number in numbers]\n",
        "\n",
        "##Example usage:\n",
        "numbers = [123, 45, 678, 9]\n",
        "result = sum_of_digits(numbers)\n",
        "print(\"Sum of digits for each number:\", result)"
      ],
      "metadata": {
        "id": "XCUUGBWDy7KL",
        "colab": {
          "base_uri": "https://localhost:8080/"
        },
        "outputId": "87df06c2-2849-4813-b0f8-b5753f5738d0"
      },
      "execution_count": null,
      "outputs": [
        {
          "output_type": "stream",
          "name": "stdout",
          "text": [
            "Sum of digits for each number: [6, 9, 21, 9]\n"
          ]
        }
      ]
    },
    {
      "cell_type": "markdown",
      "source": [
        "**22. Write a program to find the prime factors of a given number using a `for` loop and list comprehension.**"
      ],
      "metadata": {
        "id": "DGDsBpJ1Uteh"
      }
    },
    {
      "cell_type": "code",
      "source": [
        "def prime_factors(n):\n",
        "    factors = [x for x in range(2, n + 1) if n % x == 0]\n",
        "    prime_factors = []\n",
        "    for factor in factors:\n",
        "        if all(factor % i != 0 for i in range(2, int(factor ** 0.5) + 1)):\n",
        "            prime_factors.append(factor)\n",
        "            return prime_factors\n",
        "\n",
        "##Example usage\n",
        "number = int(input(\"Enter a number: \"))\n",
        "print(\"Prime factors of\", number, \"are:\", prime_factors(number))"
      ],
      "metadata": {
        "id": "F6ftsgg6gNUU",
        "colab": {
          "base_uri": "https://localhost:8080/"
        },
        "outputId": "272fd201-ba74-4717-85b1-5bf688254ddc"
      },
      "execution_count": null,
      "outputs": [
        {
          "output_type": "stream",
          "name": "stdout",
          "text": [
            "Enter a number: 10\n",
            "Prime factors of 10 are: [2]\n"
          ]
        }
      ]
    },
    {
      "cell_type": "markdown",
      "source": [
        "**23. Develop a program that extracts unique elements from a list and stores them in a new list using a list comprehension.**"
      ],
      "metadata": {
        "id": "KARH4rPcfOnN"
      }
    },
    {
      "cell_type": "code",
      "source": [
        "def extract_unique_elements(input_list):\n",
        "    unique_elements = [x for i, x in enumerate(input_list) if x not in input_list[:i]]\n",
        "    return unique_elements\n",
        "\n",
        "##Example usage\n",
        "input_list = [1, 2, 2, 3, 4, 4, 5, 6, 6]\n",
        "unique_elements = extract_unique_elements(input_list)\n",
        "print(\"Unique elements:\", unique_elements)"
      ],
      "metadata": {
        "id": "CO6TgYYLgNKY",
        "colab": {
          "base_uri": "https://localhost:8080/"
        },
        "outputId": "ea3274d4-6064-4ddf-d472-f8e2f400a468"
      },
      "execution_count": null,
      "outputs": [
        {
          "output_type": "stream",
          "name": "stdout",
          "text": [
            "Unique elements: [1, 2, 3, 4, 5, 6]\n"
          ]
        }
      ]
    },
    {
      "cell_type": "markdown",
      "source": [
        "**24. Create a program that generates a list of all palindromic numbers up to a specified limit using a list\n",
        "comprehension.**"
      ],
      "metadata": {
        "id": "Crpf-Ndj2Xp-"
      }
    },
    {
      "cell_type": "code",
      "source": [
        "def is_palindrome(number):\n",
        "    return str(number) == str(number)[::-1]\n",
        "\n",
        "def generate_palindromic_numbers(limit):\n",
        "    palindromic_numbers = [num for num in range(1, limit + 1) if is_palindrome(num)]\n",
        "    return palindromic_numbers\n",
        "\n",
        "##Example usage\n",
        "limit = int(input(\"Enter the limit: \"))\n",
        "palindromic_numbers = generate_palindromic_numbers(limit)\n",
        "print(\"Palindromic numbers up to\", limit, \"are:\", palindromic_numbers)"
      ],
      "metadata": {
        "id": "ZPRtFDaegNEo",
        "colab": {
          "base_uri": "https://localhost:8080/"
        },
        "outputId": "203421df-385c-4002-c777-480ff37164d5"
      },
      "execution_count": null,
      "outputs": [
        {
          "output_type": "stream",
          "name": "stdout",
          "text": [
            "Enter the limit: 7\n",
            "Palindromic numbers up to 7 are: [1, 2, 3, 4, 5, 6, 7]\n"
          ]
        }
      ]
    },
    {
      "cell_type": "markdown",
      "source": [
        "**25. Write a program to flatten a nested list using list comprehension.**"
      ],
      "metadata": {
        "id": "9XZeuNHu3AKO"
      }
    },
    {
      "cell_type": "code",
      "source": [
        "def flatten(nested_list):\n",
        "    return [item for sublist in nested_list for item in sublist]\n",
        "\n",
        "# Example usage\n",
        "nested_list = [[1, 2, 3], [4, 5], [6, 7, 8]]\n",
        "flattened_list = flatten(nested_list)\n",
        "\n",
        "print(flattened_list)"
      ],
      "metadata": {
        "id": "yyxxxo6XgM_0",
        "colab": {
          "base_uri": "https://localhost:8080/"
        },
        "outputId": "28c7bf9a-a76d-43e6-b73f-9287c9dc8b31"
      },
      "execution_count": null,
      "outputs": [
        {
          "output_type": "stream",
          "name": "stdout",
          "text": [
            "[1, 2, 3, 4, 5, 6, 7, 8]\n"
          ]
        }
      ]
    },
    {
      "cell_type": "markdown",
      "source": [
        "**26. Develop a program that computes the sum of even and odd numbers in a list separately using list\n",
        "comprehension.**"
      ],
      "metadata": {
        "id": "3sPrI8Pi3Zsf"
      }
    },
    {
      "cell_type": "code",
      "source": [
        "def sum_even_odd(numbers):\n",
        "    even_sum = sum([num for num in numbers if num % 2 == 0])\n",
        "    odd_sum = sum([num for num in numbers if num % 2 != 0])\n",
        "    return even_sum, odd_sum\n",
        "\n",
        "##Example usage\n",
        "result = sum_even_odd([1, 2, 3, 4, 5, 6])\n",
        "print(\"the sum of even and odd numbers are as follows: \", result)"
      ],
      "metadata": {
        "id": "LFjKZJQ4yX6L",
        "colab": {
          "base_uri": "https://localhost:8080/"
        },
        "outputId": "55b43ba6-d274-452b-be8e-b20565c65b69"
      },
      "execution_count": null,
      "outputs": [
        {
          "output_type": "stream",
          "name": "stdout",
          "text": [
            "the sum of even and odd numbers are as follows:  (12, 9)\n"
          ]
        }
      ]
    },
    {
      "cell_type": "markdown",
      "source": [
        "**27. Create a program that generates a list of squares of odd numbers between 1 and 10 using list\n",
        "comprehension.**"
      ],
      "metadata": {
        "id": "OdsJvfyq4tqM"
      }
    },
    {
      "cell_type": "code",
      "source": [
        "def squares_of_odd_numbers():\n",
        "    return [x ** 2 for x in range(1, 11) if x % 2 != 0]\n",
        "\n",
        "##Example usage\n",
        "squares = squares_of_odd_numbers()\n",
        "print(\"Squares of odd numbers between 1 and 10:\", squares)"
      ],
      "metadata": {
        "colab": {
          "base_uri": "https://localhost:8080/"
        },
        "id": "l-3FNdDl36o5",
        "outputId": "34f5bfeb-3e2b-4ba1-9758-95c011ca7ae3"
      },
      "execution_count": null,
      "outputs": [
        {
          "output_type": "stream",
          "name": "stdout",
          "text": [
            "Squares of odd numbers between 1 and 10: [1, 9, 25, 49, 81]\n"
          ]
        }
      ]
    },
    {
      "cell_type": "markdown",
      "source": [
        "**28. Write a program that combines two lists into a dictionary using list comprehension.**"
      ],
      "metadata": {
        "id": "XNWFhgLd5ZGe"
      }
    },
    {
      "cell_type": "code",
      "source": [
        "def combine_lists_to_dict(keys, values):\n",
        "    return {keys[i]: values[i] for i in range(min(len(keys), len(values)))}\n",
        "\n",
        "##Example usage\n",
        "keys = ['x', 'y', 'z']\n",
        "values = [1, 2, 3]\n",
        "result = combine_lists_to_dict(keys, values)\n",
        "print(\"Combined dictionary:\", result)"
      ],
      "metadata": {
        "colab": {
          "base_uri": "https://localhost:8080/"
        },
        "id": "zqoYy2Ua6MUZ",
        "outputId": "8e05ae02-180a-40c5-ed9d-3175819e3081"
      },
      "execution_count": null,
      "outputs": [
        {
          "output_type": "stream",
          "name": "stdout",
          "text": [
            "Combined dictionary: {'x': 1, 'y': 2, 'z': 3}\n"
          ]
        }
      ]
    },
    {
      "cell_type": "markdown",
      "source": [
        "**29. Develop a program that extracts the vowels from a string and stores them in a list using list comprehension.**"
      ],
      "metadata": {
        "id": "tO_ktZ-dGoQQ"
      }
    },
    {
      "cell_type": "code",
      "source": [
        "def extract_vowels(string):\n",
        "    vowels = [char for char in string if char.lower() in 'aeiou']\n",
        "    return vowels\n",
        "\n",
        "##Example usage\n",
        "input_string = input(\"Enter a string: \")\n",
        "vowels = extract_vowels(input_string)\n",
        "print(\"Vowels in the string:\", vowels)"
      ],
      "metadata": {
        "colab": {
          "base_uri": "https://localhost:8080/"
        },
        "id": "_gZ9dtPMGeOI",
        "outputId": "47ecaa2a-f935-42cc-b034-76dc3cdcaafe"
      },
      "execution_count": null,
      "outputs": [
        {
          "output_type": "stream",
          "name": "stdout",
          "text": [
            "Enter a string: vowel\n",
            "Vowels in the string: ['o', 'e']\n"
          ]
        }
      ]
    },
    {
      "cell_type": "markdown",
      "source": [
        "**30. Create a program that removes all non-numeric characters from a list of strings using list comprehension.**"
      ],
      "metadata": {
        "id": "-m2DrstkHEQR"
      }
    },
    {
      "cell_type": "code",
      "source": [
        "def remove_non_numeric(strings):\n",
        "    return [''.join(char for char in string if char.isdigit()) for string in strings]\n",
        "\n",
        "##Example usage\n",
        "revised_strings = remove_non_numeric(['Riya241', 'bpes35', '294'])\n",
        "print(revised_strings)"
      ],
      "metadata": {
        "colab": {
          "base_uri": "https://localhost:8080/"
        },
        "id": "Hm7TLPnNHkBF",
        "outputId": "c2bff9d2-d35e-4b8f-aea7-88ae1df3d7cf"
      },
      "execution_count": null,
      "outputs": [
        {
          "output_type": "stream",
          "name": "stdout",
          "text": [
            "['241', '35', '294']\n"
          ]
        }
      ]
    },
    {
      "cell_type": "markdown",
      "source": [
        "# Challenge Level:"
      ],
      "metadata": {
        "id": "VLU9ASZF_zYc"
      }
    },
    {
      "cell_type": "markdown",
      "source": [
        "**31. Write a program to generate a list of prime numbers using the Sieve of Eratosthenes algorithm and list\n",
        "comprehension.**"
      ],
      "metadata": {
        "id": "ot2NYjYGAcx8"
      }
    },
    {
      "cell_type": "code",
      "source": [
        "def sieve_of_eratosthenes(limit):\n",
        "    sieve = [True] * (limit + 1)\n",
        "    sieve[0] = sieve[1] = False\n",
        "    for i in range(2, int(limit ** 0.5) + 1):\n",
        "        if sieve[i]:\n",
        "            # Set multiples of i to False\n",
        "            sieve[i * i : limit + 1 : i] = [False] * len(sieve[i * i : limit + 1 : i])\n",
        "\n",
        "    # Return list of prime numbers\n",
        "    return [i for i, is_prime in enumerate(sieve) if is_prime]\n",
        "\n",
        "# Example usage\n",
        "limit = int(input(\"Enter the limit: \"))\n",
        "prime_numbers = sieve_of_eratosthenes(limit)\n",
        "print(\"Prime numbers up to\", limit, \"are:\", prime_numbers)"
      ],
      "metadata": {
        "id": "DXyG4ACjDNK3",
        "colab": {
          "base_uri": "https://localhost:8080/"
        },
        "outputId": "cad1a1ac-19a8-4565-958f-7576a03444e5"
      },
      "execution_count": null,
      "outputs": [
        {
          "output_type": "stream",
          "name": "stdout",
          "text": [
            "Enter the limit: 5\n",
            "Prime numbers up to 5 are: [2, 3, 5]\n"
          ]
        }
      ]
    },
    {
      "cell_type": "markdown",
      "source": [
        "**32. Create a program that generates a list of all Pythagorean triplets up to a specified limit using list\n",
        "comprehension.**"
      ],
      "metadata": {
        "id": "GRy2-kbc9tYL"
      }
    },
    {
      "cell_type": "code",
      "source": [
        "limit = 30  # Specify the limit\n",
        "\n",
        "pythagorean_triplets = [(a, b, c)\n",
        "                        for a in range(1, limit + 1)\n",
        "                        for b in range(a, limit + 1)\n",
        "                        for c in range(b, limit + 1)\n",
        "                        if a**2 + b**2 == c**2]\n",
        "\n",
        "print(pythagorean_triplets)"
      ],
      "metadata": {
        "id": "KsFjhbm8Durr",
        "colab": {
          "base_uri": "https://localhost:8080/"
        },
        "outputId": "8284fc13-6285-4bfc-ec0a-db6789f6d8d6"
      },
      "execution_count": null,
      "outputs": [
        {
          "output_type": "stream",
          "name": "stdout",
          "text": [
            "[(3, 4, 5), (5, 12, 13), (6, 8, 10), (7, 24, 25), (8, 15, 17), (9, 12, 15), (10, 24, 26), (12, 16, 20), (15, 20, 25), (18, 24, 30), (20, 21, 29)]\n"
          ]
        }
      ]
    },
    {
      "cell_type": "markdown",
      "source": [
        "**33. Develop a program that generates a list of all possible combinations of two lists using list comprehension.**"
      ],
      "metadata": {
        "id": "lXg9T3mI-mSw"
      }
    },
    {
      "cell_type": "code",
      "source": [
        "list1 = [1, 2, 3]\n",
        "list2 = ['a', 'b', 'c']\n",
        "\n",
        "combinations = [(x, y) for x in list1 for y in list2]\n",
        "\n",
        "print(combinations)"
      ],
      "metadata": {
        "colab": {
          "base_uri": "https://localhost:8080/"
        },
        "id": "ACxZZLBs-Nz7",
        "outputId": "8904bbc9-808b-4a3c-cc93-9ee438b7f457"
      },
      "execution_count": null,
      "outputs": [
        {
          "output_type": "stream",
          "name": "stdout",
          "text": [
            "[(1, 'a'), (1, 'b'), (1, 'c'), (2, 'a'), (2, 'b'), (2, 'c'), (3, 'a'), (3, 'b'), (3, 'c')]\n"
          ]
        }
      ]
    },
    {
      "cell_type": "markdown",
      "source": [
        "**34. Write a program that calculates the mean, median, and mode of a list of numbers using list\n",
        "comprehension.**"
      ],
      "metadata": {
        "id": "VrUXeSH2_PIR"
      }
    },
    {
      "cell_type": "code",
      "source": [
        "from collections import Counter\n",
        "\n",
        "numbers = [1, 2, 2, 3, 4, 5, 5, 5, 6, 7]\n",
        "\n",
        "# Calculate mean\n",
        "mean = sum(numbers) / len(numbers)\n",
        "\n",
        "# Calculate median\n",
        "sorted_numbers = sorted(numbers)\n",
        "n = len(numbers)\n",
        "median = (sorted_numbers[n // 2] if n % 2 != 0 else (sorted_numbers[n // 2 - 1] + sorted_numbers[n // 2]) / 2)\n",
        "\n",
        "# Calculate mode\n",
        "mode_data = Counter(numbers)\n",
        "max_count = max(mode_data.values())\n",
        "mode = [num for num, count in mode_data.items() if count == max_count]\n",
        "\n",
        "print(f\"Mean: {mean}\")\n",
        "print(f\"Median: {median}\")\n",
        "print(f\"Mode: {mode}\")"
      ],
      "metadata": {
        "colab": {
          "base_uri": "https://localhost:8080/"
        },
        "id": "sTW5J2ne_Ip4",
        "outputId": "c8638bc1-bdaf-482f-b8a2-34e56225bb56"
      },
      "execution_count": null,
      "outputs": [
        {
          "output_type": "stream",
          "name": "stdout",
          "text": [
            "Mean: 4.0\n",
            "Median: 4.5\n",
            "Mode: [5]\n"
          ]
        }
      ]
    },
    {
      "cell_type": "markdown",
      "source": [
        "**35. Create a program that generates Pascal's triangle up to a specified number of rows using list\n",
        "comprehension.**"
      ],
      "metadata": {
        "id": "3yJFE0Te_eFQ"
      }
    },
    {
      "cell_type": "code",
      "source": [
        "n = 5  # Specify the number of rows\n",
        "\n",
        "pascals_triangle = []\n",
        "\n",
        "for j in range(n):\n",
        "    row = [1 if i == 0 or i == j else pascals_triangle[j-1][i-1] + pascals_triangle[j-1][i] for i in range(j + 1)]\n",
        "    pascals_triangle.append(row)\n",
        "\n",
        "for row in pascals_triangle:\n",
        "    print(row)"
      ],
      "metadata": {
        "colab": {
          "base_uri": "https://localhost:8080/"
        },
        "id": "aezjnoGp_ZRY",
        "outputId": "4bd792b1-5600-475f-bd77-7da7017757f9"
      },
      "execution_count": null,
      "outputs": [
        {
          "output_type": "stream",
          "name": "stdout",
          "text": [
            "[1]\n",
            "[1, 1]\n",
            "[1, 2, 1]\n",
            "[1, 3, 3, 1]\n",
            "[1, 4, 6, 4, 1]\n"
          ]
        }
      ]
    },
    {
      "cell_type": "markdown",
      "source": [
        "**36. Develop a program that calculates the sum of the digits of a factorial of numbers from 1 to 5 using list\n",
        "comprehension.**"
      ],
      "metadata": {
        "id": "RXa9LW3DACoU"
      }
    },
    {
      "cell_type": "code",
      "source": [
        "import math\n",
        "\n",
        "# Calculate the sum of the digits of the factorial for numbers from 1 to 5\n",
        "factorial_digit_sums = [sum(int(digit) for digit in str(math.factorial(num))) for num in range(1, 6)]\n",
        "\n",
        "print(factorial_digit_sums)"
      ],
      "metadata": {
        "colab": {
          "base_uri": "https://localhost:8080/"
        },
        "id": "2xstKcSK_t7-",
        "outputId": "d0d2bf6c-13c3-4509-fcb6-193ddc738258"
      },
      "execution_count": null,
      "outputs": [
        {
          "output_type": "stream",
          "name": "stdout",
          "text": [
            "[1, 2, 6, 6, 3]\n"
          ]
        }
      ]
    },
    {
      "cell_type": "markdown",
      "source": [
        "**37. Write a program that finds the longest word in a sentence using list comprehension.**"
      ],
      "metadata": {
        "id": "scaoUsw8ASOG"
      }
    },
    {
      "cell_type": "code",
      "source": [
        "sentence = \"Python is a programming language\"\n",
        "\n",
        "# Find the longest word\n",
        "longest_word = max([word for word in sentence.split()], key=len)\n",
        "\n",
        "print(f\"The longest word is: {longest_word}\")"
      ],
      "metadata": {
        "colab": {
          "base_uri": "https://localhost:8080/"
        },
        "id": "SS6AoFYhALTQ",
        "outputId": "85ee1da0-46e1-4872-9b5e-fc4ec2f5e7e2"
      },
      "execution_count": null,
      "outputs": [
        {
          "output_type": "stream",
          "name": "stdout",
          "text": [
            "The longest word is: programming\n"
          ]
        }
      ]
    },
    {
      "cell_type": "markdown",
      "source": [
        "**38. Create a program that filters a list of strings to include only those with more than three vowels using list\n",
        "comprehension.**"
      ],
      "metadata": {
        "id": "0TiS_Sw2Av0S"
      }
    },
    {
      "cell_type": "code",
      "source": [
        "def filter_strings_with_vowels(strings):\n",
        "    return [s for s in strings if sum(1 for char in s.lower() if char in 'aeiou') >= 3]\n",
        "\n",
        "# Example usage\n",
        "strings = [\"hello\", \"beautiful\", \"world\", \"amazing\", \"sky\"]\n",
        "filtered_strings = filter_strings_with_vowels(strings)\n",
        "print(filtered_strings)"
      ],
      "metadata": {
        "colab": {
          "base_uri": "https://localhost:8080/"
        },
        "id": "klae8UYcAfUn",
        "outputId": "4b94ee9a-9544-4556-b72f-5ff118098c68"
      },
      "execution_count": null,
      "outputs": [
        {
          "output_type": "stream",
          "name": "stdout",
          "text": [
            "['beautiful', 'amazing']\n"
          ]
        }
      ]
    },
    {
      "cell_type": "markdown",
      "source": [
        "**39. Develop a program that calculates the sum of the digits of numbers from 1 to 1000 using list\n",
        "comprehension.**"
      ],
      "metadata": {
        "id": "C05O2C91C27j"
      }
    },
    {
      "cell_type": "code",
      "source": [
        "# Calculate the sum of the digits of numbers from 1 to 1000\n",
        "digit_sum = sum(sum(int(digit) for digit in str(num)) for num in range(1, 1001))\n",
        "\n",
        "print(digit_sum)"
      ],
      "metadata": {
        "colab": {
          "base_uri": "https://localhost:8080/"
        },
        "id": "ScZUzlz9BACf",
        "outputId": "979e240f-f526-4386-f712-10cd2486605a"
      },
      "execution_count": null,
      "outputs": [
        {
          "output_type": "stream",
          "name": "stdout",
          "text": [
            "13501\n"
          ]
        }
      ]
    },
    {
      "cell_type": "markdown",
      "source": [
        "**40. Write a program that generates a list of prime palindromic numbers using list comprehension.**"
      ],
      "metadata": {
        "id": "eXrWmyOyDnNV"
      }
    },
    {
      "cell_type": "code",
      "source": [
        "def is_prime(n):\n",
        "    if n < 2:\n",
        "        return False\n",
        "    for i in range(2, int(n**0.5) + 1):\n",
        "        if n % i == 0:\n",
        "            return False\n",
        "    return True\n",
        "\n",
        "def is_palindrome(n):\n",
        "    return str(n) == str(n)[0:]\n",
        "\n",
        "# Generate prime palindromic numbers within a range (e.g., 1 to 1000)\n",
        "prime_palindromes = [n for n in range(1, 1001) if is_prime(n) and is_palindrome(n)]\n",
        "\n",
        "print(prime_palindromes)"
      ],
      "metadata": {
        "colab": {
          "base_uri": "https://localhost:8080/"
        },
        "id": "OgyKQohGC-Vx",
        "outputId": "e5836e85-fe14-4d96-98fe-0e88ac8b7570"
      },
      "execution_count": null,
      "outputs": [
        {
          "output_type": "stream",
          "name": "stdout",
          "text": [
            "[2, 3, 5, 7, 11, 13, 17, 19, 23, 29, 31, 37, 41, 43, 47, 53, 59, 61, 67, 71, 73, 79, 83, 89, 97, 101, 103, 107, 109, 113, 127, 131, 137, 139, 149, 151, 157, 163, 167, 173, 179, 181, 191, 193, 197, 199, 211, 223, 227, 229, 233, 239, 241, 251, 257, 263, 269, 271, 277, 281, 283, 293, 307, 311, 313, 317, 331, 337, 347, 349, 353, 359, 367, 373, 379, 383, 389, 397, 401, 409, 419, 421, 431, 433, 439, 443, 449, 457, 461, 463, 467, 479, 487, 491, 499, 503, 509, 521, 523, 541, 547, 557, 563, 569, 571, 577, 587, 593, 599, 601, 607, 613, 617, 619, 631, 641, 643, 647, 653, 659, 661, 673, 677, 683, 691, 701, 709, 719, 727, 733, 739, 743, 751, 757, 761, 769, 773, 787, 797, 809, 811, 821, 823, 827, 829, 839, 853, 857, 859, 863, 877, 881, 883, 887, 907, 911, 919, 929, 937, 941, 947, 953, 967, 971, 977, 983, 991, 997]\n"
          ]
        }
      ]
    },
    {
      "cell_type": "code",
      "source": [],
      "metadata": {
        "id": "B4EspGofDxda"
      },
      "execution_count": null,
      "outputs": []
    }
  ]
}