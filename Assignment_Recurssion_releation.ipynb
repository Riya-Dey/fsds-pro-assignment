{
  "cells": [
    {
      "cell_type": "markdown",
      "metadata": {
        "id": "bcq4--hp70Fh"
      },
      "source": [
        "**1. Find the value of T(2) for the recurrence relation T(n) = 3T(n-1) + 12n, given that T(0)=5.**"
      ]
    },
    {
      "cell_type": "code",
      "execution_count": 1,
      "metadata": {
        "id": "73_cgSERfadQ"
      },
      "outputs": [],
      "source": [
        "'''To find the value of T(2) for the recurrence relation T(n) = 3T(n-1) + 12n,\n",
        "We can use iteration or recursion.\n",
        "Since the value of T(0) is given as 5, we can use the relation to calculate T(2).\n",
        "\n",
        "Given:\n",
        "T(0) = 5\n",
        "\n",
        "We can calculate T(1) and then T(2) using the recurrence relation.\n",
        "\n",
        "T(1) = 3T(1-1) + 12 x 1\n",
        "     = 3T(0) + 12\n",
        "     = 3 x 5 + 12\n",
        "     = 15 + 12\n",
        "     = 27\n",
        "\n",
        "Now for T(2):\n",
        "\n",
        "T(2) = 3T(2-1) + 12 x 2\n",
        "     = 3T(1) + 24\n",
        "     = 3 x 27 + 24\n",
        "     = 81 + 24\n",
        "     = 105\n",
        "\n",
        "So, the value of T(2) for the given recurrence relation with T(0) = 5 is 105'''\n",
        "pass"
      ]
    },
    {
      "cell_type": "markdown",
      "metadata": {
        "id": "HPOQOKlg8UKP"
      },
      "source": [
        "**2. Given a recurrence relation, solve it using the substitution method:**:\n",
        "\n",
        "---\n",
        "\n",
        "\n",
        "a. T(n) = T(n-1) + c\n",
        "----\n",
        "b. T(n) = 2T(n/2) + n\n",
        "----\n",
        "c. T(n) = 2T(n/2) + c\n",
        "----\n",
        "d. T(n) = T(n/2) + c\n",
        "----"
      ]
    },
    {
      "cell_type": "code",
      "execution_count": 2,
      "metadata": {
        "id": "b34kcgFP846-"
      },
      "outputs": [],
      "source": [
        "'''\n",
        "Let's solve the recurrence relations by using the substitution method -\n",
        "\n",
        "a. T(n) = T(n-1) + c\n",
        "------------------------------------------------------------------------------------\n",
        "if we substitute (n-1) in place of n, we'll get -\n",
        "\n",
        "T(n-1) = T(n-1-1) + c\n",
        "       = T(n-2) + c\n",
        "\n",
        "so, we get -\n",
        "\n",
        "T(n) = T(n-2) + c + c\n",
        "     = T(n-2) + 2c ----- (1)\n",
        " ----------------------------------------------\n",
        "if we substitute (n-2) in place of n, we'll get -\n",
        "\n",
        "T(n-2) = T(n-2-1) + c\n",
        "       = T(n-3) + c\n",
        "\n",
        "so, we get -\n",
        "\n",
        "T(n) = T(n-2) + 2c      #by using (1) no. equation\n",
        "     = T(n-3) + 3c  ----- (2)\n",
        "----------------------------------------------\n",
        "after substituting k times, we'll get -\n",
        "\n",
        "T(n) = T(n-k) + k.c                       for (n-k) = 1\n",
        "     = T(n-(n-1)) + (n-1).c                   k = n-1\n",
        "     = T(1) + (n-1).c\n",
        "     = 1 + (n-1).c                         for the base case condition, we can assume- if, n<1 --> T(n) = 1\n",
        "\n",
        "So, the time complexity of the equation is big O(n)\n",
        "\n",
        "'''\n",
        "pass"
      ]
    },
    {
      "cell_type": "code",
      "execution_count": 8,
      "metadata": {
        "id": "fUzZMtOg840L"
      },
      "outputs": [],
      "source": [
        "'''\n",
        "Let's solve the recurrence relations by using the substitution method -\n",
        "\n",
        "b. T(n) = 2T(n/2) + n\n",
        "------------------------------------------------------------------------------------\n",
        "if we substitute (n/2) in place of n, we'll get -\n",
        "T(n/2) = 2T(n/4) + n/2      ---------(1)\n",
        "\n",
        "if we substitute (n/4) in place of n, we'll get -\n",
        "T(n/4) = 2T(n/8) + n/4      ---------(2)\n",
        "\n",
        "if we substitute (n/8) in place of n, we'll get -\n",
        "T(n/8) = 2T(n/16) + n/8      ---------(3)\n",
        "--------------------------------------------------------------------------------------\n",
        "now, if we use the substitute values in the main equaqtion, we'll get -\n",
        "\n",
        "T(n) = 2T(n/2) + n                --------------(a)\n",
        "     = 2{2T(n/4) + n/2} + n\n",
        "     = 4T(n/4) + n + n            --------------(b)\n",
        "     = 4{2T(n/8) + n/4} + 2n\n",
        "     = 8T(n/8) + n + 2n           -------------(c)\n",
        "     = 8{2T(n/16) + n/8} + 3n\n",
        "     = 16T(n/16) + n + 3n\n",
        "     = 16T(n/16) + 4n             --------------(d)\n",
        "\n",
        "after substituting k times, we'll get-\n",
        "T(n) = 2^k T(n/2^k) + k.n\n",
        "      = k log2\n",
        "\n",
        "'''\n",
        "pass"
      ]
    },
    {
      "cell_type": "code",
      "execution_count": 4,
      "metadata": {
        "id": "YDUh_fZd77j-"
      },
      "outputs": [],
      "source": [
        "'''\n",
        "Let's solve the recurrence relations by using the substitution method -\n",
        "\n",
        "c. T(n) = 2T(n/2) + c\n",
        "------------------------------------------------------------------------------------\n",
        "if we substitute (n/2) in place of n, we'll get -\n",
        "T(n/2) = 2T(n/4) + c        ---------(1)\n",
        "\n",
        "if we substitute (n/4) in place of n, we'll get -\n",
        "T(n/4) = 2T(n/8) + c        ---------(2)\n",
        "\n",
        "if we substitute (n/8) in place of n, we'll get -\n",
        "T(n/8) = 2T(n/16) + c       ---------(3)\n",
        "--------------------------------------------------------------------------------------\n",
        "now, if we use the substitute values in the main equaqtion, we'll get -\n",
        "\n",
        "T(n) = 2T(n/2) + c          `----------(a)\n",
        "     = 4T(n/4) + 2c + c      ----------(b)\n",
        "     = 8T(n/8) + 2c +3c     -----------(c)\n",
        "     = 16T(n/16) + 2c + 5c   ----------(d)\n",
        "     = 16T(n/16) + 7c\n",
        "\n",
        "after substituting k times, we'll get-\n",
        "\n",
        "T(n) = 2^k T(n/2^k) + (2k - 1)c\n",
        "\n",
        "**Base case condition ->\n",
        "  n/2^k = 1\n",
        "  n = 2^k\n",
        "  log(n) = log(2^k)     [log base 2]\n",
        "  log(n) = k log(2)     [log(2) will be 1]\n",
        "  k = log(n)\n",
        "\n",
        "so,\n",
        "  2^k = 2^log(n)\n",
        "      = n^log(2)      [according to the logarithmic properties we can change postion, as the base of log is also 2]\n",
        "      = n\n",
        "\n",
        "now,\n",
        "T(n) = 2^k T(n/2^k) + (2k - 1)c\n",
        "     = 2^log(n) T(n/2^log(n)) + (2log(n) - 1)c\n",
        "     = nT(n/n) + 2c log(n) - c\n",
        "     = nT(1) + 2c log(n) - c\n",
        "\n",
        "So, the time complexity of the equation is big O(clogn)\n",
        "\n",
        "'''\n",
        "pass"
      ]
    },
    {
      "cell_type": "code",
      "execution_count": 5,
      "metadata": {
        "id": "eBt0cDhz98am"
      },
      "outputs": [],
      "source": [
        "'''\n",
        "Let's solve the recurrence relations by using the substitution method -\n",
        "\n",
        "d. T(n) = T(n/2) + c\n",
        "------------------------------------------------------------------------------------\n",
        "if we substitute (n/2) in place of n, we'll get -\n",
        "T(n/2) = T(n/4) + c          ---------(1)\n",
        "\n",
        "if we substitute (n/4) in place of n, we'll get -\n",
        "T(n/4) = T(n/8) + c          ---------(2)\n",
        "\n",
        "if we substitute (n/8) in place of n, we'll get -\n",
        "T(n/8) = T(n/16) + c          ---------(3)\n",
        "--------------------------------------------------------------------------------------\n",
        "now, if we use the substitute values in the main equaqtion, we'll get -\n",
        "\n",
        "T(n) = T(n/2) + c           ----------(a)\n",
        "     = T(n/4) + c + c        ----------(b)\n",
        "     = T(n/8) + c + 2c       -----------(c)\n",
        "     = T(n/16) + c + 3c       ----------(d)\n",
        "     = T(n/16) + 4c\n",
        "\n",
        "after substituting k times, we'll get-\n",
        "\n",
        "T(n) = T(n/2^k) + k.c\n",
        "\n",
        "Base case condition ->\n",
        "\n",
        "  n/2^k = 1\n",
        "  n = 2^k\n",
        "  log n = log (2^k)    [by taking log base 2 in both sides]\n",
        "  log n = k.log 2\n",
        "> k = log n\n",
        "\n",
        "Now,\n",
        "\n",
        "T(n) = T(n/2^k) + k.c\n",
        "      = T(n/2^log n) + log n.c    [according to the logarithmic properties we can change postion, as the base of log is also 2]\n",
        "      = T(n/n) + c log n\n",
        "      = T(1) + c log n\n",
        "So, the time complexity of the equation is big O(clogn)\n",
        "\n",
        "'''\n",
        "pass"
      ]
    },
    {
      "cell_type": "markdown",
      "metadata": {
        "id": "_-D0_cr-VHFj"
      },
      "source": [
        "**3. Given a recurrence relation, solve it using the recursive tree approach:**"
      ]
    },
    {
      "cell_type": "markdown",
      "metadata": {
        "id": "rRYR5X8NZzT4"
      },
      "source": [
        "*****a. T(n) = 2T(n-1) +1*****"
      ]
    },
    {
      "cell_type": "code",
      "execution_count": 6,
      "metadata": {
        "id": "gV6JmaG6ZzJK"
      },
      "outputs": [],
      "source": [
        "'''\n",
        "\n",
        "                           T(n)\n",
        "                         /     \\\n",
        "                    T(n-1)     T(n-1)\n",
        "                    /   \\       /    \\\n",
        "                T(n-2) T(n-2) T(n-2) T(n-2)\n",
        "                / \\    / \\     / \\    / \\\n",
        "            T(n-3) T(n-3) ...  ... T(n-3) T(n-3)\n",
        "             / \\     / \\              / \\     / \\\n",
        "          ...  ...  ...             ...  ...  ...\n",
        "\n",
        "Recursive Tree:\n",
        "\n",
        "At each level of the tree, the size of the problem decreases by 1 (i.e.,n−1).\n",
        "Each node branches into two child nodes, representing the two recursive calls T(n-1)\n",
        "Each recursive call adds a constant amount of work (in this case, 1).\n",
        "\n",
        "In this tree:\n",
        "\n",
        "Each level corresponds to a recursive call, and the depth of the tree represents the number of recursive calls.\n",
        "At each level, the problem size decreases by 1 until it reaches the base case T(1)\n",
        "\n",
        "Base Case:\n",
        "The base case occurs when n = 1,\n",
        "At this point, the recursion stops, and we directly return the result without further recursive calls.\n",
        "In this case, the base case is T(1) = 1 (as specified in the recurrence relation).\n",
        "\n",
        "Calculating Time Complexity:\n",
        "To find the time complexity, we sum up the work done at each level of the recursive tree.\n",
        "Since each level adds a constant amount of work (1), and the depth of the tree is n\n",
        "(since we decrement n by 1 at each level until it reaches 1), the total work done is big O(n).\n",
        "\n",
        "So, the time complexity of the recurrence relation  T(n) = 2T(n-1) +1 using the recursive tree approach is big O(n).\n",
        "\n",
        "'''\n",
        "pass"
      ]
    },
    {
      "cell_type": "markdown",
      "source": [
        "*****b. T(n) = 2T(n/2) + n*****"
      ],
      "metadata": {
        "id": "vZcUgQYb6EPg"
      }
    },
    {
      "cell_type": "code",
      "execution_count": 7,
      "metadata": {
        "id": "_jM2yMYsZzFF"
      },
      "outputs": [],
      "source": [
        "'''\n",
        "\n",
        "                      T(n)\n",
        "                     /    \\\n",
        "               T(n/2)      T(n/2)\n",
        "              /     \\       /     \\\n",
        "         T(n/4)  T(n/4)  T(n/4)  T(n/4)\n",
        "         /   \\    /   \\    /   \\    /   \\\n",
        "      ...   ...  ...   ...  ...   ...  ...\n",
        "\n",
        "Recursive Tree:\n",
        "\n",
        "At each level of the tree, the problem size decreases by half (i.e., n/2)\n",
        "Each node branches into two child nodes, representing the two recursive calls T(n/2)\n",
        "Each recursive call adds a linear amount of work (in this case, n).\n",
        "\n",
        "In this tree:\n",
        "\n",
        "Each level corresponds to a recursive call, and the depth of the tree represents the number of recursive calls.\n",
        "At each level, the problem size decreases by half until it reaches the base case t(1)\n",
        "\n",
        "Base Case:\n",
        "The base case occurs when the problem size becomes 1 (i.e., n=1).\n",
        "At this point, the recursion stops, and we directly return the result without further recursive calls.\n",
        "In this case, the base case is T(1)=1 (as specified in the recurrence relation).\n",
        "\n",
        "Calculating Time Complexity:\n",
        "To find the time complexity, we sum up the work done at each level of the recursive tree.\n",
        "Since each level adds a linear amount of work (n), and the depth of the tree is logn (since we halve n at each level until it reaches 1),\n",
        "the total work done is BIG O(nlogn).\n",
        "\n",
        "So, the time complexity of the recurrence relation T(n) = 2T(n/2) + n using the recursive tree approach is BIG O(nlogn)\n",
        "'''\n",
        "pass"
      ]
    },
    {
      "cell_type": "code",
      "execution_count": 7,
      "metadata": {
        "id": "YrRc99a8ZzBW"
      },
      "outputs": [],
      "source": []
    },
    {
      "cell_type": "code",
      "execution_count": 7,
      "metadata": {
        "id": "6MRvKXjegmU_"
      },
      "outputs": [],
      "source": []
    }
  ],
  "metadata": {
    "colab": {
      "provenance": []
    },
    "kernelspec": {
      "display_name": "Python 3",
      "name": "python3"
    },
    "language_info": {
      "name": "python"
    }
  },
  "nbformat": 4,
  "nbformat_minor": 0
}