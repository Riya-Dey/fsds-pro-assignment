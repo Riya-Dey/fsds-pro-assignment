{
  "nbformat": 4,
  "nbformat_minor": 0,
  "metadata": {
    "colab": {
      "provenance": []
    },
    "kernelspec": {
      "name": "python3",
      "display_name": "Python 3"
    },
    "language_info": {
      "name": "python"
    }
  },
  "cells": [
    {
      "cell_type": "markdown",
      "source": [
        "# For Loop :\n"
      ],
      "metadata": {
        "id": "q375o76MQOlw"
      }
    },
    {
      "cell_type": "markdown",
      "source": [
        "## 1. Write a Python program to print numbers from 1 to 10 using a for loop."
      ],
      "metadata": {
        "id": "z-aU6aTcQSr2"
      }
    },
    {
      "cell_type": "code",
      "execution_count": 1,
      "metadata": {
        "colab": {
          "base_uri": "https://localhost:8080/"
        },
        "id": "yPps_QmJCQZN",
        "outputId": "2cdfc450-0c73-4723-d982-67c41e77150c"
      },
      "outputs": [
        {
          "output_type": "stream",
          "name": "stdout",
          "text": [
            "1\n",
            "2\n",
            "3\n",
            "4\n",
            "5\n",
            "6\n",
            "7\n",
            "8\n",
            "9\n",
            "10\n"
          ]
        }
      ],
      "source": [
        "for i in range(1, 11):\n",
        "    print(i)"
      ]
    },
    {
      "cell_type": "markdown",
      "source": [
        "## 2. Explain the difference between a for loop and a while loop in Python."
      ],
      "metadata": {
        "id": "N5DkOIXwUEZf"
      }
    },
    {
      "cell_type": "code",
      "source": [
        "'''\n",
        "> For loop: Iterates over a sequence (such as a list, tuple, or range) for a specific number of times.\n",
        "            The loop runs until the sequence is exhausted.\n",
        "            It is commonly used when the exact number of iterations is known in advance.\n",
        "\n",
        "> While loop: Runs as long as the given condition is true.\n",
        "              It checks the condition at the start of each iteration, and the loop may continue indefinitely if the condition never becomes false.\n",
        "              It is useful when the number of iterations is not known in advance or when the loop needs to continue until a specific condition is met.\n",
        "\n",
        "'''\n",
        "pass"
      ],
      "metadata": {
        "id": "XDXzGiuSUFsV"
      },
      "execution_count": 2,
      "outputs": []
    },
    {
      "cell_type": "markdown",
      "source": [
        "## 3. Write a Python program to calculate the sum of all numbers from 1 to 100 using a for loop."
      ],
      "metadata": {
        "id": "PSJJqAaBUHV1"
      }
    },
    {
      "cell_type": "code",
      "source": [
        "total_sum = 0\n",
        "for i in range(1, 101):\n",
        "    total_sum += i\n",
        "print(total_sum)"
      ],
      "metadata": {
        "colab": {
          "base_uri": "https://localhost:8080/"
        },
        "id": "lCaQdJsAUIOU",
        "outputId": "bd940d74-a96b-4e79-accf-268cf3856ccd"
      },
      "execution_count": 3,
      "outputs": [
        {
          "output_type": "stream",
          "name": "stdout",
          "text": [
            "5050\n"
          ]
        }
      ]
    },
    {
      "cell_type": "markdown",
      "source": [
        "## 4. How do you iterate through a list using a for loop in Python?\n"
      ],
      "metadata": {
        "id": "IUbuMkEjUKPk"
      }
    },
    {
      "cell_type": "code",
      "source": [
        "my_list = [2, 4, 6, 8, 10]\n",
        "for item in my_list:\n",
        "    print(item)"
      ],
      "metadata": {
        "colab": {
          "base_uri": "https://localhost:8080/"
        },
        "id": "SoF71DZpULxo",
        "outputId": "e02f793c-4d6b-4ad9-91d8-743646d614f3"
      },
      "execution_count": 4,
      "outputs": [
        {
          "output_type": "stream",
          "name": "stdout",
          "text": [
            "2\n",
            "4\n",
            "6\n",
            "8\n",
            "10\n"
          ]
        }
      ]
    },
    {
      "cell_type": "markdown",
      "source": [
        "## 5. Write a Python program to find the product of all elements in a list using a for loop."
      ],
      "metadata": {
        "id": "6vVqmrv7UOYS"
      }
    },
    {
      "cell_type": "code",
      "source": [
        "my_list = [1, 2, 3, 4]\n",
        "product = 1\n",
        "for item in my_list:\n",
        "    product *= item\n",
        "print(product)"
      ],
      "metadata": {
        "colab": {
          "base_uri": "https://localhost:8080/"
        },
        "id": "gPeZonryUPZ9",
        "outputId": "ef3edc6a-2aba-4057-bc13-b846add15898"
      },
      "execution_count": 5,
      "outputs": [
        {
          "output_type": "stream",
          "name": "stdout",
          "text": [
            "24\n"
          ]
        }
      ]
    },
    {
      "cell_type": "markdown",
      "source": [
        "## 6. Create a Python program that prints all even numbers from 1 to 20 using a for loop."
      ],
      "metadata": {
        "id": "hOivnGFOURyE"
      }
    },
    {
      "cell_type": "code",
      "source": [
        "# Iterate through numbers from 1 to 20\n",
        "for number in range(1, 21):\n",
        "    # Check if the number is even\n",
        "    if number % 2 == 0:\n",
        "        # Print the even number\n",
        "        print(number)"
      ],
      "metadata": {
        "colab": {
          "base_uri": "https://localhost:8080/"
        },
        "id": "LCEYTxktUTzs",
        "outputId": "95e644a8-2728-4059-ba01-c039e1c3666f"
      },
      "execution_count": 7,
      "outputs": [
        {
          "output_type": "stream",
          "name": "stdout",
          "text": [
            "2\n",
            "4\n",
            "6\n",
            "8\n",
            "10\n",
            "12\n",
            "14\n",
            "16\n",
            "18\n",
            "20\n"
          ]
        }
      ]
    },
    {
      "cell_type": "markdown",
      "source": [
        "## 7. Write a Python program that calculates the factorial of a number using a for loop."
      ],
      "metadata": {
        "id": "H2mAKO7eUWYl"
      }
    },
    {
      "cell_type": "code",
      "source": [
        "num = int(input(\"Enter a number: \"))\n",
        "factorial = 1\n",
        "for i in range(1, num + 1):\n",
        "    factorial *= i\n",
        "print(factorial)"
      ],
      "metadata": {
        "colab": {
          "base_uri": "https://localhost:8080/"
        },
        "id": "T-iB4jLUUXm0",
        "outputId": "cb96b138-5efe-4366-a38b-fe4ade767815"
      },
      "execution_count": 9,
      "outputs": [
        {
          "output_type": "stream",
          "name": "stdout",
          "text": [
            "Enter a number: 5\n",
            "120\n"
          ]
        }
      ]
    },
    {
      "cell_type": "markdown",
      "source": [
        "## 8. How can you iterate through the characters of a string using a for loop in Python?"
      ],
      "metadata": {
        "id": "slh2L9hWUgeO"
      }
    },
    {
      "cell_type": "code",
      "source": [
        "my_string = input(\"Enter a character: \")\n",
        "for char in my_string:\n",
        "    print(char)"
      ],
      "metadata": {
        "colab": {
          "base_uri": "https://localhost:8080/"
        },
        "id": "6MIrJJaeUhec",
        "outputId": "638a97a7-99ce-425c-ed70-5dfb8b9f243f"
      },
      "execution_count": 10,
      "outputs": [
        {
          "output_type": "stream",
          "name": "stdout",
          "text": [
            "Enter a character: python\n",
            "p\n",
            "y\n",
            "t\n",
            "h\n",
            "o\n",
            "n\n"
          ]
        }
      ]
    },
    {
      "cell_type": "markdown",
      "source": [
        "## 9. Write a Python program to find the largest number in a list using a for loop."
      ],
      "metadata": {
        "id": "ASQjHPEQUjFn"
      }
    },
    {
      "cell_type": "code",
      "source": [
        "my_list = [3, 5, 7, 2, 8]\n",
        "largest = my_list[0]\n",
        "for num in my_list:\n",
        "    if num > largest:\n",
        "        largest = num\n",
        "print(\"The largest number in the list is :\",largest)"
      ],
      "metadata": {
        "colab": {
          "base_uri": "https://localhost:8080/"
        },
        "id": "g8l3DN3sUkSq",
        "outputId": "1ef47484-f132-40b9-f65b-d8ce6dfc0dfc"
      },
      "execution_count": 12,
      "outputs": [
        {
          "output_type": "stream",
          "name": "stdout",
          "text": [
            "The largest number in the list is : 8\n"
          ]
        }
      ]
    },
    {
      "cell_type": "markdown",
      "source": [
        "## 10. Create a Python program that prints the Fibonacci sequence up to a specified limit using a for loop."
      ],
      "metadata": {
        "id": "r-e6deAvUlxd"
      }
    },
    {
      "cell_type": "code",
      "source": [
        "limit = int(input(\"Enter the limit: \"))\n",
        "a, b = 0, 1\n",
        "print(a, b, end=\" \")\n",
        "\n",
        "for _ in range(2, limit):\n",
        "    c = a + b\n",
        "    if c > limit:\n",
        "        break\n",
        "    print(c, end=\" \")\n",
        "    a, b = b, c"
      ],
      "metadata": {
        "colab": {
          "base_uri": "https://localhost:8080/"
        },
        "id": "5fPUvyMYZIIO",
        "outputId": "04d649f0-5287-4177-d80e-13f11f993312"
      },
      "execution_count": 13,
      "outputs": [
        {
          "output_type": "stream",
          "name": "stdout",
          "text": [
            "Enter the limit: 10\n",
            "0 1 1 2 3 5 8 "
          ]
        }
      ]
    },
    {
      "cell_type": "markdown",
      "source": [
        "## 11. Write a Python program to count the number of vowels in a given string using a for loop."
      ],
      "metadata": {
        "id": "gKnK9Q5Jb-fd"
      }
    },
    {
      "cell_type": "code",
      "source": [
        "string = \"hello world\"\n",
        "vowels = \"aeiouAEIOU\"\n",
        "count = 0\n",
        "\n",
        "for char in string:\n",
        "    if char in vowels:\n",
        "        count += 1\n",
        "\n",
        "print(\"Number of vowels:\", count)"
      ],
      "metadata": {
        "colab": {
          "base_uri": "https://localhost:8080/"
        },
        "id": "EyfDh8YmUnRC",
        "outputId": "c266d159-7208-4e3a-b428-995427ccb92b"
      },
      "execution_count": 14,
      "outputs": [
        {
          "output_type": "stream",
          "name": "stdout",
          "text": [
            "Number of vowels: 3\n"
          ]
        }
      ]
    },
    {
      "cell_type": "markdown",
      "source": [
        "## 12. Create a Python program that generates a multiplication table for a given number using a for loop"
      ],
      "metadata": {
        "id": "w3lx9S3VcFU8"
      }
    },
    {
      "cell_type": "code",
      "source": [
        "num = 5  # Example usage\n",
        "\n",
        "for i in range(1, 11):\n",
        "    print(f\"{num} x {i} = {num * i}\")"
      ],
      "metadata": {
        "colab": {
          "base_uri": "https://localhost:8080/"
        },
        "id": "Gb10AmW0cHll",
        "outputId": "e7afc0ce-3014-4665-b96b-08ee20a379bd"
      },
      "execution_count": 16,
      "outputs": [
        {
          "output_type": "stream",
          "name": "stdout",
          "text": [
            "5 x 1 = 5\n",
            "5 x 2 = 10\n",
            "5 x 3 = 15\n",
            "5 x 4 = 20\n",
            "5 x 5 = 25\n",
            "5 x 6 = 30\n",
            "5 x 7 = 35\n",
            "5 x 8 = 40\n",
            "5 x 9 = 45\n",
            "5 x 10 = 50\n"
          ]
        }
      ]
    },
    {
      "cell_type": "markdown",
      "source": [
        "## 13. Write a Python program to reverse a list using a for loop."
      ],
      "metadata": {
        "id": "y55oQ0cccN0W"
      }
    },
    {
      "cell_type": "code",
      "source": [
        "my_list = [1, 2, 3, 4, 5]\n",
        "reversed_list = []\n",
        "\n",
        "for i in range(len(my_list) - 1, -1, -1):\n",
        "    reversed_list.append(my_list[i])\n",
        "\n",
        "print(\"Reversed list:\", reversed_list)"
      ],
      "metadata": {
        "colab": {
          "base_uri": "https://localhost:8080/"
        },
        "id": "3eK-jthOcO9e",
        "outputId": "1872a523-0d7c-4662-b779-5092072f87b9"
      },
      "execution_count": 17,
      "outputs": [
        {
          "output_type": "stream",
          "name": "stdout",
          "text": [
            "Reversed list: [5, 4, 3, 2, 1]\n"
          ]
        }
      ]
    },
    {
      "cell_type": "markdown",
      "source": [
        "## 14. Write a Python program to find the common elements between two lists using a for loop.\n"
      ],
      "metadata": {
        "id": "s6xAeY63cQ6R"
      }
    },
    {
      "cell_type": "code",
      "source": [
        "list1 = [1, 2, 3, 4, 5]\n",
        "list2 = [3, 4, 5, 6, 7]\n",
        "common_elements = []\n",
        "\n",
        "for item in list1:\n",
        "    if item in list2:\n",
        "        common_elements.append(item)\n",
        "\n",
        "print(\"Common elements:\", common_elements)"
      ],
      "metadata": {
        "colab": {
          "base_uri": "https://localhost:8080/"
        },
        "id": "UCCH8MdIcSeO",
        "outputId": "b16743ab-41c9-4b38-d8d2-44e1f979e738"
      },
      "execution_count": 18,
      "outputs": [
        {
          "output_type": "stream",
          "name": "stdout",
          "text": [
            "Common elements: [3, 4, 5]\n"
          ]
        }
      ]
    },
    {
      "cell_type": "markdown",
      "source": [
        "## 15. Explain how to use a for loop to iterate through the keys and values of a dictionary in Python."
      ],
      "metadata": {
        "id": "zfRWaTr9cUUd"
      }
    },
    {
      "cell_type": "code",
      "source": [
        "my_dict = {'a': 1, 'b': 2, 'c': 3}\n",
        "\n",
        "for key, value in my_dict.items():\n",
        "    print(f\"Key: {key}, Value: {value}\")"
      ],
      "metadata": {
        "colab": {
          "base_uri": "https://localhost:8080/"
        },
        "id": "N91YYpU9cVvH",
        "outputId": "482b86b0-7ece-4bda-fbb0-013a0cec7034"
      },
      "execution_count": 19,
      "outputs": [
        {
          "output_type": "stream",
          "name": "stdout",
          "text": [
            "Key: a, Value: 1\n",
            "Key: b, Value: 2\n",
            "Key: c, Value: 3\n"
          ]
        }
      ]
    },
    {
      "cell_type": "markdown",
      "source": [
        "## 16. Write a Python program to find the GCD (Greatest Common Divisor) of two numbers using a for loop."
      ],
      "metadata": {
        "id": "Mha3CFzNcXFt"
      }
    },
    {
      "cell_type": "code",
      "source": [
        "num1 = 24\n",
        "num2 = 18\n",
        "\n",
        "gcd = 1\n",
        "for i in range(1, min(num1, num2) + 1):\n",
        "    if num1 % i == 0 and num2 % i == 0:\n",
        "        gcd = i\n",
        "\n",
        "print(\"GCD:\", gcd)"
      ],
      "metadata": {
        "colab": {
          "base_uri": "https://localhost:8080/"
        },
        "id": "LwPSCCoHcYTn",
        "outputId": "9f27e269-c849-4194-fda8-a45833620348"
      },
      "execution_count": 22,
      "outputs": [
        {
          "output_type": "stream",
          "name": "stdout",
          "text": [
            "GCD: 6\n"
          ]
        }
      ]
    },
    {
      "cell_type": "markdown",
      "source": [
        "## 17. Create a Python program that checks if a string is a palindrome using a for loop."
      ],
      "metadata": {
        "id": "KppfSepUcasb"
      }
    },
    {
      "cell_type": "code",
      "source": [
        "string = input(\"Enter a string: \").lower()\n",
        "is_palindrome = True\n",
        "\n",
        "for i in range(len(string) // 2):\n",
        "    if string[i] != string[-(i + 1)]:\n",
        "        is_palindrome = False\n",
        "        break\n",
        "\n",
        "if is_palindrome:\n",
        "    print(\"The string is a palindrome.\")\n",
        "else:\n",
        "    print(\"The string is not a palindrome.\")"
      ],
      "metadata": {
        "colab": {
          "base_uri": "https://localhost:8080/"
        },
        "id": "TzycRdAIcccf",
        "outputId": "57ec1e96-5a8a-4967-9b0d-5a1923e3787e"
      },
      "execution_count": 24,
      "outputs": [
        {
          "output_type": "stream",
          "name": "stdout",
          "text": [
            "Enter a string: Radar\n",
            "The string is a palindrome.\n"
          ]
        }
      ]
    },
    {
      "cell_type": "markdown",
      "source": [
        "## 18. Write a Python program to remove duplicates from a list using a for loop."
      ],
      "metadata": {
        "id": "A1FNHvDSc1s7"
      }
    },
    {
      "cell_type": "code",
      "source": [
        "my_list = [1, 2, 2, 3, 4, 4, 5, 5]\n",
        "unique_list = []\n",
        "\n",
        "for item in my_list:\n",
        "    if item not in unique_list:\n",
        "        unique_list.append(item)\n",
        "\n",
        "print(\"List without duplicates:\", unique_list)"
      ],
      "metadata": {
        "colab": {
          "base_uri": "https://localhost:8080/"
        },
        "id": "5EmpZjVyc4K2",
        "outputId": "e4f7a56a-7a73-42c1-c9ff-b69caf9143d6"
      },
      "execution_count": 26,
      "outputs": [
        {
          "output_type": "stream",
          "name": "stdout",
          "text": [
            "List without duplicates: [1, 2, 3, 4, 5]\n"
          ]
        }
      ]
    },
    {
      "cell_type": "markdown",
      "source": [
        "## 19. Create a Python program that counts the number of words in a sentence using a for loop."
      ],
      "metadata": {
        "id": "9rUy4Sbpc9Gy"
      }
    },
    {
      "cell_type": "code",
      "source": [
        "sentence = input(\"Enter a sentence: \")\n",
        "count = 1  # Start with 1 since the last word won't have a space after it\n",
        "\n",
        "for char in sentence:\n",
        "    if char == \" \":\n",
        "        count += 1\n",
        "\n",
        "print(\"Number of words:\", count)"
      ],
      "metadata": {
        "colab": {
          "base_uri": "https://localhost:8080/"
        },
        "id": "UI8QQfHsc-UX",
        "outputId": "7fd24176-db1e-4674-dcea-e17dc35094e4"
      },
      "execution_count": 28,
      "outputs": [
        {
          "output_type": "stream",
          "name": "stdout",
          "text": [
            "Enter a sentence: This is an example\n",
            "Number of words: 4\n"
          ]
        }
      ]
    },
    {
      "cell_type": "markdown",
      "source": [
        "## 20. Write a Python program to find the sum of all odd numbers from 1 to 50 using a for loop"
      ],
      "metadata": {
        "id": "O9syZ8hZdAeJ"
      }
    },
    {
      "cell_type": "code",
      "source": [
        "total_sum = 0\n",
        "\n",
        "for i in range(1, 51):\n",
        "    if i % 2 != 0:\n",
        "        total_sum += i\n",
        "\n",
        "print(\"Sum of all odd numbers from 1 to 50:\", total_sum)"
      ],
      "metadata": {
        "colab": {
          "base_uri": "https://localhost:8080/"
        },
        "id": "DuB1PuzndBxw",
        "outputId": "2aab968a-dcd8-4932-af98-cb36dd4a9f36"
      },
      "execution_count": 29,
      "outputs": [
        {
          "output_type": "stream",
          "name": "stdout",
          "text": [
            "Sum of all odd numbers from 1 to 50: 625\n"
          ]
        }
      ]
    },
    {
      "cell_type": "markdown",
      "source": [
        "## 21. Write a Python program that checks if a given year is a leap year using a for loop."
      ],
      "metadata": {
        "id": "DbW_4q5SdDrp"
      }
    },
    {
      "cell_type": "code",
      "source": [
        "year = int(input(\"Enter a year: \"))\n",
        "is_leap_year = False\n",
        "\n",
        "for i in range(1):  # Only need one iteration to check the year\n",
        "    if (year % 4 == 0 and year % 100 != 0) or (year % 400 == 0):\n",
        "        is_leap_year = True\n",
        "\n",
        "if is_leap_year:\n",
        "    print(f\"{year} is a leap year.\")\n",
        "else:\n",
        "    print(f\"{year} is not a leap year.\")"
      ],
      "metadata": {
        "colab": {
          "base_uri": "https://localhost:8080/"
        },
        "id": "C9Vv4qoydFBX",
        "outputId": "f8773461-2bc8-4cf5-8c83-d6a078c01b4b"
      },
      "execution_count": 31,
      "outputs": [
        {
          "output_type": "stream",
          "name": "stdout",
          "text": [
            "Enter a year: 2020\n",
            "2020 is a leap year.\n"
          ]
        }
      ]
    },
    {
      "cell_type": "markdown",
      "source": [
        "## 22. Create a Python program that calculates the square root of a number using a for loop."
      ],
      "metadata": {
        "id": "5LQa0jHhdHTm"
      }
    },
    {
      "cell_type": "code",
      "source": [
        "num = int(input(\"Enter a number: \"))\n",
        "approximation = num / 2  # Initial guess\n",
        "\n",
        "for i in range(10):  # Iterating 10 times for approximation\n",
        "    approximation = (approximation + num / approximation) / 2\n",
        "\n",
        "print(f\"Approximate square root: {approximation: .2f}\")"
      ],
      "metadata": {
        "colab": {
          "base_uri": "https://localhost:8080/"
        },
        "id": "DRc4OvnfdIsW",
        "outputId": "13e18c95-f656-45bc-fee6-f1d139c322e6"
      },
      "execution_count": 35,
      "outputs": [
        {
          "output_type": "stream",
          "name": "stdout",
          "text": [
            "Enter a number: 29\n",
            "Approximate square root:  5.39\n"
          ]
        }
      ]
    },
    {
      "cell_type": "markdown",
      "source": [
        "## 23. Write a Python program to find the LCM (Least Common Multiple) of two numbers using a for loop."
      ],
      "metadata": {
        "id": "jEZiuxlKdKox"
      }
    },
    {
      "cell_type": "code",
      "source": [
        "num1 = int(input(\"Enter the first number: \"))\n",
        "num2 = int(input(\"Enter the second number: \"))\n",
        "\n",
        "greater = max(num1, num2)\n",
        "\n",
        "while True:\n",
        "    if greater % num1 == 0 and greater % num2 == 0:\n",
        "        lcm = greater\n",
        "        break\n",
        "    greater += 1\n",
        "\n",
        "print(\"LCM:\", lcm)"
      ],
      "metadata": {
        "colab": {
          "base_uri": "https://localhost:8080/"
        },
        "id": "4EnQz5ttdL03",
        "outputId": "23fe6c5e-8dd8-4dad-f89d-c7eb2f36e81d"
      },
      "execution_count": 38,
      "outputs": [
        {
          "output_type": "stream",
          "name": "stdout",
          "text": [
            "Enter the first number: 21\n",
            "Enter the second number: 7\n",
            "LCM: 21\n"
          ]
        }
      ]
    },
    {
      "cell_type": "markdown",
      "source": [
        "# If else :"
      ],
      "metadata": {
        "id": "WkavC53Fg64q"
      }
    },
    {
      "cell_type": "markdown",
      "source": [
        "## 1. Write a Python program to check if a number is positive, negative, or zero using an if-else statement."
      ],
      "metadata": {
        "id": "rIJ3wPLehDia"
      }
    },
    {
      "cell_type": "code",
      "source": [
        "num = int(input(\"Enter a integer number: \"))\n",
        "\n",
        "if num > 0:\n",
        "    print(\"The number is positive.\")\n",
        "elif num < 0:\n",
        "    print(\"The number is negative.\")\n",
        "else:\n",
        "    print(\"The number is zero.\")"
      ],
      "metadata": {
        "colab": {
          "base_uri": "https://localhost:8080/"
        },
        "id": "LpWubGowgsIV",
        "outputId": "d93ce0cd-f3f8-4920-bbc7-6f2e853ff495"
      },
      "execution_count": 40,
      "outputs": [
        {
          "output_type": "stream",
          "name": "stdout",
          "text": [
            "Enter a integer number: 0\n",
            "The number is zero.\n"
          ]
        }
      ]
    },
    {
      "cell_type": "markdown",
      "source": [
        "## 2. Create a Python program that checks if a given number is even or odd using an if-else statement."
      ],
      "metadata": {
        "id": "VMbVlf-RhG3j"
      }
    },
    {
      "cell_type": "code",
      "source": [
        "num = int(input(\"Enter a integer number: \"))\n",
        "\n",
        "if num % 2 == 0:\n",
        "    print(\"The number is even.\")\n",
        "else:\n",
        "    print(\"The number is odd.\")"
      ],
      "metadata": {
        "colab": {
          "base_uri": "https://localhost:8080/"
        },
        "id": "iqKAhYUxhIAy",
        "outputId": "2467469a-9de2-4f17-8b5c-11d63e1cb028"
      },
      "execution_count": 41,
      "outputs": [
        {
          "output_type": "stream",
          "name": "stdout",
          "text": [
            "Enter a integer number: 29\n",
            "The number is odd.\n"
          ]
        }
      ]
    },
    {
      "cell_type": "markdown",
      "source": [
        "## 3. How can you use nested if-else statements in Python, and provide an example?"
      ],
      "metadata": {
        "id": "B7ql1VB2ica0"
      }
    },
    {
      "cell_type": "code",
      "source": [
        "##Example of nested if-else statements in Python\n",
        "\n",
        "def is_teenager(age):\n",
        "    if 13 <= age <= 19:\n",
        "        return \"The person is a teenager.\"\n",
        "    else:\n",
        "        return \"The person is not a teenager.\"\n",
        "\n",
        "age = int(input(\"Enter the age: \"))\n",
        "result = is_teenager(age)\n",
        "print(result)"
      ],
      "metadata": {
        "colab": {
          "base_uri": "https://localhost:8080/"
        },
        "id": "x5dCF2qzigKD",
        "outputId": "bbf23757-2a87-49e6-c4b5-2dab9e784dea"
      },
      "execution_count": 48,
      "outputs": [
        {
          "output_type": "stream",
          "name": "stdout",
          "text": [
            "Enter the age: -5\n",
            "The person is not a teenager.\n"
          ]
        }
      ]
    },
    {
      "cell_type": "markdown",
      "source": [
        "## 4. Write a Python program to determine the largest of three numbers using if-else."
      ],
      "metadata": {
        "id": "WzDp1qpsiifO"
      }
    },
    {
      "cell_type": "code",
      "source": [
        "num1 = float(input(\"Enter the first number: \"))\n",
        "num2 = float(input(\"Enter the second number: \"))\n",
        "num3 = float(input(\"Enter the third number: \"))\n",
        "\n",
        "# Determine the largest number using if-else statements\n",
        "if (num1 >= num2) and (num1 >= num3):\n",
        "    largest = num1\n",
        "elif (num2 >= num1) and (num2 >= num3):\n",
        "    largest = num2\n",
        "else:\n",
        "    largest = num3\n",
        "\n",
        "print(f\"The largest number is {largest}.\")"
      ],
      "metadata": {
        "colab": {
          "base_uri": "https://localhost:8080/"
        },
        "id": "RUJerLKaijob",
        "outputId": "1c3a3636-17c7-4304-ff77-05a83e30399a"
      },
      "execution_count": 45,
      "outputs": [
        {
          "output_type": "stream",
          "name": "stdout",
          "text": [
            "Enter the first number: 2\n",
            "Enter the second number: 4\n",
            "Enter the third number: 1\n",
            "The largest number is 4.0.\n"
          ]
        }
      ]
    },
    {
      "cell_type": "markdown",
      "source": [
        "## 5. Write a Python program that calculates the absolute value of a number using if-else."
      ],
      "metadata": {
        "id": "_sK0kAMdikS5"
      }
    },
    {
      "cell_type": "code",
      "source": [
        "def absolute_value(number):\n",
        "    # Calculate the absolute value\n",
        "    if number < 0:\n",
        "        return -number\n",
        "    else:\n",
        "        return number\n",
        "\n",
        "# Example usage\n",
        "num = float(input(\"Enter a number: \"))\n",
        "print(f\"The absolute value of {num} is {absolute_value(num)}.\")"
      ],
      "metadata": {
        "colab": {
          "base_uri": "https://localhost:8080/"
        },
        "id": "kkP6P8kqinNT",
        "outputId": "af74c878-645d-4188-8042-1c1616cae757"
      },
      "execution_count": 46,
      "outputs": [
        {
          "output_type": "stream",
          "name": "stdout",
          "text": [
            "Enter a number: -5\n",
            "The absolute value of -5.0 is 5.0.\n"
          ]
        }
      ]
    },
    {
      "cell_type": "code",
      "source": [],
      "metadata": {
        "id": "kJrZWXqUlIFz"
      },
      "execution_count": null,
      "outputs": []
    }
  ]
}