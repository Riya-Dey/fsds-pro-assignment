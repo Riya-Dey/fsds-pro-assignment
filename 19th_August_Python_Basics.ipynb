{
 "cells": [
  {
   "cell_type": "markdown",
   "id": "6d88431f-9334-4111-bf91-3d734f6d304b",
   "metadata": {},
   "source": [
    "Python Basics Variable"
   ]
  },
  {
   "cell_type": "raw",
   "id": "b4f83600-2743-4141-984b-f8643f4c7f48",
   "metadata": {},
   "source": [
    "1. Declare two variables, `x` and `y`, and assign them integer values. Swap the\n",
    "values of these variables without using any temporary variable."
   ]
  },
  {
   "cell_type": "code",
   "execution_count": 10,
   "id": "e6dbb372-c32f-4366-b65b-243b18db843e",
   "metadata": {},
   "outputs": [
    {
     "name": "stdout",
     "output_type": "stream",
     "text": [
      "x =  29\n",
      "y =  21\n"
     ]
    }
   ],
   "source": [
    "x = 21\n",
    "y = 29\n",
    "\n",
    "x = x+y #Now variable 'x' holds the value of summation of both integers\n",
    "y = x-y #Here variable 'y' is assigned to the value of variable 'x' by substracting the initial value of 'y' from total sum\n",
    "x = x-y #Here variable 'x' is assigned to the value of variable 'y' by substracting the latest value of 'y' from total sum\n",
    "\n",
    "print(\"x = \",x)\n",
    "print(\"y = \",y)"
   ]
  },
  {
   "cell_type": "raw",
   "id": "70ea782c-68a7-4eaa-a5b3-a9030e54cc70",
   "metadata": {},
   "source": [
    "2. Create a program that calculates the area of a rectangle. Take the length and\n",
    "width as inputs from the user and store them in variables. Calculate and\n",
    "display the area."
   ]
  },
  {
   "cell_type": "code",
   "execution_count": 7,
   "id": "4a824676-c4c3-48b1-9f30-01d87f53e5c2",
   "metadata": {},
   "outputs": [
    {
     "name": "stdin",
     "output_type": "stream",
     "text": [
      "Please enter the length of the rectangle:  2.5\n",
      "Please enter the width of the rectangle:  3\n"
     ]
    },
    {
     "name": "stdout",
     "output_type": "stream",
     "text": [
      "Area of the rectangle is:  7.5\n"
     ]
    }
   ],
   "source": [
    "l = float(input(\"Please enter the length of the rectangle: \"))\n",
    "w = float(input(\"Please enter the width of the rectangle: \"))\n",
    "\n",
    "area = l*w #Formula: area = length*width\n",
    "\n",
    "print(\"Area of the rectangle is: \",area)"
   ]
  },
  {
   "cell_type": "raw",
   "id": "e4384173-13de-4a7c-9267-c9e1baaa0cc7",
   "metadata": {},
   "source": [
    "3. Write a Python program that converts temperatures from Celsius to\n",
    "Fahrenheit. Take the temperature in Celsius as input, store it in a variable,\n",
    "convert it to Fahrenheit, and display the result."
   ]
  },
  {
   "cell_type": "code",
   "execution_count": 9,
   "id": "d9a554da-335b-437a-9aa6-871fc358efa8",
   "metadata": {},
   "outputs": [
    {
     "name": "stdin",
     "output_type": "stream",
     "text": [
      "Please enter temperature in Celsius:  100\n"
     ]
    },
    {
     "name": "stdout",
     "output_type": "stream",
     "text": [
      "Temperature in Fahrenheit is:  212.0\n"
     ]
    }
   ],
   "source": [
    "c = float(input(\"Please enter temperature in Celsius: \"))\n",
    "\n",
    "f = (c*9/5)+32 #Converting temperature from Celsius to Fahrenheit\n",
    "\n",
    "print(\"Temperature in Fahrenheit is: \",f)"
   ]
  },
  {
   "cell_type": "markdown",
   "id": "ad795b79-dbd5-4443-b5dd-c64c8c24ed43",
   "metadata": {},
   "source": [
    "String Based Questions"
   ]
  },
  {
   "cell_type": "raw",
   "id": "6eb418b0-0f4f-4de2-ae35-7eff6f32c929",
   "metadata": {},
   "source": [
    "1. Write a Python program that takes a string as input and prints the length of\n",
    "the string."
   ]
  },
  {
   "cell_type": "code",
   "execution_count": 2,
   "id": "aeac020e-274b-4e2f-a060-9bc1acbfe94e",
   "metadata": {},
   "outputs": [
    {
     "name": "stdin",
     "output_type": "stream",
     "text": [
      "Please enter an input:  5522114\n"
     ]
    },
    {
     "name": "stdout",
     "output_type": "stream",
     "text": [
      "Length of the string is:  7\n"
     ]
    }
   ],
   "source": [
    "s = input(\"Please enter an input: \") #Taking all inputs as string input by default\n",
    "print(\"Length of the string is: \",len(s))"
   ]
  },
  {
   "cell_type": "raw",
   "id": "25349655-ba41-4bdc-b49f-6be38b0931e3",
   "metadata": {},
   "source": [
    "2. Create a program that takes a sentence from the user and counts the number\n",
    "of vowels (a, e, i, o, u) in the string."
   ]
  },
  {
   "cell_type": "code",
   "execution_count": 2,
   "id": "252b3254-92ce-4fa4-a98b-4e78c53a3f50",
   "metadata": {},
   "outputs": [
    {
     "name": "stdin",
     "output_type": "stream",
     "text": [
      "Please enter a sentence:  august is gone\n"
     ]
    },
    {
     "name": "stdout",
     "output_type": "stream",
     "text": [
      "The number of a present in the sentence is:  1\n",
      "The number of e present in the sentence is:  1\n",
      "The number of i present in the sentence is:  1\n",
      "The number of o present in the sentence is:  1\n",
      "The number of u present in the sentence is:  2\n"
     ]
    }
   ],
   "source": [
    "s = input(\"Please enter a sentence: \")\n",
    "print(\"The number of a present in the sentence is: \",s.count(\"a\"))\n",
    "print(\"The number of e present in the sentence is: \",s.count(\"e\"))\n",
    "print(\"The number of i present in the sentence is: \",s.count(\"i\"))\n",
    "print(\"The number of o present in the sentence is: \",s.count(\"o\"))\n",
    "print(\"The number of u present in the sentence is: \",s.count(\"u\"))"
   ]
  },
  {
   "cell_type": "raw",
   "id": "7b7ae48f-d87e-4cf9-a94b-7bb1be973450",
   "metadata": {},
   "source": [
    "3. Given a string, reverse the order of characters using string slicing and print\n",
    "the reversed string."
   ]
  },
  {
   "cell_type": "code",
   "execution_count": 1,
   "id": "0f51146a-41f5-486a-a68e-99b24e38059e",
   "metadata": {},
   "outputs": [
    {
     "name": "stdin",
     "output_type": "stream",
     "text": [
      "Please enter an input:  Python\n"
     ]
    },
    {
     "data": {
      "text/plain": [
       "'nohtyP'"
      ]
     },
     "execution_count": 1,
     "metadata": {},
     "output_type": "execute_result"
    }
   ],
   "source": [
    "s = input(\"Please enter an input: \")\n",
    "s[::-1] #Starting from last index value and going backward by 1 index value"
   ]
  },
  {
   "cell_type": "raw",
   "id": "3c5b3c69-fdb4-4444-87e1-241b53659436",
   "metadata": {},
   "source": [
    "4. Write a program that takes a string as input and checks if it is a palindrome\n",
    "(reads the same forwards and backwards)."
   ]
  },
  {
   "cell_type": "code",
   "execution_count": 2,
   "id": "0e8a8a3a-23d2-4e95-9ff7-2c8d5ef35873",
   "metadata": {},
   "outputs": [
    {
     "name": "stdin",
     "output_type": "stream",
     "text": [
      "Please enter an input:  august\n"
     ]
    },
    {
     "name": "stdout",
     "output_type": "stream",
     "text": [
      "The number is not palindrome\n"
     ]
    }
   ],
   "source": [
    "s = input(\"Please enter an input: \")\n",
    "\n",
    "if s == s[::-1]: #Checking if the backwarded string matches to the actual string\n",
    "    print(\"The number is palindrome\")\n",
    "else:\n",
    "    print(\"The number is not palindrome\")"
   ]
  },
  {
   "cell_type": "raw",
   "id": "ceb3ff98-e3e7-4bf9-9e0b-ba6c677d6674",
   "metadata": {},
   "source": [
    "5. Create a program that takes a string as input and removes all the spaces from\n",
    "it. Print the modified string without spaces."
   ]
  },
  {
   "cell_type": "code",
   "execution_count": 1,
   "id": "c72d50b9-15a0-44a8-8c60-50cc2621dcab",
   "metadata": {},
   "outputs": [
    {
     "name": "stdin",
     "output_type": "stream",
     "text": [
      "Please enter an input:  ffdss   555   dnvn\n"
     ]
    },
    {
     "name": "stdout",
     "output_type": "stream",
     "text": [
      "The modified string without spaces is: ffdss555dnvn\n"
     ]
    }
   ],
   "source": [
    "s = input(\"Please enter an input: \")\n",
    "modified_string = s.replace(\" \",\"\") #replacing the spaces with blank to get a string without spaces\n",
    "\n",
    "print(f\"The modified string without spaces is: {modified_string}\")"
   ]
  },
  {
   "cell_type": "code",
   "execution_count": null,
   "id": "55cc0289-892e-489e-ae38-eff67c72a8d5",
   "metadata": {},
   "outputs": [],
   "source": []
  }
 ],
 "metadata": {
  "kernelspec": {
   "display_name": "Python 3 (ipykernel)",
   "language": "python",
   "name": "python3"
  },
  "language_info": {
   "codemirror_mode": {
    "name": "ipython",
    "version": 3
   },
   "file_extension": ".py",
   "mimetype": "text/x-python",
   "name": "python",
   "nbconvert_exporter": "python",
   "pygments_lexer": "ipython3",
   "version": "3.10.8"
  },
  "toc-autonumbering": true,
  "toc-showmarkdowntxt": true
 },
 "nbformat": 4,
 "nbformat_minor": 5
}
