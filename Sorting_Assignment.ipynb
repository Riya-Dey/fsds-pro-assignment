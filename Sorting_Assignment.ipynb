{
  "nbformat": 4,
  "nbformat_minor": 0,
  "metadata": {
    "colab": {
      "provenance": []
    },
    "kernelspec": {
      "name": "python3",
      "display_name": "Python 3"
    },
    "language_info": {
      "name": "python"
    }
  },
  "cells": [
    {
      "cell_type": "markdown",
      "source": [
        "Problem 1.Given an array of n numbers, give an algorithm which gives the element appearing maximum\n",
        "number of times?"
      ],
      "metadata": {
        "id": "K9xJqFgofj6c"
      }
    },
    {
      "cell_type": "code",
      "execution_count": 1,
      "metadata": {
        "colab": {
          "base_uri": "https://localhost:8080/"
        },
        "id": "EING6SBsfeLB",
        "outputId": "92b52d2a-28df-4983-f585-387396e7b9ab"
      },
      "outputs": [
        {
          "output_type": "stream",
          "name": "stdout",
          "text": [
            "7\n"
          ]
        }
      ],
      "source": [
        "def mostFrequent(arr, n):\n",
        "    # Dictionary to store frequencies\n",
        "    frequency = {}\n",
        "\n",
        "    # Calculate frequencies in a single pass\n",
        "    for i in range(n):\n",
        "        if arr[i] in frequency:\n",
        "            frequency[arr[i]] += 1\n",
        "        else:\n",
        "            frequency[arr[i]] = 1\n",
        "\n",
        "    # Find the element with maximum frequency\n",
        "    maxcount = 0\n",
        "    element_having_max_freq = 0\n",
        "    for key, value in frequency.items():\n",
        "        if value > maxcount:\n",
        "            maxcount = value\n",
        "            element_having_max_freq = key\n",
        "\n",
        "    return element_having_max_freq\n",
        "\n",
        "# Driver Code\n",
        "arr = [1, 5, 29, 7, 5, 7, 21, 7, 4, 10, 7]\n",
        "n = len(arr)\n",
        "print(mostFrequent(arr, n))"
      ]
    },
    {
      "cell_type": "markdown",
      "source": [
        "Problem 2 : We are given a list of n-1 integers and these integers are in the range of 1 to n . There are no\n",
        "duplicates in the list. One of the integers is missing in the list. Give an algorithm to find that element Ex:\n",
        "[1,2,4,6,3,7,8] 5 is the missing num."
      ],
      "metadata": {
        "id": "QnrInUVXfrjV"
      }
    },
    {
      "cell_type": "code",
      "source": [
        "def find_missing_number(arr, n):\n",
        "    # Calculate the expected sum of numbers from 1 to n\n",
        "    total_sum = n * (n + 1) // 2\n",
        "\n",
        "    # Calculate the actual sum of the array\n",
        "    actual_sum = sum(arr)\n",
        "\n",
        "    # The missing number is the difference between total_sum and actual_sum\n",
        "    return total_sum - actual_sum\n",
        "\n",
        "# Example usage\n",
        "arr = [1, 2, 4, 6, 3, 7, 8]\n",
        "n = 8\n",
        "print(\"The missing number is:\", find_missing_number(arr, n))"
      ],
      "metadata": {
        "colab": {
          "base_uri": "https://localhost:8080/"
        },
        "id": "OF77blI0fr6E",
        "outputId": "247ff07a-8503-4555-b6b9-1586dda80691"
      },
      "execution_count": 2,
      "outputs": [
        {
          "output_type": "stream",
          "name": "stdout",
          "text": [
            "The missing number is: 5\n"
          ]
        }
      ]
    },
    {
      "cell_type": "markdown",
      "source": [
        "Problem 3 : Given an array of n positive numbers. All numbers occurs even number of times except 1 which\n",
        "occurs odd number of times. Find that number in O(n) time and O(1) space. Ex: [1,2,3,2,3,1,3]. 3 is repeats odd\n",
        "times."
      ],
      "metadata": {
        "id": "slF0UZWNf0kx"
      }
    },
    {
      "cell_type": "code",
      "source": [
        "def find_odd_occurrence(arr):\n",
        "    result = 0\n",
        "\n",
        "    # XOR all the elements of the array\n",
        "    for num in arr:\n",
        "        result ^= num\n",
        "\n",
        "    return result\n",
        "\n",
        "# Example usage\n",
        "arr = [1, 2, 3, 2, 3, 1, 3]\n",
        "print(find_odd_occurrence(arr))"
      ],
      "metadata": {
        "colab": {
          "base_uri": "https://localhost:8080/"
        },
        "id": "4BWl8A2-f1Bb",
        "outputId": "b45911b3-fa5c-4317-b431-00c8b4796a8d"
      },
      "execution_count": 3,
      "outputs": [
        {
          "output_type": "stream",
          "name": "stdout",
          "text": [
            "3\n"
          ]
        }
      ]
    },
    {
      "cell_type": "markdown",
      "source": [
        "Problem 4 : Given an array of n elements. Find two elements in the array such that their sum is equal to given\n",
        "element K."
      ],
      "metadata": {
        "id": "zMQOcIOrgSx3"
      }
    },
    {
      "cell_type": "code",
      "source": [
        "def find_pair_with_sum(arr, K):\n",
        "    # Create a set to store the elements we have seen so far\n",
        "    seen = set()\n",
        "\n",
        "    for num in arr:\n",
        "        # Check if K - num exists in the set\n",
        "        if K - num in seen:\n",
        "            return num, K - num\n",
        "        # Add the current number to the set\n",
        "        seen.add(num)\n",
        "\n",
        "    return None  # If no such pair is found\n",
        "\n",
        "# Example usage\n",
        "arr = [10, 15, 3, 7]\n",
        "K = 17\n",
        "result = find_pair_with_sum(arr, K)\n",
        "if result:\n",
        "    print(f\"Pair found: {result[0]}, {result[1]}\")\n",
        "else:\n",
        "    print(\"No pair found\")"
      ],
      "metadata": {
        "colab": {
          "base_uri": "https://localhost:8080/"
        },
        "id": "m6ZH7PFtgTKC",
        "outputId": "be98d0cb-aea6-4d73-f61d-b7421a132d36"
      },
      "execution_count": 4,
      "outputs": [
        {
          "output_type": "stream",
          "name": "stdout",
          "text": [
            "Pair found: 7, 10\n"
          ]
        }
      ]
    },
    {
      "cell_type": "markdown",
      "source": [
        "Problem 5 : Given an array of both positive and negative numbers, find two numbers such that their sum is\n",
        "closest to 0. Ex: [ 1 ,60 ,-10, 70, -80,85]. Ans : -80,85."
      ],
      "metadata": {
        "id": "MdDgMkZ2gZcG"
      }
    },
    {
      "cell_type": "code",
      "source": [
        "def min_abs_sum_pair(arr):\n",
        "    # Sort the array\n",
        "    arr.sort()\n",
        "\n",
        "    left = 0\n",
        "    right = len(arr) - 1\n",
        "    res = float('inf')\n",
        "    pair = (None, None)\n",
        "\n",
        "    # Use two pointers to find the pair with the smallest sum\n",
        "    while left < right:\n",
        "        sum = arr[left] + arr[right]\n",
        "\n",
        "        if abs(sum) < abs(res):\n",
        "            res = sum\n",
        "            pair = (arr[left], arr[right])\n",
        "\n",
        "        if sum < 0:\n",
        "            left += 1\n",
        "        else:\n",
        "            right -= 1\n",
        "\n",
        "    return pair\n",
        "\n",
        "# Example usage\n",
        "arr = [1, 60, -10, 70, -80, 85]\n",
        "print(min_abs_sum_pair(arr))"
      ],
      "metadata": {
        "colab": {
          "base_uri": "https://localhost:8080/"
        },
        "id": "9dbF_j0DgbWr",
        "outputId": "5a1efa9f-6305-43dc-e20e-2eb9fe32d82c"
      },
      "execution_count": 5,
      "outputs": [
        {
          "output_type": "stream",
          "name": "stdout",
          "text": [
            "(-80, 85)\n"
          ]
        }
      ]
    },
    {
      "cell_type": "markdown",
      "source": [
        "Problem 6 : Given an array of n elements . Find three elements such that their sum is equal to the given\n",
        "number."
      ],
      "metadata": {
        "id": "k_7v2l3igiMh"
      }
    },
    {
      "cell_type": "code",
      "source": [
        "def find_three_elements(arr, K):\n",
        "    # Sort the array\n",
        "    arr.sort()\n",
        "\n",
        "    # Iterate over each element as the first element of the triplet\n",
        "    for i in range(len(arr) - 2):\n",
        "        # Initialize two pointers\n",
        "        left = i + 1\n",
        "        right = len(arr) - 1\n",
        "\n",
        "        while left < right:\n",
        "            current_sum = arr[i] + arr[left] + arr[right]\n",
        "\n",
        "            if current_sum == K:\n",
        "                return arr[i], arr[left], arr[right]\n",
        "            elif current_sum < K:\n",
        "                left += 1  # Increase the left pointer to get a larger sum\n",
        "            else:\n",
        "                right -= 1  # Decrease the right pointer to get a smaller sum\n",
        "\n",
        "    return None  # If no such triplet is found\n",
        "\n",
        "# Example usage\n",
        "arr = [1, 4, 45, 6, 10, 8]\n",
        "K = 22\n",
        "result = find_three_elements(arr, K)\n",
        "if result:\n",
        "    print(f\"Triplet found: {result[0]}, {result[1]}, {result[2]}\")\n",
        "else:\n",
        "    print(\"No triplet found\")"
      ],
      "metadata": {
        "colab": {
          "base_uri": "https://localhost:8080/"
        },
        "id": "CJOGhpzLgilb",
        "outputId": "e0a05589-bcb5-4a97-bdf6-bf7365ac8b43"
      },
      "execution_count": 6,
      "outputs": [
        {
          "output_type": "stream",
          "name": "stdout",
          "text": [
            "Triplet found: 4, 8, 10\n"
          ]
        }
      ]
    },
    {
      "cell_type": "markdown",
      "source": [
        "Problem 7 : Given an array of n elements . Find three elements i, j, k in the array such that\n",
        "i * i + j * j = k*k."
      ],
      "metadata": {
        "id": "dDraEvKXglU3"
      }
    },
    {
      "cell_type": "code",
      "source": [
        "def find_pythagorean_triplet(arr):\n",
        "    # Create a set of squares from the array\n",
        "    squares = set(x * x for x in arr)\n",
        "\n",
        "    n = len(arr)\n",
        "\n",
        "    # Iterate over all pairs (i, j)\n",
        "    for i in range(n):\n",
        "        for j in range(i + 1, n):\n",
        "            i2 = arr[i] * arr[i]\n",
        "            j2 = arr[j] * arr[j]\n",
        "            sum_squares = i2 + j2\n",
        "\n",
        "            # Check if the sum of squares is in the set of squares\n",
        "            if sum_squares in squares:\n",
        "                # Find the element k whose square is sum_squares\n",
        "                k = int(sum_squares**0.5)  # k should be an integer\n",
        "                if k in arr:\n",
        "                    return (arr[i], arr[j], k)\n",
        "\n",
        "    # Return None if no such triplet is found\n",
        "    return None\n",
        "\n",
        "# Example usage:\n",
        "array = [3, 4, 5, 6, 8, 10]\n",
        "result = find_pythagorean_triplet(array)\n",
        "print(result)"
      ],
      "metadata": {
        "colab": {
          "base_uri": "https://localhost:8080/"
        },
        "id": "iJZjaw3Ugluq",
        "outputId": "62af0390-7dda-47f3-d446-260e18996e30"
      },
      "execution_count": 7,
      "outputs": [
        {
          "output_type": "stream",
          "name": "stdout",
          "text": [
            "(3, 4, 5)\n"
          ]
        }
      ]
    },
    {
      "cell_type": "markdown",
      "source": [
        "Problem 8 : An element is a majority if it appears more than n/2 times. Give an algorithm takes an array of n\n",
        "element as argument and identifies a majority (if it exists)."
      ],
      "metadata": {
        "id": "PtGR0ySugpH3"
      }
    },
    {
      "cell_type": "code",
      "source": [
        "def find_majority_element(arr):\n",
        "    # Phase 1: Find the candidate\n",
        "    candidate = None\n",
        "    count = 0\n",
        "\n",
        "    for num in arr:\n",
        "        if count == 0:\n",
        "            candidate = num\n",
        "            count = 1\n",
        "        elif num == candidate:\n",
        "            count += 1\n",
        "        else:\n",
        "            count -= 1\n",
        "\n",
        "    # Phase 2: Verify the candidate\n",
        "    if candidate is not None:\n",
        "        count = sum(1 for x in arr if x == candidate)\n",
        "        if count > len(arr) // 2:\n",
        "            return candidate\n",
        "\n",
        "    return None\n",
        "\n",
        "# Example usage:\n",
        "array = [3, 3, 4, 2, 4, 4, 2, 4, 4]\n",
        "result = find_majority_element(array)\n",
        "print(result)  # Output: 4"
      ],
      "metadata": {
        "colab": {
          "base_uri": "https://localhost:8080/"
        },
        "id": "6d_vFqcFgplK",
        "outputId": "ff51e472-be18-4ee1-f5ed-0298d8c2230f"
      },
      "execution_count": 8,
      "outputs": [
        {
          "output_type": "stream",
          "name": "stdout",
          "text": [
            "4\n"
          ]
        }
      ]
    },
    {
      "cell_type": "markdown",
      "source": [
        "Problem 9 : Given n × n matrix, and in each row all 1’s are followed by 0’s. Find the row with the maximum\n",
        "number of 0’s."
      ],
      "metadata": {
        "id": "PtaUnF4QgrHm"
      }
    },
    {
      "cell_type": "code",
      "source": [
        "def row_with_max_zeros(matrix):\n",
        "    n = len(matrix)\n",
        "\n",
        "    # Initialize variables\n",
        "    max_zeros = -1\n",
        "    row_index = -1\n",
        "\n",
        "    # Start from the top-right corner of the matrix\n",
        "    row = 0\n",
        "    col = n - 1\n",
        "\n",
        "    while row < n and col >= 0:\n",
        "        if matrix[row][col] == 0:\n",
        "            # Count zeros in the current row\n",
        "            zero_count = n - col\n",
        "            if zero_count > max_zeros:\n",
        "                max_zeros = zero_count\n",
        "                row_index = row\n",
        "            # Move left to potentially find more zeros\n",
        "            col -= 1\n",
        "        else:\n",
        "            # Move down to the next row\n",
        "            row += 1\n",
        "\n",
        "    return row_index\n",
        "\n",
        "# Example usage:\n",
        "matrix = [\n",
        "    [1, 1, 1, 0, 0],\n",
        "    [1, 1, 0, 0, 0],\n",
        "    [1, 0, 0, 0, 0],\n",
        "    [0, 0, 0, 0, 0],\n",
        "    [0, 0, 0, 0, 1]\n",
        "]\n",
        "\n",
        "result = row_with_max_zeros(matrix)\n",
        "print(result)"
      ],
      "metadata": {
        "colab": {
          "base_uri": "https://localhost:8080/"
        },
        "id": "fO3uE_gVgrmC",
        "outputId": "dac03000-49fd-42bc-f99b-1e4272f64024"
      },
      "execution_count": 9,
      "outputs": [
        {
          "output_type": "stream",
          "name": "stdout",
          "text": [
            "3\n"
          ]
        }
      ]
    },
    {
      "cell_type": "markdown",
      "source": [
        "Problem 10 : Sort an array of 0’s, 1’s and 2’s [or R’s, G’s and B’s]: Given an array A[] consisting of 0’s, 1’s and\n",
        "2’s, give an algorithm for sorting A[].The algorithm should put all 0’s first, then all 1’s and finally all 2’s at the\n",
        "end. Example Input = {0,1,1,0,1,2,1,2,0,0,0,1}, Output = {0,0,0,0,0,1,1,1,1,1,2,2}"
      ],
      "metadata": {
        "id": "dE9IIjCtgvrO"
      }
    },
    {
      "cell_type": "code",
      "source": [
        "def sort_colors(arr):\n",
        "    low, mid, high = 0, 0, len(arr) - 1\n",
        "\n",
        "    while mid <= high:\n",
        "        if arr[mid] == 0:\n",
        "            # Swap arr[low] and arr[mid], increment both low and mid\n",
        "            arr[low], arr[mid] = arr[mid], arr[low]\n",
        "            low += 1\n",
        "            mid += 1\n",
        "        elif arr[mid] == 1:\n",
        "            # Move mid pointer if the current element is 1\n",
        "            mid += 1\n",
        "        else:\n",
        "            # Swap arr[mid] and arr[high], decrement high\n",
        "            arr[high], arr[mid] = arr[mid], arr[high]\n",
        "            high -= 1\n",
        "\n",
        "    return arr\n",
        "\n",
        "# Example usage:\n",
        "array = [0, 1, 1, 0, 1, 2, 1, 2, 0, 0, 0, 1]\n",
        "sorted_array = sort_colors(array)\n",
        "print(sorted_array)"
      ],
      "metadata": {
        "colab": {
          "base_uri": "https://localhost:8080/"
        },
        "id": "y9ZePnEjgwFC",
        "outputId": "cc7746a1-d89a-46f8-9dd0-06a68635c8b1"
      },
      "execution_count": 10,
      "outputs": [
        {
          "output_type": "stream",
          "name": "stdout",
          "text": [
            "[0, 0, 0, 0, 0, 1, 1, 1, 1, 1, 2, 2]\n"
          ]
        }
      ]
    },
    {
      "cell_type": "code",
      "source": [],
      "metadata": {
        "id": "mYXsfX2RsCGj"
      },
      "execution_count": 10,
      "outputs": []
    }
  ]
}