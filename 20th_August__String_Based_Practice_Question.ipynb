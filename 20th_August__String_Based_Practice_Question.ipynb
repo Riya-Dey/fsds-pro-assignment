{
  "nbformat": 4,
  "nbformat_minor": 0,
  "metadata": {
    "colab": {
      "provenance": []
    },
    "kernelspec": {
      "name": "python3",
      "display_name": "Python 3"
    },
    "language_info": {
      "name": "python"
    }
  },
  "cells": [
    {
      "cell_type": "markdown",
      "source": [],
      "metadata": {
        "id": "-xOjOODGpsnM"
      }
    },
    {
      "cell_type": "markdown",
      "source": [
        "# String Based Assignment Problem"
      ],
      "metadata": {
        "id": "LPLSsaVxlbHD"
      }
    },
    {
      "cell_type": "markdown",
      "source": [
        "1. **Write a program to reverse a string.**"
      ],
      "metadata": {
        "id": "klPZWeCamb5g"
      }
    },
    {
      "cell_type": "code",
      "source": [
        "S = input(\"Please enter an input: \")\n",
        "\n",
        "reverse_string = S[::-1]    ##Starting from last index value and going backward by 1 index value to get the reverse srting\n",
        "print(\"The reverse string is - \",reverse_string)"
      ],
      "metadata": {
        "id": "cCGmFuRxlrbA",
        "colab": {
          "base_uri": "https://localhost:8080/"
        },
        "outputId": "4026ba1a-05d8-4780-f0e3-1ffcf641acce"
      },
      "execution_count": null,
      "outputs": [
        {
          "output_type": "stream",
          "name": "stdout",
          "text": [
            "Please enter an input: python\n",
            "The reverse string is -  nohtyp\n"
          ]
        }
      ]
    },
    {
      "cell_type": "markdown",
      "source": [
        "**2. Check if a string is a palindrome.**"
      ],
      "metadata": {
        "id": "-SSPfKH2T_m2"
      }
    },
    {
      "cell_type": "code",
      "source": [
        "S = input(\"Please enter an input: \").lower()\n",
        "\n",
        "if S == S[::-1]:    ##checking if the actual string matches with the reverse string\n",
        "  print(f\"'{S}' is a palindrome\")\n",
        "\n",
        "else:\n",
        "  print(f\"'{S}' is not a palindrome\")"
      ],
      "metadata": {
        "colab": {
          "base_uri": "https://localhost:8080/"
        },
        "id": "NFoOm2QsSmx9",
        "outputId": "dd98b3f9-937b-4f37-b585-ce58d6c1b677"
      },
      "execution_count": null,
      "outputs": [
        {
          "output_type": "stream",
          "name": "stdout",
          "text": [
            "Please enter an input: Radar\n",
            "'radar' is a palindrome\n"
          ]
        }
      ]
    },
    {
      "cell_type": "markdown",
      "source": [
        "**3. Convert a string to uppercase.**"
      ],
      "metadata": {
        "id": "BLwpOccTa8Yr"
      }
    },
    {
      "cell_type": "code",
      "source": [
        "S = input(\"Please enter an input: \")\n",
        "\n",
        "upper_string = S.upper()    ##converting the string into the uppercase\n",
        "\n",
        "print(\"Ther uppercase value of the string is:\", upper_string)"
      ],
      "metadata": {
        "colab": {
          "base_uri": "https://localhost:8080/"
        },
        "id": "g6n2Lq-XXunp",
        "outputId": "42a0b78a-0699-4c58-a3c0-00bee17ae70f"
      },
      "execution_count": null,
      "outputs": [
        {
          "output_type": "stream",
          "name": "stdout",
          "text": [
            "Please enter an input: lowercase\n",
            "Ther uppercase value of the string is: LOWERCASE\n"
          ]
        }
      ]
    },
    {
      "cell_type": "markdown",
      "source": [
        "**4. Convert a string to lowercase.**"
      ],
      "metadata": {
        "id": "fHurRLKdeCF_"
      }
    },
    {
      "cell_type": "code",
      "source": [
        "S = input(\"Please enter an input: \")\n",
        "\n",
        "lower_string = S.lower()    ##converting the string into the lowercase\n",
        "\n",
        "print(\"Ther lowercase value of the string is:\", lower_string)"
      ],
      "metadata": {
        "colab": {
          "base_uri": "https://localhost:8080/"
        },
        "id": "1PUErlDydm46",
        "outputId": "20d9ef71-5c07-4f1a-abe9-0b7ec2864e58"
      },
      "execution_count": null,
      "outputs": [
        {
          "output_type": "stream",
          "name": "stdout",
          "text": [
            "Please enter an input: UPPER\n",
            "Ther lowercase value of the string is: upper\n"
          ]
        }
      ]
    },
    {
      "cell_type": "markdown",
      "source": [
        "**5. Count the number of vowels in a string.**"
      ],
      "metadata": {
        "id": "BNJxeROQfO8D"
      }
    },
    {
      "cell_type": "code",
      "source": [
        "S = input(\"Please enter an input: \").lower()\n",
        "\n",
        "N1 = S.count('a')\n",
        "N2 = S.count('e')\n",
        "N3 = S.count('i')\n",
        "N4 = S.count('o')\n",
        "N5 = S.count('u')\n",
        "\n",
        "print(f\"Total number of vowels in the string input is: {N1+N2+N3+N4+N5}\")"
      ],
      "metadata": {
        "colab": {
          "base_uri": "https://localhost:8080/"
        },
        "id": "2BTNUKNneohr",
        "outputId": "786debd3-58e2-4c9c-ec5c-40cae71bd948"
      },
      "execution_count": null,
      "outputs": [
        {
          "output_type": "stream",
          "name": "stdout",
          "text": [
            "Please enter an input: COUNT OF VOWELS\n",
            "Total number of vowels in the string input is: 5\n"
          ]
        }
      ]
    },
    {
      "cell_type": "markdown",
      "source": [
        "**6. Count the number of consonants in a string.**"
      ],
      "metadata": {
        "id": "Zz3PGJoeVzOb"
      }
    },
    {
      "cell_type": "code",
      "source": [
        "S = input(\"Please enter a string input: \").lower()\n",
        "S.split()\n",
        "num_of_consonant = 0\n",
        "X = '[bcdfghjklmnpqrstvwxyz]'\n",
        "for i in range(len(S)):\n",
        "    if S[i] in X:\n",
        "        num_of_consonant += 1\n",
        "\n",
        "print(f\"Number of consonants in the input is: {num_of_consonant}\")"
      ],
      "metadata": {
        "colab": {
          "base_uri": "https://localhost:8080/"
        },
        "id": "k4Qy1Hx-kuSP",
        "outputId": "fdb70007-32c6-4cac-a898-e0aaa3e802c2"
      },
      "execution_count": null,
      "outputs": [
        {
          "output_type": "stream",
          "name": "stdout",
          "text": [
            "Please enter a string input: COUNT OF CONSONANT\n",
            "Number of consonants in the input is: 10\n"
          ]
        }
      ]
    },
    {
      "cell_type": "markdown",
      "source": [
        "**7. Remove all whitespaces from a string.**"
      ],
      "metadata": {
        "id": "UMyKJ4NSlSju"
      }
    },
    {
      "cell_type": "code",
      "source": [
        "S = input(\"Please enter an input: \")\n",
        "modified_string = S.replace(\" \",\"\") #replacing the spaces with blank to get a string without spaces\n",
        "\n",
        "print(f\"The modified string without spaces is: {modified_string}\")"
      ],
      "metadata": {
        "id": "tqKqCie_hX1O",
        "colab": {
          "base_uri": "https://localhost:8080/"
        },
        "outputId": "9cc208c9-3d52-494e-a1a4-3dc8ef14d64e"
      },
      "execution_count": null,
      "outputs": [
        {
          "output_type": "stream",
          "name": "stdout",
          "text": [
            "Please enter an input: data science\n",
            "The modified string without spaces is: datascience\n"
          ]
        }
      ]
    },
    {
      "cell_type": "markdown",
      "source": [
        "**8. Find the length of a string without using the `len()` function.**"
      ],
      "metadata": {
        "id": "zlKHWHAovxiV"
      }
    },
    {
      "cell_type": "code",
      "source": [
        "S = input(\"Please enter an input: \")\n",
        "length_of_string = 0\n",
        "\n",
        "for i in S:\n",
        "  length_of_string +=1\n",
        "\n",
        "print(f\"The length of the string is: {length_of_string}\")"
      ],
      "metadata": {
        "colab": {
          "base_uri": "https://localhost:8080/"
        },
        "id": "R5D952FFvdwj",
        "outputId": "90f880fa-baa4-4b46-84e7-d1bddf049362"
      },
      "execution_count": null,
      "outputs": [
        {
          "output_type": "stream",
          "name": "stdout",
          "text": [
            "Please enter an input: galaxy\n",
            "The length of the string is: 6\n"
          ]
        }
      ]
    },
    {
      "cell_type": "markdown",
      "source": [
        "**9. Check if a string contains a specific word.**"
      ],
      "metadata": {
        "id": "cTb-6QDDw_aP"
      }
    },
    {
      "cell_type": "code",
      "source": [
        "S1 = input(\"Please enter a string input: \")\n",
        "S2 = input(\"Please enter the specific word: \")\n",
        "\n",
        "if S2 in S1:\n",
        "  print(\"The string input contains the specific word\")\n",
        "else:\n",
        "  print(\"The string input doesn't contain the specific word\")"
      ],
      "metadata": {
        "colab": {
          "base_uri": "https://localhost:8080/"
        },
        "id": "0GjCAYf2wxLs",
        "outputId": "d37426b0-0f7a-419f-b778-43fa2cef8211"
      },
      "execution_count": null,
      "outputs": [
        {
          "output_type": "stream",
          "name": "stdout",
          "text": [
            "Please enter a string input: python is a programming language\n",
            "Please enter the specific word: python\n",
            "The string input contains the specific word\n"
          ]
        }
      ]
    },
    {
      "cell_type": "markdown",
      "source": [
        "**10. Replace a word in a string with another word.**"
      ],
      "metadata": {
        "id": "ddprOxy-y6B1"
      }
    },
    {
      "cell_type": "code",
      "source": [
        "S1 = input(\"Please enter a string input: \").lower()\n",
        "S2 = input(\"Please enter the specific word you want to relpace: \").lower()\n",
        "S3 = input(\"Please enter the word you want to relpace with: \").lower()\n",
        "\n",
        "modified_string = S1.replace(S2,S3)\n",
        "print(f\"After replacing the modified string is: '{modified_string}'\")"
      ],
      "metadata": {
        "colab": {
          "base_uri": "https://localhost:8080/"
        },
        "id": "Z24pgWOSym81",
        "outputId": "f804c63c-1a92-429a-fb5a-9582ea8da063"
      },
      "execution_count": null,
      "outputs": [
        {
          "output_type": "stream",
          "name": "stdout",
          "text": [
            "Please enter a string input: I'm learning pyhton\n",
            "Please enter the specific word you want to relpace: python\n",
            "Please enter the word you want to relpace with: coding\n",
            "After replacing the modified string is: 'i'm learning pyhton'\n"
          ]
        }
      ]
    },
    {
      "cell_type": "markdown",
      "source": [
        "**11. Count the occurrences of a word in a string.**"
      ],
      "metadata": {
        "id": "tllGoyxgjhIA"
      }
    },
    {
      "cell_type": "code",
      "source": [
        "def count_of_word(string, word):\n",
        "  s = string.split()\n",
        "  count = 0\n",
        "  for i in range (len(s)):\n",
        "    if s[i] == word:\n",
        "      count +=1\n",
        "  return print(count)\n",
        "##Printing total number of occurences of a word in the string\n",
        "\n",
        "count_of_word(\"i have a pen and a pencil\", 'pen')"
      ],
      "metadata": {
        "id": "Dk7zZdHm0Non",
        "colab": {
          "base_uri": "https://localhost:8080/"
        },
        "outputId": "ed273a2f-4233-41ca-d923-04b9f0a45044"
      },
      "execution_count": null,
      "outputs": [
        {
          "output_type": "stream",
          "name": "stdout",
          "text": [
            "1\n"
          ]
        }
      ]
    },
    {
      "cell_type": "markdown",
      "source": [
        "**12. Find the first occurrence of a word in a string.**"
      ],
      "metadata": {
        "id": "_uHod8BptU9-"
      }
    },
    {
      "cell_type": "code",
      "source": [
        "S1 = input(\"Please enter a string input: \").lower()\n",
        "S2 = input(\"Please enter the specific word you want to find: \").lower()\n",
        "index_of_word = S1.find(S2)\n",
        "if index_of_word != -1:\n",
        "  print(f\"The first occurrence of the word in the string is at index: {index_of_word}\")\n",
        "else:\n",
        "  print(\"The word is not present in the string\")"
      ],
      "metadata": {
        "id": "ZIhLGiiLtUoS",
        "colab": {
          "base_uri": "https://localhost:8080/"
        },
        "outputId": "13118d11-a322-4897-e3b0-070930dc4ba2"
      },
      "execution_count": null,
      "outputs": [
        {
          "output_type": "stream",
          "name": "stdout",
          "text": [
            "Please enter a string input: hii, i'm learning python\n",
            "Please enter the specific word you want to find: python\n",
            "The first occurrence of the word in the string is at index: 18\n"
          ]
        }
      ]
    },
    {
      "cell_type": "markdown",
      "source": [
        "**13. Find the last occurrence of a word in a string.**"
      ],
      "metadata": {
        "id": "ABvCMJsfC8at"
      }
    },
    {
      "cell_type": "code",
      "source": [
        "S1 = input(\"Please enter a string input: \").lower()\n",
        "S2 = input(\"Please enter the specific word you want to find: \").lower()\n",
        "index_of_word = S1.rfind(S2)\n",
        "if index_of_word != -1:\n",
        "  print(f\"The last occurrence of the word in the string is at index: {index_of_word}\")\n",
        "else:\n",
        "  print(\"The word is not present in the string\")"
      ],
      "metadata": {
        "colab": {
          "base_uri": "https://localhost:8080/"
        },
        "id": "RHJxp1_PHYAW",
        "outputId": "e708993a-8be7-4327-b450-a2e0d080eef8"
      },
      "execution_count": null,
      "outputs": [
        {
          "output_type": "stream",
          "name": "stdout",
          "text": [
            "Please enter a string input: i love pizza & pizza is tasty but pizza is a junk food\n",
            "Please enter the specific word you want to find: pizza\n",
            "The last occurrence of the word in the string is at index: 34\n"
          ]
        }
      ]
    },
    {
      "cell_type": "markdown",
      "source": [
        "**14. Split a string into a list of words.**"
      ],
      "metadata": {
        "id": "i0jE99cNH2xl"
      }
    },
    {
      "cell_type": "code",
      "source": [
        "S = input(\"Please enter an input: \")\n",
        "split_string = S.split()    ##splitting the string into a list of words by using space as a delimiter\n",
        "\n",
        "print(f\"After splitting the string, the list of words is: {split_string}\")"
      ],
      "metadata": {
        "id": "EcXX4CsLDFPr",
        "colab": {
          "base_uri": "https://localhost:8080/"
        },
        "outputId": "eca401bc-0a4e-48f7-8583-ba2eff457f31"
      },
      "execution_count": null,
      "outputs": [
        {
          "output_type": "stream",
          "name": "stdout",
          "text": [
            "Please enter an input: python is a programming language\n",
            "After splitting the string, the list of words is: ['python', 'is', 'a', 'programming', 'language']\n"
          ]
        }
      ]
    },
    {
      "cell_type": "markdown",
      "source": [
        "**15. Join a list of words into a string.**"
      ],
      "metadata": {
        "id": "xxv_Or-prL93"
      }
    },
    {
      "cell_type": "code",
      "source": [
        "S = input(\"Please enter an input: \")\n",
        "split_string = S.split()\n",
        "joined_string = ''.join(split_string)    ##joining the list of words into a string\n",
        "\n",
        "print(f\"After joining the list, the joined string is: {joined_string}\")\n"
      ],
      "metadata": {
        "id": "X5IXVRKODE9L",
        "colab": {
          "base_uri": "https://localhost:8080/"
        },
        "outputId": "205e97b5-a4ee-4c42-8108-f6061128c47e"
      },
      "execution_count": null,
      "outputs": [
        {
          "output_type": "stream",
          "name": "stdout",
          "text": [
            "Please enter an input: Christmas is coming\n",
            "After joining the list, the joined string is: Christmasiscoming\n"
          ]
        }
      ]
    },
    {
      "cell_type": "markdown",
      "source": [
        "**16. Convert a string where words are separated by spaces to one where words\n",
        "are separated by underscores.**"
      ],
      "metadata": {
        "id": "wDe9OMHwuwuB"
      }
    },
    {
      "cell_type": "code",
      "source": [
        "S = input(\"Please enter an input: \")\n",
        "modified_string = S.replace(\" \",\"_\")    ##replacing the spaces with underscores to get the desired output\n",
        "\n",
        "print(f\"The modified string is: {modified_string}\")\n"
      ],
      "metadata": {
        "colab": {
          "base_uri": "https://localhost:8080/"
        },
        "id": "JkDRBHhwuwYp",
        "outputId": "859bf140-9f2e-498a-c641-7417b881a0bc"
      },
      "execution_count": null,
      "outputs": [
        {
          "output_type": "stream",
          "name": "stdout",
          "text": [
            "Please enter an input: Summer Monsoon Autumn Winter Spring\n",
            "The modified string is: Summer_Monsoon_Autumn_Winter_Spring\n"
          ]
        }
      ]
    },
    {
      "cell_type": "markdown",
      "source": [
        "**17. Check if a string starts with a specific word or phrase.**"
      ],
      "metadata": {
        "id": "i9iuMfGNw3R-"
      }
    },
    {
      "cell_type": "code",
      "source": [
        "S1 = input(\"Please enter a string input: \").lower()\n",
        "S2 = input(\"Please enter the specific word or phrase you want to check: \").lower()\n",
        "\n",
        "if S1.startswith(S2):\n",
        "  print(\"The string input starts with the specific word or phrase\")\n",
        "else:\n",
        "  print(\"The string input doesn't start with the specific word or phrase\")\n"
      ],
      "metadata": {
        "id": "9rzQwO4eDEzt",
        "colab": {
          "base_uri": "https://localhost:8080/"
        },
        "outputId": "2c30c22d-7596-41f3-fd1f-a1d0474c9b80"
      },
      "execution_count": null,
      "outputs": [
        {
          "output_type": "stream",
          "name": "stdout",
          "text": [
            "Please enter a string input: Practice makes a man perfect\n",
            "Please enter the specific word or phrase you want to check: Perfect\n",
            "The string input doesn't start with the specific word or phrase\n"
          ]
        }
      ]
    },
    {
      "cell_type": "markdown",
      "source": [
        "**18. Check if a string ends with a specific word or phrase.**"
      ],
      "metadata": {
        "id": "xB-Hgs3Jz05G"
      }
    },
    {
      "cell_type": "code",
      "source": [
        "S1 = input(\"Please enter a string input: \").lower()\n",
        "S2 = input(\"Please enter the specific word or phrase you want to check: \").lower()\n",
        "\n",
        "if S1.endswith(S2):\n",
        "  print(\"The string input ends with the specific word or phrase\")\n",
        "else:\n",
        "  print(\"The string input doesn't end with the specific word or phrase\")\n"
      ],
      "metadata": {
        "id": "k_rLhaQADEup",
        "colab": {
          "base_uri": "https://localhost:8080/"
        },
        "outputId": "f30774a2-f07e-4a79-9f97-56c1c0ea2bca"
      },
      "execution_count": null,
      "outputs": [
        {
          "output_type": "stream",
          "name": "stdout",
          "text": [
            "Please enter a string input: Practice makes a man perfect\n",
            "Please enter the specific word or phrase you want to check: Perfect\n",
            "The string input ends with the specific word or phrase\n"
          ]
        }
      ]
    },
    {
      "cell_type": "markdown",
      "source": [
        "**19. Convert a string to title case (e.g., \"hello world\" to \"Hello World\").**"
      ],
      "metadata": {
        "id": "6-y90TsV0dbj"
      }
    },
    {
      "cell_type": "code",
      "source": [
        "S = input(\"Please enter an input: \")\n",
        "\n",
        "title_case = S.title()    ##converting the string into title case\n",
        "\n",
        "print(f\"The title case of the string is: {title_case}\")\n"
      ],
      "metadata": {
        "id": "0WuzuUnZDEpM",
        "colab": {
          "base_uri": "https://localhost:8080/"
        },
        "outputId": "bed95dcf-6856-4d5b-bb6a-7fa3a52860c4"
      },
      "execution_count": null,
      "outputs": [
        {
          "output_type": "stream",
          "name": "stdout",
          "text": [
            "Please enter an input: old is gold\n",
            "The title case of the string is: Old Is Gold\n"
          ]
        }
      ]
    },
    {
      "cell_type": "markdown",
      "source": [
        "**20. Find the longest word in a string.**"
      ],
      "metadata": {
        "id": "5Ji1Jula1A8B"
      }
    },
    {
      "cell_type": "code",
      "source": [
        "S = input(\"Please enter an input: \")\n",
        "split_string = S.split()\n",
        "max_length = 0\n",
        "for word in split_string:\n",
        "    if len(word) > max_length:\n",
        "        max_length = len(word)\n",
        "        longest_word = word\n",
        "print(f\"The longest word in the string is: {longest_word}\")\n"
      ],
      "metadata": {
        "id": "BTr_was7DEjL",
        "colab": {
          "base_uri": "https://localhost:8080/"
        },
        "outputId": "2acdd92b-1e8b-4753-8f73-a904bdecf527"
      },
      "execution_count": null,
      "outputs": [
        {
          "output_type": "stream",
          "name": "stdout",
          "text": [
            "Please enter an input: seasons are changing\n",
            "The longest word in the string is: changing\n"
          ]
        }
      ]
    },
    {
      "cell_type": "markdown",
      "source": [
        "**21. Find the shortest word in a string.**"
      ],
      "metadata": {
        "id": "DigayWV9ubod"
      }
    },
    {
      "cell_type": "code",
      "source": [
        "S = input(\"Please enter an input: \")\n",
        "split_string = S.split()\n",
        "min_length = len(split_string[0])\n",
        "for word in split_string:\n",
        "    if len(word) < min_length:\n",
        "        min_length = len(word)\n",
        "        shortest_word = word\n",
        "print(f\"The shortest word in the string is: {shortest_word}\")\n"
      ],
      "metadata": {
        "id": "jDxocLCpDEdL",
        "colab": {
          "base_uri": "https://localhost:8080/"
        },
        "outputId": "5c2672de-a271-4efd-8058-60d2f698aea7"
      },
      "execution_count": null,
      "outputs": [
        {
          "output_type": "stream",
          "name": "stdout",
          "text": [
            "Please enter an input: earth is not round in shape\n",
            "The shortest word in the string is: is\n"
          ]
        }
      ]
    },
    {
      "cell_type": "markdown",
      "source": [
        "**22. Reverse the order of words in a string.**"
      ],
      "metadata": {
        "id": "-UOORWEN2f6j"
      }
    },
    {
      "cell_type": "code",
      "source": [
        "S = input(\"Please enter an input: \")\n",
        "split_string = S.split()\n",
        "reversed_string = ' '.join(reversed(split_string))\n",
        "print(f\"The reversed string is: {reversed_string}\")\n"
      ],
      "metadata": {
        "id": "hp8PqUorDEXc",
        "colab": {
          "base_uri": "https://localhost:8080/"
        },
        "outputId": "3c9c1585-fa4a-4874-f176-e9546718c6c3"
      },
      "execution_count": null,
      "outputs": [
        {
          "output_type": "stream",
          "name": "stdout",
          "text": [
            "Please enter an input: AI is future\n",
            "The reversed string is: future is AI\n"
          ]
        }
      ]
    },
    {
      "cell_type": "markdown",
      "source": [
        "**23. Check if a string is alphanumeric.**"
      ],
      "metadata": {
        "id": "gAxHzwxk1o3A"
      }
    },
    {
      "cell_type": "code",
      "source": [
        "S = input(\"Please enter an input: \")\n",
        "if S.isalnum() == True:\n",
        "  print(\"The string is alphanumeric\")\n",
        "else:\n",
        "  print(\"The string is not alphanumeric\")"
      ],
      "metadata": {
        "id": "woqBZ_RdDES4",
        "colab": {
          "base_uri": "https://localhost:8080/"
        },
        "outputId": "f5495dab-7fef-456b-e383-062c5aefbaf4"
      },
      "execution_count": null,
      "outputs": [
        {
          "output_type": "stream",
          "name": "stdout",
          "text": [
            "Please enter an input: %$#\n",
            "The string is not alphanumeric\n"
          ]
        }
      ]
    },
    {
      "cell_type": "markdown",
      "source": [
        "**24. Extract all digits from a string.**"
      ],
      "metadata": {
        "id": "jJg0owPD7y3e"
      }
    },
    {
      "cell_type": "code",
      "source": [
        "S = input(\"Please enter an input: \")\n",
        "digits = ''\n",
        "for i in S:\n",
        "    if i.isdigit():\n",
        "        digits += i\n",
        "print(f\"The digits in the string are: {digits}\")\n"
      ],
      "metadata": {
        "id": "SONp8J4VDEDs",
        "colab": {
          "base_uri": "https://localhost:8080/"
        },
        "outputId": "df070bc2-d7a0-462c-afa4-dbe20cea6315"
      },
      "execution_count": null,
      "outputs": [
        {
          "output_type": "stream",
          "name": "stdout",
          "text": [
            "Please enter an input: ri55275624ya1234588\n",
            "The digits in the string are: 552756241234588\n"
          ]
        }
      ]
    },
    {
      "cell_type": "markdown",
      "source": [
        "**25. Extract all alphabets from a string.**"
      ],
      "metadata": {
        "id": "Q6gewXwAfQyh"
      }
    },
    {
      "cell_type": "code",
      "source": [
        "S = input(\"Please enter an input: \")\n",
        "alphabets = ''\n",
        "for i in S:\n",
        "    if i.isalpha():\n",
        "        alphabets += i\n",
        "print(f\"The alphabets in the string are: {alphabets}\")\n"
      ],
      "metadata": {
        "id": "6N3Z-of-DD-M",
        "colab": {
          "base_uri": "https://localhost:8080/"
        },
        "outputId": "58723db9-974d-4e83-8759-6f476b109f4c"
      },
      "execution_count": null,
      "outputs": [
        {
          "output_type": "stream",
          "name": "stdout",
          "text": [
            "Please enter an input: gr5544ea9988t\n",
            "The alphabets in the string are: great\n"
          ]
        }
      ]
    },
    {
      "cell_type": "markdown",
      "source": [
        "**26. Count the number of uppercase letters in a string.**"
      ],
      "metadata": {
        "id": "ID3g7A5Zjfkl"
      }
    },
    {
      "cell_type": "code",
      "source": [
        "S = input(\"Please enter an input: \")\n",
        "num_letters = 0\n",
        "for i in S:\n",
        "  if i.isupper():\n",
        "    num_letters += 1\n",
        "print(f\"the number of uppercase ltter in the string input is: {num_letters}\")"
      ],
      "metadata": {
        "id": "ZYWtVKDODD6O",
        "colab": {
          "base_uri": "https://localhost:8080/"
        },
        "outputId": "c8142e28-fbfe-4eac-fbff-f2bcb8336b24"
      },
      "execution_count": null,
      "outputs": [
        {
          "output_type": "stream",
          "name": "stdout",
          "text": [
            "Please enter an input: The work is not DONE yet, I need some more TIME\n",
            "the number of uppercase ltter in the string input is: 10\n"
          ]
        }
      ]
    },
    {
      "cell_type": "markdown",
      "source": [
        "**27. Count the number of lowercase letters in a string.**"
      ],
      "metadata": {
        "id": "DdoW50FZlLd_"
      }
    },
    {
      "cell_type": "code",
      "source": [
        "S = input(\"Please enter an input: \")\n",
        "num_letters = 0\n",
        "for i in S:\n",
        "  if i.islower():\n",
        "    num_letters += 1\n",
        "print(f\"the number of lowercase ltter in the string input is: {num_letters}\")"
      ],
      "metadata": {
        "colab": {
          "base_uri": "https://localhost:8080/"
        },
        "id": "f3nSC3NtlEyv",
        "outputId": "613dca83-4426-4cfc-9091-4929bc4d6052"
      },
      "execution_count": null,
      "outputs": [
        {
          "output_type": "stream",
          "name": "stdout",
          "text": [
            "Please enter an input: Practice makes a coder PERFECT\n",
            "the number of lowercase ltter in the string input is: 18\n"
          ]
        }
      ]
    },
    {
      "cell_type": "markdown",
      "source": [
        "**28. Swap the case of each character in a string.**"
      ],
      "metadata": {
        "id": "6_q2H6hply5o"
      }
    },
    {
      "cell_type": "code",
      "source": [
        "S = input(\"Please enter an input: \")\n",
        "swapped_case = S.swapcase()\n",
        "print(f\"The swapped case of each character in the string is: {swapped_case}\")"
      ],
      "metadata": {
        "colab": {
          "base_uri": "https://localhost:8080/"
        },
        "id": "WDZYDqyblEtA",
        "outputId": "079d9d1f-cd82-479d-9087-bac1b5bda2c8"
      },
      "execution_count": null,
      "outputs": [
        {
          "output_type": "stream",
          "name": "stdout",
          "text": [
            "Please enter an input: Mondays are BUSY days\n",
            "The swapped case of each character in the string is: mONDAYS ARE busy DAYS\n"
          ]
        }
      ]
    },
    {
      "cell_type": "markdown",
      "source": [
        "**29. Remove a specific word from a string.**"
      ],
      "metadata": {
        "id": "qynLBkgTpKWz"
      }
    },
    {
      "cell_type": "code",
      "source": [
        "S = input(\"Please enter an input: \").lower()\n",
        "S1 = input(\"Please enter the specific word you want to remove: \").lower()\n",
        "modified_string = S.replace(S1, \"\")\n",
        "print(f\"After removing the specific word, the modified string is: {modified_string}\")\n"
      ],
      "metadata": {
        "colab": {
          "base_uri": "https://localhost:8080/"
        },
        "id": "IAZpEGzIlEo6",
        "outputId": "e14efb35-2524-4cb8-fd35-09d65df33fd2"
      },
      "execution_count": null,
      "outputs": [
        {
          "output_type": "stream",
          "name": "stdout",
          "text": [
            "Please enter an input: The python programming is cool\n",
            "Please enter the specific word you want to remove: Python\n",
            "After removing the specific word, the modified string is: the  programming is cool\n"
          ]
        }
      ]
    },
    {
      "cell_type": "markdown",
      "source": [
        "**30. Check if a string is a valid email address.**"
      ],
      "metadata": {
        "id": "xpuezuxvs7yd"
      }
    },
    {
      "cell_type": "code",
      "source": [
        "import re\n",
        "email = input(\"Please enter an email address: \")\n",
        "regex = r'^[a-z0-9]+[\\._]?[a-z0-9]+[@]\\w+[.]\\w{2,3}$'\n",
        "if re.search(regex, email):\n",
        "  print(\"The email address is valid\")\n",
        "else:\n",
        "  print(\"The email address is not valid\")\n"
      ],
      "metadata": {
        "colab": {
          "base_uri": "https://localhost:8080/"
        },
        "id": "GDpxYDyvlEjp",
        "outputId": "0e0d499e-ffab-4e49-f9e2-01b8e0576749"
      },
      "execution_count": null,
      "outputs": [
        {
          "output_type": "stream",
          "name": "stdout",
          "text": [
            "Please enter an email address: abc@def.coi\n",
            "The email address is valid\n"
          ]
        }
      ]
    },
    {
      "cell_type": "markdown",
      "source": [
        "**31. Extract the username from an email address string.**"
      ],
      "metadata": {
        "id": "1XK1OQRL12GL"
      }
    },
    {
      "cell_type": "code",
      "source": [
        "email = input(\"Please enter an email address: \")\n",
        "username = email.split('@')[0]\n",
        "print(f\"The username in the email address is: {username}\")"
      ],
      "metadata": {
        "colab": {
          "base_uri": "https://localhost:8080/"
        },
        "id": "u9dEQSZXzqmd",
        "outputId": "e26e9c6b-9b95-4e4b-c94b-bb24f9e76e6e"
      },
      "execution_count": null,
      "outputs": [
        {
          "output_type": "stream",
          "name": "stdout",
          "text": [
            "Please enter an email address: fri@grh.npy\n",
            "The username in the email address is: fri\n"
          ]
        }
      ]
    },
    {
      "cell_type": "markdown",
      "source": [
        "**32. Extract the domain name from an email address string.**"
      ],
      "metadata": {
        "id": "-XuPFDhB0pvM"
      }
    },
    {
      "cell_type": "code",
      "source": [
        "email = input(\"Please enter an email address: \")\n",
        "domain_name = email.split('@')[1]\n",
        "print(f\"The domain name in the email address is: {domain_name}\")"
      ],
      "metadata": {
        "colab": {
          "base_uri": "https://localhost:8080/"
        },
        "id": "OB6OAK_vzqgv",
        "outputId": "e707e529-6110-4321-9d50-ed437ec6ba8e"
      },
      "execution_count": null,
      "outputs": [
        {
          "output_type": "stream",
          "name": "stdout",
          "text": [
            "Please enter an email address: feg@trp.npc\n",
            "The domain name in the email address is: trp.npc\n"
          ]
        }
      ]
    },
    {
      "cell_type": "markdown",
      "source": [
        "**33. Replace multiple spaces in a string with a single space.**"
      ],
      "metadata": {
        "id": "tRsECvyu1O9s"
      }
    },
    {
      "cell_type": "code",
      "source": [
        "import re\n",
        "S = input(\"Please enter an input: \")\n",
        "modified_string = re.sub(' +', ' ', S)\n",
        "print(f\"After replacing multiple spaces with a single space, the modified string is: {modified_string}\")"
      ],
      "metadata": {
        "colab": {
          "base_uri": "https://localhost:8080/"
        },
        "id": "jXzRzTk4zqbX",
        "outputId": "7f710188-ef20-4240-dab8-883f55b00532"
      },
      "execution_count": null,
      "outputs": [
        {
          "output_type": "stream",
          "name": "stdout",
          "text": [
            "Please enter an input: hi there,   i need   more   skills\n",
            "After replacing multiple spaces with a single space, the modified string is: hi there, i need more skills\n"
          ]
        }
      ]
    },
    {
      "cell_type": "markdown",
      "source": [
        "**34. Check if a string is a valid URL.**"
      ],
      "metadata": {
        "id": "QH72vIqD8yK-"
      }
    },
    {
      "cell_type": "code",
      "source": [
        "import re\n",
        "\n",
        "url = input(\"Please enter a URL: \")\n",
        "regex = r'https?://(www.)?[a-zA-Z0-9]+(\\.[a-zA-Z]{2,})+'\n",
        "if re.search(regex, url):\n",
        "  print(\"The URL is valid\")\n",
        "else:\n",
        "  print(\"The URL is not valid\")\n"
      ],
      "metadata": {
        "id": "eqcn3mz--Jh_",
        "colab": {
          "base_uri": "https://localhost:8080/"
        },
        "outputId": "017ac3ce-6536-4874-fc14-6f76ecafe837"
      },
      "execution_count": null,
      "outputs": [
        {
          "output_type": "stream",
          "name": "stdout",
          "text": [
            "Please enter a URL: https://colab.research.google.com/drive/1P2lI0T30CwhOSiNfFmzyt-sUrSz4ORgx#scrollTo=giYPKCKKDDjY\n",
            "The URL is valid\n"
          ]
        }
      ]
    },
    {
      "cell_type": "markdown",
      "source": [
        "**35. Extract the protocol (http or https) from a URL string.**"
      ],
      "metadata": {
        "id": "rpf4MAmwrkEm"
      }
    },
    {
      "cell_type": "code",
      "source": [
        "url = input(\"Please enter a URL: \")\n",
        "protocol = url.split(':')[0]\n",
        "print(f\"The protocol in the URL is: {protocol}\")\n"
      ],
      "metadata": {
        "id": "giYPKCKKDDjY",
        "colab": {
          "base_uri": "https://localhost:8080/"
        },
        "outputId": "10287238-417e-4432-ce61-419a9ce5b2f1"
      },
      "execution_count": null,
      "outputs": [
        {
          "output_type": "stream",
          "name": "stdout",
          "text": [
            "Please enter a URL: https://colab.research.google.com/drive/1P2lI0T30CwhOSiNfFmzyt-sUrSz4ORgx#scrollTo=6ARCkN3CDDd5\n",
            "The protocol in the URL is: https\n"
          ]
        }
      ]
    },
    {
      "cell_type": "markdown",
      "source": [
        "**36. Find the frequency of each character in a string.**"
      ],
      "metadata": {
        "id": "puN5Jvfjt9BX"
      }
    },
    {
      "cell_type": "code",
      "source": [
        "S = input(\"Please enter an input: \")\n",
        "char_frequency = {}\n",
        "for char in S:\n",
        "    if char in char_frequency:\n",
        "        char_frequency[char] += 1\n",
        "    else:\n",
        "        char_frequency[char] = 1\n",
        "print(f\"The frequency of each character in the string is: {char_frequency}\")\n"
      ],
      "metadata": {
        "id": "6ARCkN3CDDd5",
        "colab": {
          "base_uri": "https://localhost:8080/"
        },
        "outputId": "0ced3fe6-002a-4f07-b166-bcd85c3965f9"
      },
      "execution_count": null,
      "outputs": [
        {
          "output_type": "stream",
          "name": "stdout",
          "text": [
            "Please enter an input: food777****\n",
            "The frequency of each character in the string is: {'f': 1, 'o': 2, 'd': 1, '7': 3, '*': 4}\n"
          ]
        }
      ]
    },
    {
      "cell_type": "markdown",
      "source": [
        "**37. Remove all punctuation from a string.**"
      ],
      "metadata": {
        "id": "XLgQAXpXv6OW"
      }
    },
    {
      "cell_type": "code",
      "source": [
        "import re\n",
        "\n",
        "S = input(\"Please enter an input: \")\n",
        "cleaned_string = re.sub('[^a-zA-Z0-9]', '', S)\n",
        "print(f\"After removing all punctuation, the cleaned string is: {cleaned_string}\")\n"
      ],
      "metadata": {
        "colab": {
          "base_uri": "https://localhost:8080/"
        },
        "id": "wZAzilKvwKT8",
        "outputId": "954b783e-f881-4030-e2c1-ba1e70372af3"
      },
      "execution_count": null,
      "outputs": [
        {
          "output_type": "stream",
          "name": "stdout",
          "text": [
            "Please enter an input: hi there! it was a good way of learning\n",
            "After removing all punctuation, the cleaned string is: hithereitwasagoodwayoflearning\n"
          ]
        }
      ]
    },
    {
      "cell_type": "markdown",
      "source": [
        "**38. Check if a string contains only digits.**"
      ],
      "metadata": {
        "id": "9k20mcn5xMCJ"
      }
    },
    {
      "cell_type": "code",
      "source": [
        "S = input(\"Please enter an input: \")\n",
        "if S.isdigit() == True:\n",
        "  print(\"The string contains only digits\")\n",
        "else:\n",
        "  print(\"The string contains non-digit characters\")\n"
      ],
      "metadata": {
        "id": "WWpboSjfwKQR",
        "colab": {
          "base_uri": "https://localhost:8080/"
        },
        "outputId": "4de5e6cb-ba29-4eb8-b3e0-ff95b4e5cb33"
      },
      "execution_count": null,
      "outputs": [
        {
          "output_type": "stream",
          "name": "stdout",
          "text": [
            "Please enter an input: 5487\n",
            "The string contains only digits\n"
          ]
        }
      ]
    },
    {
      "cell_type": "markdown",
      "source": [
        "**39. Check if a string contains only alphabets.**"
      ],
      "metadata": {
        "id": "nFRDz78J1fjh"
      }
    },
    {
      "cell_type": "code",
      "source": [
        "S = input(\"Please enter an input: \")\n",
        "if S.isalpha() == True:\n",
        "  print(\"The string contains only alphabets\")\n",
        "else:\n",
        "  print(\"The string contains non-alphabet characters\")\n"
      ],
      "metadata": {
        "id": "AQmgDbTKwKJV",
        "colab": {
          "base_uri": "https://localhost:8080/"
        },
        "outputId": "3d51aed8-1918-4629-a84d-9c9fc57b1b90"
      },
      "execution_count": null,
      "outputs": [
        {
          "output_type": "stream",
          "name": "stdout",
          "text": [
            "Please enter an input: rddddd\n",
            "The string contains only alphabets\n"
          ]
        }
      ]
    },
    {
      "cell_type": "markdown",
      "source": [
        "**40. Convert a string to a list of characters.**"
      ],
      "metadata": {
        "id": "75xckUDo2RRx"
      }
    },
    {
      "cell_type": "code",
      "source": [
        "S = input(\"Please enter an input: \")\n",
        "split_string = list(S)\n",
        "print(f\"The string converted to a list of characters is: {split_string}\")"
      ],
      "metadata": {
        "id": "9hW5fxRUwKEO",
        "colab": {
          "base_uri": "https://localhost:8080/"
        },
        "outputId": "57eb5c5b-9073-40c8-94c1-606d8ae00858"
      },
      "execution_count": null,
      "outputs": [
        {
          "output_type": "stream",
          "name": "stdout",
          "text": [
            "Please enter an input: I've 10 rs\n",
            "The string converted to a list of characters is: ['I', \"'\", 'v', 'e', ' ', '1', '0', ' ', 'r', 's']\n"
          ]
        }
      ]
    },
    {
      "cell_type": "markdown",
      "source": [
        "**41. Check if two strings are anagrams.**"
      ],
      "metadata": {
        "id": "72ljaG_h38oB"
      }
    },
    {
      "cell_type": "code",
      "source": [
        "S1 = input(\"Please enter the first string: \").lower()\n",
        "S2 = input(\"Please enter the second string: \").lower()\n",
        "if sorted(S1) == sorted(S2):\n",
        "  print(\"The two strings are anagrams\")\n",
        "else:\n",
        "  print(\"The two strings are not anagrams\")"
      ],
      "metadata": {
        "id": "ofP8qnlVDDYI",
        "colab": {
          "base_uri": "https://localhost:8080/"
        },
        "outputId": "d3fd2cbc-9a90-4a39-b186-28739d425872"
      },
      "execution_count": null,
      "outputs": [
        {
          "output_type": "stream",
          "name": "stdout",
          "text": [
            "Please enter the first string: silent\n",
            "Please enter the second string: listen\n",
            "The two strings are anagrams\n"
          ]
        }
      ]
    },
    {
      "cell_type": "markdown",
      "source": [
        "**42. Replace negative numbers in a list with 0.**"
      ],
      "metadata": {
        "id": "bO8nA8wtAL5t"
      }
    },
    {
      "cell_type": "code",
      "source": [
        "list1 = [-8,-9,-23,-16,-13,-12,-3]\n",
        "for i in range(len(list1)):\n",
        "    if list1[i] < 0:\n",
        "        list1[i] = 0\n",
        "\n",
        "print(list1)"
      ],
      "metadata": {
        "id": "B0wDsR-1DDUq",
        "colab": {
          "base_uri": "https://localhost:8080/"
        },
        "outputId": "1771f007-4ea9-4988-c62a-2a3dbf286c09"
      },
      "execution_count": null,
      "outputs": [
        {
          "output_type": "stream",
          "name": "stdout",
          "text": [
            "[0, 0, 0, 0, 0, 0, 0]\n"
          ]
        }
      ]
    },
    {
      "cell_type": "markdown",
      "source": [
        "**43. Decode a Caesar cipher encoded string.**"
      ],
      "metadata": {
        "id": "e532VmLz2c_E"
      }
    },
    {
      "cell_type": "code",
      "source": [
        "def decode_caesar_cipher(encoded_string, shift):\n",
        "    decoded_string = ''\n",
        "    for char in encoded_string:\n",
        "        if char.isalpha():\n",
        "            char_code = ord(char)\n",
        "            if char.isupper():\n",
        "                char_code -= shift\n",
        "                if char_code < ord('A'):\n",
        "                    char_code += 26\n",
        "            else:\n",
        "                char_code -= shift\n",
        "                if char_code < ord('a'):\n",
        "                    char_code += 26\n",
        "            decoded_string += chr(char_code)\n",
        "        else:\n",
        "            decoded_string += char\n",
        "    return decoded_string\n",
        "\n",
        "encoded_string = input(\"Enter the encoded string: \")\n",
        "shift = int(input(\"Enter the shift value: \"))\n",
        "\n",
        "decoded_string = decode_caesar_cipher(encoded_string, shift)\n",
        "\n",
        "print(f\"The decoded string is: {decoded_string}\")\n"
      ],
      "metadata": {
        "id": "d9U3gW2NDDOL",
        "colab": {
          "base_uri": "https://localhost:8080/"
        },
        "outputId": "a7e13eca-cb38-41f2-afa8-e5703990d0b9"
      },
      "execution_count": null,
      "outputs": [
        {
          "output_type": "stream",
          "name": "stdout",
          "text": [
            "Enter the encoded string: rfhdq\n",
            "Enter the shift value: 3\n",
            "The decoded string is: ocean\n"
          ]
        }
      ]
    },
    {
      "cell_type": "markdown",
      "source": [
        "**44. Find the most frequent word in a string.**"
      ],
      "metadata": {
        "id": "R2HJJjuhG34v"
      }
    },
    {
      "cell_type": "code",
      "source": [
        "S = input(\"Please enter an input: \").lower()\n",
        "words = S.split()\n",
        "word_count = {}\n",
        "for word in words:\n",
        "    if word in word_count:\n",
        "        word_count[word] += 1\n",
        "    else:\n",
        "        word_count[word] = 1\n",
        "\n",
        "most_frequent_word = max(word_count, key=word_count.get)\n",
        "print(f\"The most frequent word in the string is: {most_frequent_word}\")\n"
      ],
      "metadata": {
        "id": "JF8t1yLjDDLT",
        "colab": {
          "base_uri": "https://localhost:8080/"
        },
        "outputId": "2924d14d-8df2-452d-bfc8-2bddda2f7482"
      },
      "execution_count": null,
      "outputs": [
        {
          "output_type": "stream",
          "name": "stdout",
          "text": [
            "Please enter an input: hi, it's me, i want to complete the assignment as soon as possible\n",
            "The most frequent word in the string is: as\n"
          ]
        }
      ]
    },
    {
      "cell_type": "markdown",
      "source": [
        "**45. Find all unique words in a string.**"
      ],
      "metadata": {
        "id": "V1kj92M8Gi24"
      }
    },
    {
      "cell_type": "code",
      "source": [
        "S = input(\"Please enter an input: \").lower()\n",
        "words = S.split()\n",
        "unique_words = set(words)\n",
        "print(f\"The unique words in the string are: {unique_words}\")\n"
      ],
      "metadata": {
        "id": "BVjl9TKh1taI",
        "colab": {
          "base_uri": "https://localhost:8080/"
        },
        "outputId": "c963f359-fd25-4637-a1f2-312166753fda"
      },
      "execution_count": null,
      "outputs": [
        {
          "output_type": "stream",
          "name": "stdout",
          "text": [
            "Please enter an input: why there is a why\n",
            "The unique words in the string are: {'why', 'a', 'is', 'there'}\n"
          ]
        }
      ]
    },
    {
      "cell_type": "markdown",
      "source": [
        "**46. Count the number of syllables in a string.**"
      ],
      "metadata": {
        "id": "kcjuTRK0LvRb"
      }
    },
    {
      "cell_type": "code",
      "source": [
        "import re\n",
        "S = input(\"Please enter an input: \")\n",
        "syllable_count = 0\n",
        "for word in S.split():\n",
        "    syllable_count += len(re.findall(r'[AEIOUaeiouY]', word))\n",
        "print(f\"The number of syllables in the string is: {syllable_count}\")\n"
      ],
      "metadata": {
        "id": "MbNB9ZWkJ9ZE",
        "colab": {
          "base_uri": "https://localhost:8080/"
        },
        "outputId": "bda88d11-3e4e-4ff6-87e5-3655f726cd24"
      },
      "execution_count": null,
      "outputs": [
        {
          "output_type": "stream",
          "name": "stdout",
          "text": [
            "Please enter an input: hi there\n",
            "The number of syllables in the string is: 3\n"
          ]
        }
      ]
    },
    {
      "cell_type": "markdown",
      "source": [
        "**47. Check if a string contains any special characters.**"
      ],
      "metadata": {
        "id": "BQ1MkQmE5nRt"
      }
    },
    {
      "cell_type": "code",
      "source": [
        "def contains_special_characters(input_string):\n",
        "    # Define a set of special characters\n",
        "    special_characters = set(\"!@#$%^&*()_-+=[]{}|;:'\\\",.<>?`~\")\n",
        "\n",
        "    # Iterate through each character in the string\n",
        "    for char in input_string:\n",
        "        # Check if the character is in the set of special characters\n",
        "        if char in special_characters:\n",
        "            return True  # The string contains at least one special character\n",
        "\n",
        "    return False  # The string does not contain any special characters\n",
        "\n",
        "# Example usage\n",
        "text = \"hey there! I'm using Whatsapp\"\n",
        "if contains_special_characters(text):\n",
        "    print(f'The string \"{text}\" contains special characters.')\n",
        "else:\n",
        "    print(f'The string \"{text}\" does not contain special characters.')\n"
      ],
      "metadata": {
        "id": "65a6UTXu1tQb",
        "colab": {
          "base_uri": "https://localhost:8080/"
        },
        "outputId": "a611f7c7-9318-4c1a-d97b-ce1561abbddc"
      },
      "execution_count": null,
      "outputs": [
        {
          "output_type": "stream",
          "name": "stdout",
          "text": [
            "The string \"hey there! I'm using Whatsapp\" contains special characters.\n"
          ]
        }
      ]
    },
    {
      "cell_type": "markdown",
      "source": [
        "**48. Remove the nth word from a string.**"
      ],
      "metadata": {
        "id": "fdygcRMM6JI7"
      }
    },
    {
      "cell_type": "code",
      "source": [
        "def remove_nth_word(input_string, n):\n",
        "    # Split the string into words\n",
        "    words = input_string.split()\n",
        "\n",
        "    # Check if the specified index is within the range of words\n",
        "    if 1 <= n <= len(words):\n",
        "        # Remove the nth word\n",
        "        del words[n - 1]\n",
        "\n",
        "        # Join the remaining words back into a string\n",
        "        result_string = ' '.join(words)\n",
        "        return result_string\n",
        "    else:\n",
        "        # If the specified index is out of range, return the original string\n",
        "        return input_string\n",
        "\n",
        "# Example usage\n",
        "input_string = \"This is a sample sentence to demonstrate removing the nth word.\"\n",
        "n = 6\n",
        "result = remove_nth_word(input_string, n)\n",
        "print(result)\n"
      ],
      "metadata": {
        "id": "AuEy9EaD1s_f",
        "colab": {
          "base_uri": "https://localhost:8080/"
        },
        "outputId": "3f4efb75-0eba-4f34-d21e-0872c2eca6d3"
      },
      "execution_count": null,
      "outputs": [
        {
          "output_type": "stream",
          "name": "stdout",
          "text": [
            "This is a sample sentence demonstrate removing the nth word.\n"
          ]
        }
      ]
    },
    {
      "cell_type": "markdown",
      "source": [
        "**49. Insert a word at the nth position in a string.**"
      ],
      "metadata": {
        "id": "-wnzYctF7Nr9"
      }
    },
    {
      "cell_type": "code",
      "source": [
        "def insert_word_at_nth_position(input_string, n, new_word):\n",
        "    # Split the string into words\n",
        "    words = input_string.split()\n",
        "\n",
        "    # Check if the specified index is within the range of words\n",
        "    if 0 <= n <= len(words):\n",
        "        # Insert the new word at the nth position\n",
        "        words.insert(n, new_word)\n",
        "\n",
        "        # Join the words back into a string\n",
        "        result_string = ' '.join(words)\n",
        "        return result_string\n",
        "    else:\n",
        "        # If the specified index is out of range, return the original string\n",
        "        return input_string\n",
        "\n",
        "# Example usage\n",
        "input_string = \"This is a sample sentence to demonstrate inserting a word.\"\n",
        "n = 5\n",
        "new_word = \"insert\"\n",
        "result = insert_word_at_nth_position(input_string, n, new_word)\n",
        "print(result)\n"
      ],
      "metadata": {
        "id": "ZiDVou6RDDH7",
        "colab": {
          "base_uri": "https://localhost:8080/"
        },
        "outputId": "b39e7ea1-6e4f-4d69-c8c6-e1209a64e0db"
      },
      "execution_count": null,
      "outputs": [
        {
          "output_type": "stream",
          "name": "stdout",
          "text": [
            "This is a sample sentence insert to demonstrate inserting a word.\n"
          ]
        }
      ]
    },
    {
      "cell_type": "markdown",
      "source": [
        "**50. Convert a CSV string to a list of lists.**"
      ],
      "metadata": {
        "id": "ohh594-V77ux"
      }
    },
    {
      "cell_type": "code",
      "source": [
        "def csv_string_to_list(csv_string):\n",
        "    # Split the CSV string into lines\n",
        "    lines = csv_string.split('\\n')\n",
        "\n",
        "    # Initialize the result list\n",
        "    csv_list = []\n",
        "\n",
        "    for line in lines:\n",
        "        # Split each line into columns\n",
        "        columns = line.split(',')\n",
        "\n",
        "        # Append the columns to the result list\n",
        "        csv_list.append(columns)\n",
        "\n",
        "    return csv_list\n",
        "\n",
        "# Example usage\n",
        "csv_string = \"1,John,Doe\\n2,Jane,Smith\\n3,Bob,Johnson\"\n",
        "result = csv_string_to_list(csv_string)\n",
        "print(result)\n"
      ],
      "metadata": {
        "id": "GOWuSUbfDDEW",
        "colab": {
          "base_uri": "https://localhost:8080/"
        },
        "outputId": "c5b8a697-7dc1-40b7-a1bd-7a25c5d65fae"
      },
      "execution_count": null,
      "outputs": [
        {
          "output_type": "stream",
          "name": "stdout",
          "text": [
            "[['1', 'John', 'Doe'], ['2', 'Jane', 'Smith'], ['3', 'Bob', 'Johnson']]\n"
          ]
        }
      ]
    },
    {
      "cell_type": "markdown",
      "source": [
        "## List Based Practice Problem"
      ],
      "metadata": {
        "id": "8j3VzALviRU1"
      }
    },
    {
      "cell_type": "markdown",
      "source": [
        "**1. Create a list with integers from 1 to 10.**"
      ],
      "metadata": {
        "id": "wRkebURMiiMH"
      }
    },
    {
      "cell_type": "code",
      "source": [
        "def creating_list():\n",
        "  List = []                ##Creating an empty list\n",
        "  for i in range(1,11):     ##Taking 1 to 11, because range function eleminate the last element\n",
        "    List.append(i)\n",
        "  return List             ##Returning the appended list\n",
        "\n",
        "X = creating_list()\n",
        "print(X)                 ##Printing 1 to 10\n"
      ],
      "metadata": {
        "colab": {
          "base_uri": "https://localhost:8080/"
        },
        "id": "mc2O_4R6g7uM",
        "outputId": "3ac7ddbe-260e-4f79-89e5-f86601a1c294"
      },
      "execution_count": null,
      "outputs": [
        {
          "output_type": "stream",
          "name": "stdout",
          "text": [
            "[1, 2, 3, 4, 5, 6, 7, 8, 9, 10]\n"
          ]
        }
      ]
    },
    {
      "cell_type": "markdown",
      "source": [
        "**2. Find the length of a list without using the `len()` function.**"
      ],
      "metadata": {
        "id": "GOc3XmmIyuqj"
      }
    },
    {
      "cell_type": "code",
      "source": [
        "L2 = [5,7,2,23.5,6,8,9,'RD',9,\"length\"]           ##Taking a list with random elements\n",
        "Length_of_list = 0                                  ##Assigning 0 as the value of the length of list\n",
        "\n",
        "for i in L2:\n",
        "  Length_of_list += 1                               ##Adding 1 to the length of the list for each item in the list\n",
        "print(\"The length of the list is:\", Length_of_list)   ##Printing the length of the list"
      ],
      "metadata": {
        "colab": {
          "base_uri": "https://localhost:8080/"
        },
        "id": "UqGZrW0jjW5q",
        "outputId": "3f6037af-00bc-4be2-8863-9260cd883f46"
      },
      "execution_count": null,
      "outputs": [
        {
          "output_type": "stream",
          "name": "stdout",
          "text": [
            "The length of the list is: 10\n"
          ]
        }
      ]
    },
    {
      "cell_type": "markdown",
      "source": [
        "**3. Append an element to the end of a list.**"
      ],
      "metadata": {
        "id": "fLp_9awJ7LR4"
      }
    },
    {
      "cell_type": "code",
      "source": [
        "L3 = [1,2,3,4,5,6,7,8,9,10]             ##Taking a list of integers 1 to 10\n",
        "\n",
        "L3.append(11)                          ##Appending one more element to the list\n",
        "print(L3)                              ##Printing the list after appending an element to the end of the list"
      ],
      "metadata": {
        "id": "SOGZf5200CnT",
        "colab": {
          "base_uri": "https://localhost:8080/"
        },
        "outputId": "47b9c2d5-5402-4007-ada4-c7f22afcfee6"
      },
      "execution_count": null,
      "outputs": [
        {
          "output_type": "stream",
          "name": "stdout",
          "text": [
            "[1, 2, 3, 4, 5, 6, 7, 8, 9, 10, 11]\n"
          ]
        }
      ]
    },
    {
      "cell_type": "markdown",
      "source": [
        "**4. Insert an element at a specific index in a list.**"
      ],
      "metadata": {
        "id": "rVQpVdVFFGJJ"
      }
    },
    {
      "cell_type": "code",
      "source": [
        "# Original list\n",
        "my_list = [1, 2, 3, 4, 5]\n",
        "\n",
        "# Element to insert\n",
        "element_to_insert = 10\n",
        "\n",
        "# Index at which to insert the element\n",
        "index_to_insert = 2\n",
        "\n",
        "# Insert the element at the specified index\n",
        "my_list.insert(index_to_insert, element_to_insert)\n",
        "\n",
        "# Print the modified list\n",
        "print(my_list)\n"
      ],
      "metadata": {
        "colab": {
          "base_uri": "https://localhost:8080/"
        },
        "id": "lIdfzg69DTQv",
        "outputId": "a77cf911-34f0-44aa-da4d-90f7239f2141"
      },
      "execution_count": null,
      "outputs": [
        {
          "output_type": "stream",
          "name": "stdout",
          "text": [
            "[1, 2, 10, 3, 4, 5]\n"
          ]
        }
      ]
    },
    {
      "cell_type": "markdown",
      "source": [
        "**5. Remove an element from a list by its value.**"
      ],
      "metadata": {
        "id": "PdNpqcEDrQrt"
      }
    },
    {
      "cell_type": "code",
      "source": [
        "|# Original list\n",
        "my_list = [1, 2, 3, 7, 4, 5, 3]\n",
        "\n",
        "# Element to remove\n",
        "element_to_remove = 7\n",
        "\n",
        "# Remove the element from the list\n",
        "my_list.remove(element_to_remove)\n",
        "\n",
        "# Print the modified list\n",
        "print(my_list)\n"
      ],
      "metadata": {
        "colab": {
          "base_uri": "https://localhost:8080/"
        },
        "id": "Z79hygi1tCCk",
        "outputId": "3829d1ca-4030-492c-b56c-82681b7faa36"
      },
      "execution_count": null,
      "outputs": [
        {
          "output_type": "stream",
          "name": "stdout",
          "text": [
            "[1, 2, 3, 4, 5, 3]\n"
          ]
        }
      ]
    },
    {
      "cell_type": "markdown",
      "source": [
        "**6. Remove an element from a list by its index.**"
      ],
      "metadata": {
        "id": "LWouddNpt77K"
      }
    },
    {
      "cell_type": "code",
      "source": [
        "# Original list\n",
        "my_list = [2,8,7,6,5]\n",
        "\n",
        "# Index of the element to remove\n",
        "index_to_remove = 2\n",
        "\n",
        "# Remove the element at the specified index\n",
        "removed_element = my_list.pop(index_to_remove)\n",
        "\n",
        "# Print the modified list and the removed element\n",
        "print(f\"The modified list: {my_list}\")\n",
        "print(f\"The removed element at index {index_to_remove}: {removed_element}\")\n"
      ],
      "metadata": {
        "colab": {
          "base_uri": "https://localhost:8080/"
        },
        "id": "6eeZlXYFt9QC",
        "outputId": "fbd5b2dd-6f31-446b-9ad9-cb047c38ac0e"
      },
      "execution_count": null,
      "outputs": [
        {
          "output_type": "stream",
          "name": "stdout",
          "text": [
            "The modified list: [2, 8, 6, 5]\n",
            "The removed element at index 2: 7\n"
          ]
        }
      ]
    },
    {
      "cell_type": "markdown",
      "source": [
        "**7. Check if an element exists in a list.**"
      ],
      "metadata": {
        "id": "ydsFDFDWzLaY"
      }
    },
    {
      "cell_type": "code",
      "source": [
        "# Original list\n",
        "my_list = [1, 2, 3, 4, 5]\n",
        "\n",
        "# Element to check\n",
        "element_to_check = 7\n",
        "\n",
        "# Check if the element exists in the list\n",
        "if element_to_check in my_list:\n",
        "    print(f\"The element {element_to_check} exists in the list.\")\n",
        "else:\n",
        "    print(f\"The element {element_to_check} does not exist in the list.\")\n"
      ],
      "metadata": {
        "colab": {
          "base_uri": "https://localhost:8080/"
        },
        "id": "Kn-KAGpQt_Na",
        "outputId": "799c8a8f-16d3-48a8-a160-09523028a43f"
      },
      "execution_count": null,
      "outputs": [
        {
          "output_type": "stream",
          "name": "stdout",
          "text": [
            "The element 7 does not exist in the list.\n"
          ]
        }
      ]
    },
    {
      "cell_type": "markdown",
      "source": [
        "**8. Find the index of the first occurrence of an element in a list.**"
      ],
      "metadata": {
        "id": "auZnc5bLzqct"
      }
    },
    {
      "cell_type": "code",
      "source": [
        "try:\n",
        "  # Original list\n",
        "  my_list = [1, 9, 6, 0, 1, 3, 2, 3, 4, 5, 3]\n",
        "\n",
        "  # Element to find\n",
        "  element_to_find = 3\n",
        "\n",
        "  # Find the index of the first occurrence of the element\n",
        "  index_of_element = my_list.index(element_to_find)\n",
        "\n",
        "  # Print the index\n",
        "  print(f\"The index of the first occurrence of {element_to_find} is: {index_of_element}\")\n",
        "except ValueError :\n",
        "  print(\"The element {element_to_find} is not in the list\")"
      ],
      "metadata": {
        "colab": {
          "base_uri": "https://localhost:8080/"
        },
        "id": "JCWcTsfxt_VL",
        "outputId": "3445ff1f-9540-4c12-a395-4202d80d313f"
      },
      "execution_count": null,
      "outputs": [
        {
          "output_type": "stream",
          "name": "stdout",
          "text": [
            "The index of the first occurrence of 3 is: 5\n"
          ]
        }
      ]
    },
    {
      "cell_type": "markdown",
      "source": [
        "**9. Count the occurrences of an element in a list.**"
      ],
      "metadata": {
        "id": "di_r4gMA3ccG"
      }
    },
    {
      "cell_type": "code",
      "source": [
        "try:\n",
        "  # Original list\n",
        "  my_list = [1, 9, 6, 3, 0, 1, 3, 2, 3, 4, 5, 3]\n",
        "\n",
        "  # Element to count\n",
        "  element_to_count = 3\n",
        "\n",
        "  # Count number of times the element is present in the list\n",
        "  number_of_count = my_list.count(element_to_count)\n",
        "\n",
        "  # Print the count\n",
        "  print(f\"The number of times the element  {element_to_count} is present in the list is: {number_of_count}\")\n",
        "except ValueError :\n",
        "  print(\"The element {element_to_find} is not in the list\")"
      ],
      "metadata": {
        "colab": {
          "base_uri": "https://localhost:8080/"
        },
        "id": "IFw9H7XHt_Yq",
        "outputId": "1a20249c-3322-48ad-a297-2b3a1007f8d2"
      },
      "execution_count": null,
      "outputs": [
        {
          "output_type": "stream",
          "name": "stdout",
          "text": [
            "The number of times the element  3 is present in the list is: 4\n"
          ]
        }
      ]
    },
    {
      "cell_type": "markdown",
      "source": [
        "**10. Reverse the order of elements in a list.**"
      ],
      "metadata": {
        "id": "VcrfQufLqbyP"
      }
    },
    {
      "cell_type": "code",
      "source": [
        "def my_list():\n",
        "  original_list = [2, 6, 24, 7, 10, \"rd\", 0.5]      ##Taking a list with random elements\n",
        "  original_list.reverse()                            ##Reversing the list elements by using reverse function\n",
        "  return original_list                              ##Printing the reversed list\n",
        "\n",
        "##Driver code\n",
        "X = my_list()\n",
        "print(X)"
      ],
      "metadata": {
        "id": "wwXRDSrSt_b-",
        "colab": {
          "base_uri": "https://localhost:8080/"
        },
        "outputId": "1662ff64-cc5e-494f-ef07-507be245e124"
      },
      "execution_count": null,
      "outputs": [
        {
          "output_type": "stream",
          "name": "stdout",
          "text": [
            "[0.5, 'rd', 10, 7, 24, 6, 2]\n"
          ]
        }
      ]
    },
    {
      "cell_type": "markdown",
      "source": [
        "**11. Sort a list in ascending order.**"
      ],
      "metadata": {
        "id": "vNjNzi_SvsNF"
      }
    },
    {
      "cell_type": "code",
      "source": [
        "def sort_list():\n",
        "    my_list = [2, 6, 24, 7, 10, 0.5, 18]\n",
        "\n",
        "    # Sort the list in ascending order using sort()\n",
        "    ascending_order = sorted(my_list)\n",
        "\n",
        "    return ascending_order\n",
        "\n",
        "# Driver code\n",
        "ascending = sort_list()\n",
        "print(\"Ascending Order:\", ascending)"
      ],
      "metadata": {
        "colab": {
          "base_uri": "https://localhost:8080/"
        },
        "id": "ZKZ4SxmktiFZ",
        "outputId": "f1b4fdc7-71f0-4873-ea17-a0fb2092dfe1"
      },
      "execution_count": null,
      "outputs": [
        {
          "output_type": "stream",
          "name": "stdout",
          "text": [
            "Ascending Order: [0.5, 2, 6, 7, 10, 18, 24]\n"
          ]
        }
      ]
    },
    {
      "cell_type": "markdown",
      "source": [
        "**12. Sort a list in descending order.**"
      ],
      "metadata": {
        "id": "eLGgGgWQwVck"
      }
    },
    {
      "cell_type": "code",
      "source": [
        "def sort_list():\n",
        "    my_list = [5, 23, 41, 21, 2, 0.5, 1.008]\n",
        "\n",
        "    ## Sort the list by using sort function\n",
        "    descending_order = sorted(my_list)\n",
        "    ## Reversing the order of the list to get descending order of elements\n",
        "    descending_order.reverse()\n",
        "\n",
        "    return descending_order\n",
        "\n",
        "## Driver code\n",
        "descending = sort_list()\n",
        "print(\"Descending Order:\", descending)"
      ],
      "metadata": {
        "colab": {
          "base_uri": "https://localhost:8080/"
        },
        "id": "_u4kB7bUwVKo",
        "outputId": "a4b487a3-36c1-43a6-fe05-af4135e4cda3"
      },
      "execution_count": null,
      "outputs": [
        {
          "output_type": "stream",
          "name": "stdout",
          "text": [
            "Descending Order: [41, 23, 21, 5, 2, 1.008, 0.5]\n"
          ]
        }
      ]
    },
    {
      "cell_type": "markdown",
      "source": [
        "**13. Create a list of even numbers from 1 to 20.**"
      ],
      "metadata": {
        "id": "FTqBQnZM0DID"
      }
    },
    {
      "cell_type": "code",
      "source": [
        "def even_num():\n",
        "  even_numbers = []                           ##Creating an empty list\n",
        "  for i in range(1,21):                         ##Taking 20+1=21 as the range, cause range will ignore the last element\n",
        "    if i%2 == 0:                              ##Checking if the number is even\n",
        "      even_numbers.append(i)                 ##Appending the even numbers into the empty llist\n",
        "    else:\n",
        "      continue                               ##Continue to the next element if the element is odd\n",
        "  return even_numbers                      ##Returning the list of even numbers\n",
        "\n",
        "##Driver code\n",
        "even_numbers_list = even_num()\n",
        "print(even_numbers_list)"
      ],
      "metadata": {
        "colab": {
          "base_uri": "https://localhost:8080/"
        },
        "id": "mKvrNcmIvu_E",
        "outputId": "6a89aaf9-f8e5-4e60-8e3e-31fd8f8664bd"
      },
      "execution_count": null,
      "outputs": [
        {
          "output_type": "stream",
          "name": "stdout",
          "text": [
            "[2, 4, 6, 8, 10, 12, 14, 16, 18, 20]\n"
          ]
        }
      ]
    },
    {
      "cell_type": "markdown",
      "source": [
        "**14. Create a list of odd numbers from 1 to 20.**"
      ],
      "metadata": {
        "id": "F44m2ID627IZ"
      }
    },
    {
      "cell_type": "code",
      "source": [
        "def odd_num():\n",
        "  odd_numbers = []                           ##Creating an empty list\n",
        "  for i in range(1,21):                         ##Taking 20+1=21 as the range, cause range will ignore the last element\n",
        "    if i%2 == 1:                              ##Checking if the number is odd\n",
        "      odd_numbers.append(i)                 ##Appending the odd numbers into the empty llist\n",
        "    else:\n",
        "      continue                               ##Continue to the next element if the element is even\n",
        "  return odd_numbers                      ##Returning the list of odd numbers\n",
        "\n",
        "##Driver code\n",
        "odd_numbers_list = odd_num()\n",
        "print(odd_numbers_list)"
      ],
      "metadata": {
        "colab": {
          "base_uri": "https://localhost:8080/"
        },
        "id": "fs8mQRY3vu7V",
        "outputId": "4ce62c27-f2d2-4d4c-cfe5-ff60961d988a"
      },
      "execution_count": null,
      "outputs": [
        {
          "output_type": "stream",
          "name": "stdout",
          "text": [
            "[1, 3, 5, 7, 9, 11, 13, 15, 17, 19]\n"
          ]
        }
      ]
    },
    {
      "cell_type": "markdown",
      "source": [
        "**15. Find the sum of all elements in a list.**"
      ],
      "metadata": {
        "id": "WynnzdA_7AI8"
      }
    },
    {
      "cell_type": "code",
      "source": [
        "def my_list():\n",
        "  list_01 = [1, 2, 3, 4, 5, 6, 7]        ##Taking a list of 1 to 7\n",
        "  sum_of_elements = 0                  ##Creating a variable 'sum_of_elements' & assigning 0 value to this variasble\n",
        "  for i in list_01:\n",
        "    sum_of_elements += i               ##Adding values of each element in the list one by one to the variable\n",
        "  return sum_of_elements              ##Returning the result of summation\n",
        "\n",
        "##Driver code\n",
        "result = my_list()\n",
        "print(result)"
      ],
      "metadata": {
        "colab": {
          "base_uri": "https://localhost:8080/"
        },
        "id": "qO4CdVnivu3E",
        "outputId": "6e105357-ee3c-4c1c-b484-8492e2f600ee"
      },
      "execution_count": null,
      "outputs": [
        {
          "output_type": "stream",
          "name": "stdout",
          "text": [
            "28\n"
          ]
        }
      ]
    },
    {
      "cell_type": "markdown",
      "source": [
        "**16. Find the maximum value in a list.**"
      ],
      "metadata": {
        "id": "MTU1KirU8CwK"
      }
    },
    {
      "cell_type": "code",
      "source": [
        "def my_list():\n",
        "  list_01 = [2, 5, 3, 12, 18, 7, 21, 13, 6]         ##Taking a list with random numbers\n",
        "  max_value = 0                                   ##Creating a variable & assigning 0 as value to this variable\n",
        "\n",
        "  for i in range(len(list_01)):\n",
        "    if list_01[i] > max_value:                      ##Checking if the value is greater than the max_value\n",
        "      max_value = list_01[i]\n",
        "\n",
        "  return max_value\n",
        "\n",
        "##Driver code\n",
        "result = my_list()\n",
        "print(result)"
      ],
      "metadata": {
        "colab": {
          "base_uri": "https://localhost:8080/"
        },
        "id": "dfMsHkpfvuzz",
        "outputId": "bf62a495-0150-4cfc-b982-e2648d49460b"
      },
      "execution_count": null,
      "outputs": [
        {
          "output_type": "stream",
          "name": "stdout",
          "text": [
            "21\n"
          ]
        }
      ]
    },
    {
      "cell_type": "markdown",
      "source": [
        "**17. Find the minimum value in a list.**"
      ],
      "metadata": {
        "id": "getiaS-NBFkW"
      }
    },
    {
      "cell_type": "code",
      "source": [
        "def my_list():\n",
        "  list_01 = [0, 5, 3, 1, 2, 18, 7, 21, 13, 6]        ##Taking a list with random numbers\n",
        "  min_value = list_01[0]                            ##Initialize min_value with the first element of the list\n",
        "\n",
        "  for value in list_01:                              ##Iterate through the list to find the minimum value\n",
        "    if value < min_value:\n",
        "      min_value = value\n",
        "\n",
        "  return min_value\n",
        "\n",
        "##Driver code\n",
        "result = my_list()\n",
        "print(result)"
      ],
      "metadata": {
        "colab": {
          "base_uri": "https://localhost:8080/"
        },
        "id": "ABr70cDtvuni",
        "outputId": "9fe5b753-4215-4b57-eb71-3e7be6d4e8c0"
      },
      "execution_count": null,
      "outputs": [
        {
          "output_type": "stream",
          "name": "stdout",
          "text": [
            "0\n"
          ]
        }
      ]
    },
    {
      "cell_type": "markdown",
      "source": [
        "**18. Create a list of squares of numbers from 1 to 10.**"
      ],
      "metadata": {
        "id": "talbDAbkEqt7"
      }
    },
    {
      "cell_type": "code",
      "source": [
        "def squares_list():\n",
        "    squares = []\n",
        "    for x in range(1, 11):            ## Iterate through numbers from 1 to 10\n",
        "        square = x ** 2\n",
        "        squares.append(square)      ## Return the list of squares\n",
        "    return squares\n",
        "\n",
        "# Driver code\n",
        "result = squares_list()\n",
        "print(result)"
      ],
      "metadata": {
        "colab": {
          "base_uri": "https://localhost:8080/"
        },
        "id": "xVwO_g13vujB",
        "outputId": "d3a9597d-0bd0-4a04-f3b5-80b3a1cee074"
      },
      "execution_count": null,
      "outputs": [
        {
          "output_type": "stream",
          "name": "stdout",
          "text": [
            "[1, 4, 9, 16, 25, 36, 49, 64, 81, 100]\n"
          ]
        }
      ]
    },
    {
      "cell_type": "markdown",
      "source": [
        "**19. Create a list of random numbers.**"
      ],
      "metadata": {
        "id": "NOJMnGtJLxis"
      }
    },
    {
      "cell_type": "code",
      "source": [
        "import random\n",
        "\n",
        "# Create a list of 10 random numbers between 0 and 100\n",
        "random_list = random.sample(range(0, 101), 10)\n",
        "\n",
        "# Print the list\n",
        "print(random_list)"
      ],
      "metadata": {
        "colab": {
          "base_uri": "https://localhost:8080/"
        },
        "id": "ZWkOf7c1HCL2",
        "outputId": "b81117c2-318a-4da0-b35e-d616bcf598af"
      },
      "execution_count": null,
      "outputs": [
        {
          "output_type": "stream",
          "name": "stdout",
          "text": [
            "[99, 94, 37, 20, 84, 34, 58, 83, 23, 49]\n"
          ]
        }
      ]
    },
    {
      "cell_type": "markdown",
      "source": [
        "**20. Remove duplicates from a list.**"
      ],
      "metadata": {
        "id": "bNdOfzY9HagT"
      }
    },
    {
      "cell_type": "code",
      "source": [
        "def remove_duplicates(original_list):\n",
        "    unique_list = []\n",
        "\n",
        "    for item in original_list:\n",
        "        if item not in unique_list:\n",
        "            unique_list.append(item)\n",
        "\n",
        "    return unique_list\n",
        "\n",
        "##Driver code\n",
        "original_list = [1, 2, 3, 3, 2, 4, 5, 1]\n",
        "result = remove_duplicates(original_list)\n",
        "print(result)\n"
      ],
      "metadata": {
        "id": "42rI1rC2O4h0",
        "colab": {
          "base_uri": "https://localhost:8080/"
        },
        "outputId": "3921fa11-2096-4f88-a2ed-1534a9709bd5"
      },
      "execution_count": null,
      "outputs": [
        {
          "output_type": "stream",
          "name": "stdout",
          "text": [
            "[1, 2, 3, 4, 5]\n"
          ]
        }
      ]
    },
    {
      "cell_type": "markdown",
      "source": [
        "**21. Find the common elements between two lists.**"
      ],
      "metadata": {
        "id": "xWu481DXKcJJ"
      }
    },
    {
      "cell_type": "code",
      "source": [
        "def common_elements(list_01, list_02):\n",
        "  elements = []\n",
        "  for item in list_01:\n",
        "    if item in list_02:\n",
        "      elements.append(item)\n",
        "  return elements\n",
        "\n",
        "##Driver code\n",
        "list_01 = [1, 2, 21, 5, 7, 24]\n",
        "list_02 = [2, 5, 7, 10, 18, 7, 3]\n",
        "result = common_elements(list_01, list_02)\n",
        "print(result)"
      ],
      "metadata": {
        "colab": {
          "base_uri": "https://localhost:8080/"
        },
        "id": "HHK16iOkKPYi",
        "outputId": "2c684e56-3901-4cac-f1db-03846b096306"
      },
      "execution_count": null,
      "outputs": [
        {
          "output_type": "stream",
          "name": "stdout",
          "text": [
            "[2, 5, 7]\n"
          ]
        }
      ]
    },
    {
      "cell_type": "markdown",
      "source": [
        "**22. Find the difference between two lists.**"
      ],
      "metadata": {
        "id": "2X4KaodjN8SC"
      }
    },
    {
      "cell_type": "code",
      "source": [
        "def difference_between_lists(list1, list2):\n",
        "    difference_list = []\n",
        "\n",
        "    ##Check elements in list1 not in list2\n",
        "    for item in list1:\n",
        "        if item not in list2:\n",
        "            difference_list.append(item)\n",
        "\n",
        "    ##Check elements in list2 not in list1\n",
        "    for item in list2:\n",
        "        if item not in list1:\n",
        "            difference_list.append(item)\n",
        "\n",
        "    return difference_list\n",
        "\n",
        "##Driver code\n",
        "list1 = [1, 2, 3, 4, 5]\n",
        "list2 = [3, 4, 5, 6, 7]\n",
        "\n",
        "result = difference_between_lists(list1, list2)\n",
        "print(result)"
      ],
      "metadata": {
        "colab": {
          "base_uri": "https://localhost:8080/"
        },
        "id": "zKAXBoY6N7-i",
        "outputId": "99e8b7b2-33f8-4869-903d-9350651b0066"
      },
      "execution_count": null,
      "outputs": [
        {
          "output_type": "stream",
          "name": "stdout",
          "text": [
            "[1, 2, 6, 7]\n"
          ]
        }
      ]
    },
    {
      "cell_type": "markdown",
      "source": [
        "**23. Merge two lists.**"
      ],
      "metadata": {
        "id": "b9hu-5-PPc_N"
      }
    },
    {
      "cell_type": "code",
      "source": [
        "def merge_lists(list1, list2):\n",
        "    merged_list = list1 + list2\n",
        "    return merged_list\n",
        "\n",
        "##Driver code\n",
        "list1 = [1, 2, 3, 4]\n",
        "list2 = [4, 5, 6]\n",
        "\n",
        "result = merge_lists(list1, list2)\n",
        "print(result)"
      ],
      "metadata": {
        "colab": {
          "base_uri": "https://localhost:8080/"
        },
        "id": "s2Be-LifN76p",
        "outputId": "85bb63d3-eb53-4ec4-a3cf-c66a0c07a9a6"
      },
      "execution_count": null,
      "outputs": [
        {
          "output_type": "stream",
          "name": "stdout",
          "text": [
            "[1, 2, 3, 4, 4, 5, 6]\n"
          ]
        }
      ]
    },
    {
      "cell_type": "markdown",
      "source": [
        "**24. Multiply all elements in a list by 2.**"
      ],
      "metadata": {
        "id": "GKNEICbRP89x"
      }
    },
    {
      "cell_type": "code",
      "source": [
        "def multiply_by_two(input_list):\n",
        "    multiplied_list = []\n",
        "\n",
        "    for element in input_list:\n",
        "        multiplied_list.append(element * 2)\n",
        "\n",
        "    return multiplied_list\n",
        "\n",
        "##Driver code\n",
        "original_list = [1, 2, 3, 4, 5]\n",
        "result = multiply_by_two(original_list)\n",
        "print(result)"
      ],
      "metadata": {
        "colab": {
          "base_uri": "https://localhost:8080/"
        },
        "id": "wh5n21ZvN71k",
        "outputId": "97412053-1047-468e-e09d-cfd84f1b1b73"
      },
      "execution_count": null,
      "outputs": [
        {
          "output_type": "stream",
          "name": "stdout",
          "text": [
            "[2, 4, 6, 8, 10]\n"
          ]
        }
      ]
    },
    {
      "cell_type": "markdown",
      "source": [
        "**25. Filter out all even numbers from a list.**"
      ],
      "metadata": {
        "id": "Fng_bJUwRsQC"
      }
    },
    {
      "cell_type": "code",
      "source": [
        "def even_num(original_list):\n",
        "  even_num_list = []\n",
        "  for i in original_list:\n",
        "    if i%2 == 0:\n",
        "      even_num_list.append(i)\n",
        "  return even_num_list\n",
        "\n",
        "##Driver code\n",
        "original_list = [1, 2, 3, 4, 5, 6, 7, 8, 9, 10]\n",
        "result = even_num(original_list)\n",
        "print(result)"
      ],
      "metadata": {
        "colab": {
          "base_uri": "https://localhost:8080/"
        },
        "id": "VjJMLpe3N7yx",
        "outputId": "82bc8b1f-cd2c-423f-8619-0d78cd0daa1a"
      },
      "execution_count": null,
      "outputs": [
        {
          "output_type": "stream",
          "name": "stdout",
          "text": [
            "[2, 4, 6, 8, 10]\n"
          ]
        }
      ]
    },
    {
      "cell_type": "markdown",
      "source": [
        "**26. Convert a list of strings to a list of integers.**"
      ],
      "metadata": {
        "id": "4AtChjSOUfss"
      }
    },
    {
      "cell_type": "code",
      "source": [
        "def convert_to_integers(string_list):\n",
        "    integer_list = []\n",
        "\n",
        "    for element in string_list:\n",
        "        integer_list.append(int(element))\n",
        "\n",
        "    return integer_list\n",
        "\n",
        "##Example usage\n",
        "string_list = ['1', '2', '3', '4', '5']\n",
        "result = convert_to_integers(string_list)\n",
        "print(result)"
      ],
      "metadata": {
        "colab": {
          "base_uri": "https://localhost:8080/"
        },
        "id": "d7K7fQDjN7us",
        "outputId": "b8c1701a-4101-4f24-c206-50780d1ae6e6"
      },
      "execution_count": null,
      "outputs": [
        {
          "output_type": "stream",
          "name": "stdout",
          "text": [
            "[1, 2, 3, 4, 5]\n"
          ]
        }
      ]
    },
    {
      "cell_type": "markdown",
      "source": [
        "**27. Convert a list of integers to a list of strings.**"
      ],
      "metadata": {
        "id": "qEtKxHFuVkZW"
      }
    },
    {
      "cell_type": "code",
      "source": [
        "def convert_to_strings(integer_list):\n",
        "    string_list = []\n",
        "\n",
        "    for element in integer_list:\n",
        "        string_list.append(str(element))\n",
        "\n",
        "    return string_list\n",
        "\n",
        "##Example usage\n",
        "integer_list = [1, 2, 3, 4, 5]\n",
        "result = convert_to_strings(integer_list)\n",
        "print(result)"
      ],
      "metadata": {
        "colab": {
          "base_uri": "https://localhost:8080/"
        },
        "id": "H8eLA6LFN7ri",
        "outputId": "42b8c7aa-d61d-4808-fc02-e56744d0d1a3"
      },
      "execution_count": null,
      "outputs": [
        {
          "output_type": "stream",
          "name": "stdout",
          "text": [
            "['1', '2', '3', '4', '5']\n"
          ]
        }
      ]
    },
    {
      "cell_type": "markdown",
      "source": [
        "**28. Flatten a nested list.**"
      ],
      "metadata": {
        "id": "BLUIBp39WO4B"
      }
    },
    {
      "cell_type": "code",
      "source": [
        "def flatten_nested_list(nested_list):\n",
        "    flat_list = []\n",
        "\n",
        "    for element in nested_list:\n",
        "        if isinstance(element, list):\n",
        "            flat_list.extend(flatten_nested_list(element))\n",
        "        else:\n",
        "            flat_list.append(element)\n",
        "\n",
        "    return flat_list\n",
        "\n",
        "##Example usage\n",
        "nested_list = [1, [2, [3, 4], 4, 5], 6, [7, 8]]\n",
        "result = flatten_nested_list(nested_list)\n",
        "print(result)"
      ],
      "metadata": {
        "id": "wyb5PTPwWOi-",
        "colab": {
          "base_uri": "https://localhost:8080/"
        },
        "outputId": "4f432f8b-26cb-4347-f784-bc2f45234fc9"
      },
      "execution_count": null,
      "outputs": [
        {
          "output_type": "stream",
          "name": "stdout",
          "text": [
            "[1, 2, 3, 4, 4, 5, 6, 7, 8]\n"
          ]
        }
      ]
    },
    {
      "cell_type": "markdown",
      "source": [
        "**29. Create a list of the first 10 Fibonacci numbers.**"
      ],
      "metadata": {
        "id": "yzK3kppym_na"
      }
    },
    {
      "cell_type": "code",
      "source": [
        "def generate_fibonacci(n):\n",
        "    fibonacci_list = [0, 1]  # Initialize with the first two Fibonacci numbers\n",
        "\n",
        "    while len(fibonacci_list) < n:\n",
        "        next_number = fibonacci_list[-1] + fibonacci_list[-2]\n",
        "        fibonacci_list.append(next_number)\n",
        "\n",
        "    return fibonacci_list[:n]\n",
        "\n",
        "##Example usage\n",
        "result = generate_fibonacci(10)\n",
        "print(result)"
      ],
      "metadata": {
        "id": "8qIqU452WOfU",
        "colab": {
          "base_uri": "https://localhost:8080/"
        },
        "outputId": "47fd29e2-f5bd-4fcf-bf58-da4661360cb2"
      },
      "execution_count": null,
      "outputs": [
        {
          "output_type": "stream",
          "name": "stdout",
          "text": [
            "[0, 1, 1, 2, 3, 5, 8, 13, 21, 34]\n"
          ]
        }
      ]
    },
    {
      "cell_type": "markdown",
      "source": [
        "**30. Check if a list is sorted.**"
      ],
      "metadata": {
        "id": "iqwWANpjoi0f"
      }
    },
    {
      "cell_type": "code",
      "source": [
        "def is_sorted(input_list):\n",
        "    for i in range(len(input_list) - 1):\n",
        "        if input_list[i] > input_list[i + 1]:\n",
        "            return False\n",
        "    return True\n",
        "\n",
        "##Example usage\n",
        "sorted_list = [1, 2, 3, 4, 5]\n",
        "unsorted_list = [3, 1, 4, 1, 5, 9, 2, 6]\n",
        "\n",
        "##Check if the lists are sorted\n",
        "print(is_sorted(sorted_list))\n",
        "print(is_sorted(unsorted_list))"
      ],
      "metadata": {
        "id": "XCIPA9U6WObx",
        "colab": {
          "base_uri": "https://localhost:8080/"
        },
        "outputId": "acba70fc-2faf-491e-f8b2-9134905d92df"
      },
      "execution_count": null,
      "outputs": [
        {
          "output_type": "stream",
          "name": "stdout",
          "text": [
            "True\n",
            "False\n"
          ]
        }
      ]
    },
    {
      "cell_type": "markdown",
      "source": [
        "**31. Rotate a list to the left by `n` positions.**"
      ],
      "metadata": {
        "id": "-oISwfGM_Jgg"
      }
    },
    {
      "cell_type": "code",
      "source": [
        "def rotate_left(input_list, n):\n",
        "    n = n % len(input_list)                               ##If n is larger than the length of the list\n",
        "    rotated_list = input_list[n:] + input_list[:n]\n",
        "    return rotated_list\n",
        "\n",
        "##Example usage\n",
        "original_list = [1, 2, 3, 4, 5]\n",
        "rotation_amount = 2\n",
        "\n",
        "result = rotate_left(original_list, rotation_amount)\n",
        "\n",
        "print(result)"
      ],
      "metadata": {
        "id": "kQc9HDpsWOXZ",
        "colab": {
          "base_uri": "https://localhost:8080/"
        },
        "outputId": "4f184e5f-673b-4b0a-c789-235455501848"
      },
      "execution_count": null,
      "outputs": [
        {
          "output_type": "stream",
          "name": "stdout",
          "text": [
            "[3, 4, 5, 1, 2]\n"
          ]
        }
      ]
    },
    {
      "cell_type": "markdown",
      "source": [
        "**32. Rotate a list to the right by `n` positions.**"
      ],
      "metadata": {
        "id": "f-0Ey4rCEB84"
      }
    },
    {
      "cell_type": "code",
      "source": [
        "def rotate_right(input_list, n):\n",
        "    n = n % len(input_list)                               ##If n is larger than the length of the list\n",
        "    rotated_list = input_list[-n:] + input_list[:-n]\n",
        "    return rotated_list\n",
        "\n",
        "##Example usage\n",
        "original_list = [1, 2, 3, 4, 5]\n",
        "rotation_amount = 2\n",
        "\n",
        "result = rotate_right(original_list, rotation_amount)\n",
        "print(result)"
      ],
      "metadata": {
        "id": "I_sRKrkrNiI-",
        "colab": {
          "base_uri": "https://localhost:8080/"
        },
        "outputId": "474bd421-d72a-4498-e83f-0264daa3205b"
      },
      "execution_count": null,
      "outputs": [
        {
          "output_type": "stream",
          "name": "stdout",
          "text": [
            "[4, 5, 1, 2, 3]\n"
          ]
        }
      ]
    },
    {
      "cell_type": "markdown",
      "source": [
        "**33. Create a list of prime numbers up to 50.**"
      ],
      "metadata": {
        "id": "prShnx4CEgUp"
      }
    },
    {
      "cell_type": "code",
      "source": [
        "def is_prime(num):\n",
        "    if num < 2:\n",
        "        return False\n",
        "    for i in range(2, int(num**0.5) + 1):\n",
        "        if num % i == 0:\n",
        "            return False\n",
        "    return True\n",
        "\n",
        "prime_numbers = []\n",
        "for num in range(2, 51):\n",
        "    if is_prime(num):\n",
        "        prime_numbers.append(num)\n",
        "\n",
        "print(prime_numbers)"
      ],
      "metadata": {
        "colab": {
          "base_uri": "https://localhost:8080/"
        },
        "id": "m7mEAMkYEgCa",
        "outputId": "4f60186e-3cbe-4f2e-9aaa-7825fc1ca546"
      },
      "execution_count": null,
      "outputs": [
        {
          "output_type": "stream",
          "name": "stdout",
          "text": [
            "[2, 3, 5, 7, 11, 13, 17, 19, 23, 29, 31, 37, 41, 43, 47]\n"
          ]
        }
      ]
    },
    {
      "cell_type": "markdown",
      "source": [
        "**34. Split a list into chunks of size `n`.**"
      ],
      "metadata": {
        "id": "axy4yDYuJTu8"
      }
    },
    {
      "cell_type": "code",
      "source": [
        "def split_into_chunks(input_list, n):\n",
        "    chunks = []\n",
        "    for i in range(0, len(input_list), n):\n",
        "        chunk = input_list[i:i + n]\n",
        "        chunks.append(chunk)\n",
        "    return chunks\n",
        "\n",
        "##Example usage\n",
        "original_list = [1, 2, 3, 4, 5, 6, 7, 8, 9, 10]\n",
        "chunk_size = 3\n",
        "\n",
        "##Generate chunks\n",
        "chunks = split_into_chunks(original_list, chunk_size)\n",
        "print(chunks)"
      ],
      "metadata": {
        "colab": {
          "base_uri": "https://localhost:8080/"
        },
        "id": "GyDxiJQsEf_F",
        "outputId": "0abda00a-f98f-4707-9b04-ea6806a2652f"
      },
      "execution_count": null,
      "outputs": [
        {
          "output_type": "stream",
          "name": "stdout",
          "text": [
            "[[1, 2, 3], [4, 5, 6], [7, 8, 9], [10]]\n"
          ]
        }
      ]
    },
    {
      "cell_type": "markdown",
      "source": [
        "**35. Find the second largest number in a list.**"
      ],
      "metadata": {
        "id": "KeHpFKuKOomc"
      }
    },
    {
      "cell_type": "code",
      "source": [
        "def nth_largest_number(input_list, n):\n",
        "    if len(input_list) < n:\n",
        "        return f\"List should have at least {n} elements\"\n",
        "\n",
        "    sorted_numbers = sorted(input_list, reverse=True)\n",
        "\n",
        "    nth_largest = sorted_numbers[n - 1]\n",
        "\n",
        "    return nth_largest\n",
        "\n",
        "##Example usage\n",
        "numbers = [4, 7, 1, 9, 3, 8, 5, 2]\n",
        "n_value = 2\n",
        "\n",
        "result = nth_largest_number(numbers, n_value)\n",
        "print(result)"
      ],
      "metadata": {
        "colab": {
          "base_uri": "https://localhost:8080/"
        },
        "id": "AW3Ry5rVEf8K",
        "outputId": "0e00c6bf-ecd8-4a12-aaf5-e52b9a1376ec"
      },
      "execution_count": null,
      "outputs": [
        {
          "output_type": "stream",
          "name": "stdout",
          "text": [
            "8\n"
          ]
        }
      ]
    },
    {
      "cell_type": "markdown",
      "source": [
        "**36. Replace every element in a list with its square.**"
      ],
      "metadata": {
        "id": "w9tulsA3VYrZ"
      }
    },
    {
      "cell_type": "code",
      "source": [
        "def square_elements(input_list):\n",
        "    squared_list = [x ** 2 for x in input_list]\n",
        "    return squared_list\n",
        "\n",
        "##Example usage\n",
        "original_list = [2, 5, 6, 7, 2.05]\n",
        "result = square_elements(original_list)\n",
        "print(result)"
      ],
      "metadata": {
        "id": "xGnCT7SwEf4T",
        "colab": {
          "base_uri": "https://localhost:8080/"
        },
        "outputId": "b45ac08d-0bd3-465e-c375-20dd18b70c83"
      },
      "execution_count": null,
      "outputs": [
        {
          "output_type": "stream",
          "name": "stdout",
          "text": [
            "[4, 25, 36, 49, 4.2025]\n"
          ]
        }
      ]
    },
    {
      "cell_type": "markdown",
      "source": [
        "**37. Convert a list to a dictionary where list elements become keys and their\n",
        "indices become values.**"
      ],
      "metadata": {
        "id": "zqfi4Sk8NmCV"
      }
    },
    {
      "cell_type": "code",
      "source": [
        "def list_to_dict(input_list):\n",
        "    result_dict = {}\n",
        "    for index in range(len(input_list)):\n",
        "        result_dict[input_list[index]] = index\n",
        "    return result_dict\n",
        "\n",
        "##Example usage\n",
        "original_list = ['apple', 'banana', 'orange', 'grape']\n",
        "\n",
        "result = list_to_dict(original_list)\n",
        "print(result)"
      ],
      "metadata": {
        "id": "gWnV05FxEf0b",
        "colab": {
          "base_uri": "https://localhost:8080/"
        },
        "outputId": "17865a2f-90bd-46f1-e615-132f858f34ba"
      },
      "execution_count": null,
      "outputs": [
        {
          "output_type": "stream",
          "name": "stdout",
          "text": [
            "{'apple': 0, 'banana': 1, 'orange': 2, 'grape': 3}\n"
          ]
        }
      ]
    },
    {
      "cell_type": "markdown",
      "source": [
        "**38. Shuffle the elements of a list randomly.**"
      ],
      "metadata": {
        "id": "RHOLwZc5SUxp"
      }
    },
    {
      "cell_type": "code",
      "source": [
        "import random\n",
        "\n",
        "def shuffle_list(input_list):\n",
        "    shuffled_list = input_list.copy()  # Create a copy to avoid modifying the original list\n",
        "    random.shuffle(shuffled_list)\n",
        "    return shuffled_list\n",
        "\n",
        "##Example usage\n",
        "original_list = [1, 2, 3, 4, 5]\n",
        "\n",
        "shuffled_result = shuffle_list(original_list)\n",
        "print(shuffled_result)"
      ],
      "metadata": {
        "colab": {
          "base_uri": "https://localhost:8080/"
        },
        "id": "QAofOJBRST2e",
        "outputId": "9ae66ddd-f007-46d6-9f5e-43c6e93b404a"
      },
      "execution_count": null,
      "outputs": [
        {
          "output_type": "stream",
          "name": "stdout",
          "text": [
            "[5, 2, 1, 3, 4]\n"
          ]
        }
      ]
    },
    {
      "cell_type": "markdown",
      "source": [
        "**39. Create a list of the first 10 factorial numbers.**"
      ],
      "metadata": {
        "id": "7rBDUB2tVy4M"
      }
    },
    {
      "cell_type": "code",
      "source": [
        "def factorial(n):\n",
        "    if n == 0 or n == 1:\n",
        "        return 1\n",
        "    else:\n",
        "        return n * factorial(n - 1)\n",
        "\n",
        "# Create a list of the first 10 factorial numbers\n",
        "factorial_list = [factorial(i) for i in range(10)]\n",
        "\n",
        "# Print the result\n",
        "print(factorial_list)\n"
      ],
      "metadata": {
        "colab": {
          "base_uri": "https://localhost:8080/"
        },
        "id": "i3TNLIUQSTzo",
        "outputId": "e6a8bb14-dada-4a89-c595-efd2776b7c3e"
      },
      "execution_count": null,
      "outputs": [
        {
          "output_type": "stream",
          "name": "stdout",
          "text": [
            "[1, 1, 2, 6, 24, 120, 720, 5040, 40320, 362880]\n"
          ]
        }
      ]
    },
    {
      "cell_type": "markdown",
      "source": [
        "**40. Check if two lists have at least one element in common.**"
      ],
      "metadata": {
        "id": "EYih-T1qXSDq"
      }
    },
    {
      "cell_type": "code",
      "source": [
        "def common_elements(list1, list2):\n",
        "    return any(element in list1 for element in list2)\n",
        "\n",
        "# Example usage\n",
        "list_a = [1, 2, 3, 4, 5]\n",
        "list_b = [4, 5, 6, 7, 8, 9]\n",
        "\n",
        "result = common_elements(list_a, list_b)\n",
        "\n",
        "# Print the result\n",
        "if result:\n",
        "    print(\"The lists have at least one common element.\")\n",
        "else:\n",
        "    print(\"The lists do not have any common elements.\")\n"
      ],
      "metadata": {
        "colab": {
          "base_uri": "https://localhost:8080/"
        },
        "id": "jyJjlELTSTuQ",
        "outputId": "6f85c5d6-4421-42d9-c953-35e8426f804b"
      },
      "execution_count": null,
      "outputs": [
        {
          "output_type": "stream",
          "name": "stdout",
          "text": [
            "The lists have at least one common element.\n"
          ]
        }
      ]
    },
    {
      "cell_type": "markdown",
      "source": [
        "**41. Remove all elements from a list.**"
      ],
      "metadata": {
        "id": "HQtNc6ueXpy7"
      }
    },
    {
      "cell_type": "code",
      "source": [
        "def remove_all_elements(input_list):\n",
        "    input_list.clear()\n",
        "\n",
        "##Example usage\n",
        "original_list = [1, 2, 3, 4, 5]\n",
        "\n",
        "remove_all_elements(original_list)\n",
        "print(original_list)"
      ],
      "metadata": {
        "colab": {
          "base_uri": "https://localhost:8080/"
        },
        "id": "JqIZwRXBSTqz",
        "outputId": "27efc2a2-a03a-4c96-d996-867afce8cd98"
      },
      "execution_count": null,
      "outputs": [
        {
          "output_type": "stream",
          "name": "stdout",
          "text": [
            "[]\n"
          ]
        }
      ]
    },
    {
      "cell_type": "markdown",
      "source": [
        "**42. Replace negative numbers in a list with 0.**"
      ],
      "metadata": {
        "id": "KW5NB_CsYmjp"
      }
    },
    {
      "cell_type": "code",
      "source": [
        "def replace_num(input_list):\n",
        "    for i in range(len(input_list)):\n",
        "        if input_list[i] < 0:\n",
        "            input_list[i] = 0\n",
        "    return input_list\n",
        "\n",
        "##Example usage\n",
        "original_list = [1, -2, 3, -4, 5, -6]\n",
        "\n",
        "result = replace_num(original_list)\n",
        "print(result)"
      ],
      "metadata": {
        "id": "OymtOARKEfw1",
        "colab": {
          "base_uri": "https://localhost:8080/"
        },
        "outputId": "2ef03d72-cbce-4e77-94bd-e5ef9e13fe24"
      },
      "execution_count": null,
      "outputs": [
        {
          "output_type": "stream",
          "name": "stdout",
          "text": [
            "[1, 0, 3, 0, 5, 0]\n"
          ]
        }
      ]
    },
    {
      "cell_type": "markdown",
      "source": [
        "**43. Convert a string into a list of words.**"
      ],
      "metadata": {
        "id": "tP5K81eMZ2b8"
      }
    },
    {
      "cell_type": "code",
      "source": [
        "def string_to_word_list(input_string):\n",
        "    word_list = input_string.split()\n",
        "    return word_list\n",
        "\n",
        "##Example usage\n",
        "sentence = \"Hello, this is a sample sentence.\"\n",
        "\n",
        "result = string_to_word_list(sentence)\n",
        "print(result)"
      ],
      "metadata": {
        "id": "J3WHmod4EW0y",
        "colab": {
          "base_uri": "https://localhost:8080/"
        },
        "outputId": "a8279f86-766b-411e-f362-e9d9f130e85a"
      },
      "execution_count": null,
      "outputs": [
        {
          "output_type": "stream",
          "name": "stdout",
          "text": [
            "['Hello,', 'this', 'is', 'a', 'sample', 'sentence.']\n"
          ]
        }
      ]
    },
    {
      "cell_type": "markdown",
      "source": [
        "**44. Convert a list of words into a string.**"
      ],
      "metadata": {
        "id": "bUrLM7z0aE0d"
      }
    },
    {
      "cell_type": "code",
      "source": [
        "def word_list_to_string(word_list):\n",
        "    string_result = ' '.join(word_list)\n",
        "    return string_result\n",
        "\n",
        "##Example usage\n",
        "words = ['Hello,', 'this', 'is', 'a', 'sample', 'sentence.']\n",
        "\n",
        "result = word_list_to_string(words)\n",
        "print(result)"
      ],
      "metadata": {
        "colab": {
          "base_uri": "https://localhost:8080/"
        },
        "id": "xK07-eM9aDJ7",
        "outputId": "4fa97a38-de88-4013-c7a6-ed02cf810661"
      },
      "execution_count": null,
      "outputs": [
        {
          "output_type": "stream",
          "name": "stdout",
          "text": [
            "Hello, this is a sample sentence.\n"
          ]
        }
      ]
    },
    {
      "cell_type": "markdown",
      "source": [
        "**45. Create a list of the first `n` powers of 2.**"
      ],
      "metadata": {
        "id": "tA5HYGduaRj8"
      }
    },
    {
      "cell_type": "code",
      "source": [
        "def powers_of_2(n):\n",
        "    return [2 ** i for i in range(n)]\n",
        "\n",
        "##Example usage\n",
        "n = 5  ##Number of powers of 2\n",
        "\n",
        "result = powers_of_2(n)\n",
        "print(result)"
      ],
      "metadata": {
        "id": "0j7yf2tXaPsM",
        "colab": {
          "base_uri": "https://localhost:8080/"
        },
        "outputId": "24abee2b-2ffd-439f-e456-ffc0a5aa389e"
      },
      "execution_count": null,
      "outputs": [
        {
          "output_type": "stream",
          "name": "stdout",
          "text": [
            "[1, 2, 4, 8, 16]\n"
          ]
        }
      ]
    },
    {
      "cell_type": "markdown",
      "source": [
        "**46. Find the longest string in a list of strings.**"
      ],
      "metadata": {
        "id": "SBxEjKlgZkrE"
      }
    },
    {
      "cell_type": "code",
      "source": [
        "def longest_string(strings):\n",
        "    max_length = 0\n",
        "    longest = \"\"\n",
        "    for i in strings:\n",
        "        if len(i) > max_length:\n",
        "            max_length = len(i)\n",
        "            longest = i\n",
        "    return longest\n",
        "\n",
        "\n",
        "##Example usage\n",
        "string_list = ['coconut', 'pistachio', 'music', 'python']\n",
        "\n",
        "longest = longest_string(string_list)\n",
        "print(\"The longest string is:\", longest)"
      ],
      "metadata": {
        "colab": {
          "base_uri": "https://localhost:8080/"
        },
        "id": "jcKQqfl8Zd1Y",
        "outputId": "fb05236e-5a1a-4280-8c77-9de0cb007c36"
      },
      "execution_count": null,
      "outputs": [
        {
          "output_type": "stream",
          "name": "stdout",
          "text": [
            "The longest string is: pistachio\n"
          ]
        }
      ]
    },
    {
      "cell_type": "markdown",
      "source": [
        "**47. Find the shortest string in a list of strings.**"
      ],
      "metadata": {
        "id": "kckUnLWlctab"
      }
    },
    {
      "cell_type": "code",
      "source": [
        "def shortest_string(strings):\n",
        "    min_length = float('inf')\n",
        "    shortest = \"\"\n",
        "    for i in strings:\n",
        "        if len(i) < min_length:\n",
        "            min_length = len(i)\n",
        "            shortest = i\n",
        "    return shortest\n",
        "\n",
        "##Example usage\n",
        "string_list = ['coconut', 'pistachio', 'music', 'python', 'r']\n",
        "\n",
        "shortest_str = shortest_string(string_list)\n",
        "print(\"The longest string is:\", shortest_str)"
      ],
      "metadata": {
        "colab": {
          "base_uri": "https://localhost:8080/"
        },
        "id": "COkGSFWccxYj",
        "outputId": "d9672bdf-d24c-4931-dd4f-46f8a4b67ec1"
      },
      "execution_count": null,
      "outputs": [
        {
          "output_type": "stream",
          "name": "stdout",
          "text": [
            "The longest string is: r\n"
          ]
        }
      ]
    },
    {
      "cell_type": "markdown",
      "source": [
        "**48. Create a list of the first `n` triangular numbers.**"
      ],
      "metadata": {
        "id": "xvTFInEEhMbp"
      }
    },
    {
      "cell_type": "code",
      "source": [
        "def triangular_numbers(n):\n",
        "    return [(i * (i + 1)) // 2 for i in range(1, n + 1)]\n",
        "\n",
        "##Example usage\n",
        "n = 10  # Number of triangular numbers\n",
        "\n",
        "result = triangular_numbers(n)\n",
        "print(result)"
      ],
      "metadata": {
        "colab": {
          "base_uri": "https://localhost:8080/"
        },
        "id": "VinOPEJkcxWQ",
        "outputId": "c7340f20-739f-4163-db65-630bcb9184df"
      },
      "execution_count": null,
      "outputs": [
        {
          "output_type": "stream",
          "name": "stdout",
          "text": [
            "[1, 3, 6, 10, 15, 21, 28, 36, 45, 55]\n"
          ]
        }
      ]
    },
    {
      "cell_type": "markdown",
      "source": [
        "**49. Check if a list contains another list as a subsequence.**"
      ],
      "metadata": {
        "id": "OoJWkEEdjjp2"
      }
    },
    {
      "cell_type": "code",
      "source": [
        "def is_subsequence(main_list, subsequence):\n",
        "    # Initialize indices for both lists\n",
        "    main_index = 0\n",
        "    sub_index = 0\n",
        "\n",
        "    # Iterate through the main list\n",
        "    while main_index < len(main_list) and sub_index < len(subsequence):\n",
        "        # If the current element matches, move to the next element in the subsequence\n",
        "        if main_list[main_index] == subsequence[sub_index]:\n",
        "            sub_index += 1\n",
        "        # Move to the next element in the main list\n",
        "        main_index += 1\n",
        "\n",
        "    # If all elements of the subsequence have been found, it's a subsequence\n",
        "    return sub_index == len(subsequence)\n",
        "\n",
        "# Example usage\n",
        "main_list = [1, 2, 3, 4, 5, 6, 7, 8]\n",
        "subsequence = [2, 4, 6]\n",
        "\n",
        "result = is_subsequence(main_list, subsequence)\n",
        "\n",
        "# Print the result\n",
        "if result:\n",
        "    print(\"The subsequence is present in the main list.\")\n",
        "else:\n",
        "    print(\"The subsequence is not present in the main list.\")\n"
      ],
      "metadata": {
        "colab": {
          "base_uri": "https://localhost:8080/"
        },
        "id": "GN9HgrEgcxTW",
        "outputId": "81bb9adc-6c53-479b-a6a1-038912300445"
      },
      "execution_count": null,
      "outputs": [
        {
          "output_type": "stream",
          "name": "stdout",
          "text": [
            "The subsequence is present in the main list.\n"
          ]
        }
      ]
    },
    {
      "cell_type": "markdown",
      "source": [
        "**50. Swap two elements in a list by their indices.**"
      ],
      "metadata": {
        "id": "cfRi7Cpqj6yA"
      }
    },
    {
      "cell_type": "code",
      "source": [
        "def swap_elements(input_list, index1, index2):\n",
        "    # Check if indices are within the bounds of the list\n",
        "    if 0 <= index1 < len(input_list) and 0 <= index2 < len(input_list):\n",
        "        # Swap the elements\n",
        "        input_list[index1], input_list[index2] = input_list[index2], input_list[index1]\n",
        "    else:\n",
        "        print(\"Indices are out of bounds.\")\n",
        "\n",
        "# Example usage\n",
        "my_list = [1, 2, 3, 4, 5]\n",
        "print(\"Original list:\", my_list)\n",
        "\n",
        "# Swap elements at indices 1 and 3\n",
        "swap_elements(my_list, 1, 3)\n",
        "print(\"After swapping:\", my_list)"
      ],
      "metadata": {
        "colab": {
          "base_uri": "https://localhost:8080/"
        },
        "id": "qwu9mBVscxQ0",
        "outputId": "4b5a931a-46b6-463d-f683-73a2bbfa9d21"
      },
      "execution_count": null,
      "outputs": [
        {
          "output_type": "stream",
          "name": "stdout",
          "text": [
            "Original list: [1, 2, 3, 4, 5]\n",
            "After swapping: [1, 4, 3, 2, 5]\n"
          ]
        }
      ]
    },
    {
      "cell_type": "markdown",
      "source": [
        "## Tuple Based Practice Problem"
      ],
      "metadata": {
        "id": "2vWx5Bd2uPTX"
      }
    },
    {
      "cell_type": "markdown",
      "source": [
        "**1. Create a tuple with integers from 1 to 5.**"
      ],
      "metadata": {
        "id": "YxxSXJGPuYAe"
      }
    },
    {
      "cell_type": "code",
      "source": [
        "my_tuple = tuple(range(1, 6))\n",
        "print(my_tuple)"
      ],
      "metadata": {
        "id": "Xe72uK77cxNZ",
        "colab": {
          "base_uri": "https://localhost:8080/"
        },
        "outputId": "f2e878f0-4a6b-45ec-c349-30b72056b808"
      },
      "execution_count": null,
      "outputs": [
        {
          "output_type": "stream",
          "name": "stdout",
          "text": [
            "(1, 2, 3, 4, 5)\n"
          ]
        }
      ]
    },
    {
      "cell_type": "markdown",
      "source": [
        "**2. Access the third element of a tuple.**"
      ],
      "metadata": {
        "id": "3-i6eayhuzPF"
      }
    },
    {
      "cell_type": "code",
      "source": [
        "my_tuple = (1, 2, 3, 4, 5)\n",
        "third_element = my_tuple[2]\n",
        "print(third_element)"
      ],
      "metadata": {
        "id": "8l3xBbqlce4Y",
        "colab": {
          "base_uri": "https://localhost:8080/"
        },
        "outputId": "091012d1-18ee-42f0-fb06-c1f1a7f15a7e"
      },
      "execution_count": null,
      "outputs": [
        {
          "output_type": "stream",
          "name": "stdout",
          "text": [
            "3\n"
          ]
        }
      ]
    },
    {
      "cell_type": "markdown",
      "source": [
        "**3. Find the length of a tuple without using the `len()` function.**"
      ],
      "metadata": {
        "id": "Oui6RZ3KxxyZ"
      }
    },
    {
      "cell_type": "code",
      "source": [
        "def tuple_length(my_tuple):\n",
        "    count = 0\n",
        "    for i in my_tuple:\n",
        "        count += 1\n",
        "    return count\n",
        "\n",
        "# Example usage\n",
        "my_tuple = (1, 2, 3, 4, 5)\n",
        "length = tuple_length(my_tuple)\n",
        "print(\"Length of the tuple:\", length)\n"
      ],
      "metadata": {
        "colab": {
          "base_uri": "https://localhost:8080/"
        },
        "id": "dAMCFwqSxqbn",
        "outputId": "6bb3837b-1521-42d4-bfd6-fe2819a48f0d"
      },
      "execution_count": null,
      "outputs": [
        {
          "output_type": "stream",
          "name": "stdout",
          "text": [
            "Length of the tuple: 5\n"
          ]
        }
      ]
    },
    {
      "cell_type": "markdown",
      "source": [
        "**4. Count the occurrences of an element in a tuple.**"
      ],
      "metadata": {
        "id": "IdQvFC6jywcK"
      }
    },
    {
      "cell_type": "code",
      "source": [
        "def count_occurrences(my_tuple, element):\n",
        "    count = 0\n",
        "    for item in my_tuple:\n",
        "        if item == element:\n",
        "            count += 1\n",
        "    return count\n",
        "\n",
        "# Example usage\n",
        "my_tuple = (1, 2, 2, 3, 4, 2, 5)\n",
        "element = 2\n",
        "occurrences = count_occurrences(my_tuple, element)\n",
        "print(\"Occurrences of\", element, \"in the tuple:\", occurrences)"
      ],
      "metadata": {
        "colab": {
          "base_uri": "https://localhost:8080/"
        },
        "id": "M7BqyS9EyQwf",
        "outputId": "5a7f1405-a081-4aaf-ae54-4a34bc1c1ef5"
      },
      "execution_count": null,
      "outputs": [
        {
          "output_type": "stream",
          "name": "stdout",
          "text": [
            "Occurrences of 2 in the tuple: 3\n"
          ]
        }
      ]
    },
    {
      "cell_type": "markdown",
      "source": [
        "**5. Find the index of the first occurrence of an element in a tuple.**"
      ],
      "metadata": {
        "id": "5WvlC2DdzGCN"
      }
    },
    {
      "cell_type": "code",
      "source": [
        "def first_occurrence_index(my_tuple, element):\n",
        "    try:\n",
        "        index_element = my_tuple.index(element)\n",
        "        return index_element\n",
        "    except ValueError:\n",
        "        return -1  # Element not found in the tuple\n",
        "\n",
        "# Example usage\n",
        "my_tuple = (1, 2, 3, 4, 5, 2, 6)\n",
        "element = 2\n",
        "index = first_occurrence_index(my_tuple, element)\n",
        "if index != -1:\n",
        "    print(\"Index of the first occurrence of\", element, \"in the tuple:\", index)\n",
        "else:\n",
        "    print(\"Element not found in the tuple.\")\n"
      ],
      "metadata": {
        "colab": {
          "base_uri": "https://localhost:8080/"
        },
        "id": "TkZSDOHUzDdP",
        "outputId": "744375e5-be59-4b84-d767-d5bfdb01dd3f"
      },
      "execution_count": null,
      "outputs": [
        {
          "output_type": "stream",
          "name": "stdout",
          "text": [
            "Index of the first occurrence of 2 in the tuple: 1\n"
          ]
        }
      ]
    },
    {
      "cell_type": "markdown",
      "source": [
        "**6. Check if an element exists in a tuple.**"
      ],
      "metadata": {
        "id": "YH-zeE3mzzEF"
      }
    },
    {
      "cell_type": "code",
      "source": [
        "def element_exists(my_tuple, element):\n",
        "    return element in my_tuple\n",
        "\n",
        "# Example usage\n",
        "my_tuple = (1, 2, 3, 4, 5)\n",
        "element = 7\n",
        "if element_exists(my_tuple, element):\n",
        "    print(element, \"exists in the tuple.\")\n",
        "else:\n",
        "    print(element, \"does not exist in the tuple.\")\n"
      ],
      "metadata": {
        "colab": {
          "base_uri": "https://localhost:8080/"
        },
        "id": "1vl8dCkbzDaN",
        "outputId": "7fb85c36-821d-45d2-e37d-82872723d1f3"
      },
      "execution_count": null,
      "outputs": [
        {
          "output_type": "stream",
          "name": "stdout",
          "text": [
            "7 does not exist in the tuple.\n"
          ]
        }
      ]
    },
    {
      "cell_type": "markdown",
      "source": [
        "**7. Convert a tuple to a list.**"
      ],
      "metadata": {
        "id": "AjzOyUtE2Jye"
      }
    },
    {
      "cell_type": "code",
      "source": [
        "my_tuple = (1, 2, 3, 4, 5)\n",
        "my_list = list(my_tuple)\n",
        "print(\"Tuple:\", my_tuple)\n",
        "print(\"List:\", my_list)"
      ],
      "metadata": {
        "colab": {
          "base_uri": "https://localhost:8080/"
        },
        "id": "mWznkxWqzDWZ",
        "outputId": "b7e928c4-35b7-4467-f371-d9b1899e53b4"
      },
      "execution_count": null,
      "outputs": [
        {
          "output_type": "stream",
          "name": "stdout",
          "text": [
            "Tuple: (1, 2, 3, 4, 5)\n",
            "List: [1, 2, 3, 4, 5]\n"
          ]
        }
      ]
    },
    {
      "cell_type": "markdown",
      "source": [
        "**8. Convert a list to a tuple.**"
      ],
      "metadata": {
        "id": "N5p0Y3-X2V2J"
      }
    },
    {
      "cell_type": "code",
      "source": [
        "my_list = [1, 2, 3, 4, 5]\n",
        "my_tuple = tuple(my_list)\n",
        "print(\"List:\", my_list)\n",
        "print(\"Tuple:\", my_tuple)"
      ],
      "metadata": {
        "colab": {
          "base_uri": "https://localhost:8080/"
        },
        "id": "KIjCc3gdzDSO",
        "outputId": "0b29929c-b130-4a76-acc6-65cd1d3aff81"
      },
      "execution_count": null,
      "outputs": [
        {
          "output_type": "stream",
          "name": "stdout",
          "text": [
            "List: [1, 2, 3, 4, 5]\n",
            "Tuple: (1, 2, 3, 4, 5)\n"
          ]
        }
      ]
    },
    {
      "cell_type": "markdown",
      "source": [
        "**9. Unpack the elements of a tuple into variables.**"
      ],
      "metadata": {
        "id": "fxmo_xum2gyq"
      }
    },
    {
      "cell_type": "code",
      "source": [
        "my_tuple = (1, 2, 3, 4, 5)\n",
        "first, *middle, last = my_tuple\n",
        "\n",
        "print(\"First:\", first)\n",
        "print(\"Middle:\", middle)\n",
        "print(\"Last:\", last)"
      ],
      "metadata": {
        "colab": {
          "base_uri": "https://localhost:8080/"
        },
        "id": "6I2FXputzDOV",
        "outputId": "22dc0963-3f0f-495a-9f12-f72fc62acb64"
      },
      "execution_count": null,
      "outputs": [
        {
          "output_type": "stream",
          "name": "stdout",
          "text": [
            "First: 1\n",
            "Middle: [2, 3, 4]\n",
            "Last: 5\n"
          ]
        }
      ]
    },
    {
      "cell_type": "markdown",
      "source": [
        "**10. Create a tuple of even numbers from 1 to 10.**"
      ],
      "metadata": {
        "id": "hFf1RRoF3fSq"
      }
    },
    {
      "cell_type": "code",
      "source": [
        "even_numbers = tuple(num for num in range(2, 11, 2))\n",
        "print(even_numbers)"
      ],
      "metadata": {
        "colab": {
          "base_uri": "https://localhost:8080/"
        },
        "id": "8-bG4Gw9zDLL",
        "outputId": "cf9fb8e7-269d-4df0-e501-1e11c41511e3"
      },
      "execution_count": null,
      "outputs": [
        {
          "output_type": "stream",
          "name": "stdout",
          "text": [
            "(2, 4, 6, 8, 10)\n"
          ]
        }
      ]
    },
    {
      "cell_type": "markdown",
      "source": [
        "**11. Create a tuple of odd numbers from 1 to 10.**"
      ],
      "metadata": {
        "id": "utKWae_z4Bu-"
      }
    },
    {
      "cell_type": "code",
      "source": [
        "odd_numbers = tuple(num for num in range(1, 11, 2))\n",
        "print(odd_numbers)"
      ],
      "metadata": {
        "colab": {
          "base_uri": "https://localhost:8080/"
        },
        "id": "HGP4fKspzC-V",
        "outputId": "1910dc9c-add4-4181-9d3f-01a2596dc13f"
      },
      "execution_count": null,
      "outputs": [
        {
          "output_type": "stream",
          "name": "stdout",
          "text": [
            "(1, 3, 5, 7, 9)\n"
          ]
        }
      ]
    },
    {
      "cell_type": "markdown",
      "source": [
        "**12. Concatenate two tuples.**"
      ],
      "metadata": {
        "id": "WeoECP6S4er8"
      }
    },
    {
      "cell_type": "code",
      "source": [
        "tuple1 = (1, 2, 3)\n",
        "tuple2 = (4, 5, 6)\n",
        "concatenated_tuple = tuple1 + tuple2\n",
        "print(concatenated_tuple)"
      ],
      "metadata": {
        "colab": {
          "base_uri": "https://localhost:8080/"
        },
        "id": "aATfNIcHzC7H",
        "outputId": "940128f4-f596-4fda-cdc4-00f5e6012cb5"
      },
      "execution_count": null,
      "outputs": [
        {
          "output_type": "stream",
          "name": "stdout",
          "text": [
            "(1, 2, 3, 4, 5, 6)\n"
          ]
        }
      ]
    },
    {
      "cell_type": "markdown",
      "source": [
        "**13. Repeat a tuple three times.**"
      ],
      "metadata": {
        "id": "MBEAWqaO5AYP"
      }
    },
    {
      "cell_type": "code",
      "source": [
        "original_tuple = (1, 2, 3)\n",
        "repeated_tuple = original_tuple * 3\n",
        "print(repeated_tuple)"
      ],
      "metadata": {
        "colab": {
          "base_uri": "https://localhost:8080/"
        },
        "id": "XCKKd0Ox5ALu",
        "outputId": "d7038443-813a-48a7-fd1c-79c48b6635a5"
      },
      "execution_count": null,
      "outputs": [
        {
          "output_type": "stream",
          "name": "stdout",
          "text": [
            "(1, 2, 3, 1, 2, 3, 1, 2, 3)\n"
          ]
        }
      ]
    },
    {
      "cell_type": "markdown",
      "source": [
        "**14. Check if a tuple is empty.**"
      ],
      "metadata": {
        "id": "vC3fb88q5U-0"
      }
    },
    {
      "cell_type": "code",
      "source": [
        "my_tuple = ()  # An empty tuple\n",
        "if len(my_tuple) == 0:\n",
        "    print(\"The tuple is empty.\")\n",
        "else:\n",
        "    print(\"The tuple is not empty.\")"
      ],
      "metadata": {
        "colab": {
          "base_uri": "https://localhost:8080/"
        },
        "id": "u_IrUbtk5AHc",
        "outputId": "1b196bb3-473b-4291-d9b1-4b7a10547f56"
      },
      "execution_count": null,
      "outputs": [
        {
          "output_type": "stream",
          "name": "stdout",
          "text": [
            "The tuple is empty.\n"
          ]
        }
      ]
    },
    {
      "cell_type": "markdown",
      "source": [
        "**15. Create a nested tuple.**"
      ],
      "metadata": {
        "id": "1nm1Fzuw6VHS"
      }
    },
    {
      "cell_type": "code",
      "source": [
        "nested_tuple = ((1, 2), (3, 4), (5, 6))\n",
        "print(nested_tuple)"
      ],
      "metadata": {
        "colab": {
          "base_uri": "https://localhost:8080/"
        },
        "id": "zHa0hV7P5ABW",
        "outputId": "29c109f6-618c-491f-e5c9-8ebb7d73f616"
      },
      "execution_count": null,
      "outputs": [
        {
          "output_type": "stream",
          "name": "stdout",
          "text": [
            "((1, 2), (3, 4), (5, 6))\n"
          ]
        }
      ]
    },
    {
      "cell_type": "markdown",
      "source": [
        "**16. Access the first element of a nested tuple.**"
      ],
      "metadata": {
        "id": "Yzv-_bDG6jC1"
      }
    },
    {
      "cell_type": "code",
      "source": [
        "nested_tuple = ((1, 2), (3, 4), (5, 6))\n",
        "first_element = nested_tuple[0][0]\n",
        "print(\"First element of the nested tuple:\", first_element)"
      ],
      "metadata": {
        "colab": {
          "base_uri": "https://localhost:8080/"
        },
        "id": "9jEiV6vX4_96",
        "outputId": "320a82d7-81de-490d-ce86-095c5aa1b51b"
      },
      "execution_count": null,
      "outputs": [
        {
          "output_type": "stream",
          "name": "stdout",
          "text": [
            "First element of the nested tuple: 1\n"
          ]
        }
      ]
    },
    {
      "cell_type": "markdown",
      "source": [
        "**17. Create a tuple with a single element.**"
      ],
      "metadata": {
        "id": "_Ds6ubxz7GaF"
      }
    },
    {
      "cell_type": "code",
      "source": [
        "single_element_tuple = (1,)\n",
        "print(single_element_tuple)"
      ],
      "metadata": {
        "colab": {
          "base_uri": "https://localhost:8080/"
        },
        "id": "fAPm1zRa7GM7",
        "outputId": "c940c49d-7318-4393-afb4-acaa1fe3e45c"
      },
      "execution_count": null,
      "outputs": [
        {
          "output_type": "stream",
          "name": "stdout",
          "text": [
            "(1,)\n"
          ]
        }
      ]
    },
    {
      "cell_type": "markdown",
      "source": [
        "**18. Compare two tuples.**"
      ],
      "metadata": {
        "id": "OTSRcnM17SzD"
      }
    },
    {
      "cell_type": "code",
      "source": [
        "tuple1 = (1, 2, 3)\n",
        "tuple2 = (1, 2, 4)\n",
        "\n",
        "##Check if the tuples are equal\n",
        "if tuple1 == tuple2:\n",
        "    print(\"Tuples are equal\")\n",
        "else:\n",
        "    print(\"Tuples are not equal\")\n",
        "\n",
        "##Check if tuple1 is greater than tuple2\n",
        "if tuple1 > tuple2:\n",
        "    print(\"Tuple1 is greater than tuple2\")\n",
        "else:\n",
        "    print(\"Tuple1 is not greater than tuple2\")"
      ],
      "metadata": {
        "colab": {
          "base_uri": "https://localhost:8080/"
        },
        "id": "fZdeQ4UH7GKQ",
        "outputId": "f727b491-2b4e-47c3-a701-34ae5f5efdc4"
      },
      "execution_count": null,
      "outputs": [
        {
          "output_type": "stream",
          "name": "stdout",
          "text": [
            "Tuples are not equal\n",
            "Tuple1 is not greater than tuple2\n"
          ]
        }
      ]
    },
    {
      "cell_type": "markdown",
      "source": [
        "**19. Delete a tuple.**"
      ],
      "metadata": {
        "id": "SiRNx8cg7mGb"
      }
    },
    {
      "cell_type": "code",
      "source": [
        "my_tuple = (1, 2, 3)\n",
        "print(\"Original tuple:\", my_tuple)\n",
        "\n",
        "# Delete the tuple\n",
        "del my_tuple\n",
        "\n",
        "# Try to access the tuple after deletion\n",
        "try:\n",
        "    print(\"After deletion:\", my_tuple)\n",
        "except NameError:\n",
        "    print(\"Tuple is deleted\")"
      ],
      "metadata": {
        "colab": {
          "base_uri": "https://localhost:8080/"
        },
        "id": "Duq9FI8q7GGz",
        "outputId": "5d2374c4-4c17-47bf-d21e-892531fb5687"
      },
      "execution_count": null,
      "outputs": [
        {
          "output_type": "stream",
          "name": "stdout",
          "text": [
            "Original tuple: (1, 2, 3)\n",
            "Tuple is deleted\n"
          ]
        }
      ]
    },
    {
      "cell_type": "markdown",
      "source": [
        "**20. Slice a tuple.**"
      ],
      "metadata": {
        "id": "5tTSMS0979Vr"
      }
    },
    {
      "cell_type": "code",
      "source": [
        "my_tuple = (1, 2, 3, 4, 5)\n",
        "\n",
        "# Slice the tuple from index 1 to index 3 (exclusive)\n",
        "slice_result = my_tuple[1:3]\n",
        "\n",
        "print(\"Original tuple:\", my_tuple)\n",
        "print(\"Slice result:\", slice_result)"
      ],
      "metadata": {
        "colab": {
          "base_uri": "https://localhost:8080/"
        },
        "id": "pmxv0Yyy7GBK",
        "outputId": "6f0842f6-7acd-4280-e87a-4bc11eb51d0f"
      },
      "execution_count": null,
      "outputs": [
        {
          "output_type": "stream",
          "name": "stdout",
          "text": [
            "Original tuple: (1, 2, 3, 4, 5)\n",
            "Slice result: (2, 3)\n"
          ]
        }
      ]
    },
    {
      "cell_type": "markdown",
      "source": [
        "**21. Find the maximum value in a tuple.**"
      ],
      "metadata": {
        "id": "0hDmWiWz8GQ3"
      }
    },
    {
      "cell_type": "code",
      "source": [
        "my_tuple = (10, 5, 20, 15, 24)\n",
        "\n",
        "max_value = max(my_tuple)\n",
        "print(\"Maximum value in the tuple:\", max_value)"
      ],
      "metadata": {
        "colab": {
          "base_uri": "https://localhost:8080/"
        },
        "id": "M8_eU1pH7F89",
        "outputId": "15a9d3eb-9700-4241-88e5-0e00a829174f"
      },
      "execution_count": null,
      "outputs": [
        {
          "output_type": "stream",
          "name": "stdout",
          "text": [
            "Maximum value in the tuple: 24\n"
          ]
        }
      ]
    },
    {
      "cell_type": "markdown",
      "source": [
        "**22. Find the minimum value in a tuple.**"
      ],
      "metadata": {
        "id": "P-3_A_JjP6Ym"
      }
    },
    {
      "cell_type": "code",
      "source": [
        "my_tuple = (10, 5, 20, 15, 30)\n",
        "\n",
        "min_value = min(my_tuple)\n",
        "print(\"Minimum value in the tuple:\", min_value)"
      ],
      "metadata": {
        "id": "XE_LLmry7F62",
        "colab": {
          "base_uri": "https://localhost:8080/"
        },
        "outputId": "383f182e-de28-4361-bd32-89f473597e1b"
      },
      "execution_count": null,
      "outputs": [
        {
          "output_type": "stream",
          "name": "stdout",
          "text": [
            "Minimum value in the tuple: 5\n"
          ]
        }
      ]
    },
    {
      "cell_type": "markdown",
      "source": [
        "**23. Convert a string to a tuple of characters.**"
      ],
      "metadata": {
        "id": "NUaH1DE6QTDM"
      }
    },
    {
      "cell_type": "code",
      "source": [
        "my_string = \"hello\"\n",
        "\n",
        "tuple_of_characters = tuple(my_string)\n",
        "print(\"Tuple of characters:\", tuple_of_characters)"
      ],
      "metadata": {
        "id": "psChPUrp7F3y",
        "colab": {
          "base_uri": "https://localhost:8080/"
        },
        "outputId": "96175a3f-871d-48ff-ef5c-8a7e27acab55"
      },
      "execution_count": null,
      "outputs": [
        {
          "output_type": "stream",
          "name": "stdout",
          "text": [
            "Tuple of characters: ('h', 'e', 'l', 'l', 'o')\n"
          ]
        }
      ]
    },
    {
      "cell_type": "markdown",
      "source": [
        "**24. Convert a tuple of characters to a string.**"
      ],
      "metadata": {
        "id": "S2rRqrOlQ_us"
      }
    },
    {
      "cell_type": "code",
      "source": [
        "tuple_of_characters = ('h', 'e', 'l', 'l', 'o')\n",
        "\n",
        "string_from_tuple = ''.join(tuple_of_characters)\n",
        "print(\"String from tuple:\", string_from_tuple)"
      ],
      "metadata": {
        "colab": {
          "base_uri": "https://localhost:8080/"
        },
        "id": "WqOliB7MQ_h-",
        "outputId": "a31b8464-6728-4050-fbae-ae855de3212b"
      },
      "execution_count": null,
      "outputs": [
        {
          "output_type": "stream",
          "name": "stdout",
          "text": [
            "String from tuple: hello\n"
          ]
        }
      ]
    },
    {
      "cell_type": "markdown",
      "source": [
        "**25. Create a tuple from multiple data types.**"
      ],
      "metadata": {
        "id": "rSxGJCaRSGea"
      }
    },
    {
      "cell_type": "code",
      "source": [
        "mixed_tuple = (18, \"hello\", 3.14, True)\n",
        "print(\"Mixed tuple:\", mixed_tuple)"
      ],
      "metadata": {
        "colab": {
          "base_uri": "https://localhost:8080/"
        },
        "id": "Z67VVtVUQ_fB",
        "outputId": "fe722f3d-fa51-4842-fed1-147fa336b5be"
      },
      "execution_count": null,
      "outputs": [
        {
          "output_type": "stream",
          "name": "stdout",
          "text": [
            "Mixed tuple: (18, 'hello', 3.14, True)\n"
          ]
        }
      ]
    },
    {
      "cell_type": "markdown",
      "source": [
        "**26. Check if two tuples are identical.**"
      ],
      "metadata": {
        "id": "v6EqsGmPShM8"
      }
    },
    {
      "cell_type": "code",
      "source": [
        "def identical_tuple(tuple_01, tuple_02):\n",
        "  if tuple_01 == tuple_02:\n",
        "      return(\"These two tuples are identical\")\n",
        "  else:\n",
        "      return(\"These two tuples are not identical\")\n",
        "\n",
        "\n",
        "##Example usage\n",
        "tuple_01 = (1, 2, 3, 4, 5)\n",
        "tuple_02 = (1, 2, 3, 4, 5)\n",
        "result = identical_tuple(tuple_01, tuple_02)\n",
        "print(result)"
      ],
      "metadata": {
        "colab": {
          "base_uri": "https://localhost:8080/"
        },
        "id": "yW9bF7ipSg9H",
        "outputId": "799ea032-e5be-4d12-ab32-4fc6ca538b9e"
      },
      "execution_count": null,
      "outputs": [
        {
          "output_type": "stream",
          "name": "stdout",
          "text": [
            "These two tuples are identical\n"
          ]
        }
      ]
    },
    {
      "cell_type": "markdown",
      "source": [
        "**27. Sort the elements of a tuple.**"
      ],
      "metadata": {
        "id": "MugHe-z6VHEx"
      }
    },
    {
      "cell_type": "code",
      "source": [
        "my_tuple = (3, 1, 4, 1, 5, 9, 2, 6, 5)\n",
        "\n",
        "##Convert the tuple to a list\n",
        "sorted_list = list(my_tuple)\n",
        "\n",
        "##Sort the list\n",
        "sorted_list.sort()\n",
        "\n",
        "##Convert the sorted list back to a tuple\n",
        "sorted_tuple = tuple(sorted_list)\n",
        "\n",
        "print(\"Original tuple:\", my_tuple)\n",
        "print(\"Sorted tuple:\", sorted_tuple)"
      ],
      "metadata": {
        "colab": {
          "base_uri": "https://localhost:8080/"
        },
        "id": "8lj9zYprQ_bc",
        "outputId": "ccf12c6d-62e7-4f84-946d-9bcd444cd965"
      },
      "execution_count": null,
      "outputs": [
        {
          "output_type": "stream",
          "name": "stdout",
          "text": [
            "Original tuple: (3, 1, 4, 1, 5, 9, 2, 6, 5)\n",
            "Sorted tuple: (1, 1, 2, 3, 4, 5, 5, 6, 9)\n"
          ]
        }
      ]
    },
    {
      "cell_type": "markdown",
      "source": [
        "**28. Convert a tuple of integers to a tuple of strings.**"
      ],
      "metadata": {
        "id": "Re00Ad6KWvvA"
      }
    },
    {
      "cell_type": "code",
      "source": [
        "tuple_of_integers = (1, 2, 3, 4, 5)\n",
        "\n",
        "##Convert the tuple of integers to a tuple of strings\n",
        "tuple_of_strings = tuple(str(num) for num in tuple_of_integers)\n",
        "\n",
        "print(\"Original tuple of integers:\", tuple_of_integers)\n",
        "print(\"Tuple of strings:\", tuple_of_strings)"
      ],
      "metadata": {
        "colab": {
          "base_uri": "https://localhost:8080/"
        },
        "id": "76UqSscxWvlP",
        "outputId": "88161b92-cc51-44a3-dfea-aaf472c05754"
      },
      "execution_count": null,
      "outputs": [
        {
          "output_type": "stream",
          "name": "stdout",
          "text": [
            "Original tuple of integers: (1, 2, 3, 4, 5)\n",
            "Tuple of strings: ('1', '2', '3', '4', '5')\n"
          ]
        }
      ]
    },
    {
      "cell_type": "markdown",
      "source": [
        "**29. Convert a tuple of strings to a tuple of integers.**"
      ],
      "metadata": {
        "id": "DbQ2uNmhZ8Jg"
      }
    },
    {
      "cell_type": "code",
      "source": [
        "tuple_of_strings = ('1', '2', '3', '4', '5')\n",
        "\n",
        "##Convert the tuple of strings to a tuple of integers\n",
        "tuple_of_integers = tuple(int(num) for num in tuple_of_strings)\n",
        "\n",
        "print(\"Original tuple of strings:\", tuple_of_strings)\n",
        "print(\"Tuple of integers:\", tuple_of_integers)"
      ],
      "metadata": {
        "colab": {
          "base_uri": "https://localhost:8080/"
        },
        "id": "s-dviXn1Wvit",
        "outputId": "4568f127-9823-46a1-cf11-d286bdcf2fe3"
      },
      "execution_count": null,
      "outputs": [
        {
          "output_type": "stream",
          "name": "stdout",
          "text": [
            "Original tuple of strings: ('1', '2', '3', '4', '5')\n",
            "Tuple of integers: (1, 2, 3, 4, 5)\n"
          ]
        }
      ]
    },
    {
      "cell_type": "markdown",
      "source": [
        "**30. Merge two tuples.**"
      ],
      "metadata": {
        "id": "iR3f6husbHdx"
      }
    },
    {
      "cell_type": "code",
      "source": [
        "tuple_01 = (1, 2, 3, 4)\n",
        "tuple_02 = (4, 5, 6)\n",
        "\n",
        "merge_tuple = tuple_01 + tuple_02\n",
        "print(\"The merged tuple is:\", merge_tuple)"
      ],
      "metadata": {
        "colab": {
          "base_uri": "https://localhost:8080/"
        },
        "id": "hOtjp1oyWvcn",
        "outputId": "7c88a442-ff8a-42ea-c625-c45cd7356a9c"
      },
      "execution_count": null,
      "outputs": [
        {
          "output_type": "stream",
          "name": "stdout",
          "text": [
            "The merged tuple is: (1, 2, 3, 4, 4, 5, 6)\n"
          ]
        }
      ]
    },
    {
      "cell_type": "markdown",
      "source": [
        "**31. Flatten a nested tuple.**"
      ],
      "metadata": {
        "id": "YsR5KBt3cYoM"
      }
    },
    {
      "cell_type": "code",
      "source": [
        "def flatten_tuple(nested_tuple):\n",
        "    for item in nested_tuple:\n",
        "        if isinstance(item, tuple):\n",
        "            yield from flatten_tuple(item)\n",
        "        else:\n",
        "            yield item\n",
        "\n",
        "nested_tuple = ((1, 2), (3, (4, 5)), (6, 7))\n",
        "\n",
        "flattened_tuple = tuple(flatten_tuple(nested_tuple))\n",
        "\n",
        "print(\"Original nested tuple:\", nested_tuple)\n",
        "print(\"Flattened tuple:\", flattened_tuple)"
      ],
      "metadata": {
        "colab": {
          "base_uri": "https://localhost:8080/"
        },
        "id": "EyHKXkUOWvZz",
        "outputId": "86e28a85-5bd8-4ea8-c899-75e5d6dc146f"
      },
      "execution_count": null,
      "outputs": [
        {
          "output_type": "stream",
          "name": "stdout",
          "text": [
            "Original nested tuple: ((1, 2), (3, (4, 5)), (6, 7))\n",
            "Flattened tuple: (1, 2, 3, 4, 5, 6, 7)\n"
          ]
        }
      ]
    },
    {
      "cell_type": "markdown",
      "source": [
        "**32. Create a tuple of the first 5 prime numbers.**"
      ],
      "metadata": {
        "id": "TKbmhElgt6Pm"
      }
    },
    {
      "cell_type": "code",
      "source": [
        "def is_prime(num):\n",
        "    if num < 2:\n",
        "        return False\n",
        "    for i in range(2, int(num ** 0.5) + 1):\n",
        "        if num % i == 0:\n",
        "            return False\n",
        "    return True\n",
        "\n",
        "first_five_primes = tuple(filter(is_prime, range(2, 16)))\n",
        "\n",
        "print(\"First 5 prime numbers:\", first_five_primes)"
      ],
      "metadata": {
        "colab": {
          "base_uri": "https://localhost:8080/"
        },
        "id": "YuTU1sdGQ_XJ",
        "outputId": "1afaa6b0-5807-4920-812e-adf1528c9de4"
      },
      "execution_count": null,
      "outputs": [
        {
          "output_type": "stream",
          "name": "stdout",
          "text": [
            "First 5 prime numbers: (2, 3, 5, 7, 11, 13)\n"
          ]
        }
      ]
    },
    {
      "cell_type": "markdown",
      "source": [
        "**33. Check if a tuple is a palindrome.**"
      ],
      "metadata": {
        "id": "q4zxDCXpy5K7"
      }
    },
    {
      "cell_type": "code",
      "source": [
        "def check_palindrome(my_tuple):\n",
        "  if my_tuple == my_tuple[::-1]:\n",
        "    return \"The tuple is a palindrome\"\n",
        "  else:\n",
        "    return \"The tuple is not a palindrome\"\n",
        "\n",
        "##Example usage\n",
        "my_tuple = (1, 2, 3, 2, 1)\n",
        "check = check_palindrome(my_tuple)\n",
        "print(check)"
      ],
      "metadata": {
        "colab": {
          "base_uri": "https://localhost:8080/"
        },
        "id": "-AcNrY1dQ_Sp",
        "outputId": "955a9e45-7a25-488d-ba8c-2a7aa1358c33"
      },
      "execution_count": null,
      "outputs": [
        {
          "output_type": "stream",
          "name": "stdout",
          "text": [
            "The tuple is a palindrome\n"
          ]
        }
      ]
    },
    {
      "cell_type": "markdown",
      "source": [
        "**34. Create a tuple of squares of numbers from 1 to 5.**"
      ],
      "metadata": {
        "id": "3vBTCAEk4TMa"
      }
    },
    {
      "cell_type": "code",
      "source": [
        "squares_tuple = tuple(x ** 2 for x in range(1, 6))\n",
        "\n",
        "print(\"Tuple of squares of numbers from 1 to 5:\", squares_tuple)"
      ],
      "metadata": {
        "colab": {
          "base_uri": "https://localhost:8080/"
        },
        "id": "ldieSdCQ4SMz",
        "outputId": "1ef9f332-c78a-4d5a-d117-f7fc8a5d41f0"
      },
      "execution_count": null,
      "outputs": [
        {
          "output_type": "stream",
          "name": "stdout",
          "text": [
            "Tuple of squares of numbers from 1 to 5: (1, 4, 9, 16, 25)\n"
          ]
        }
      ]
    },
    {
      "cell_type": "markdown",
      "source": [
        "**35. Filter out all even numbers from a tuple.**"
      ],
      "metadata": {
        "id": "XQ-U47lj4mym"
      }
    },
    {
      "cell_type": "code",
      "source": [
        "original_tuple = (1, 2, 3, 4, 5, 6, 7, 8, 9, 10)\n",
        "\n",
        "##Filter out even numbers using a generator expression\n",
        "filtered_tuple = tuple(x for x in original_tuple if x % 2 != 0)\n",
        "\n",
        "print(\"Original tuple:\", original_tuple)\n",
        "print(\"Filtered tuple (odd numbers only):\", filtered_tuple)"
      ],
      "metadata": {
        "colab": {
          "base_uri": "https://localhost:8080/"
        },
        "id": "8aqnWQFO4SIP",
        "outputId": "c1a3a099-d7b4-4d35-cc6a-0e0a5d08972a"
      },
      "execution_count": null,
      "outputs": [
        {
          "output_type": "stream",
          "name": "stdout",
          "text": [
            "Original tuple: (1, 2, 3, 4, 5, 6, 7, 8, 9, 10)\n",
            "Filtered tuple (odd numbers only): (1, 3, 5, 7, 9)\n"
          ]
        }
      ]
    },
    {
      "cell_type": "markdown",
      "source": [
        "**36. Multiply all elements in a tuple by 2.**"
      ],
      "metadata": {
        "id": "X1Fj9cdAKyus"
      }
    },
    {
      "cell_type": "code",
      "source": [
        "original_tuple = (1, 2, 3, 4, 5)\n",
        "\n",
        "##Multiply all elements by 2 using a generator expression\n",
        "multiplied_tuple = tuple(x * 2 for x in original_tuple)\n",
        "\n",
        "print(\"Original tuple:\", original_tuple)\n",
        "print(\"Multiplied tuple:\", multiplied_tuple)"
      ],
      "metadata": {
        "id": "1GFdIj5u4SE_",
        "colab": {
          "base_uri": "https://localhost:8080/"
        },
        "outputId": "a7f7c230-9d85-4f32-e515-99ce4eb7479a"
      },
      "execution_count": null,
      "outputs": [
        {
          "output_type": "stream",
          "name": "stdout",
          "text": [
            "Original tuple: (1, 2, 3, 4, 5)\n",
            "Multiplied tuple: (2, 4, 6, 8, 10)\n"
          ]
        }
      ]
    },
    {
      "cell_type": "markdown",
      "source": [
        "**37. Create a tuple of random numbers.**"
      ],
      "metadata": {
        "id": "0tO4vrT6LjEG"
      }
    },
    {
      "cell_type": "code",
      "source": [
        "import random\n",
        "\n",
        "##Define the range and size of the tuple\n",
        "start_range = 1\n",
        "end_range = 100\n",
        "tuple_size = 5\n",
        "\n",
        "##Generate a tuple of random numbers\n",
        "random_tuple = tuple(random.randint(start_range, end_range) for _ in range(tuple_size))\n",
        "\n",
        "print(\"Random tuple:\", random_tuple)"
      ],
      "metadata": {
        "id": "w0lLYJXQ4R_q",
        "colab": {
          "base_uri": "https://localhost:8080/"
        },
        "outputId": "18efb9a3-2337-4c6e-8af1-6717a51185e2"
      },
      "execution_count": null,
      "outputs": [
        {
          "output_type": "stream",
          "name": "stdout",
          "text": [
            "Random tuple: (95, 2, 21, 15, 58)\n"
          ]
        }
      ]
    },
    {
      "cell_type": "markdown",
      "source": [
        "**38. Check if a tuple is sorted.**"
      ],
      "metadata": {
        "id": "qIiPTyUEMef0"
      }
    },
    {
      "cell_type": "code",
      "source": [
        "def is_sorted_tuple(input_tuple):\n",
        "    return input_tuple == tuple(sorted(input_tuple))\n",
        "\n",
        "##Test cases\n",
        "tuple1 = (1, 2, 3, 4, 5)\n",
        "tuple2 = (5, 4, 3, 2, 1)\n",
        "\n",
        "print(\"Is tuple1 sorted?\", is_sorted_tuple(tuple1))\n",
        "print(\"Is tuple2 sorted?\", is_sorted_tuple(tuple2))"
      ],
      "metadata": {
        "colab": {
          "base_uri": "https://localhost:8080/"
        },
        "id": "YtDpTSyCMeEB",
        "outputId": "44ce72a1-2642-4759-8932-266e5f969649"
      },
      "execution_count": null,
      "outputs": [
        {
          "output_type": "stream",
          "name": "stdout",
          "text": [
            "Is tuple1 sorted? True\n",
            "Is tuple2 sorted? False\n"
          ]
        }
      ]
    },
    {
      "cell_type": "markdown",
      "source": [
        "**39. Rotate a tuple to the left by `n` positions.**"
      ],
      "metadata": {
        "id": "8tLjaRWDNJDk"
      }
    },
    {
      "cell_type": "code",
      "source": [
        "def rotate_tuple_left(input_tuple, n):\n",
        "    if n < 0:\n",
        "        n = len(input_tuple) + n  ##Convert negative rotation to positive\n",
        "    return input_tuple[n:] + input_tuple[:n]\n",
        "\n",
        "##Test case\n",
        "original_tuple = (1, 2, 3, 4, 5)\n",
        "rotated_tuple = rotate_tuple_left(original_tuple, 2)\n",
        "print(\"Original tuple:\", original_tuple)\n",
        "print(\"Rotated tuple (left by 2 positions):\", rotated_tuple)"
      ],
      "metadata": {
        "id": "-pTXM3rq4R8I",
        "colab": {
          "base_uri": "https://localhost:8080/"
        },
        "outputId": "3a2c67d6-05e1-424d-f563-48d55b036677"
      },
      "execution_count": null,
      "outputs": [
        {
          "output_type": "stream",
          "name": "stdout",
          "text": [
            "Original tuple: (1, 2, 3, 4, 5)\n",
            "Rotated tuple (left by 2 positions): (3, 4, 5, 1, 2)\n"
          ]
        }
      ]
    },
    {
      "cell_type": "markdown",
      "source": [
        "**40. Rotate a tuple to the right by `n` positions.**"
      ],
      "metadata": {
        "id": "AncCkUL5NnNu"
      }
    },
    {
      "cell_type": "code",
      "source": [
        "def rotate_tuple_right(input_tuple, n):\n",
        "    if n < 0:\n",
        "        n = len(input_tuple) + n  ##Convert negative rotation to positive\n",
        "    return input_tuple[-n:] + input_tuple[:-n]\n",
        "\n",
        "##Test case\n",
        "original_tuple = (1, 2, 3, 4, 5)\n",
        "rotated_tuple = rotate_tuple_right(original_tuple, 2)\n",
        "print(\"Original tuple:\", original_tuple)\n",
        "print(\"Rotated tuple (right by 2 positions):\", rotated_tuple)"
      ],
      "metadata": {
        "colab": {
          "base_uri": "https://localhost:8080/"
        },
        "id": "zkTmFysbNnBj",
        "outputId": "87600c44-0987-4bfc-cddf-5caa0e4a737d"
      },
      "execution_count": null,
      "outputs": [
        {
          "output_type": "stream",
          "name": "stdout",
          "text": [
            "Original tuple: (1, 2, 3, 4, 5)\n",
            "Rotated tuple (right by 2 positions): (4, 5, 1, 2, 3)\n"
          ]
        }
      ]
    },
    {
      "cell_type": "markdown",
      "source": [
        "**41. Create a tuple of the first 5 Fibonacci numbers.**"
      ],
      "metadata": {
        "id": "L2YKuirYNy2j"
      }
    },
    {
      "cell_type": "code",
      "source": [
        "def generate_fibonacci(n):\n",
        "    fibonacci_tuple = (0, 1)  ##Start with the first two Fibonacci numbers\n",
        "    while len(fibonacci_tuple) < n:\n",
        "        next_number = fibonacci_tuple[-1] + fibonacci_tuple[-2]\n",
        "        fibonacci_tuple += (next_number,)  ##Add the next Fibonacci number to the tuple\n",
        "    return fibonacci_tuple\n",
        "\n",
        "##Create a tuple of the first 5 Fibonacci numbers\n",
        "fibonacci_tuple = generate_fibonacci(5)\n",
        "\n",
        "print(\"Tuple of the first 5 Fibonacci numbers:\", fibonacci_tuple)"
      ],
      "metadata": {
        "colab": {
          "base_uri": "https://localhost:8080/"
        },
        "id": "gbTGzGe4Nm6w",
        "outputId": "46b03014-39cc-49e1-e8c6-1e525841ef4f"
      },
      "execution_count": null,
      "outputs": [
        {
          "output_type": "stream",
          "name": "stdout",
          "text": [
            "Tuple of the first 5 Fibonacci numbers: (0, 1, 1, 2, 3)\n"
          ]
        }
      ]
    },
    {
      "cell_type": "markdown",
      "source": [
        "**42. Create a tuple from user input.**"
      ],
      "metadata": {
        "id": "RD3lLaamOnh1"
      }
    },
    {
      "cell_type": "code",
      "source": [
        "# Get input from the user and split it by commas\n",
        "user_input = input(\"Enter elements separated by commas: \")\n",
        "\n",
        "# Split the input string by commas and convert it into a tuple\n",
        "user_tuple = tuple(user_input.split(','))\n",
        "\n",
        "print(\"Tuple from user input:\", user_tuple)"
      ],
      "metadata": {
        "colab": {
          "base_uri": "https://localhost:8080/"
        },
        "id": "eDg92zobOnPk",
        "outputId": "e5ea36c0-ef52-4b90-c227-7c430a601016"
      },
      "execution_count": null,
      "outputs": [
        {
          "output_type": "stream",
          "name": "stdout",
          "text": [
            "Enter elements separated by commas: 1,5,7,9,1,6,6,4,5,,44,5,8\n",
            "Tuple from user input: ('1', '5', '7', '9', '1', '6', '6', '4', '5', '', '44', '5', '8')\n"
          ]
        }
      ]
    },
    {
      "cell_type": "markdown",
      "source": [
        "**43. Swap two elements in a tuple.**"
      ],
      "metadata": {
        "id": "gb5-O2P7O8jK"
      }
    },
    {
      "cell_type": "code",
      "source": [
        "def swap_elements(input_tuple, index1, index2):\n",
        "    temp_list = list(input_tuple)       ##Convert the tuple to a list to modify it\n",
        "    temp_list[index1], temp_list[index2] = temp_list[index2], temp_list[index1] ##Swap the elements at the specified indices using tuple unpacking\n",
        "    return tuple(temp_list)   ##Convert the list back to a tuple and return it\n",
        "\n",
        "##Original tuple\n",
        "original_tuple = (1, 2, 3, 4, 5)\n",
        "print(\"Original tuple:\", original_tuple)\n",
        "\n",
        "##Swap elements at index 1 and index 3\n",
        "swapped_tuple = swap_elements(original_tuple, 1, 3)\n",
        "print(\"Swapped tuple:\", swapped_tuple)"
      ],
      "metadata": {
        "colab": {
          "base_uri": "https://localhost:8080/"
        },
        "id": "dLO3vgWMOnHJ",
        "outputId": "13fbfb93-b9ef-4d2e-e001-6abfdb0fc9ff"
      },
      "execution_count": null,
      "outputs": [
        {
          "output_type": "stream",
          "name": "stdout",
          "text": [
            "Original tuple: (1, 2, 3, 4, 5)\n",
            "Swapped tuple: (1, 4, 3, 2, 5)\n"
          ]
        }
      ]
    },
    {
      "cell_type": "markdown",
      "source": [
        "**44. Reverse the elements of a tuple.**"
      ],
      "metadata": {
        "id": "Js8AgyGsPyTf"
      }
    },
    {
      "cell_type": "code",
      "source": [
        "def reverse_tuple(input_tuple):\n",
        "    ##Use slicing to reverse the tuple\n",
        "    reversed_tuple = input_tuple[::-1]\n",
        "    return reversed_tuple\n",
        "\n",
        "##Original tuple\n",
        "original_tuple = (1, 2, 3, 4, 5)\n",
        "print(\"Original tuple:\", original_tuple)\n",
        "\n",
        "##Reverse the tuple\n",
        "reversed_tuple = reverse_tuple(original_tuple)\n",
        "print(\"Reversed tuple:\", reversed_tuple)\n"
      ],
      "metadata": {
        "colab": {
          "base_uri": "https://localhost:8080/"
        },
        "id": "mNjVP0U4Px6Z",
        "outputId": "4eb11722-1375-4de8-8a14-4994829e066d"
      },
      "execution_count": null,
      "outputs": [
        {
          "output_type": "stream",
          "name": "stdout",
          "text": [
            "Original tuple: (1, 2, 3, 4, 5)\n",
            "Reversed tuple: (5, 4, 3, 2, 1)\n"
          ]
        }
      ]
    },
    {
      "cell_type": "markdown",
      "source": [
        "**45. Create a tuple of the first `n` powers of 2.**"
      ],
      "metadata": {
        "id": "FmkO8wYrQGHg"
      }
    },
    {
      "cell_type": "code",
      "source": [
        "def powers_of_2(n):\n",
        "    powers = [2 ** i for i in range(n)]   ##Generate the first n powers of 2 using list comprehension\n",
        "    powers_tuple = tuple(powers)        ##Convert the list of powers into a tuple\n",
        "    return powers_tuple\n",
        "\n",
        "n = 5                                   ##Number of powers to generate\n",
        "powers_tuple = powers_of_2(n)          ##Create a tuple of the first n powers of 2\n",
        "print(\"Tuple of the first\", n, \"powers of 2:\", powers_tuple)"
      ],
      "metadata": {
        "colab": {
          "base_uri": "https://localhost:8080/"
        },
        "id": "vaETOuntQF7t",
        "outputId": "f636e8af-886e-4295-bd6a-d0d4d9f6036e"
      },
      "execution_count": null,
      "outputs": [
        {
          "output_type": "stream",
          "name": "stdout",
          "text": [
            "Tuple of the first 5 powers of 2: (1, 2, 4, 8, 16)\n"
          ]
        }
      ]
    },
    {
      "cell_type": "markdown",
      "source": [
        "**46. Find the longest string in a tuple of strings.**"
      ],
      "metadata": {
        "id": "qo5vxm3RRJZs"
      }
    },
    {
      "cell_type": "code",
      "source": [
        "def longest_string_in_tuple(input_tuple):\n",
        "    longest_string = \"\"                         ##Initialize the longest string variable with an empty string\n",
        "    for string in input_tuple:                  ##Iterate over each string in the tuple\n",
        "        if len(string) > len(longest_string):    ##Check if the current string is longer than the longest string\n",
        "            longest_string = string            ##Update the longest string\n",
        "    return longest_string\n",
        "\n",
        "##Example tuple of strings\n",
        "string_tuple = (\"ocean\", \"sunset\", \"coconut\", \"pizza\", \"vacation\")\n",
        "\n",
        "##Find the longest string in the tuple\n",
        "longest = longest_string_in_tuple(string_tuple)\n",
        "print(\"Longest string in the tuple:\", longest)"
      ],
      "metadata": {
        "colab": {
          "base_uri": "https://localhost:8080/"
        },
        "id": "ixCQQwUxRJPa",
        "outputId": "7e5de80c-e178-4a39-d00a-9a008e2e0d3b"
      },
      "execution_count": null,
      "outputs": [
        {
          "output_type": "stream",
          "name": "stdout",
          "text": [
            "Longest string in the tuple: vacation\n"
          ]
        }
      ]
    },
    {
      "cell_type": "markdown",
      "source": [
        "**47. Find the shortest string in a tuple of strings.**"
      ],
      "metadata": {
        "id": "R-sILY8OSFDe"
      }
    },
    {
      "cell_type": "code",
      "source": [
        "def shortest_string_in_tuple(input_tuple):\n",
        "    shortest_string = None                ##Initialize the shortest string variable with a large value\n",
        "    for string in input_tuple:              ##Iterate over each string in the tuple\n",
        "        if shortest_string is None or len(string) < len(shortest_string):   ##Check if the shortest string is None or the current string is shorter\n",
        "            shortest_string = string                                      ##Update the shortest string\n",
        "    return shortest_string\n",
        "\n",
        "##Example tuple of strings\n",
        "string_tuple = (\"ocean\", \"sunset\", \"coconut\", \"pizza\", \"vacation\")\n",
        "\n",
        "##Find the shortest string in the tuple\n",
        "shortest = shortest_string_in_tuple(string_tuple)\n",
        "print(\"Shortest string in the tuple:\", shortest)"
      ],
      "metadata": {
        "colab": {
          "base_uri": "https://localhost:8080/"
        },
        "id": "XAAG4NAqQFz9",
        "outputId": "c35b514e-5fbe-418f-a242-a0f6b3991a25"
      },
      "execution_count": null,
      "outputs": [
        {
          "output_type": "stream",
          "name": "stdout",
          "text": [
            "Shortest string in the tuple: ocean\n"
          ]
        }
      ]
    },
    {
      "cell_type": "markdown",
      "source": [
        "**48. Create a tuple of the first `n` triangular numbers.**"
      ],
      "metadata": {
        "id": "zP2tHRECTJSg"
      }
    },
    {
      "cell_type": "code",
      "source": [
        "def triangular_numbers(n):\n",
        "    ##Generate the first n triangular numbers using list comprehension\n",
        "    triangular_nums = [i * (i + 1) // 2 for i in range(1, n + 1)]\n",
        "\n",
        "    ##Convert the list of triangular numbers into a tuple\n",
        "    triangular_tuple = tuple(triangular_nums)\n",
        "    return triangular_tuple\n",
        "\n",
        "##Number of triangular numbers to generate\n",
        "n = 5\n",
        "\n",
        "##Create a tuple of the first n triangular numbers\n",
        "triangular_tuple = triangular_numbers(n)\n",
        "print(\"Tuple of the first\", n, \"triangular numbers:\", triangular_tuple)"
      ],
      "metadata": {
        "colab": {
          "base_uri": "https://localhost:8080/"
        },
        "id": "cEnfM__sQFut",
        "outputId": "b3c360f7-63fd-4ccf-bff9-a030dd26ad95"
      },
      "execution_count": null,
      "outputs": [
        {
          "output_type": "stream",
          "name": "stdout",
          "text": [
            "Tuple of the first 5 triangular numbers: (1, 3, 6, 10, 15)\n"
          ]
        }
      ]
    },
    {
      "cell_type": "markdown",
      "source": [
        "**49. Check if a tuple contains another tuple as a subsequence.**"
      ],
      "metadata": {
        "id": "24IrkTqaTc6u"
      }
    },
    {
      "cell_type": "code",
      "source": [
        "def contains_subsequence(main_tuple, sub_tuple):\n",
        "    for i in range(len(main_tuple) - len(sub_tuple) + 1):       ##Iterate over the elements of the main tuple\n",
        "        if main_tuple[i:i+len(sub_tuple)] == sub_tuple:         ##Check if the current subsequence matches the sub_tuple\n",
        "            return True                                       ##Subsequence found\n",
        "    return False                                              ##Subsequence not found\n",
        "\n",
        "##Example tuples\n",
        "main_tuple = (1, 2, 3, 4, 5, 6, 7)\n",
        "sub_tuple = (3, 4, 5)\n",
        "\n",
        "##Check if the main tuple contains the sub_tuple as a subsequence\n",
        "result = contains_subsequence(main_tuple, sub_tuple)\n",
        "print(\"Does the main tuple contain the sub_tuple as a subsequence?\", result)"
      ],
      "metadata": {
        "colab": {
          "base_uri": "https://localhost:8080/"
        },
        "id": "lfw71F4oOnBx",
        "outputId": "40c2387b-799a-4e33-a7da-619294d6a7cf"
      },
      "execution_count": null,
      "outputs": [
        {
          "output_type": "stream",
          "name": "stdout",
          "text": [
            "Does the main tuple contain the sub_tuple as a subsequence? True\n"
          ]
        }
      ]
    },
    {
      "cell_type": "markdown",
      "source": [
        "**50. Create a tuple of alternating 1s and 0s of length `n`.**"
      ],
      "metadata": {
        "id": "JhTnr3SXUHyW"
      }
    },
    {
      "cell_type": "code",
      "source": [
        "def alternating_tuple(n):\n",
        "    ##Generate alternating 1s and 0s using list comprehension\n",
        "    alternating_sequence = [1 if i % 2 == 0 else 0 for i in range(n)]\n",
        "\n",
        "    ##Convert the list into a tuple\n",
        "    alternating_tuple = tuple(alternating_sequence)\n",
        "    return alternating_tuple\n",
        "\n",
        "##Length of the alternating tuple\n",
        "n = 10\n",
        "\n",
        "##Create a tuple of alternating 1s and 0s of length n\n",
        "result_tuple = alternating_tuple(n)\n",
        "print(\"Tuple of alternating 1s and 0s of length\", n, \":\", result_tuple)"
      ],
      "metadata": {
        "colab": {
          "base_uri": "https://localhost:8080/"
        },
        "id": "ahZUnYtaT2vF",
        "outputId": "57f95cb8-bcb4-4018-c921-7f5f79bb87de"
      },
      "execution_count": null,
      "outputs": [
        {
          "output_type": "stream",
          "name": "stdout",
          "text": [
            "Tuple of alternating 1s and 0s of length 10 : (1, 0, 1, 0, 1, 0, 1, 0, 1, 0)\n"
          ]
        }
      ]
    },
    {
      "cell_type": "markdown",
      "source": [
        "# Set Based Practice Problem"
      ],
      "metadata": {
        "id": "I3M6cB3iNzMU"
      }
    },
    {
      "cell_type": "markdown",
      "source": [
        "**1. Create a set with integers from 1 to 5.**"
      ],
      "metadata": {
        "id": "B0a5yTPMN7GT"
      }
    },
    {
      "cell_type": "code",
      "source": [
        "def create_set(n):\n",
        "    my_set = set(range(1, n + 1))\n",
        "    return my_set\n",
        "\n",
        "##Example usage:\n",
        "n = 5\n",
        "result_set = create_set(n)\n",
        "print(result_set)"
      ],
      "metadata": {
        "id": "46r71JFDOm-S",
        "colab": {
          "base_uri": "https://localhost:8080/"
        },
        "outputId": "b50391e4-f9b3-4ba9-d66b-d8ed5e1653dd"
      },
      "execution_count": null,
      "outputs": [
        {
          "output_type": "stream",
          "name": "stdout",
          "text": [
            "{1, 2, 3, 4, 5}\n"
          ]
        }
      ]
    },
    {
      "cell_type": "markdown",
      "source": [
        "**2. Add an element to a set.**"
      ],
      "metadata": {
        "id": "rQogJz0xOVgq"
      }
    },
    {
      "cell_type": "code",
      "source": [
        "my_set = {1, 2, 3, 4, 5}\n",
        "my_set.add(6)\n",
        "print(my_set)"
      ],
      "metadata": {
        "colab": {
          "base_uri": "https://localhost:8080/"
        },
        "id": "orYzC7sMOVUy",
        "outputId": "2fa37e00-06c6-4c3c-a6b3-c3b121940e31"
      },
      "execution_count": null,
      "outputs": [
        {
          "output_type": "stream",
          "name": "stdout",
          "text": [
            "{1, 2, 3, 4, 5, 6}\n"
          ]
        }
      ]
    },
    {
      "cell_type": "markdown",
      "source": [
        "**3. Remove an element from a set.**"
      ],
      "metadata": {
        "id": "cLhHTArcO2JI"
      }
    },
    {
      "cell_type": "code",
      "source": [
        "my_set = {1, 2, 3, 4, 5, 6, 7}\n",
        "my_set.discard(3)\n",
        "print(my_set)"
      ],
      "metadata": {
        "colab": {
          "base_uri": "https://localhost:8080/"
        },
        "id": "cvo-1cuWOVPX",
        "outputId": "c09a816a-31b7-4870-a273-485c6fb3cffe"
      },
      "execution_count": null,
      "outputs": [
        {
          "output_type": "stream",
          "name": "stdout",
          "text": [
            "{1, 2, 4, 5, 6, 7}\n"
          ]
        }
      ]
    },
    {
      "cell_type": "markdown",
      "source": [
        "**4. Check if an element exists in a set.**"
      ],
      "metadata": {
        "id": "G69o5D9JQP4Y"
      }
    },
    {
      "cell_type": "code",
      "source": [
        "def check_element_existence(my_set, element):\n",
        "    return element in my_set\n",
        "\n",
        "##Example usage:\n",
        "my_set = {1, 2, 3, 4, 5}\n",
        "element_to_check = 7\n",
        "if check_element_existence(my_set, element_to_check):\n",
        "    print(f\"{element_to_check} exists in the set\")\n",
        "else:\n",
        "    print(f\"{element_to_check} does not exist in the set\")"
      ],
      "metadata": {
        "colab": {
          "base_uri": "https://localhost:8080/"
        },
        "id": "cpoerVvrOVLb",
        "outputId": "f0fe02d4-bace-4788-a713-1af416e0fc8b"
      },
      "execution_count": null,
      "outputs": [
        {
          "output_type": "stream",
          "name": "stdout",
          "text": [
            "7 does not exist in the set\n"
          ]
        }
      ]
    },
    {
      "cell_type": "markdown",
      "source": [
        "**5. Find the length of a set without using the `len()` function.**"
      ],
      "metadata": {
        "id": "yvbpHAnbZXvj"
      }
    },
    {
      "cell_type": "code",
      "source": [
        "def find_set_length(my_set):\n",
        "    length = 0\n",
        "    for i in my_set:\n",
        "        length += 1\n",
        "    return length\n",
        "\n",
        "##Example usage:\n",
        "my_set = {1, 2, 3, 4, 5, 6, 7}\n",
        "length = find_set_length(my_set)\n",
        "print(\"Length of the set:\", length)"
      ],
      "metadata": {
        "colab": {
          "base_uri": "https://localhost:8080/"
        },
        "id": "AquifdKRZZWm",
        "outputId": "1bc631a2-a7c0-489d-c7fd-3f0e7d0f00a4"
      },
      "execution_count": null,
      "outputs": [
        {
          "output_type": "stream",
          "name": "stdout",
          "text": [
            "Length of the set: 7\n"
          ]
        }
      ]
    },
    {
      "cell_type": "markdown",
      "source": [
        "**6. Clear all elements from a set.**"
      ],
      "metadata": {
        "id": "FxqrM2J1abaS"
      }
    },
    {
      "cell_type": "code",
      "source": [
        "my_set = {1, 2, 3, 4, 5}\n",
        "my_set.clear()\n",
        "print(my_set)"
      ],
      "metadata": {
        "colab": {
          "base_uri": "https://localhost:8080/"
        },
        "id": "faihkhsqZZTd",
        "outputId": "f43abb52-8611-4967-d75d-7eb8fac3e8c9"
      },
      "execution_count": null,
      "outputs": [
        {
          "output_type": "stream",
          "name": "stdout",
          "text": [
            "set()\n"
          ]
        }
      ]
    },
    {
      "cell_type": "markdown",
      "source": [
        "**7. Create a set of even numbers from 1 to 10.**"
      ],
      "metadata": {
        "id": "sex_2ULqajVZ"
      }
    },
    {
      "cell_type": "code",
      "source": [
        "even_numbers_set = set(x for x in range(1, 11) if x % 2 == 0)\n",
        "print(even_numbers_set)"
      ],
      "metadata": {
        "colab": {
          "base_uri": "https://localhost:8080/"
        },
        "id": "MFl5pW3oOVI0",
        "outputId": "b87dd6a0-fb8c-4cb3-c43f-8ed3786761b9"
      },
      "execution_count": null,
      "outputs": [
        {
          "output_type": "stream",
          "name": "stdout",
          "text": [
            "{2, 4, 6, 8, 10}\n"
          ]
        }
      ]
    },
    {
      "cell_type": "markdown",
      "source": [
        "**8. Create a set of odd numbers from 1 to 10.**"
      ],
      "metadata": {
        "id": "mORhXSNnbkLV"
      }
    },
    {
      "cell_type": "code",
      "source": [
        "odd_numbers_set = set(x for x in range(1, 11) if x % 2 != 0)\n",
        "print(odd_numbers_set)"
      ],
      "metadata": {
        "colab": {
          "base_uri": "https://localhost:8080/"
        },
        "id": "-0flydU5bj8D",
        "outputId": "3b7d27cd-7b23-4795-819d-e33faf0cfea8"
      },
      "execution_count": null,
      "outputs": [
        {
          "output_type": "stream",
          "name": "stdout",
          "text": [
            "{1, 3, 5, 7, 9}\n"
          ]
        }
      ]
    },
    {
      "cell_type": "markdown",
      "source": [
        "**9. Find the union of two sets.**"
      ],
      "metadata": {
        "id": "cp0kyeNvcOL4"
      }
    },
    {
      "cell_type": "code",
      "source": [
        "set1 = {1, 2, 3}\n",
        "set2 = {3, 4, 5}\n",
        "union_set = set1.union(set2)\n",
        "print(union_set)"
      ],
      "metadata": {
        "colab": {
          "base_uri": "https://localhost:8080/"
        },
        "id": "mGsi4BWzcN3z",
        "outputId": "c8d993a6-e020-4973-a4a1-c9f532445ce4"
      },
      "execution_count": null,
      "outputs": [
        {
          "output_type": "stream",
          "name": "stdout",
          "text": [
            "{1, 2, 3, 4, 5}\n"
          ]
        }
      ]
    },
    {
      "cell_type": "markdown",
      "source": [
        "**10. Find the intersection of two sets.**"
      ],
      "metadata": {
        "id": "82ceuShUc70g"
      }
    },
    {
      "cell_type": "code",
      "source": [
        "set1 = {1, 2, 3}\n",
        "set2 = {3, 4, 5}\n",
        "intersection_set = set1.intersection(set2)\n",
        "print(intersection_set)"
      ],
      "metadata": {
        "colab": {
          "base_uri": "https://localhost:8080/"
        },
        "id": "tLjdTbXDcN0Q",
        "outputId": "779a4a7e-4985-42df-c9f0-c45ec943f46b"
      },
      "execution_count": null,
      "outputs": [
        {
          "output_type": "stream",
          "name": "stdout",
          "text": [
            "{3}\n"
          ]
        }
      ]
    },
    {
      "cell_type": "markdown",
      "source": [
        "**11. Find the difference between two sets.**"
      ],
      "metadata": {
        "id": "TW4BIupNdGIw"
      }
    },
    {
      "cell_type": "code",
      "source": [
        "set1 = {1, 2, 3}\n",
        "set2 = {3, 4, 5}\n",
        "difference_set = set1 - set2\n",
        "print(difference_set)"
      ],
      "metadata": {
        "colab": {
          "base_uri": "https://localhost:8080/"
        },
        "id": "qQ6T6PF_cNs5",
        "outputId": "fc60e4a9-189f-4844-fbd8-b98dacfd4145"
      },
      "execution_count": null,
      "outputs": [
        {
          "output_type": "stream",
          "name": "stdout",
          "text": [
            "{1, 2}\n"
          ]
        }
      ]
    },
    {
      "cell_type": "markdown",
      "source": [
        "**12. Check if a set is a subset of another set.**"
      ],
      "metadata": {
        "id": "Wu0TjaTVfpdA"
      }
    },
    {
      "cell_type": "code",
      "source": [
        "set1 = {1, 2, 3, 7}\n",
        "set2 = {1, 2, 3, 4, 5}\n",
        "if set1.issubset(set2):\n",
        "    print(\"set1 is a subset of set2\")\n",
        "else:\n",
        "    print(\"set1 is not a subset of set2\")"
      ],
      "metadata": {
        "colab": {
          "base_uri": "https://localhost:8080/"
        },
        "id": "hSrGBVcLcNqk",
        "outputId": "1e5efcce-f28c-4eb2-cafc-9e8bd798c1c2"
      },
      "execution_count": null,
      "outputs": [
        {
          "output_type": "stream",
          "name": "stdout",
          "text": [
            "set1 is not a subset of set2\n"
          ]
        }
      ]
    },
    {
      "cell_type": "markdown",
      "source": [
        "**13. Check if a set is a superset of another set.**"
      ],
      "metadata": {
        "id": "g43V05MWiVcW"
      }
    },
    {
      "cell_type": "code",
      "source": [
        "set1 = {1, 2, 3, 4, 5}\n",
        "set2 = {1, 2, 3}\n",
        "if set1.issuperset(set2):\n",
        "    print(\"set1 is a superset of set2\")\n",
        "else:\n",
        "    print(\"set1 is not a superset of set2\")"
      ],
      "metadata": {
        "colab": {
          "base_uri": "https://localhost:8080/"
        },
        "id": "B2mJEve4bjxr",
        "outputId": "698c7b17-7950-406e-b488-d2b06a3ee84e"
      },
      "execution_count": null,
      "outputs": [
        {
          "output_type": "stream",
          "name": "stdout",
          "text": [
            "set1 is a superset of set2\n"
          ]
        }
      ]
    },
    {
      "cell_type": "markdown",
      "source": [
        "**14. Create a set from a list.**"
      ],
      "metadata": {
        "id": "NNbJaL9oifEj"
      }
    },
    {
      "cell_type": "code",
      "source": [
        "my_list = [1, 2, 3, 4, 5]\n",
        "my_set = set(my_list)\n",
        "print(my_set)"
      ],
      "metadata": {
        "colab": {
          "base_uri": "https://localhost:8080/"
        },
        "id": "ctiKgxZcie2-",
        "outputId": "5900fd71-d953-4b5d-c4aa-77d64ce215ab"
      },
      "execution_count": null,
      "outputs": [
        {
          "output_type": "stream",
          "name": "stdout",
          "text": [
            "{1, 2, 3, 4, 5}\n"
          ]
        }
      ]
    },
    {
      "cell_type": "markdown",
      "source": [
        "**15. Convert a set to a list.**"
      ],
      "metadata": {
        "id": "WVcfQqeoinU1"
      }
    },
    {
      "cell_type": "code",
      "source": [
        "my_set = {1, 2, 3, 4, 5}\n",
        "my_list = list(my_set)\n",
        "print(my_list)"
      ],
      "metadata": {
        "colab": {
          "base_uri": "https://localhost:8080/"
        },
        "id": "Mzv4Xt-riemd",
        "outputId": "fe207d8a-e80d-47cb-dc9d-6fbd3386b271"
      },
      "execution_count": null,
      "outputs": [
        {
          "output_type": "stream",
          "name": "stdout",
          "text": [
            "[1, 2, 3, 4, 5]\n"
          ]
        }
      ]
    },
    {
      "cell_type": "markdown",
      "source": [
        "**16. Remove a random element from a set.**"
      ],
      "metadata": {
        "id": "KgcEhUjmOalV"
      }
    },
    {
      "cell_type": "code",
      "source": [
        "my_set = {1, 2, 3, 4, 5}\n",
        "removed_element = my_set.pop()\n",
        "print(\"Removed element:\", removed_element)\n",
        "print(\"Set after removal:\", my_set)"
      ],
      "metadata": {
        "colab": {
          "base_uri": "https://localhost:8080/"
        },
        "id": "c9i_kCXgOcVG",
        "outputId": "211a4f24-3d14-4458-9a68-a90498555e43"
      },
      "execution_count": null,
      "outputs": [
        {
          "output_type": "stream",
          "name": "stdout",
          "text": [
            "Removed element: 1\n",
            "Set after removal: {2, 3, 4, 5}\n"
          ]
        }
      ]
    },
    {
      "cell_type": "markdown",
      "source": [
        "**17. Pop an element from a set.**"
      ],
      "metadata": {
        "id": "-k81-hQfO-FT"
      }
    },
    {
      "cell_type": "code",
      "source": [
        "my_set = {1, 2, 3, 4, 5}\n",
        "popped_element = my_set.pop()\n",
        "print(\"Popped element:\", popped_element)\n",
        "print(\"Set after popping:\", my_set)"
      ],
      "metadata": {
        "colab": {
          "base_uri": "https://localhost:8080/"
        },
        "id": "M9lXUELOOcSO",
        "outputId": "94cdc58d-fd39-45a8-b2d5-7f21bd3cadd9"
      },
      "execution_count": null,
      "outputs": [
        {
          "output_type": "stream",
          "name": "stdout",
          "text": [
            "Popped element: 1\n",
            "Set after popping: {2, 3, 4, 5}\n"
          ]
        }
      ]
    },
    {
      "cell_type": "markdown",
      "source": [
        "**18. Check if two sets have no elements in common.**"
      ],
      "metadata": {
        "id": "XBr1lY2uPgdI"
      }
    },
    {
      "cell_type": "code",
      "source": [
        "set1 = {1, 2, 3}\n",
        "set2 = {4, 5, 6}\n",
        "if set1.isdisjoint(set2):\n",
        "    print(\"The sets have no elements in common\")\n",
        "else:\n",
        "    print(\"The sets have at least one element in common\")"
      ],
      "metadata": {
        "colab": {
          "base_uri": "https://localhost:8080/"
        },
        "id": "asvWjYiXOcOM",
        "outputId": "32453b15-1916-45ec-cbad-63234c3c5cd6"
      },
      "execution_count": null,
      "outputs": [
        {
          "output_type": "stream",
          "name": "stdout",
          "text": [
            "The sets have no elements in common\n"
          ]
        }
      ]
    },
    {
      "cell_type": "markdown",
      "source": [
        "**19. Find the symmetric difference between two sets.**"
      ],
      "metadata": {
        "id": "HDhHnlhgPB6l"
      }
    },
    {
      "cell_type": "code",
      "source": [
        "set1 = {1, 2, 3, 4}\n",
        "set2 = {3, 4, 5, 6}\n",
        "symmetric_difference_set = set1.symmetric_difference(set2)\n",
        "print(symmetric_difference_set)"
      ],
      "metadata": {
        "colab": {
          "base_uri": "https://localhost:8080/"
        },
        "id": "WacDRoMWPBv1",
        "outputId": "168a36c6-dd73-45f6-da6c-69a77fdfb8b8"
      },
      "execution_count": null,
      "outputs": [
        {
          "output_type": "stream",
          "name": "stdout",
          "text": [
            "{1, 2, 5, 6}\n"
          ]
        }
      ]
    },
    {
      "cell_type": "markdown",
      "source": [
        "**20. Update a set with elements from another set.**"
      ],
      "metadata": {
        "id": "xi4MZQiCPlP6"
      }
    },
    {
      "cell_type": "code",
      "source": [
        "set1 = {1, 2, 3}\n",
        "set2 = {3, 4, 5}\n",
        "set1.update(set2)\n",
        "print(set1)"
      ],
      "metadata": {
        "id": "BMqoJ-pvPBlS",
        "colab": {
          "base_uri": "https://localhost:8080/"
        },
        "outputId": "37525996-636a-41ca-dbf2-b23544cf50a7"
      },
      "execution_count": null,
      "outputs": [
        {
          "output_type": "stream",
          "name": "stdout",
          "text": [
            "{1, 2, 3, 4, 5}\n"
          ]
        }
      ]
    },
    {
      "cell_type": "markdown",
      "source": [
        "**21. Create a set of the first 5 prime numbers.**"
      ],
      "metadata": {
        "id": "bQKV9Ql1REPE"
      }
    },
    {
      "cell_type": "code",
      "source": [
        "def is_prime(num):\n",
        "    if num < 2:\n",
        "        return False\n",
        "    for i in range(2, int(num ** 0.5) + 1):\n",
        "        if num % i == 0:\n",
        "            return False\n",
        "    return True\n",
        "\n",
        "prime_numbers = set()\n",
        "num = 2\n",
        "while len(prime_numbers) < 5:\n",
        "    if is_prime(num):\n",
        "        prime_numbers.add(num)\n",
        "    num += 1\n",
        "\n",
        "print(prime_numbers)"
      ],
      "metadata": {
        "colab": {
          "base_uri": "https://localhost:8080/"
        },
        "id": "aj6IO1UZRXGX",
        "outputId": "889086ad-4c64-4b86-900e-073c463d7ff1"
      },
      "execution_count": null,
      "outputs": [
        {
          "output_type": "stream",
          "name": "stdout",
          "text": [
            "{2, 3, 5, 7, 11}\n"
          ]
        }
      ]
    },
    {
      "cell_type": "markdown",
      "source": [
        "**22. Check if two sets are identical.**"
      ],
      "metadata": {
        "id": "RHJILPojTE1p"
      }
    },
    {
      "cell_type": "code",
      "source": [
        "def are_sets_identical(set1, set2):\n",
        "    return set1 == set2\n",
        "\n",
        "##Example usage:\n",
        "set1 = {1, 2, 3}\n",
        "set2 = {1, 4, 3}\n",
        "\n",
        "if are_sets_identical(set1, set2):\n",
        "    print(\"The sets are identical\")\n",
        "else:\n",
        "    print(\"The sets are not identical\")"
      ],
      "metadata": {
        "colab": {
          "base_uri": "https://localhost:8080/"
        },
        "id": "1Hojn5mNRWFO",
        "outputId": "9395dc52-466d-47f2-b36d-d8f8b682d06a"
      },
      "execution_count": null,
      "outputs": [
        {
          "output_type": "stream",
          "name": "stdout",
          "text": [
            "The sets are not identical\n"
          ]
        }
      ]
    },
    {
      "cell_type": "markdown",
      "source": [
        "**23. Create a frozen set.**"
      ],
      "metadata": {
        "id": "GzOlUtHyUKoy"
      }
    },
    {
      "cell_type": "code",
      "source": [
        "my_set = {1, 2, 3, 4, 5}\n",
        "frozen_set = frozenset(my_set)\n",
        "print(frozen_set)"
      ],
      "metadata": {
        "id": "JDMtb8ZCPBZE",
        "colab": {
          "base_uri": "https://localhost:8080/"
        },
        "outputId": "0110f8ba-095a-41db-c0bd-6990c007792a"
      },
      "execution_count": null,
      "outputs": [
        {
          "output_type": "stream",
          "name": "stdout",
          "text": [
            "frozenset({1, 2, 3, 4, 5})\n"
          ]
        }
      ]
    },
    {
      "cell_type": "markdown",
      "source": [
        "**24. Check if a set is disjoint with another set.**"
      ],
      "metadata": {
        "id": "STXdY7JlUgGy"
      }
    },
    {
      "cell_type": "code",
      "source": [
        "set1 = {1, 2, 3}\n",
        "set2 = {4, 5, 6}\n",
        "\n",
        "if set1.isdisjoint(set2):\n",
        "    print(\"The sets are disjoint\")\n",
        "else:\n",
        "    print(\"The sets are not disjoint\")"
      ],
      "metadata": {
        "id": "NE2zpM67PBVW",
        "colab": {
          "base_uri": "https://localhost:8080/"
        },
        "outputId": "36291a19-3a6e-47be-9b4f-4fee810e0f28"
      },
      "execution_count": null,
      "outputs": [
        {
          "output_type": "stream",
          "name": "stdout",
          "text": [
            "The sets are disjoint\n"
          ]
        }
      ]
    },
    {
      "cell_type": "markdown",
      "source": [
        "**25. Create a set of squares of numbers from 1 to 5.**"
      ],
      "metadata": {
        "id": "ZullIpOIU4nh"
      }
    },
    {
      "cell_type": "code",
      "source": [
        "squares_set = {x ** 2 for x in range(1, 6)}\n",
        "print(squares_set)"
      ],
      "metadata": {
        "id": "qDbDljvePBSC",
        "colab": {
          "base_uri": "https://localhost:8080/"
        },
        "outputId": "9d80c865-20f9-488b-b4a1-cbad5d9215ed"
      },
      "execution_count": null,
      "outputs": [
        {
          "output_type": "stream",
          "name": "stdout",
          "text": [
            "{1, 4, 9, 16, 25}\n"
          ]
        }
      ]
    },
    {
      "cell_type": "markdown",
      "source": [
        "**26. Filter out all even numbers from a set.**"
      ],
      "metadata": {
        "id": "742Yl-soVFOz"
      }
    },
    {
      "cell_type": "code",
      "source": [
        "original_set = {1, 2, 3, 4, 5, 6, 7, 8, 9, 10}\n",
        "filtered_set = {x for x in original_set if x % 2 != 0}\n",
        "print(filtered_set)"
      ],
      "metadata": {
        "colab": {
          "base_uri": "https://localhost:8080/"
        },
        "id": "_mSj_q8_VFEy",
        "outputId": "18eb6399-907d-4e0d-8c48-91aa5a6a8945"
      },
      "execution_count": null,
      "outputs": [
        {
          "output_type": "stream",
          "name": "stdout",
          "text": [
            "{1, 3, 5, 7, 9}\n"
          ]
        }
      ]
    },
    {
      "cell_type": "markdown",
      "source": [
        "**27. Multiply all elements in a set by 2.**"
      ],
      "metadata": {
        "id": "BOSp5ZQnVo-J"
      }
    },
    {
      "cell_type": "code",
      "source": [
        "original_set = {1, 2, 3, 4, 5, 6, 7, 8, 9, 10}\n",
        "multiplied_set = {x * 2 for x in original_set}\n",
        "print(multiplied_set)"
      ],
      "metadata": {
        "colab": {
          "base_uri": "https://localhost:8080/"
        },
        "id": "hM9hBUVIVFBE",
        "outputId": "06e4fbbd-4dbd-459c-aa76-a746348ebd7a"
      },
      "execution_count": null,
      "outputs": [
        {
          "output_type": "stream",
          "name": "stdout",
          "text": [
            "{2, 4, 6, 8, 10, 12, 14, 16, 18, 20}\n"
          ]
        }
      ]
    },
    {
      "cell_type": "markdown",
      "source": [
        "**28. Create a set of random numbers.**"
      ],
      "metadata": {
        "id": "lCtcMRn3WAoa"
      }
    },
    {
      "cell_type": "code",
      "source": [
        "import random\n",
        "\n",
        "##Generate a set of 5 random integers between 1 and 10\n",
        "random_set = set(random.sample(range(1, 11), 5))\n",
        "print(random_set)"
      ],
      "metadata": {
        "id": "pr8R05ZGPBOB",
        "colab": {
          "base_uri": "https://localhost:8080/"
        },
        "outputId": "6ca51d3f-d023-4fb0-d357-b31fa760da4e"
      },
      "execution_count": null,
      "outputs": [
        {
          "output_type": "stream",
          "name": "stdout",
          "text": [
            "{1, 2, 6, 7, 10}\n"
          ]
        }
      ]
    },
    {
      "cell_type": "markdown",
      "source": [
        "**29. Check if a set is empty.**"
      ],
      "metadata": {
        "id": "CGtzhRSIWlst"
      }
    },
    {
      "cell_type": "code",
      "source": [
        "my_set = set()\n",
        "\n",
        "if not my_set:\n",
        "    print(\"The set is empty\")\n",
        "else:\n",
        "    print(\"The set is not empty\")"
      ],
      "metadata": {
        "id": "08sWRVfsPBJB",
        "colab": {
          "base_uri": "https://localhost:8080/"
        },
        "outputId": "75d17132-cccf-4b70-d25b-64be5e17442a"
      },
      "execution_count": null,
      "outputs": [
        {
          "output_type": "stream",
          "name": "stdout",
          "text": [
            "The set is empty\n"
          ]
        }
      ]
    },
    {
      "cell_type": "markdown",
      "source": [
        "**30. Create a nested set (hint: use frozenset).**"
      ],
      "metadata": {
        "id": "3L8otbhQXF2J"
      }
    },
    {
      "cell_type": "code",
      "source": [
        "nested_set = {frozenset({1, 2}), frozenset({'a', 'b', 'c'})}\n",
        "print(nested_set)"
      ],
      "metadata": {
        "colab": {
          "base_uri": "https://localhost:8080/"
        },
        "id": "-slTlvohXFrQ",
        "outputId": "65a6c0bc-e149-4295-a48e-b1d0d5b22612"
      },
      "execution_count": null,
      "outputs": [
        {
          "output_type": "stream",
          "name": "stdout",
          "text": [
            "{frozenset({'b', 'a', 'c'}), frozenset({1, 2})}\n"
          ]
        }
      ]
    },
    {
      "cell_type": "markdown",
      "source": [
        "**31. Remove an element from a set using the discard method.**"
      ],
      "metadata": {
        "id": "t7kpxQx5XUj6"
      }
    },
    {
      "cell_type": "code",
      "source": [
        "my_set = {1, 2, 3, 4, 5, 6, 7}\n",
        "my_set.discard(3)\n",
        "print(my_set)"
      ],
      "metadata": {
        "colab": {
          "base_uri": "https://localhost:8080/"
        },
        "id": "5ZESbn-rXFoR",
        "outputId": "36ba91d9-d418-452a-9972-a709661af501"
      },
      "execution_count": null,
      "outputs": [
        {
          "output_type": "stream",
          "name": "stdout",
          "text": [
            "{1, 2, 4, 5, 6, 7}\n"
          ]
        }
      ]
    },
    {
      "cell_type": "markdown",
      "source": [
        "**32. Compare two sets.**"
      ],
      "metadata": {
        "id": "uQCQq0PxXmQD"
      }
    },
    {
      "cell_type": "code",
      "source": [
        "set1 = {1, 2, 3, 4}\n",
        "set2 = {3, 4, 5, 6}\n",
        "\n",
        "##Check if set1 is equal to set2\n",
        "if set1 == set2:\n",
        "    print(\"The sets are equal\")\n",
        "else:\n",
        "    print(\"The sets are not equal\")\n",
        "\n",
        "##Check if set1 is a subset of set2\n",
        "if set1 <= set2:\n",
        "    print(\"set1 is a subset of set2\")\n",
        "else:\n",
        "    print(\"set1 is not a subset of set2\")\n",
        "\n",
        "##Check if set1 is a proper subset of set2\n",
        "if set1 < set2:\n",
        "    print(\"set1 is a proper subset of set2\")\n",
        "else:\n",
        "    print(\"set1 is not a proper subset of set2\")\n",
        "\n",
        "##Check if set1 is a superset of set2\n",
        "if set1 >= set2:\n",
        "    print(\"set1 is a superset of set2\")\n",
        "else:\n",
        "    print(\"set1 is not a superset of set2\")\n",
        "\n",
        "##Check if set1 is a proper superset of set2\n",
        "if set1 > set2:\n",
        "    print(\"set1 is a proper superset of set2\")\n",
        "else:\n",
        "    print(\"set1 is not a proper superset of set2\")"
      ],
      "metadata": {
        "colab": {
          "base_uri": "https://localhost:8080/"
        },
        "id": "UXiTgI_qXFlY",
        "outputId": "63346140-4986-467f-f0fa-d4daf3be0aaa"
      },
      "execution_count": null,
      "outputs": [
        {
          "output_type": "stream",
          "name": "stdout",
          "text": [
            "The sets are not equal\n",
            "set1 is not a subset of set2\n",
            "set1 is not a proper subset of set2\n",
            "set1 is not a superset of set2\n",
            "set1 is not a proper superset of set2\n"
          ]
        }
      ]
    },
    {
      "cell_type": "markdown",
      "source": [
        "**33. Create a set from a string.**"
      ],
      "metadata": {
        "id": "cJDD9woyYpXK"
      }
    },
    {
      "cell_type": "code",
      "source": [
        "my_string = \"hello\"\n",
        "my_set = set(my_string)\n",
        "print(my_set)"
      ],
      "metadata": {
        "id": "2YDIG5aBPBFB",
        "colab": {
          "base_uri": "https://localhost:8080/"
        },
        "outputId": "4e48a4d9-e15a-456a-cd87-441071276c8f"
      },
      "execution_count": null,
      "outputs": [
        {
          "output_type": "stream",
          "name": "stdout",
          "text": [
            "{'h', 'e', 'o', 'l'}\n"
          ]
        }
      ]
    },
    {
      "cell_type": "markdown",
      "source": [
        "**34. Convert a set of strings to a set of integers.**"
      ],
      "metadata": {
        "id": "rxIuBLphY1j8"
      }
    },
    {
      "cell_type": "code",
      "source": [
        "string_set = {\"1\", \"2\", \"3\", \"4\", \"5\"}\n",
        "integer_set = {int(x) for x in string_set}\n",
        "print(integer_set)"
      ],
      "metadata": {
        "id": "1e192adMObid",
        "colab": {
          "base_uri": "https://localhost:8080/"
        },
        "outputId": "789c1f34-5ad7-4b09-dfe1-952c2ca1cfb7"
      },
      "execution_count": null,
      "outputs": [
        {
          "output_type": "stream",
          "name": "stdout",
          "text": [
            "{1, 2, 3, 4, 5}\n"
          ]
        }
      ]
    },
    {
      "cell_type": "markdown",
      "source": [
        "**35. Convert a set of integers to a set of strings.**"
      ],
      "metadata": {
        "id": "cbMveIpZZeaH"
      }
    },
    {
      "cell_type": "code",
      "source": [
        "integer_set = {1, 2, 3, 4, 5}\n",
        "string_set = {str(x) for x in integer_set}\n",
        "print(string_set)"
      ],
      "metadata": {
        "colab": {
          "base_uri": "https://localhost:8080/"
        },
        "id": "yrKfN8XoZcNB",
        "outputId": "d5ad2375-d60a-42d2-87ca-20441c13de64"
      },
      "execution_count": null,
      "outputs": [
        {
          "output_type": "stream",
          "name": "stdout",
          "text": [
            "{'4', '5', '1', '3', '2'}\n"
          ]
        }
      ]
    },
    {
      "cell_type": "markdown",
      "source": [
        "**36. Create a set from a tuple.**"
      ],
      "metadata": {
        "id": "wZ2eSyUnZri-"
      }
    },
    {
      "cell_type": "code",
      "source": [
        "my_tuple = (1, 2, 3, 4, 5)\n",
        "my_set = set(my_tuple)\n",
        "print(my_set)"
      ],
      "metadata": {
        "colab": {
          "base_uri": "https://localhost:8080/"
        },
        "id": "wEg4uJHZZcF6",
        "outputId": "8f238bb1-4720-445b-b881-fc9d443932f4"
      },
      "execution_count": null,
      "outputs": [
        {
          "output_type": "stream",
          "name": "stdout",
          "text": [
            "{1, 2, 3, 4, 5}\n"
          ]
        }
      ]
    },
    {
      "cell_type": "markdown",
      "source": [
        "**37. Convert a set to a tuple.**"
      ],
      "metadata": {
        "id": "ASPlgfEpZw6I"
      }
    },
    {
      "cell_type": "code",
      "source": [
        "my_set = {1, 2, 3, 4, 5}\n",
        "my_tuple = tuple(my_set)\n",
        "print(my_tuple)"
      ],
      "metadata": {
        "colab": {
          "base_uri": "https://localhost:8080/"
        },
        "id": "Ml5V5DhfZcB2",
        "outputId": "b021eab9-e8fb-43e4-a8cd-cab6aa4961e6"
      },
      "execution_count": null,
      "outputs": [
        {
          "output_type": "stream",
          "name": "stdout",
          "text": [
            "(1, 2, 3, 4, 5)\n"
          ]
        }
      ]
    },
    {
      "cell_type": "markdown",
      "source": [
        "**38. Find the maximum value in a set.**"
      ],
      "metadata": {
        "id": "tCHTtf7_Z-kb"
      }
    },
    {
      "cell_type": "code",
      "source": [
        "my_set = {1, 2, 3, 4, 5}\n",
        "max_value = max(my_set)\n",
        "print(\"Maximum value in the set:\", max_value)"
      ],
      "metadata": {
        "colab": {
          "base_uri": "https://localhost:8080/"
        },
        "id": "6qVhlb_8Zb9o",
        "outputId": "f85bce7f-f95a-4f56-b6f2-a1efcc05f429"
      },
      "execution_count": null,
      "outputs": [
        {
          "output_type": "stream",
          "name": "stdout",
          "text": [
            "Maximum value in the set: 5\n"
          ]
        }
      ]
    },
    {
      "cell_type": "markdown",
      "source": [
        "**39. Find the minimum value in a set.**"
      ],
      "metadata": {
        "id": "kzk8eMWEaGxJ"
      }
    },
    {
      "cell_type": "code",
      "source": [
        "my_set = {1, 2, 3, 4, 5}\n",
        "min_value = min(my_set)\n",
        "print(\"Minimum value in the set:\", min_value)"
      ],
      "metadata": {
        "colab": {
          "base_uri": "https://localhost:8080/"
        },
        "id": "64U4RnPxaGjZ",
        "outputId": "57fa2b1a-605e-404a-d7ff-408c595c77d8"
      },
      "execution_count": null,
      "outputs": [
        {
          "output_type": "stream",
          "name": "stdout",
          "text": [
            "Minimum value in the set: 1\n"
          ]
        }
      ]
    },
    {
      "cell_type": "markdown",
      "source": [
        "**40. Create a set from user input.**"
      ],
      "metadata": {
        "id": "UWg6K_NiaSb4"
      }
    },
    {
      "cell_type": "code",
      "source": [
        "user_input = input(\"Enter elements separated by spaces: \")\n",
        "elements = user_input.split()  ##Split the input string by spaces to get individual elements\n",
        "user_set = set(elements)\n",
        "print(\"Set from user input:\", user_set)"
      ],
      "metadata": {
        "colab": {
          "base_uri": "https://localhost:8080/"
        },
        "id": "5ql_rHsFaGf5",
        "outputId": "0158dd06-f486-47b9-9501-0f98b43a7554"
      },
      "execution_count": null,
      "outputs": [
        {
          "output_type": "stream",
          "name": "stdout",
          "text": [
            "Enter elements separated by spaces: 2 1 8 rd 7\n",
            "Set from user input: {'7', 'rd', '8', '1', '2'}\n"
          ]
        }
      ]
    },
    {
      "cell_type": "markdown",
      "source": [
        "**41. Check if the intersection of two sets is empty.**"
      ],
      "metadata": {
        "id": "GS69HdPPajPn"
      }
    },
    {
      "cell_type": "code",
      "source": [
        "set1 = {1, 2, 3}\n",
        "set2 = {4, 5, 6}\n",
        "\n",
        "if set1.isdisjoint(set2):\n",
        "    print(\"The intersection of the sets is empty\")\n",
        "else:\n",
        "    print(\"The intersection of the sets is not empty\")"
      ],
      "metadata": {
        "colab": {
          "base_uri": "https://localhost:8080/"
        },
        "id": "b4MgRAGdajGi",
        "outputId": "e87901ce-afbe-4144-e971-7b00d43a1811"
      },
      "execution_count": null,
      "outputs": [
        {
          "output_type": "stream",
          "name": "stdout",
          "text": [
            "The intersection of the sets is empty\n"
          ]
        }
      ]
    },
    {
      "cell_type": "markdown",
      "source": [
        "**42. Create a set of the first 5 Fibonacci numbers.**"
      ],
      "metadata": {
        "id": "wPG_-198aqzA"
      }
    },
    {
      "cell_type": "code",
      "source": [
        "def generate_fibonacci(n):\n",
        "    fibonacci_set = set()\n",
        "    a, b = 0, 1\n",
        "    for _ in range(n):\n",
        "        fibonacci_set.add(a)\n",
        "        a, b = b, a + b\n",
        "    return fibonacci_set\n",
        "\n",
        "##Generate the first 5 Fibonacci numbers\n",
        "fibonacci_numbers = generate_fibonacci(5)\n",
        "print(\"Set of the first 5 Fibonacci numbers:\", fibonacci_numbers)"
      ],
      "metadata": {
        "colab": {
          "base_uri": "https://localhost:8080/"
        },
        "id": "RpfPoAyEaGcP",
        "outputId": "f22a8a74-634a-4f88-ccc1-71bf7ab471ba"
      },
      "execution_count": null,
      "outputs": [
        {
          "output_type": "stream",
          "name": "stdout",
          "text": [
            "Set of the first 5 Fibonacci numbers: {0, 1, 2, 3}\n"
          ]
        }
      ]
    },
    {
      "cell_type": "markdown",
      "source": [
        "**43. Remove duplicates from a list using sets.**"
      ],
      "metadata": {
        "id": "Fq1iU3bua32l"
      }
    },
    {
      "cell_type": "code",
      "source": [
        "original_list = [1, 2, 3, 4, 2, 3, 5]\n",
        "unique_list = list(set(original_list))\n",
        "print(\"List with duplicates removed:\", unique_list)"
      ],
      "metadata": {
        "colab": {
          "base_uri": "https://localhost:8080/"
        },
        "id": "j7cl-644a3kk",
        "outputId": "94a3a175-e019-42dc-be37-0c8d3ab406e2"
      },
      "execution_count": null,
      "outputs": [
        {
          "output_type": "stream",
          "name": "stdout",
          "text": [
            "List with duplicates removed: [1, 2, 3, 4, 5]\n"
          ]
        }
      ]
    },
    {
      "cell_type": "markdown",
      "source": [
        "**44. Check if two sets have the same elements, regardless of their count.**"
      ],
      "metadata": {
        "id": "W7l8ierNbH5V"
      }
    },
    {
      "cell_type": "code",
      "source": [
        "set1 = {1, 2, 1, 3}\n",
        "set2 = {3, 2, 1}\n",
        "\n",
        "if set1 == set2:\n",
        "    print(\"The sets have the same elements, regardless of their count\")\n",
        "else:\n",
        "    print(\"The sets do not have the same elements, regardless of their count\")"
      ],
      "metadata": {
        "colab": {
          "base_uri": "https://localhost:8080/"
        },
        "id": "J6ORvfkba3f0",
        "outputId": "9938274e-5da7-40ea-e3dd-a1d0c43df73a"
      },
      "execution_count": null,
      "outputs": [
        {
          "output_type": "stream",
          "name": "stdout",
          "text": [
            "The sets have the same elements, regardless of their count\n"
          ]
        }
      ]
    },
    {
      "cell_type": "markdown",
      "source": [
        "**45. Create a set of the first `n` powers of 2.**"
      ],
      "metadata": {
        "id": "i1VjMRzNbSDJ"
      }
    },
    {
      "cell_type": "code",
      "source": [
        "def powers_of_2(n):\n",
        "    return {2 ** i for i in range(n)}\n",
        "\n",
        "n = 5\n",
        "powers_set = powers_of_2(n)\n",
        "print(\"Set of the first\", n, \"powers of 2:\", powers_set)"
      ],
      "metadata": {
        "colab": {
          "base_uri": "https://localhost:8080/"
        },
        "id": "MVliGhhfZb55",
        "outputId": "a38d08e4-854e-4aa9-cd43-68497f602105"
      },
      "execution_count": null,
      "outputs": [
        {
          "output_type": "stream",
          "name": "stdout",
          "text": [
            "Set of the first 5 powers of 2: {1, 2, 4, 8, 16}\n"
          ]
        }
      ]
    },
    {
      "cell_type": "markdown",
      "source": [
        "**46. Find the common elements between a set and a list.**"
      ],
      "metadata": {
        "id": "d6QqSOc8bb_t"
      }
    },
    {
      "cell_type": "code",
      "source": [
        "my_set = {1, 2, 3, 4, 5}\n",
        "my_list = [4, 5, 6, 7, 8]\n",
        "\n",
        "common_elements = my_set.intersection(my_list)\n",
        "print(\"Common elements:\", common_elements)"
      ],
      "metadata": {
        "colab": {
          "base_uri": "https://localhost:8080/"
        },
        "id": "MezOIn_rbbzg",
        "outputId": "57a88a2a-c413-4023-94d4-d930d1f08224"
      },
      "execution_count": null,
      "outputs": [
        {
          "output_type": "stream",
          "name": "stdout",
          "text": [
            "Common elements: {4, 5}\n"
          ]
        }
      ]
    },
    {
      "cell_type": "markdown",
      "source": [
        "**47. Create a set of the first `n` triangular numbers.**"
      ],
      "metadata": {
        "id": "njeAIwuGbmEr"
      }
    },
    {
      "cell_type": "code",
      "source": [
        "def triangular_numbers(n):\n",
        "    return {i * (i + 1) // 2 for i in range(1, n + 1)}\n",
        "\n",
        "n = 5\n",
        "triangular_set = triangular_numbers(n)\n",
        "print(\"Set of the first\", n, \"triangular numbers:\", triangular_set)"
      ],
      "metadata": {
        "colab": {
          "base_uri": "https://localhost:8080/"
        },
        "id": "M-HTvD0MbboC",
        "outputId": "3cdbd8a0-a9b9-4e91-beaf-77e54bf70252"
      },
      "execution_count": null,
      "outputs": [
        {
          "output_type": "stream",
          "name": "stdout",
          "text": [
            "Set of the first 5 triangular numbers: {1, 3, 6, 10, 15}\n"
          ]
        }
      ]
    },
    {
      "cell_type": "markdown",
      "source": [
        "**48. Check if a set contains another set as a subset.**"
      ],
      "metadata": {
        "id": "yGpwquA5bvhz"
      }
    },
    {
      "cell_type": "code",
      "source": [
        "set1 = {1, 2, 3, 4, 5}\n",
        "set2 = {3, 4}\n",
        "\n",
        "if set2.issubset(set1):\n",
        "    print(\"set2 is a subset of set1\")\n",
        "else:\n",
        "    print(\"set2 is not a subset of set1\")"
      ],
      "metadata": {
        "colab": {
          "base_uri": "https://localhost:8080/"
        },
        "id": "6LoKHDRqba9o",
        "outputId": "3e78ff72-6cb3-417e-c8d5-171f47d674f1"
      },
      "execution_count": null,
      "outputs": [
        {
          "output_type": "stream",
          "name": "stdout",
          "text": [
            "set2 is a subset of set1\n"
          ]
        }
      ]
    },
    {
      "cell_type": "markdown",
      "source": [
        "**49. Create a set of alternating 1s and 0s of length `n`.**"
      ],
      "metadata": {
        "id": "q-NwAYa2b3PO"
      }
    },
    {
      "cell_type": "code",
      "source": [
        "def alternating_set(n):\n",
        "    return {1 if i % 2 == 0 else 0 for i in range(n)}\n",
        "\n",
        "n = 6\n",
        "alternating_set_result = alternating_set(n)\n",
        "print(\"Set of alternating 1s and 0s of length\", n, \":\", alternating_set_result)"
      ],
      "metadata": {
        "colab": {
          "base_uri": "https://localhost:8080/"
        },
        "id": "k3CBGp9Gbay8",
        "outputId": "f059e145-d463-4b8d-aebf-c0a53da29085"
      },
      "execution_count": null,
      "outputs": [
        {
          "output_type": "stream",
          "name": "stdout",
          "text": [
            "Set of alternating 1s and 0s of length 6 : {0, 1}\n"
          ]
        }
      ]
    },
    {
      "cell_type": "markdown",
      "source": [
        "**50. Merge multiple sets into one.**"
      ],
      "metadata": {
        "id": "nB5n4Qe-cDWd"
      }
    },
    {
      "cell_type": "code",
      "source": [
        "set1 = {1, 2, 3}\n",
        "set2 = {4, 5, 6}\n",
        "set3 = {7, 8, 9}\n",
        "\n",
        "merged_set = set1 | set2 | set3\n",
        "print(\"Merged set using | operator:\", merged_set)"
      ],
      "metadata": {
        "id": "yDLTWbvpzAU_",
        "colab": {
          "base_uri": "https://localhost:8080/"
        },
        "outputId": "a9535fdb-04c4-4845-c5be-a69a98db7733"
      },
      "execution_count": null,
      "outputs": [
        {
          "output_type": "stream",
          "name": "stdout",
          "text": [
            "Merged set using | operator: {1, 2, 3, 4, 5, 6, 7, 8, 9}\n"
          ]
        }
      ]
    },
    {
      "cell_type": "code",
      "source": [],
      "metadata": {
        "id": "Fu1RvVBNcKES"
      },
      "execution_count": null,
      "outputs": []
    }
  ]
}