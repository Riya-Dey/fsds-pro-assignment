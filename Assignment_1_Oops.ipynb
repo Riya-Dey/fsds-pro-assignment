{
  "nbformat": 4,
  "nbformat_minor": 0,
  "metadata": {
    "colab": {
      "provenance": []
    },
    "kernelspec": {
      "name": "python3",
      "display_name": "Python 3"
    },
    "language_info": {
      "name": "python"
    }
  },
  "cells": [
    {
      "cell_type": "markdown",
      "source": [
        "# OOPs\n",
        "\n"
      ],
      "metadata": {
        "id": "wdoireA7FxN4"
      }
    },
    {
      "cell_type": "markdown",
      "source": [
        "## Problem 1: Bank Account Create a class representing a bank account with attributes like account number, account holder name, and balance. Implement methods to deposit and withdraw money from the account.\n",
        "\n"
      ],
      "metadata": {
        "id": "HlCMSgJjGPqK"
      }
    },
    {
      "cell_type": "code",
      "execution_count": 1,
      "metadata": {
        "colab": {
          "base_uri": "https://localhost:8080/"
        },
        "id": "qUGd1bcfFVRm",
        "outputId": "7911fbe4-af44-44d2-b4b2-288e3ff3ef4a"
      },
      "outputs": [
        {
          "output_type": "stream",
          "name": "stdout",
          "text": [
            "Enter account number: 12345\n",
            "Enter account holder name: riya\n",
            "Enter amount to deposit: 5000\n",
            "Enter amount to withdraw: 100\n",
            "Account Number: 12345\n",
            "Account Holder: riya\n",
            "Balance: 4900.0\n"
          ]
        }
      ],
      "source": [
        "class BankAccount:\n",
        "    def __init__(self, account_number, account_holder, balance=0):\n",
        "        self.account_number = account_number\n",
        "        self.account_holder = account_holder\n",
        "        self.balance = balance\n",
        "\n",
        "    def deposit(self, amount):\n",
        "        self.balance += amount\n",
        "\n",
        "    def withdraw(self, amount):\n",
        "        if self.balance >= amount:\n",
        "            self.balance -= amount\n",
        "        else:\n",
        "            print(\"Insufficient balance\")\n",
        "\n",
        "    def display(self):\n",
        "        print(f\"Account Number: {self.account_number}\")\n",
        "        print(f\"Account Holder: {self.account_holder}\")\n",
        "        print(f\"Balance: {self.balance}\")\n",
        "\n",
        "# User input\n",
        "account_number = input(\"Enter account number: \")\n",
        "account_holder = input(\"Enter account holder name: \")\n",
        "account = BankAccount(account_number, account_holder)\n",
        "\n",
        "deposit_amount = float(input(\"Enter amount to deposit: \"))\n",
        "account.deposit(deposit_amount)\n",
        "\n",
        "withdraw_amount = float(input(\"Enter amount to withdraw: \"))\n",
        "account.withdraw(withdraw_amount)\n",
        "\n",
        "account.display()"
      ]
    },
    {
      "cell_type": "markdown",
      "source": [
        "## Problem 2: Employee Management Create a class representing an employee with attributes like employee ID, name, and salary. Implement methods to calculate the yearly bonus and display employee details.\n",
        "\n"
      ],
      "metadata": {
        "id": "gCqp04OeGTt5"
      }
    },
    {
      "cell_type": "code",
      "source": [
        "class Employee:\n",
        "    def __init__(self, employee_id, name, salary):\n",
        "        self.employee_id = employee_id\n",
        "        self.name = name\n",
        "        self.salary = salary\n",
        "\n",
        "    def calculate_bonus(self):\n",
        "        bonus = self.salary * 0.10\n",
        "        return bonus\n",
        "\n",
        "    def display(self):\n",
        "        print(f\"Employee ID: {self.employee_id}\")\n",
        "        print(f\"Name: {self.name}\")\n",
        "        print(f\"Salary: {self.salary}\")\n",
        "        print(f\"Yearly Bonus: {self.calculate_bonus()}\")\n",
        "\n",
        "# User input\n",
        "employee_id = input(\"Enter employee ID: \")\n",
        "name = input(\"Enter employee name: \")\n",
        "salary = float(input(\"Enter employee salary: \"))\n",
        "\n",
        "employee = Employee(employee_id, name, salary)\n",
        "employee.display()"
      ],
      "metadata": {
        "colab": {
          "base_uri": "https://localhost:8080/"
        },
        "id": "Ez9NA9RBGXEI",
        "outputId": "0f14ef1a-7cd5-4764-d715-7e525eb2cf01"
      },
      "execution_count": 11,
      "outputs": [
        {
          "output_type": "stream",
          "name": "stdout",
          "text": [
            "Enter employee ID: 12345\n",
            "Enter employee name: riya\n",
            "Enter employee salary: 35000\n",
            "Employee ID: 12345\n",
            "Name: riya\n",
            "Salary: 35000.0\n",
            "Yearly Bonus: 3500.0\n"
          ]
        }
      ]
    },
    {
      "cell_type": "markdown",
      "source": [
        "## Problem 3: Vehicle Rental Create a class representing a vehicle rental system. Implement methods to rent a vehicle, return a vehicle, and display available vehicles.\n",
        "\n"
      ],
      "metadata": {
        "id": "7ETrhYMUGXpk"
      }
    },
    {
      "cell_type": "code",
      "source": [
        "class VehicleRental:\n",
        "    def __init__(self, vehicles):\n",
        "        self.vehicles = vehicles\n",
        "\n",
        "    def rent_vehicle(self, vehicle):\n",
        "        if vehicle in self.vehicles:\n",
        "            self.vehicles.remove(vehicle)\n",
        "            print(f\"{vehicle} has been rented.\")\n",
        "        else:\n",
        "            print(f\"{vehicle} is not available.\")\n",
        "\n",
        "    def return_vehicle(self, vehicle):\n",
        "        if vehicle not in self.vehicles:\n",
        "            self.vehicles.append(vehicle)\n",
        "            print(f\"{vehicle} has been returned.\")\n",
        "        else:\n",
        "            print(f\"{vehicle} is already available.\")\n",
        "\n",
        "    def display_available(self):\n",
        "        print(\"Available Vehicles: \", self.vehicles)\n",
        "\n",
        "# User input\n",
        "vehicles_list = [\"car\", \"bike\", \"van\"]\n",
        "rental_system = VehicleRental(vehicles_list)\n",
        "\n",
        "rental_system.display_available()\n",
        "vehicle = input(\"Enter vehicle to rent: \").lower()\n",
        "rental_system.rent_vehicle(vehicle)\n",
        "\n",
        "rental_system.display_available()\n",
        "returned_vehicle = input(\"Enter vehicle to return: \").lower()\n",
        "rental_system.return_vehicle(returned_vehicle)\n",
        "\n",
        "rental_system.display_available()"
      ],
      "metadata": {
        "colab": {
          "base_uri": "https://localhost:8080/"
        },
        "id": "D9TnkPMSGamj",
        "outputId": "9ede9381-57a1-4b90-e96d-96a0437cebb7"
      },
      "execution_count": 19,
      "outputs": [
        {
          "output_type": "stream",
          "name": "stdout",
          "text": [
            "Available Vehicles:  ['car', 'bike', 'van']\n",
            "Enter vehicle to rent: BIKE\n",
            "bike has been rented.\n",
            "Available Vehicles:  ['car', 'van']\n",
            "Enter vehicle to return: CAR\n",
            "car is already available.\n",
            "Available Vehicles:  ['car', 'van']\n"
          ]
        }
      ]
    },
    {
      "cell_type": "markdown",
      "source": [
        "## Problem 4: Library Catalog Create classes representing a library and a book. Implement methods to add books to the library, borrow books, and display available books.\n",
        "\n"
      ],
      "metadata": {
        "id": "bEZVwd76GbYl"
      }
    },
    {
      "cell_type": "code",
      "source": [
        "class Book:\n",
        "    def __init__(self, title, author):\n",
        "        self.title = title\n",
        "        self.author = author\n",
        "\n",
        "class Library:\n",
        "    def __init__(self):\n",
        "        self.books = []\n",
        "\n",
        "    def add_book(self, book):\n",
        "        self.books.append(book)\n",
        "\n",
        "    def borrow_book(self, title):\n",
        "        for book in self.books:\n",
        "            if book.title == title:\n",
        "                self.books.remove(book)\n",
        "                print(f\"You have borrowed '{title}'\")\n",
        "                return\n",
        "        print(\"Book not available\")\n",
        "\n",
        "    def display_available_books(self):\n",
        "        print(\"Available Books:\")\n",
        "        for book in self.books:\n",
        "            print(f\"Title: {book.title}, Author: {book.author}\")\n",
        "\n",
        "# User input\n",
        "library = Library()\n",
        "num_books = int(input(\"How many books to add to the library? \"))\n",
        "\n",
        "for _ in range(num_books):\n",
        "    title = input(\"Enter book title: \")\n",
        "    author = input(\"Enter book author: \")\n",
        "    library.add_book(Book(title, author))\n",
        "\n",
        "library.display_available_books()\n",
        "borrow_title = input(\"Enter the title of the book to borrow: \")\n",
        "library.borrow_book(borrow_title)\n",
        "\n",
        "library.display_available_books()"
      ],
      "metadata": {
        "colab": {
          "base_uri": "https://localhost:8080/"
        },
        "id": "YUaaRMWAGd40",
        "outputId": "14b7b3e9-566a-48f6-96d6-861df0263216"
      },
      "execution_count": 22,
      "outputs": [
        {
          "output_type": "stream",
          "name": "stdout",
          "text": [
            "How many books to add to the library? 5\n",
            "Enter book title: 48 LAWS OF POWER\n",
            "Enter book author: ROBERT GREENIE\n",
            "Enter book title: HARRY POTTER BOOK SERIES\n",
            "Enter book author: J K ROWLING\n",
            "Enter book title: TWILIGHT BOOK SERIES\n",
            "Enter book author: STEPHEN MEYER\n",
            "Enter book title: WINGS OF FIRE\n",
            "Enter book author: APJ ABDUL KALAM\n",
            "Enter book title: RICH DAD POOR DAD\n",
            "Enter book author: ROBERT T. KYOSAKI\n",
            "Available Books:\n",
            "Title: 48 LAWS OF POWER, Author: ROBERT GREENIE\n",
            "Title: HARRY POTTER BOOK SERIES, Author: J K ROWLING\n",
            "Title: TWILIGHT BOOK SERIES, Author: STEPHEN MEYER\n",
            "Title: WINGS OF FIRE, Author: APJ ABDUL KALAM\n",
            "Title: RICH DAD POOR DAD, Author: ROBERT T. KYOSAKI\n",
            "Enter the title of the book to borrow: TO KILL A MOCKINGBIRD\n",
            "Book not available\n",
            "Available Books:\n",
            "Title: 48 LAWS OF POWER, Author: ROBERT GREENIE\n",
            "Title: HARRY POTTER BOOK SERIES, Author: J K ROWLING\n",
            "Title: TWILIGHT BOOK SERIES, Author: STEPHEN MEYER\n",
            "Title: WINGS OF FIRE, Author: APJ ABDUL KALAM\n",
            "Title: RICH DAD POOR DAD, Author: ROBERT T. KYOSAKI\n"
          ]
        }
      ]
    },
    {
      "cell_type": "markdown",
      "source": [
        "## Problem 5: Product Inventory Create classes representing a product and an inventory system. Implement methods to add products to the inventory, update product quantity, and display available products.\n",
        "\n"
      ],
      "metadata": {
        "id": "qZbe1dFbGe3J"
      }
    },
    {
      "cell_type": "code",
      "source": [
        "class Product:\n",
        "    def __init__(self, name, quantity):\n",
        "        self.name = name\n",
        "        self.quantity = quantity\n",
        "\n",
        "class Inventory:\n",
        "    def __init__(self):\n",
        "        self.products = []\n",
        "\n",
        "    def add_product(self, product):\n",
        "        self.products.append(product)\n",
        "\n",
        "    def update_quantity(self, name, quantity):\n",
        "        for product in self.products:\n",
        "            if product.name == name:\n",
        "                product.quantity += quantity\n",
        "                print(f\"Updated {name} quantity by {quantity}\")\n",
        "                return\n",
        "        print(\"Product not found\")\n",
        "\n",
        "    def display_products(self):\n",
        "        print(\"Available Products:\")\n",
        "        for product in self.products:\n",
        "            print(f\"Product: {product.name}, Quantity: {product.quantity}\")\n",
        "\n",
        "# User input\n",
        "inventory = Inventory()\n",
        "num_products = int(input(\"How many products to add? \"))\n",
        "\n",
        "for _ in range(num_products):\n",
        "    name = input(\"Enter product name: \")\n",
        "    quantity = int(input(\"Enter product quantity: \"))\n",
        "    inventory.add_product(Product(name, quantity))\n",
        "\n",
        "inventory.display_products()\n",
        "update_product = input(\"Enter product name to update quantity: \")\n",
        "update_quantity = int(input(\"Enter quantity to update: \"))\n",
        "inventory.update_quantity(update_product, update_quantity)\n",
        "\n",
        "inventory.display_products()"
      ],
      "metadata": {
        "colab": {
          "base_uri": "https://localhost:8080/"
        },
        "id": "8VpCXZ7oGhz3",
        "outputId": "46e4257f-020a-449e-bbf2-d75fc7e99a2e"
      },
      "execution_count": 23,
      "outputs": [
        {
          "output_type": "stream",
          "name": "stdout",
          "text": [
            "How many products to add? 5\n",
            "Enter product name: RAW MATERIAL\n",
            "Enter product quantity: 10\n",
            "Enter product name: BOOKS\n",
            "Enter product quantity: 500\n",
            "Enter product name: COMPUTERS\n",
            "Enter product quantity: 40\n",
            "Enter product name: PAPER BUNDLES\n",
            "Enter product quantity: 10\n",
            "Enter product name: PENS\n",
            "Enter product quantity: 1000\n",
            "Available Products:\n",
            "Product: RAW MATERIAL, Quantity: 10\n",
            "Product: BOOKS, Quantity: 500\n",
            "Product: COMPUTERS, Quantity: 40\n",
            "Product: PAPER BUNDLES, Quantity: 10\n",
            "Product: PENS, Quantity: 1000\n",
            "Enter product name to update quantity: COMPUTERS\n",
            "Enter quantity to update: 60\n",
            "Updated COMPUTERS quantity by 60\n",
            "Available Products:\n",
            "Product: RAW MATERIAL, Quantity: 10\n",
            "Product: BOOKS, Quantity: 500\n",
            "Product: COMPUTERS, Quantity: 100\n",
            "Product: PAPER BUNDLES, Quantity: 10\n",
            "Product: PENS, Quantity: 1000\n"
          ]
        }
      ]
    },
    {
      "cell_type": "markdown",
      "source": [
        "## Problem 6: Shape Calculation Create a class representing a shape with attributes like length, width, and height. Implement methods to calculate the area and perimeter of the shape.\n",
        "\n"
      ],
      "metadata": {
        "id": "1wzps5seGjUa"
      }
    },
    {
      "cell_type": "code",
      "source": [
        "class Shape:\n",
        "    def __init__(self, length, width):\n",
        "        self.length = length\n",
        "        self.width = width\n",
        "\n",
        "    def calculate_area(self):\n",
        "        return self.length * self.width\n",
        "\n",
        "    def calculate_perimeter(self):\n",
        "        return 2 * (self.length + self.width)\n",
        "\n",
        "# User input\n",
        "length = float(input(\"Enter the length of the shape: \"))\n",
        "width = float(input(\"Enter the width of the shape: \"))\n",
        "\n",
        "shape = Shape(length, width)\n",
        "print(f\"Area: {shape.calculate_area()}\")\n",
        "print(f\"Perimeter: {shape.calculate_perimeter()}\")"
      ],
      "metadata": {
        "colab": {
          "base_uri": "https://localhost:8080/"
        },
        "id": "lTwm1JeuGmSv",
        "outputId": "2dc764f8-99b8-4867-bab7-e4b784c1687e"
      },
      "execution_count": 24,
      "outputs": [
        {
          "output_type": "stream",
          "name": "stdout",
          "text": [
            "Enter the length of the shape: 7\n",
            "Enter the width of the shape: 10\n",
            "Area: 70.0\n",
            "Perimeter: 34.0\n"
          ]
        }
      ]
    },
    {
      "cell_type": "markdown",
      "source": [
        "## Problem 7: Student Management Create a class representing a student with attributes like student ID, name, and grades. Implement methods to calculate the average grade and display student details.\n",
        "\n"
      ],
      "metadata": {
        "id": "phXPTnDHGnFr"
      }
    },
    {
      "cell_type": "code",
      "source": [
        "class Student:\n",
        "    def __init__(self, student_id, name, grades):\n",
        "        self.student_id = student_id\n",
        "        self.name = name\n",
        "        self.grades = grades\n",
        "\n",
        "    def calculate_average(self):\n",
        "        return sum(self.grades) / len(self.grades)\n",
        "\n",
        "    def display(self):\n",
        "        print(f\"Student ID: {self.student_id}\")\n",
        "        print(f\"Name: {self.name}\")\n",
        "        print(f\"Average Grade: {self.calculate_average()}\")\n",
        "\n",
        "# User input\n",
        "student_id = input(\"Enter student ID: \")\n",
        "name = input(\"Enter student name: \")\n",
        "grades = list(map(int, input(\"Enter grades separated by spaces: \").split()))\n",
        "\n",
        "student = Student(student_id, name, grades)\n",
        "student.display()"
      ],
      "metadata": {
        "colab": {
          "base_uri": "https://localhost:8080/"
        },
        "id": "U9U3qtAxGpd3",
        "outputId": "c6157d29-10e9-4e34-e2e4-287435a2f6b0"
      },
      "execution_count": 25,
      "outputs": [
        {
          "output_type": "stream",
          "name": "stdout",
          "text": [
            "Enter student ID: 123\n",
            "Enter student name: ABC\n",
            "Enter grades separated by spaces: 80 85 75 70 95 90\n",
            "Student ID: 123\n",
            "Name: ABC\n",
            "Average Grade: 82.5\n"
          ]
        }
      ]
    },
    {
      "cell_type": "markdown",
      "source": [
        "## Problem 8: Email Management Create a class representing an email with attributes like sender, recipient, and subject. Implement methods to send an email and display email details.\n",
        "\n"
      ],
      "metadata": {
        "id": "8C6sm2JaGqNW"
      }
    },
    {
      "cell_type": "code",
      "source": [
        "class Email:\n",
        "    def __init__(self, sender, recipient, subject):\n",
        "        self.sender = sender\n",
        "        self.recipient = recipient\n",
        "        self.subject = subject\n",
        "\n",
        "    def send(self):\n",
        "        print(f\"Email sent from {self.sender} to {self.recipient} with subject '{self.subject}'\")\n",
        "\n",
        "    def display_details(self):\n",
        "        print(f\"Sender: {self.sender}\")\n",
        "        print(f\"Recipient: {self.recipient}\")\n",
        "        print(f\"Subject: {self.subject}\")\n",
        "\n",
        "# User input\n",
        "sender = input(\"Enter sender email: \")\n",
        "recipient = input(\"Enter recipient email: \")\n",
        "subject = input(\"Enter subject: \")\n",
        "\n",
        "email = Email(sender, recipient, subject)\n",
        "email.send()\n",
        "email.display_details()"
      ],
      "metadata": {
        "colab": {
          "base_uri": "https://localhost:8080/"
        },
        "id": "a3Nx28elG8kv",
        "outputId": "ad36c661-69df-4364-f9ad-dc255c01036c"
      },
      "execution_count": 26,
      "outputs": [
        {
          "output_type": "stream",
          "name": "stdout",
          "text": [
            "Enter sender email: abc@gmail.com\n",
            "Enter recipient email: xyz@gmail.com\n",
            "Enter subject: test\n",
            "Email sent from abc@gmail.com to xyz@gmail.com with subject 'test'\n",
            "Sender: abc@gmail.com\n",
            "Recipient: xyz@gmail.com\n",
            "Subject: test\n"
          ]
        }
      ]
    },
    {
      "cell_type": "markdown",
      "source": [
        "## Problem 9: Social Media Profile Create a class representing a social media profile with attributes like username and posts. Implement methods to add posts, display posts, and search for posts by keyword.\n",
        "\n"
      ],
      "metadata": {
        "id": "yG6eEuanG9tp"
      }
    },
    {
      "cell_type": "code",
      "source": [
        "class SocialMediaProfile:\n",
        "    def __init__(self, username):\n",
        "        self.username = username\n",
        "        self.posts = []\n",
        "\n",
        "    def add_post(self, post):\n",
        "        self.posts.append(post)\n",
        "\n",
        "    def display_posts(self):\n",
        "        print(f\"Posts by {self.username}:\")\n",
        "        for post in self.posts:\n",
        "            print(post)\n",
        "\n",
        "    def search_posts(self, keyword):\n",
        "        result = [post for post in self.posts if keyword in post]\n",
        "        print(\"Matching Posts:\")\n",
        "        for post in result:\n",
        "            print(post)\n",
        "\n",
        "# User input\n",
        "username = input(\"Enter username: \")\n",
        "profile = SocialMediaProfile(username)\n",
        "\n",
        "post = input(\"Enter post: \")\n",
        "profile.add_post(post)\n",
        "\n",
        "profile.display_posts()\n",
        "keyword = input(\"Enter keyword to search: \")\n",
        "profile.search_posts(keyword)"
      ],
      "metadata": {
        "colab": {
          "base_uri": "https://localhost:8080/"
        },
        "id": "HKgUlwUMHAKA",
        "outputId": "4ed27af2-0f3b-4f15-fc94-a1187be39cfe"
      },
      "execution_count": 27,
      "outputs": [
        {
          "output_type": "stream",
          "name": "stdout",
          "text": [
            "Enter username: rd_01\n",
            "Enter post: rd123\n",
            "Posts by rd_01:\n",
            "rd123\n",
            "Enter keyword to search: rd\n",
            "Matching Posts:\n",
            "rd123\n"
          ]
        }
      ]
    },
    {
      "cell_type": "markdown",
      "source": [
        "## Problem 10: ToDo List Create a class representing a ToDo list with attributes like tasks and due dates. Implement methods to add tasks, mark tasks as completed, and display pending tasks."
      ],
      "metadata": {
        "id": "WjihAitCHJbo"
      }
    },
    {
      "cell_type": "code",
      "source": [
        "class ToDoList:\n",
        "    def __init__(self):\n",
        "        self.tasks = {}\n",
        "\n",
        "    def add_task(self, task, due_date):\n",
        "        self.tasks[task] = due_date\n",
        "\n",
        "    def mark_task_completed(self, task):\n",
        "        if task in self.tasks:\n",
        "            del self.tasks[task]\n",
        "            print(f\"Task '{task}' completed.\")\n",
        "\n",
        "    def display_pending_tasks(self):\n",
        "        print(\"Pending Tasks:\")\n",
        "        for task, due_date in self.tasks.items():\n",
        "            print(f\"Task: {task}, Due Date: {due_date}\")\n",
        "\n",
        "# User input\n",
        "todo_list = ToDoList()\n",
        "num_tasks = int(input(\"How many tasks to add? \"))\n",
        "\n",
        "for _ in range(num_tasks):\n",
        "    task = input(\"Enter task: \")\n",
        "    due_date = input(\"Enter due date: \")\n",
        "    todo_list.add_task(task, due_date)\n",
        "\n",
        "todo_list.display_pending_tasks()\n",
        "completed_task = input(\"Enter task to mark as completed: \")\n",
        "todo_list.mark_task_completed(completed_task)\n",
        "\n",
        "todo_list.display_pending_tasks()"
      ],
      "metadata": {
        "colab": {
          "base_uri": "https://localhost:8080/"
        },
        "id": "X8uKtG55HKeX",
        "outputId": "015f378c-e24c-4db6-a31e-168a386568f2"
      },
      "execution_count": 28,
      "outputs": [
        {
          "output_type": "stream",
          "name": "stdout",
          "text": [
            "How many tasks to add? 2\n",
            "Enter task: coding\n",
            "Enter due date: 08/09/2024\n",
            "Enter task: reading\n",
            "Enter due date: 09/09/2024\n",
            "Pending Tasks:\n",
            "Task: coding, Due Date: 08/09/2024\n",
            "Task: reading, Due Date: 09/09/2024\n",
            "Enter task to mark as completed: coding\n",
            "Task 'coding' completed.\n",
            "Pending Tasks:\n",
            "Task: reading, Due Date: 09/09/2024\n"
          ]
        }
      ]
    },
    {
      "cell_type": "code",
      "source": [],
      "metadata": {
        "id": "o6_Yg5vNPEWy"
      },
      "execution_count": 10,
      "outputs": []
    }
  ]
}