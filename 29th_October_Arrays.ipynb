{
 "cells": [
  {
   "cell_type": "raw",
   "id": "d87ec73e-9d5f-41f6-bd43-7dd2e8e45cd8",
   "metadata": {},
   "source": [
    "1. Given an array, check if it contains any duplicates or not.\n",
    "arr = [1, 2, 4, 2, 5, 9]\n",
    "Output = True"
   ]
  },
  {
   "cell_type": "code",
   "execution_count": 10,
   "id": "c780990b-0d4b-4e5f-8420-4092940b91c7",
   "metadata": {},
   "outputs": [
    {
     "name": "stdout",
     "output_type": "stream",
     "text": [
      "True\n"
     ]
    }
   ],
   "source": [
    "##Function definition\n",
    "\n",
    "def search_duplicate(arr):\n",
    "    n = len(arr)\n",
    "    for i in range (n):\n",
    "        if arr.count(arr[i]) > 1 :\n",
    "##if any elements in the array is duplicate, then the count of th\n",
    "            return True\n",
    "    return -1\n",
    "\n",
    "##Driver code\n",
    "arr = [1, 2, 4, 2, 5, 9]\n",
    "result = search_duplicate(arr)\n",
    "print(result)"
   ]
  },
  {
   "cell_type": "raw",
   "id": "ad531881-0f21-4821-b4fc-7c3e4c8ef241",
   "metadata": {},
   "source": [
    "2. Given an array and an integer k, rotate the array to the right by k steps.\n",
    "arr = [1, 2, 3, 4, 5, 6, 7] k = 3\n",
    "Output = [5, 6, 7, 1, 2, 3, 4]"
   ]
  },
  {
   "cell_type": "code",
   "execution_count": 1,
   "id": "2419f5a5-1d5e-421f-8e00-960fd0deebd8",
   "metadata": {},
   "outputs": [
    {
     "name": "stdout",
     "output_type": "stream",
     "text": [
      "[5, 6, 7, 1, 2, 3, 4]\n"
     ]
    }
   ],
   "source": [
    "def rotation_of_array(arr, k):\n",
    "    \n",
    "    ## Outer loop for the number of rotations\n",
    "    for i in range(0, k):\n",
    "        \n",
    "        ## Store the last element to rotate it to the front\n",
    "        last_elment = arr[-1]\n",
    "        \n",
    "        ## Inner loop to shift elements to the right\n",
    "        for j in range(len(arr)-1, 0, -1):\n",
    "            arr[j] = arr[j-1]\n",
    "            \n",
    "        ## Place the last element at the beginning\n",
    "        arr[0] = last_elment\n",
    "        \n",
    "    ## Return the rotated array\n",
    "    return arr\n",
    "\n",
    "## Driver code\n",
    "arr = [1, 2, 3, 4, 5, 6, 7]\n",
    "k = 3\n",
    "x = rotation_of_array(arr, k)\n",
    "print(x)\n"
   ]
  },
  {
   "cell_type": "raw",
   "id": "74b563bf-b14d-4dd1-8cc6-a6dea600199c",
   "metadata": {},
   "source": [
    "3. Reverse the given array in-place, means without using any extra data structure.\n",
    "arr = [2, 4, 5, 7, 9, 12]\n",
    "Output = [12, 9, 7, 5, 4, 2]"
   ]
  },
  {
   "cell_type": "code",
   "execution_count": 8,
   "id": "08d051ca-af87-4f8a-94ad-063bdfddd049",
   "metadata": {},
   "outputs": [
    {
     "name": "stdout",
     "output_type": "stream",
     "text": [
      "[12, 9, 7, 5, 4, 2]\n"
     ]
    }
   ],
   "source": [
    "def reverse_array_in_place(arr):\n",
    "    ## Get the length of the array\n",
    "    n = len(arr)\n",
    "\n",
    "    ## Initialize pointers\n",
    "    start_index = 0\n",
    "    end_index = n - 1\n",
    "\n",
    "    ## Swap elements using two pointers until they meet in the middle\n",
    "    while start_index < end_index:\n",
    "        arr[start_index], arr[end_index] = arr[end_index], arr[start_index]\n",
    "        start_index += 1\n",
    "        end_index -= 1\n",
    "\n",
    "## Driver code\n",
    "arr = [2, 4, 5, 7, 9, 12]\n",
    "reverse_array_in_place(arr)\n",
    "print(arr)\n"
   ]
  },
  {
   "cell_type": "raw",
   "id": "7527f64f-98eb-4e67-b29e-d0d0ee80f26c",
   "metadata": {},
   "source": [
    "4. Given an array of integers, find the maximum element in an array\n",
    "arr = [10, 5, 20, 8, 15]\n",
    "Output = 20"
   ]
  },
  {
   "cell_type": "code",
   "execution_count": 13,
   "id": "01388761-02e8-4cc6-a9f7-dac127c930a4",
   "metadata": {},
   "outputs": [
    {
     "name": "stdout",
     "output_type": "stream",
     "text": [
      "20\n"
     ]
    }
   ],
   "source": [
    "def finding_max_element(arr):\n",
    "    \n",
    "    ## Get the length of the array\n",
    "    n = len(arr) \n",
    "    ## Starting from the 1st index\n",
    "    max_element = arr[0]\n",
    "    \n",
    "    for i in range(0,n-1):\n",
    "        if arr[i] > max_element :\n",
    "            max_element = arr[i]\n",
    "    return max_element\n",
    "        \n",
    "##Driver code\n",
    "X = finding_max_element(arr)\n",
    "arr = [10, 5, 20, 8, 15]\n",
    "print(X)"
   ]
  },
  {
   "cell_type": "raw",
   "id": "50af2f40-c2c2-49af-a626-90b7977daed7",
   "metadata": {},
   "source": [
    "5. Given a sorted array, remove the duplicate element without using any extra data structure.\n",
    "arr = [1, 1, 2, 2, 2, 3, 3, 4, 4, 4, 5, 5]\n",
    "Output = [1, 2, 3, 4, 5]"
   ]
  },
  {
   "cell_type": "code",
   "execution_count": 22,
   "id": "2778bdf4-3ca4-481e-bc9a-880fb4556d07",
   "metadata": {},
   "outputs": [],
   "source": [
    "def removing_duplicate_elements(arr):\n",
    "    i = 0\n",
    "    j = 1\n",
    "\n",
    "    while j < len(arr):\n",
    "        if arr[i] == arr[j]:\n",
    "            arr.pop(j)  \n",
    "        else:\n",
    "            i += 1\n",
    "            j += 1\n",
    "\n",
    "    return arr"
   ]
  },
  {
   "cell_type": "code",
   "execution_count": 24,
   "id": "b2dd028c-5b42-4dff-adea-79f7ec1b19f9",
   "metadata": {},
   "outputs": [
    {
     "name": "stdout",
     "output_type": "stream",
     "text": [
      "[1, 2, 3, 4, 5]\n"
     ]
    }
   ],
   "source": [
    "arr = [1, 1, 2, 2, 2, 3, 3, 4, 4, 4, 5, 5]\n",
    "X = removing_duplicate_elements(arr)\n",
    "print(X)"
   ]
  }
 ],
 "metadata": {
  "kernelspec": {
   "display_name": "Python 3 (ipykernel)",
   "language": "python",
   "name": "python3"
  },
  "language_info": {
   "codemirror_mode": {
    "name": "ipython",
    "version": 3
   },
   "file_extension": ".py",
   "mimetype": "text/x-python",
   "name": "python",
   "nbconvert_exporter": "python",
   "pygments_lexer": "ipython3",
   "version": "3.10.8"
  }
 },
 "nbformat": 4,
 "nbformat_minor": 5
}
