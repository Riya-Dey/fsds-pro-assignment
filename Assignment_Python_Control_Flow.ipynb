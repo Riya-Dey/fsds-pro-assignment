{
  "nbformat": 4,
  "nbformat_minor": 0,
  "metadata": {
    "colab": {
      "provenance": []
    },
    "kernelspec": {
      "name": "python3",
      "display_name": "Python 3"
    },
    "language_info": {
      "name": "python"
    }
  },
  "cells": [
    {
      "cell_type": "markdown",
      "source": [
        "# Basic If-Else Statements:"
      ],
      "metadata": {
        "id": "9lf-K1q2uoCZ"
      }
    },
    {
      "cell_type": "markdown",
      "source": [
        "## 1. Write a Python program to check if a given number is positive or negative.\n"
      ],
      "metadata": {
        "id": "wub8FpAsuv6W"
      }
    },
    {
      "cell_type": "code",
      "execution_count": 1,
      "metadata": {
        "colab": {
          "base_uri": "https://localhost:8080/"
        },
        "id": "JJW2Fa7XuIdW",
        "outputId": "65df7796-a5d5-403b-8613-eb3b0a6f6fbf"
      },
      "outputs": [
        {
          "output_type": "stream",
          "name": "stdout",
          "text": [
            "Enter a number: 29\n",
            "The number is positive.\n"
          ]
        }
      ],
      "source": [
        "num = float(input(\"Enter a number: \"))\n",
        "\n",
        "if num > 0:\n",
        "    print(\"The number is positive.\")\n",
        "elif num < 0:\n",
        "    print(\"The number is negative.\")\n",
        "else:\n",
        "    print(\"The number is zero.\")"
      ]
    },
    {
      "cell_type": "markdown",
      "source": [
        "## 2. Create a program that determines if a person is eligible to vote based on their age.\n"
      ],
      "metadata": {
        "id": "fjWFYk82u0YS"
      }
    },
    {
      "cell_type": "code",
      "source": [
        "age = int(input(\"Enter your age: \"))\n",
        "\n",
        "# Check if the person is eligible to vote\n",
        "if age >= 18:\n",
        "    print(\"You are eligible to vote.\")\n",
        "else:\n",
        "    print(\"You are not eligible to vote.\")"
      ],
      "metadata": {
        "colab": {
          "base_uri": "https://localhost:8080/"
        },
        "id": "y6wx0WA7u2-I",
        "outputId": "ac04101d-ac29-4ae0-e5a2-9693e1fbb2ca"
      },
      "execution_count": 2,
      "outputs": [
        {
          "output_type": "stream",
          "name": "stdout",
          "text": [
            "Enter your age: 17\n",
            "You are not eligible to vote.\n"
          ]
        }
      ]
    },
    {
      "cell_type": "markdown",
      "source": [
        "## 3. Develop a program to find the maximum of two numbers using if-else statements.\n"
      ],
      "metadata": {
        "id": "Eo-_IsvSu3gF"
      }
    },
    {
      "cell_type": "code",
      "source": [
        "num1 = float(input(\"Enter the first number: \"))\n",
        "num2 = float(input(\"Enter the second number: \"))\n",
        "\n",
        "# Compare the two numbers to find the maximum\n",
        "if num1 > num2:\n",
        "    max_num = num1\n",
        "else:\n",
        "    max_num = num2\n",
        "\n",
        "print(f\"The maximum of {num1} and {num2} is {max_num}.\")"
      ],
      "metadata": {
        "colab": {
          "base_uri": "https://localhost:8080/"
        },
        "id": "JPkUQXKYu55M",
        "outputId": "af0bbfea-9fa5-4886-f932-89effe477ca3"
      },
      "execution_count": 3,
      "outputs": [
        {
          "output_type": "stream",
          "name": "stdout",
          "text": [
            "Enter the first number: 13\n",
            "Enter the second number: 35\n",
            "The maximum of 13.0 and 35.0 is 35.0.\n"
          ]
        }
      ]
    },
    {
      "cell_type": "markdown",
      "source": [
        "## 4. Write a Python script to classify a given year as a leap year or not.\n"
      ],
      "metadata": {
        "id": "TBm7Xf2pu6bx"
      }
    },
    {
      "cell_type": "code",
      "source": [
        "year = int(input(\"Enter a year: \"))\n",
        "\n",
        "# Check if the year is a leap year\n",
        "if (year % 4 == 0 and year % 100 != 0) or (year % 400 == 0):\n",
        "    print(f\"{year} is a leap year.\")\n",
        "else:\n",
        "    print(f\"{year} is not a leap year.\")"
      ],
      "metadata": {
        "colab": {
          "base_uri": "https://localhost:8080/"
        },
        "id": "FsEnDeuSvB0O",
        "outputId": "565e03e2-d510-4c8e-ec38-ab2a379ee369"
      },
      "execution_count": 4,
      "outputs": [
        {
          "output_type": "stream",
          "name": "stdout",
          "text": [
            "Enter a year: 1900\n",
            "1900 is not a leap year.\n"
          ]
        }
      ]
    },
    {
      "cell_type": "markdown",
      "source": [
        "## 5. Create a program that checks whether a character is a vowel or a consonant.\n"
      ],
      "metadata": {
        "id": "MMMlcaSJvGWC"
      }
    },
    {
      "cell_type": "code",
      "source": [
        "char = input(\"Enter a character: \").lower()\n",
        "\n",
        "if char in 'aeiou':\n",
        "    print(f\"'{char}' is a vowel.\")\n",
        "else:\n",
        "    print(f\"'{char}' is a consonant.\")"
      ],
      "metadata": {
        "colab": {
          "base_uri": "https://localhost:8080/"
        },
        "id": "wjHm_D-XvIL-",
        "outputId": "03855159-6e0e-46e6-f279-86e5290444c6"
      },
      "execution_count": 5,
      "outputs": [
        {
          "output_type": "stream",
          "name": "stdout",
          "text": [
            "Enter a character: r\n",
            "'r' is a consonant.\n"
          ]
        }
      ]
    },
    {
      "cell_type": "markdown",
      "source": [
        "## 6. Implement a program to determine whether a given number is even or odd.\n"
      ],
      "metadata": {
        "id": "S-ket4B9vQrG"
      }
    },
    {
      "cell_type": "code",
      "source": [
        "number = int(input(\"Enter a number: \"))\n",
        "\n",
        "if number % 2 == 0:\n",
        "    print(f\"{number} is even.\")\n",
        "else:\n",
        "    print(f\"{number} is odd.\")"
      ],
      "metadata": {
        "colab": {
          "base_uri": "https://localhost:8080/"
        },
        "id": "CUW9YuXWvTKM",
        "outputId": "20b724f4-c27b-4eda-cfa3-536406ff5a94"
      },
      "execution_count": 6,
      "outputs": [
        {
          "output_type": "stream",
          "name": "stdout",
          "text": [
            "Enter a number: 25\n",
            "25 is odd.\n"
          ]
        }
      ]
    },
    {
      "cell_type": "markdown",
      "source": [
        "## 7. Write a Python function to calculate the absolute value of a number without using the `abs()` function.\n"
      ],
      "metadata": {
        "id": "ZcNIBkq6vT6E"
      }
    },
    {
      "cell_type": "code",
      "source": [
        "def absolute_value(number):\n",
        "    # Calculate the absolute value\n",
        "    if number < 0:\n",
        "        return -number\n",
        "    else:\n",
        "        return number\n",
        "\n",
        "# Example usage\n",
        "num = float(input(\"Enter a number: \"))\n",
        "print(f\"The absolute value of {num} is {absolute_value(num)}.\")"
      ],
      "metadata": {
        "colab": {
          "base_uri": "https://localhost:8080/"
        },
        "id": "_cY1grjyvWQs",
        "outputId": "5168c97b-1680-43c8-8530-fc63d790409c"
      },
      "execution_count": 7,
      "outputs": [
        {
          "output_type": "stream",
          "name": "stdout",
          "text": [
            "Enter a number: -98\n",
            "The absolute value of -98.0 is 98.0.\n"
          ]
        }
      ]
    },
    {
      "cell_type": "markdown",
      "source": [
        "## 8. Develop a program that determines the largest of three given numbers using if-else statements.\n"
      ],
      "metadata": {
        "id": "drcN5CvrvW-v"
      }
    },
    {
      "cell_type": "code",
      "source": [
        "num1 = float(input(\"Enter the first number: \"))\n",
        "num2 = float(input(\"Enter the second number: \"))\n",
        "num3 = float(input(\"Enter the third number: \"))\n",
        "\n",
        "# Determine the largest number using if-else statements\n",
        "if (num1 >= num2) and (num1 >= num3):\n",
        "    largest = num1\n",
        "elif (num2 >= num1) and (num2 >= num3):\n",
        "    largest = num2\n",
        "else:\n",
        "    largest = num3\n",
        "\n",
        "print(f\"The largest number is {largest}.\")"
      ],
      "metadata": {
        "colab": {
          "base_uri": "https://localhost:8080/"
        },
        "id": "XQtQdtFBvZAN",
        "outputId": "817a5f86-b7e7-498f-c4b7-4a6057dba9a5"
      },
      "execution_count": 8,
      "outputs": [
        {
          "output_type": "stream",
          "name": "stdout",
          "text": [
            "Enter the first number: 3\n",
            "Enter the second number: 1\n",
            "Enter the third number: 3\n",
            "The largest number is 3.0.\n"
          ]
        }
      ]
    },
    {
      "cell_type": "markdown",
      "source": [
        "## 9. Create a program that checks if a given string is a palindrome.\n"
      ],
      "metadata": {
        "id": "VujzLDVhvZl5"
      }
    },
    {
      "cell_type": "code",
      "source": [
        "def is_palindrome(s):\n",
        "    # Convert the string to lowercase to make the check case-insensitive\n",
        "    s = s.lower()\n",
        "    # Remove spaces from the string\n",
        "    s = s.replace(\" \", \"\")\n",
        "    # Check if the string is equal to its reverse\n",
        "    return s == s[::-1]\n",
        "\n",
        "# Input: string from the user\n",
        "string = input(\"Enter a string: \")\n",
        "\n",
        "# Check if the string is a palindrome\n",
        "if is_palindrome(string):\n",
        "    print(f\"'{string}' is a palindrome.\")\n",
        "else:\n",
        "    print(f\"'{string}' is not a palindrome.\")"
      ],
      "metadata": {
        "colab": {
          "base_uri": "https://localhost:8080/"
        },
        "id": "KtPEBKxevb4l",
        "outputId": "da5158d6-f9d8-4d15-e5ab-722530384728"
      },
      "execution_count": 9,
      "outputs": [
        {
          "output_type": "stream",
          "name": "stdout",
          "text": [
            "Enter a string: Radar\n",
            "'Radar' is a palindrome.\n"
          ]
        }
      ]
    },
    {
      "cell_type": "markdown",
      "source": [
        "## 10. Write a Python program to calculate the grade based on a student's score.\n"
      ],
      "metadata": {
        "id": "Dmomo1Omvcc4"
      }
    },
    {
      "cell_type": "code",
      "source": [
        "def calculate_grade(score):\n",
        "    # Determine the grade based on the score\n",
        "    if score >= 90:\n",
        "        return 'A'\n",
        "    elif score >= 80:\n",
        "        return 'B'\n",
        "    elif score >= 70:\n",
        "        return 'C'\n",
        "    elif score >= 60:\n",
        "        return 'D'\n",
        "    else:\n",
        "        return 'F'\n",
        "\n",
        "# Input: score from the user\n",
        "score = float(input(\"Enter the student's score (0-100): \"))\n",
        "\n",
        "# Validate the score\n",
        "if 0 <= score <= 100:\n",
        "    # Calculate and print the grade\n",
        "    grade = calculate_grade(score)\n",
        "    print(f\"The student's grade is {grade}.\")\n",
        "else:\n",
        "    print(\"Invalid score. Please enter a score between 0 and 100.\")"
      ],
      "metadata": {
        "colab": {
          "base_uri": "https://localhost:8080/"
        },
        "id": "UO52QZ4lvdca",
        "outputId": "399cfddc-9f11-40b7-b7b3-b42e84d37252"
      },
      "execution_count": 10,
      "outputs": [
        {
          "output_type": "stream",
          "name": "stdout",
          "text": [
            "Enter the student's score (0-100): 85\n",
            "The student's grade is B.\n"
          ]
        }
      ]
    },
    {
      "cell_type": "markdown",
      "source": [
        "# Nested If-Else Statements:"
      ],
      "metadata": {
        "id": "w95vrjKYzjJQ"
      }
    },
    {
      "cell_type": "markdown",
      "source": [
        "## 11. Write a program to find the largest among three numbers using nested if-else statements.\n"
      ],
      "metadata": {
        "id": "d7nvTBTUzmhP"
      }
    },
    {
      "cell_type": "code",
      "source": [
        "def find_largest(a, b, c):\n",
        "    if a >= b:\n",
        "        if a >= c:\n",
        "            return a\n",
        "        else:\n",
        "            return c\n",
        "    else:\n",
        "        if b >= c:\n",
        "            return b\n",
        "        else:\n",
        "            return c\n",
        "\n",
        "# Input: three numbers from the user\n",
        "num1 = float(input(\"Enter the first number: \"))\n",
        "num2 = float(input(\"Enter the second number: \"))\n",
        "num3 = float(input(\"Enter the third number: \"))\n",
        "\n",
        "# Find and print the largest number\n",
        "largest = find_largest(num1, num2, num3)\n",
        "print(f\"The largest number among {num1}, {num2}, and {num3} is {largest}.\")"
      ],
      "metadata": {
        "colab": {
          "base_uri": "https://localhost:8080/"
        },
        "id": "CDdZTkCszdAk",
        "outputId": "deaa4b8f-7aa5-4023-c9e0-dafd11dc3b9f"
      },
      "execution_count": 11,
      "outputs": [
        {
          "output_type": "stream",
          "name": "stdout",
          "text": [
            "Enter the first number: 3\n",
            "Enter the second number: 5\n",
            "Enter the third number: 6\n",
            "The largest number among 3.0, 5.0, and 6.0 is 6.0.\n"
          ]
        }
      ]
    },
    {
      "cell_type": "markdown",
      "source": [
        "## 12. Implement a program to determine if a triangle is equilateral, isosceles, or scalene.\n"
      ],
      "metadata": {
        "id": "d-x4PqdpzpOr"
      }
    },
    {
      "cell_type": "code",
      "source": [
        "def classify_triangle(a, b, c):\n",
        "    # Check if the sides can form a triangle\n",
        "    if a + b > c and b + c > a and a + c > b:\n",
        "        # Determine the type of triangle\n",
        "        if a == b == c:\n",
        "            return \"Equilateral\"\n",
        "        elif a == b or b == c or a == c:\n",
        "            return \"Isosceles\"\n",
        "        else:\n",
        "            return \"Scalene\"\n",
        "    else:\n",
        "        return \"Not a triangle\"\n",
        "\n",
        "# Input: three sides of a triangle from the user\n",
        "side1 = float(input(\"Enter the length of the first side: \"))\n",
        "side2 = float(input(\"Enter the length of the second side: \"))\n",
        "side3 = float(input(\"Enter the length of the third side: \"))\n",
        "\n",
        "# Classify the triangle and print the result\n",
        "triangle_type = classify_triangle(side1, side2, side3)\n",
        "print(f\"The triangle with sides {side1}, {side2}, and {side3} is {triangle_type}.\")"
      ],
      "metadata": {
        "colab": {
          "base_uri": "https://localhost:8080/"
        },
        "id": "m8ntwVyezrbC",
        "outputId": "16dcca02-1017-4c0b-cd49-c51b77a0ee52"
      },
      "execution_count": 12,
      "outputs": [
        {
          "output_type": "stream",
          "name": "stdout",
          "text": [
            "Enter the length of the first side: 4\n",
            "Enter the length of the second side: 5\n",
            "Enter the length of the third side: 4\n",
            "The triangle with sides 4.0, 5.0, and 4.0 is Isosceles.\n"
          ]
        }
      ]
    },
    {
      "cell_type": "markdown",
      "source": [
        "## 13. Develop a program that checks if a year is a leap year and also if it is a century year.\n",
        "\n"
      ],
      "metadata": {
        "id": "gGM9P7aqzsFD"
      }
    },
    {
      "cell_type": "code",
      "source": [
        "def check_year(year):\n",
        "    # Check if the year is a century year\n",
        "    if year % 100 == 0:\n",
        "        # Check if the century year is a leap year\n",
        "        if year % 400 == 0:\n",
        "            return f\"{year} is a leap year and a century year.\"\n",
        "        else:\n",
        "            return f\"{year} is a century year but not a leap year.\"\n",
        "    else:\n",
        "        # Check if the year is a leap year\n",
        "        if (year % 4 == 0 and year % 100 != 0) or (year % 400 == 0):\n",
        "            return f\"{year} is a leap year but not a century year.\"\n",
        "        else:\n",
        "            return f\"{year} is not a leap year and not a century year.\"\n",
        "\n",
        "# Input: year from the user\n",
        "year = int(input(\"Enter a year: \"))\n",
        "\n",
        "# Check and print the result\n",
        "result = check_year(year)\n",
        "print(result)"
      ],
      "metadata": {
        "colab": {
          "base_uri": "https://localhost:8080/"
        },
        "id": "Trt4asSkzuQF",
        "outputId": "02d1c4ad-8a48-489f-a81d-8d29f00a9e83"
      },
      "execution_count": 13,
      "outputs": [
        {
          "output_type": "stream",
          "name": "stdout",
          "text": [
            "Enter a year: 2000\n",
            "2000 is a leap year and a century year.\n"
          ]
        }
      ]
    },
    {
      "cell_type": "markdown",
      "source": [
        "## 14. Write a Python script to determine if a number is positive, negative, or zero.\n"
      ],
      "metadata": {
        "id": "3KPLg1qtzvSB"
      }
    },
    {
      "cell_type": "code",
      "source": [
        "def classify_number(number):\n",
        "    if number > 0:\n",
        "        return \"The number is positive.\"\n",
        "    elif number < 0:\n",
        "        return \"The number is negative.\"\n",
        "    else:\n",
        "        return \"The number is zero.\"\n",
        "\n",
        "# Input: number from the user\n",
        "number = float(input(\"Enter a number: \"))\n",
        "\n",
        "# Classify and print the result\n",
        "result = classify_number(number)\n",
        "print(result)"
      ],
      "metadata": {
        "colab": {
          "base_uri": "https://localhost:8080/"
        },
        "id": "zTmw6quBzxAV",
        "outputId": "eb48c310-68a3-44e4-f4fe-c49f722ecd64"
      },
      "execution_count": 14,
      "outputs": [
        {
          "output_type": "stream",
          "name": "stdout",
          "text": [
            "Enter a number: 0\n",
            "The number is zero.\n"
          ]
        }
      ]
    },
    {
      "cell_type": "markdown",
      "source": [
        "## 15. Create a program to check if a person is a teenager (between 13 and 19 years old).\n"
      ],
      "metadata": {
        "id": "V3nXbumqz0j3"
      }
    },
    {
      "cell_type": "code",
      "source": [
        "def is_teenager(age):\n",
        "    if 13 <= age <= 19:\n",
        "        return \"The person is a teenager.\"\n",
        "    else:\n",
        "        return \"The person is not a teenager.\"\n",
        "\n",
        "# Input: age from the user\n",
        "age = int(input(\"Enter the age: \"))\n",
        "\n",
        "# Check and print the result\n",
        "result = is_teenager(age)\n",
        "print(result)"
      ],
      "metadata": {
        "colab": {
          "base_uri": "https://localhost:8080/"
        },
        "id": "lxWNRNMYz2UF",
        "outputId": "a8e809cb-9690-43e0-c9be-5ae7b306488e"
      },
      "execution_count": 15,
      "outputs": [
        {
          "output_type": "stream",
          "name": "stdout",
          "text": [
            "Enter the age: 16\n",
            "The person is a teenager.\n"
          ]
        }
      ]
    },
    {
      "cell_type": "markdown",
      "source": [
        "## 16. Develop a program that determines the type of angle based on its measure (acute, obtuse, or right).\n"
      ],
      "metadata": {
        "id": "r3p1QlZoz3d8"
      }
    },
    {
      "cell_type": "code",
      "source": [
        "def classify_angle(angle):\n",
        "    if angle < 0 or angle >= 360:\n",
        "        return \"Invalid angle. Angle must be between 0 and 360 degrees.\"\n",
        "    elif angle == 90:\n",
        "        return \"The angle is a right angle.\"\n",
        "    elif angle < 90:\n",
        "        return \"The angle is an acute angle.\"\n",
        "    else:\n",
        "        return \"The angle is an obtuse angle.\"\n",
        "\n",
        "# Input: angle from the user\n",
        "angle = float(input(\"Enter the angle in degrees: \"))\n",
        "\n",
        "# Classify and print the result\n",
        "result = classify_angle(angle)\n",
        "print(result)"
      ],
      "metadata": {
        "colab": {
          "base_uri": "https://localhost:8080/"
        },
        "id": "zDwselx9z-PV",
        "outputId": "98e0f25c-a1dd-4826-f089-e1c7e9b8785a"
      },
      "execution_count": 16,
      "outputs": [
        {
          "output_type": "stream",
          "name": "stdout",
          "text": [
            "Enter the angle in degrees: 45\n",
            "The angle is an acute angle.\n"
          ]
        }
      ]
    },
    {
      "cell_type": "markdown",
      "source": [
        "## 17. Write a Python program to calculate the roots of a quadratic equation.\n"
      ],
      "metadata": {
        "id": "4E09BFZaz--I"
      }
    },
    {
      "cell_type": "code",
      "source": [
        "import cmath  # For handling complex square roots\n",
        "\n",
        "def calculate_roots(a, b, c):\n",
        "    # Calculate the discriminant\n",
        "    discriminant = b**2 - 4*a*c\n",
        "\n",
        "    # Calculate the two roots using the quadratic formula\n",
        "    root1 = (-b + cmath.sqrt(discriminant)) / (2*a)\n",
        "    root2 = (-b - cmath.sqrt(discriminant)) / (2*a)\n",
        "\n",
        "    return root1, root2\n",
        "\n",
        "# Input coefficients from the user\n",
        "a = float(input(\"Enter coefficient a: \"))\n",
        "b = float(input(\"Enter coefficient b: \"))\n",
        "c = float(input(\"Enter coefficient c: \"))\n",
        "\n",
        "# Calculate the roots\n",
        "root1, root2 = calculate_roots(a, b, c)\n",
        "\n",
        "# Output the results with 2 decimal places\n",
        "print(f\"The roots of the quadratic equation are: {root1.real:.2f} + {root1.imag:.2f}i and {root2.real:.2f} + {root2.imag:.2f}i\")"
      ],
      "metadata": {
        "colab": {
          "base_uri": "https://localhost:8080/"
        },
        "id": "yRRH99xr0BG8",
        "outputId": "63129dfc-8dc3-402f-de58-5113fdcc4346"
      },
      "execution_count": 50,
      "outputs": [
        {
          "output_type": "stream",
          "name": "stdout",
          "text": [
            "Enter coefficient a: 45\n",
            "Enter coefficient b: 2\n",
            "Enter coefficient c: 5\n",
            "The roots of the quadratic equation are: -0.02 + 0.33i and -0.02 + -0.33i\n"
          ]
        }
      ]
    },
    {
      "cell_type": "markdown",
      "source": [
        "## 18. Implement a program to determine the day of the week based on a user-provided number (1 for Monday, 2 for Tuesday, etc.)."
      ],
      "metadata": {
        "id": "97OIDFFc0Bn2"
      }
    },
    {
      "cell_type": "code",
      "source": [
        "def get_day_of_week(day_number):\n",
        "    # Dictionary mapping numbers to days of the week\n",
        "    days_of_week = {\n",
        "        1: \"Monday\",\n",
        "        2: \"Tuesday\",\n",
        "        3: \"Wednesday\",\n",
        "        4: \"Thursday\",\n",
        "        5: \"Friday\",\n",
        "        6: \"Saturday\",\n",
        "        7: \"Sunday\"\n",
        "    }\n",
        "\n",
        "    # Return the corresponding day or an error message if the number is invalid\n",
        "    return days_of_week.get(day_number, \"Invalid day number! Please enter a number between 1 and 7.\")\n",
        "\n",
        "# Input the day number from the user\n",
        "day_number = int(input(\"Enter a number (1-7) to get the day of the week: \"))\n",
        "\n",
        "# Determine and display the day of the week\n",
        "day_of_week = get_day_of_week(day_number)\n",
        "print(f\"The day of the week is: {day_of_week}\")"
      ],
      "metadata": {
        "colab": {
          "base_uri": "https://localhost:8080/"
        },
        "id": "rr92Ciet0FiV",
        "outputId": "916dd0c4-4b89-4838-d551-d433c3e94d7d"
      },
      "execution_count": 18,
      "outputs": [
        {
          "output_type": "stream",
          "name": "stdout",
          "text": [
            "Enter a number (1-7) to get the day of the week: 2\n",
            "The day of the week is: Tuesday\n"
          ]
        }
      ]
    },
    {
      "cell_type": "markdown",
      "source": [
        "## 19. Create a program that determines if a year is a leap year and also if it is evenly divisible by 400.\n"
      ],
      "metadata": {
        "id": "Rv5lBV1e0GyN"
      }
    },
    {
      "cell_type": "code",
      "source": [
        "def is_leap_year(year):\n",
        "    \"\"\"\n",
        "    Determine if the given year is a leap year.\n",
        "    \"\"\"\n",
        "    if year % 400 == 0:\n",
        "        return True\n",
        "    elif year % 100 == 0:\n",
        "        return False\n",
        "    elif year % 4 == 0:\n",
        "        return True\n",
        "    else:\n",
        "        return False\n",
        "\n",
        "def check_year(year):\n",
        "    \"\"\"\n",
        "    Check if the given year is a leap year and if it is divisible by 400.\n",
        "    \"\"\"\n",
        "    leap_year = is_leap_year(year)\n",
        "    divisible_by_400 = (year % 400 == 0)\n",
        "\n",
        "    if leap_year:\n",
        "        print(f\"The year {year} is a leap year.\")\n",
        "    else:\n",
        "        print(f\"The year {year} is not a leap year.\")\n",
        "\n",
        "    if divisible_by_400:\n",
        "        print(f\"The year {year} is evenly divisible by 400.\")\n",
        "    else:\n",
        "        print(f\"The year {year} is not evenly divisible by 400.\")\n",
        "\n",
        "# Example usage\n",
        "year = int(input(\"Enter a year: \"))\n",
        "check_year(year)"
      ],
      "metadata": {
        "colab": {
          "base_uri": "https://localhost:8080/"
        },
        "id": "DlKuiLiv0K-N",
        "outputId": "9fad9679-4658-4abb-9549-cb4bc7ed4f3a"
      },
      "execution_count": 19,
      "outputs": [
        {
          "output_type": "stream",
          "name": "stdout",
          "text": [
            "Enter a year: 1800\n",
            "The year 1800 is not a leap year.\n",
            "The year 1800 is not evenly divisible by 400.\n"
          ]
        }
      ]
    },
    {
      "cell_type": "markdown",
      "source": [
        "## 20. Develop a program that checks if a given number is prime or not using nested if-else statements."
      ],
      "metadata": {
        "id": "zFm-f4mz0LnW"
      }
    },
    {
      "cell_type": "code",
      "source": [
        "def is_prime(number):\n",
        "    # Check if the number is less than 2\n",
        "    if number < 2:\n",
        "        return False\n",
        "    else:\n",
        "        # Check if the number is 2 (the only even prime number)\n",
        "        if number == 2:\n",
        "            return True\n",
        "        # Check if the number is even (not a prime number)\n",
        "        elif number % 2 == 0:\n",
        "            return False\n",
        "        else:\n",
        "            # Check for factors from 3 to the square root of the number\n",
        "            for i in range(3, int(number ** 0.5) + 1, 2):\n",
        "                if number % i == 0:\n",
        "                    return False\n",
        "            return True\n",
        "\n",
        "# Input the number from the user\n",
        "number = int(input(\"Enter a number: \"))\n",
        "\n",
        "# Determine if the number is prime\n",
        "if is_prime(number):\n",
        "    print(f\"{number} is a prime number.\")\n",
        "else:\n",
        "    print(f\"{number} is not a prime number.\")"
      ],
      "metadata": {
        "colab": {
          "base_uri": "https://localhost:8080/"
        },
        "id": "7l64Mn0D0MhE",
        "outputId": "444805f2-6822-4c1b-cf20-60475b918b7a"
      },
      "execution_count": 20,
      "outputs": [
        {
          "output_type": "stream",
          "name": "stdout",
          "text": [
            "Enter a number: 29\n",
            "29 is a prime number.\n"
          ]
        }
      ]
    },
    {
      "cell_type": "markdown",
      "source": [
        "# Elif Statements:"
      ],
      "metadata": {
        "id": "Qyqyvwzu3sqt"
      }
    },
    {
      "cell_type": "markdown",
      "source": [
        "## 21. Write a Python program to assign grades based on different ranges of scores using elif statements.\n"
      ],
      "metadata": {
        "id": "Q0YfCOse32Ks"
      }
    },
    {
      "cell_type": "code",
      "source": [
        "def assign_grade(score):\n",
        "    if score >= 90:\n",
        "        grade = 'A'\n",
        "    elif score >= 80:\n",
        "        grade = 'B'\n",
        "    elif score >= 70:\n",
        "        grade = 'C'\n",
        "    elif score >= 60:\n",
        "        grade = 'D'\n",
        "    else:\n",
        "        grade = 'F'\n",
        "    return grade\n",
        "\n",
        "# Example usage\n",
        "score = float(input(\"Enter the score: \"))\n",
        "print(f\"The grade is: {assign_grade(score)}\")"
      ],
      "metadata": {
        "colab": {
          "base_uri": "https://localhost:8080/"
        },
        "id": "_zRcuy173bVz",
        "outputId": "5d8a5e1c-3732-4ec3-b593-4cd5d2d3b85e"
      },
      "execution_count": 21,
      "outputs": [
        {
          "output_type": "stream",
          "name": "stdout",
          "text": [
            "Enter the score: 94\n",
            "The grade is: A\n"
          ]
        }
      ]
    },
    {
      "cell_type": "markdown",
      "source": [
        "## 22. Implement a program to determine the type of a triangle based on its angles.\n"
      ],
      "metadata": {
        "id": "Gqn5byP86eJL"
      }
    },
    {
      "cell_type": "code",
      "source": [
        "def triangle_type(angle1, angle2, angle3):\n",
        "    if angle1 + angle2 + angle3 != 180:\n",
        "        return \"Not a valid triangle\"\n",
        "    elif angle1 == 90 or angle2 == 90 or angle3 == 90:\n",
        "        return \"Right triangle\"\n",
        "    elif angle1 < 90 and angle2 < 90 and angle3 < 90:\n",
        "        return \"Acute triangle\"\n",
        "    else:\n",
        "        return \"Obtuse triangle\"\n",
        "\n",
        "# Example usage\n",
        "a1 = float(input(\"Enter the first angle: \"))\n",
        "a2 = float(input(\"Enter the second angle: \"))\n",
        "a3 = float(input(\"Enter the third angle: \"))\n",
        "print(f\"The triangle is: {triangle_type(a1, a2, a3)}\")"
      ],
      "metadata": {
        "colab": {
          "base_uri": "https://localhost:8080/"
        },
        "id": "gQBmdszX6hxh",
        "outputId": "527c83b6-274d-4294-a4a9-4057ca82ea5c"
      },
      "execution_count": 22,
      "outputs": [
        {
          "output_type": "stream",
          "name": "stdout",
          "text": [
            "Enter the first angle: 45\n",
            "Enter the second angle: 90\n",
            "Enter the third angle: 45\n",
            "The triangle is: Right triangle\n"
          ]
        }
      ]
    },
    {
      "cell_type": "markdown",
      "source": [
        "## 23. Develop a program to categorize a given person's BMI into underweight, normal, overweight, or obese using elif statements.\n"
      ],
      "metadata": {
        "id": "9f8O6teT6jWB"
      }
    },
    {
      "cell_type": "code",
      "source": [
        "def categorize_bmi(bmi):\n",
        "    if bmi < 18.5:\n",
        "        return \"Underweight\"\n",
        "    elif 18.5 <= bmi < 24.9:\n",
        "        return \"Normal weight\"\n",
        "    elif 25 <= bmi < 29.9:\n",
        "        return \"Overweight\"\n",
        "    else:\n",
        "        return \"Obese\"\n",
        "\n",
        "# Example usage\n",
        "weight = float(input(\"Enter your weight in kg: \"))\n",
        "height = float(input(\"Enter your height in meters: \"))\n",
        "bmi = weight / (height ** 2)\n",
        "print(f\"Your BMI is {bmi:.2f} and you are categorized as: {categorize_bmi(bmi)}\")"
      ],
      "metadata": {
        "colab": {
          "base_uri": "https://localhost:8080/"
        },
        "id": "K1UxdFbJ6nox",
        "outputId": "6413afcb-0d59-433d-a81f-48d3a4fe9104"
      },
      "execution_count": 23,
      "outputs": [
        {
          "output_type": "stream",
          "name": "stdout",
          "text": [
            "Enter your weight in kg: 52\n",
            "Enter your height in meters: 1.5\n",
            "Your BMI is 23.11 and you are categorized as: Normal weight\n"
          ]
        }
      ]
    },
    {
      "cell_type": "markdown",
      "source": [
        "## 24. Create a program that determines whether a given number is positive, negative, or zero using elif statements.\n"
      ],
      "metadata": {
        "id": "MJlcXZrR6o07"
      }
    },
    {
      "cell_type": "code",
      "source": [
        "def number_type(number):\n",
        "    if number > 0:\n",
        "        return \"Positive\"\n",
        "    elif number < 0:\n",
        "        return \"Negative\"\n",
        "    else:\n",
        "        return \"Zero\"\n",
        "\n",
        "# Example usage\n",
        "num = float(input(\"Enter a number: \"))\n",
        "print(f\"The number is: {number_type(num)}\")"
      ],
      "metadata": {
        "colab": {
          "base_uri": "https://localhost:8080/"
        },
        "id": "XlxFlNt16q5g",
        "outputId": "3ead1acc-a153-4e63-9728-e50a3a899b32"
      },
      "execution_count": 24,
      "outputs": [
        {
          "output_type": "stream",
          "name": "stdout",
          "text": [
            "Enter a number: -8\n",
            "The number is: Negative\n"
          ]
        }
      ]
    },
    {
      "cell_type": "markdown",
      "source": [
        "## 25. Write a Python script to determine the type of a character (uppercase, lowercase, or special) using elif statements.\n"
      ],
      "metadata": {
        "id": "cYy-dmnM6rfh"
      }
    },
    {
      "cell_type": "code",
      "source": [
        "def character_type(char):\n",
        "    # Check if the character is uppercase\n",
        "    if char.isupper():\n",
        "        return \"Uppercase\"\n",
        "    # Check if the character is lowercase\n",
        "    elif char.islower():\n",
        "        return \"Lowercase\"\n",
        "    # Check if the character is a special character\n",
        "    elif char.isalnum() == False:\n",
        "        return \"Special\"\n",
        "    # If none of the above, it's not a valid character type\n",
        "    else:\n",
        "        return \"Invalid character type\"\n",
        "\n",
        "# Input the character from the user\n",
        "char = input(\"Enter a single character: \")\n",
        "\n",
        "# Ensure the input is a single character\n",
        "if len(char) == 1:\n",
        "    # Determine the type of the character\n",
        "    result = character_type(char)\n",
        "    print(f\"The character '{char}' is {result}.\")\n",
        "else:\n",
        "    print(\"Please enter exactly one character.\")"
      ],
      "metadata": {
        "colab": {
          "base_uri": "https://localhost:8080/"
        },
        "id": "-odaXtWY6tsw",
        "outputId": "7ce68c84-ac86-4160-9849-d447f0bf70d5"
      },
      "execution_count": 25,
      "outputs": [
        {
          "output_type": "stream",
          "name": "stdout",
          "text": [
            "Enter a single character: @\n",
            "The character '@' is Special.\n"
          ]
        }
      ]
    },
    {
      "cell_type": "markdown",
      "source": [
        "## 26. Implement a program to calculate the discounted price based on different purchase amounts using elif statements.\n"
      ],
      "metadata": {
        "id": "vHJOEUPe6uzB"
      }
    },
    {
      "cell_type": "code",
      "source": [
        "def calculate_discounted_price(amount):\n",
        "    # Define discount rates based on purchase amounts\n",
        "    if amount >= 500:\n",
        "        discount_rate = 0.20  # 20% discount\n",
        "    elif amount >= 200:\n",
        "        discount_rate = 0.15  # 15% discount\n",
        "    elif amount >= 100:\n",
        "        discount_rate = 0.10  # 10% discount\n",
        "    else:\n",
        "        discount_rate = 0.05  # 5% discount\n",
        "\n",
        "    # Calculate the discounted price\n",
        "    discount = amount * discount_rate\n",
        "    discounted_price = amount - discount\n",
        "\n",
        "    return discounted_price\n",
        "\n",
        "# Input the purchase amount from the user\n",
        "try:\n",
        "    purchase_amount = float(input(\"Enter the purchase amount: \"))\n",
        "    if purchase_amount < 0:\n",
        "        print(\"Purchase amount cannot be negative.\")\n",
        "    else:\n",
        "        # Calculate the discounted price\n",
        "        final_price = calculate_discounted_price(purchase_amount)\n",
        "        print(f\"The discounted price is: {final_price:.2f}\")\n",
        "except ValueError:\n",
        "    print(\"Invalid input. Please enter a numeric value.\")"
      ],
      "metadata": {
        "colab": {
          "base_uri": "https://localhost:8080/"
        },
        "id": "zO_Mnm356w_I",
        "outputId": "0bc26743-d4ce-4c1c-c3d9-4f40bf4007a5"
      },
      "execution_count": 26,
      "outputs": [
        {
          "output_type": "stream",
          "name": "stdout",
          "text": [
            "Enter the purchase amount: 2513\n",
            "The discounted price is: 2010.40\n"
          ]
        }
      ]
    },
    {
      "cell_type": "markdown",
      "source": [
        "## 27. Develop a program to calculate the electricity bill based on different consumption slabs using elif statements.\n"
      ],
      "metadata": {
        "id": "pDqMG_sb6yDI"
      }
    },
    {
      "cell_type": "code",
      "source": [
        "def calculate_electricity_bill(consumption):\n",
        "    # Define the rates for different slabs\n",
        "    if consumption <= 100:\n",
        "        rate_per_unit = 0.50  # $0.50 per unit\n",
        "    elif consumption <= 300:\n",
        "        rate_per_unit = 0.75  # $0.75 per unit\n",
        "    elif consumption <= 500:\n",
        "        rate_per_unit = 1.00  # $1.00 per unit\n",
        "    else:\n",
        "        rate_per_unit = 1.50  # $1.50 per unit\n",
        "\n",
        "    # Calculate the total bill\n",
        "    total_bill = consumption * rate_per_unit\n",
        "\n",
        "    return total_bill\n",
        "\n",
        "# Input the electricity consumption from the user\n",
        "try:\n",
        "    consumption = float(input(\"Enter the electricity consumption in units: \"))\n",
        "    if consumption < 0:\n",
        "        print(\"Consumption cannot be negative.\")\n",
        "    else:\n",
        "        # Calculate the bill\n",
        "        bill = calculate_electricity_bill(consumption)\n",
        "        print(f\"The total electricity bill is: {bill:.2f}\")\n",
        "except ValueError:\n",
        "    print(\"Invalid input. Please enter a numeric value.\")"
      ],
      "metadata": {
        "colab": {
          "base_uri": "https://localhost:8080/"
        },
        "id": "jHtKRiHE60Yx",
        "outputId": "e48cd25c-ac9b-48e5-f590-76812d1e9a96"
      },
      "execution_count": 27,
      "outputs": [
        {
          "output_type": "stream",
          "name": "stdout",
          "text": [
            "Enter the electricity consumption in units: 241\n",
            "The total electricity bill is: 180.75\n"
          ]
        }
      ]
    },
    {
      "cell_type": "markdown",
      "source": [
        "## 28. Create a program to determine the type of quadrilateral based on its angles and sides using elif statements.\n"
      ],
      "metadata": {
        "id": "4BW5Vkq761YP"
      }
    },
    {
      "cell_type": "code",
      "source": [
        "import cmath  # For handling complex square roots\n",
        "\n",
        "def calculate_roots(a, b, c):\n",
        "    # Calculate the discriminant\n",
        "    discriminant = b**2 - 4*a*c\n",
        "\n",
        "    # Calculate the two roots using the quadratic formula\n",
        "    root1 = (-b + cmath.sqrt(discriminant)) / (2*a)\n",
        "    root2 = (-b - cmath.sqrt(discriminant)) / (2*a)\n",
        "\n",
        "    return root1, root2\n",
        "\n",
        "# Input coefficients from the user\n",
        "a = float(input(\"Enter coefficient a: \"))\n",
        "b = float(input(\"Enter coefficient b: \"))\n",
        "c = float(input(\"Enter coefficient c: \"))\n",
        "\n",
        "# Calculate the roots\n",
        "root1, root2 = calculate_roots(a, b, c)\n",
        "\n",
        "# Output the results with 2 decimal places\n",
        "print(f\"The roots of the quadratic equation are: {root1.real:.2f} + {root1.imag:.2f}i and {root2.real:.2f} + {root2.imag:.2f}i\")"
      ],
      "metadata": {
        "colab": {
          "base_uri": "https://localhost:8080/"
        },
        "id": "GMxJhGhk63dp",
        "outputId": "062fcef5-47a4-4acc-eb14-fdc7dc7aeb88"
      },
      "execution_count": 51,
      "outputs": [
        {
          "output_type": "stream",
          "name": "stdout",
          "text": [
            "Enter coefficient a: 25\n",
            "Enter coefficient b: 41\n",
            "Enter coefficient c: 29\n",
            "The roots of the quadratic equation are: -0.82 + 0.70i and -0.82 + -0.70i\n"
          ]
        }
      ]
    },
    {
      "cell_type": "markdown",
      "source": [
        "## 29. Write a Python script to determine the season based on a user-provided month using elif statements.\n"
      ],
      "metadata": {
        "id": "J3rOy0JC63_n"
      }
    },
    {
      "cell_type": "code",
      "source": [
        "def determine_season(month):\n",
        "    # Convert the month to lowercase to handle case insensitivity\n",
        "    month = month.lower()\n",
        "\n",
        "    if month in ['december', 'january', 'february']:\n",
        "        return \"Winter\"\n",
        "    elif month in ['march', 'april', 'may']:\n",
        "        return \"Spring\"\n",
        "    elif month in ['june', 'july', 'august']:\n",
        "        return \"Summer\"\n",
        "    elif month in ['september', 'october', 'november']:\n",
        "        return \"Fall (Autumn)\"\n",
        "    else:\n",
        "        return \"Invalid month. Please enter a valid month name.\"\n",
        "\n",
        "# Input month from the user\n",
        "month = input(\"Enter the name of the month: \")\n",
        "\n",
        "# Determine the season\n",
        "season = determine_season(month)\n",
        "print(f\"The season for {month.capitalize()} is: {season}\")"
      ],
      "metadata": {
        "colab": {
          "base_uri": "https://localhost:8080/"
        },
        "id": "C2eoW_cY66FI",
        "outputId": "8a1a989a-28b5-449a-96a1-84f913d47397"
      },
      "execution_count": 29,
      "outputs": [
        {
          "output_type": "stream",
          "name": "stdout",
          "text": [
            "Enter the name of the month: May\n",
            "The season for May is: Spring\n"
          ]
        }
      ]
    },
    {
      "cell_type": "markdown",
      "source": [
        "## 30. Implement a program to determine the type of a year (leap or common) and month (30 or 31 days) using elif statements."
      ],
      "metadata": {
        "id": "lKXZJLO566tw"
      }
    },
    {
      "cell_type": "code",
      "source": [
        "def determine_year_type(year):\n",
        "    if (year % 4 == 0 and year % 100 != 0) or (year % 400 == 0):\n",
        "        return \"Leap Year\"\n",
        "    else:\n",
        "        return \"Common Year\"\n",
        "\n",
        "def determine_month_days(month, year):\n",
        "    month = month.lower()\n",
        "    if month in ['april', 'june', 'september', 'november']:\n",
        "        return \"30 days\"\n",
        "    elif month == 'february':\n",
        "        if (year % 4 == 0 and year % 100 != 0) or (year % 400 == 0):\n",
        "            return \"29 days (Leap Year)\"\n",
        "        else:\n",
        "            return \"28 days (Common Year)\"\n",
        "    elif month in ['january', 'march', 'may', 'july', 'august', 'october', 'december']:\n",
        "        return \"31 days\"\n",
        "    else:\n",
        "        return \"Invalid month. Please enter a valid month name.\"\n",
        "\n",
        "# Input year and month from the user\n",
        "year = int(input(\"Enter the year: \"))\n",
        "month = input(\"Enter the name of the month: \")\n",
        "\n",
        "# Determine the type of year\n",
        "year_type = determine_year_type(year)\n",
        "print(f\"The year {year} is a: {year_type}\")\n",
        "\n",
        "# Determine the number of days in the month\n",
        "days_in_month = determine_month_days(month, year)\n",
        "print(f\"The month of {month.capitalize()} has: {days_in_month}\")"
      ],
      "metadata": {
        "colab": {
          "base_uri": "https://localhost:8080/"
        },
        "id": "n1XyzcSK68V2",
        "outputId": "bb82294c-4d9a-4432-805f-55b00bce6026"
      },
      "execution_count": 30,
      "outputs": [
        {
          "output_type": "stream",
          "name": "stdout",
          "text": [
            "Enter the year: 204\n",
            "Enter the name of the month: July\n",
            "The year 204 is a: Leap Year\n",
            "The month of July has: 31 days\n"
          ]
        }
      ]
    },
    {
      "cell_type": "markdown",
      "source": [
        "# Basic Level:"
      ],
      "metadata": {
        "id": "cdtIXNeKp4TM"
      }
    },
    {
      "cell_type": "markdown",
      "source": [
        "## 1. Write a Python program that checks if a given number is positive, negative, or zero.\n"
      ],
      "metadata": {
        "id": "n6jG-30zp8Wu"
      }
    },
    {
      "cell_type": "code",
      "source": [
        "num = float(input(\"Enter a number: \"))\n",
        "if num > 0:\n",
        "    print(\"This number is positive\")\n",
        "elif num < 0:\n",
        "    print(\"This number is negative\")\n",
        "else:\n",
        "    print(\"This number is zero\")"
      ],
      "metadata": {
        "id": "NoJns3xl964G",
        "colab": {
          "base_uri": "https://localhost:8080/"
        },
        "outputId": "e96a546d-832f-4f64-88ea-38b59c2e50f8"
      },
      "execution_count": 31,
      "outputs": [
        {
          "output_type": "stream",
          "name": "stdout",
          "text": [
            "Enter a number: 25\n",
            "This number is positive\n"
          ]
        }
      ]
    },
    {
      "cell_type": "markdown",
      "source": [
        "## 2. Create a program to determine if a person is eligible to vote based on their age.\n"
      ],
      "metadata": {
        "id": "bQD--dkEqAFC"
      }
    },
    {
      "cell_type": "code",
      "source": [
        "age = int(input(\"Enter age: \"))\n",
        "if age >= 18:\n",
        "    print(\"Eligible to vote\")\n",
        "else:\n",
        "    print(\"Not eligible to vote\")"
      ],
      "metadata": {
        "colab": {
          "base_uri": "https://localhost:8080/"
        },
        "id": "poXZ55mRqDA1",
        "outputId": "909e15be-63a1-4e8c-8076-ab84cca07015"
      },
      "execution_count": 32,
      "outputs": [
        {
          "output_type": "stream",
          "name": "stdout",
          "text": [
            "Enter age: 12\n",
            "Not eligible to vote\n"
          ]
        }
      ]
    },
    {
      "cell_type": "markdown",
      "source": [
        "## 3. Write a program to find the maximum of two given numbers using conditional statements.\n"
      ],
      "metadata": {
        "id": "6hBpeKnSqDvA"
      }
    },
    {
      "cell_type": "code",
      "source": [
        "num1 = float(input(\"Enter first number: \"))\n",
        "num2 = float(input(\"Enter second number: \"))\n",
        "if num1 > num2:\n",
        "    print(f\"The maximum is {num1}\")\n",
        "else:\n",
        "    print(f\"The maximum is {num2}\")"
      ],
      "metadata": {
        "colab": {
          "base_uri": "https://localhost:8080/"
        },
        "id": "IAd6Y3QUqGJZ",
        "outputId": "ec1d3adb-d964-47fa-96f5-dcd59e1458a9"
      },
      "execution_count": 33,
      "outputs": [
        {
          "output_type": "stream",
          "name": "stdout",
          "text": [
            "Enter first number: 65\n",
            "Enter second number: 15\n",
            "The maximum is 65.0\n"
          ]
        }
      ]
    },
    {
      "cell_type": "markdown",
      "source": [
        "## 4. Develop a program that calculates the grade of a student based on their exam score.\n"
      ],
      "metadata": {
        "id": "2FNLjPMnqG9q"
      }
    },
    {
      "cell_type": "code",
      "source": [
        "def calculate_grade(score):\n",
        "    # Determine the grade based on the score\n",
        "    if score >= 90:\n",
        "        return 'A'\n",
        "    elif score >= 80:\n",
        "        return 'B'\n",
        "    elif score >= 70:\n",
        "        return 'C'\n",
        "    elif score >= 60:\n",
        "        return 'D'\n",
        "    else:\n",
        "        return 'F'\n",
        "\n",
        "# Input: score from the user\n",
        "score = float(input(\"Enter the student's score (0-100): \"))\n",
        "\n",
        "# Validate the score\n",
        "if 0 <= score <= 100:\n",
        "    # Calculate and print the grade\n",
        "    grade = calculate_grade(score)\n",
        "    print(f\"The student's grade is {grade}.\")\n",
        "else:\n",
        "    print(\"Invalid score. Please enter a score between 0 and 100.\")"
      ],
      "metadata": {
        "colab": {
          "base_uri": "https://localhost:8080/"
        },
        "id": "TA6CA_7mqJYY",
        "outputId": "0d922ce5-7f8c-4c93-f417-7ff611e26a6f"
      },
      "execution_count": 34,
      "outputs": [
        {
          "output_type": "stream",
          "name": "stdout",
          "text": [
            "Enter the student's score (0-100): 89\n",
            "The student's grade is B.\n"
          ]
        }
      ]
    },
    {
      "cell_type": "markdown",
      "source": [
        "## 5. Create a program that checks if a year is a leap year or not.\n"
      ],
      "metadata": {
        "id": "FAGUCfO-qJ-4"
      }
    },
    {
      "cell_type": "code",
      "source": [
        "year = int(input(\"Enter a year: \"))\n",
        "\n",
        "# Check if the year is a leap year\n",
        "if (year % 4 == 0 and year % 100 != 0) or (year % 400 == 0):\n",
        "    print(f\"{year} is a leap year.\")\n",
        "else:\n",
        "    print(f\"{year} is not a leap year.\")"
      ],
      "metadata": {
        "colab": {
          "base_uri": "https://localhost:8080/"
        },
        "id": "L9-ETji9qMYP",
        "outputId": "55eda148-73d5-4fbc-88e6-5e483b664ef3"
      },
      "execution_count": 35,
      "outputs": [
        {
          "output_type": "stream",
          "name": "stdout",
          "text": [
            "Enter a year: 2020\n",
            "2020 is a leap year.\n"
          ]
        }
      ]
    },
    {
      "cell_type": "markdown",
      "source": [
        "## 6. Write a program to classify a triangle based on its sides' lengths.\n"
      ],
      "metadata": {
        "id": "sPMEi6CFqNZ3"
      }
    },
    {
      "cell_type": "code",
      "source": [
        "5side1 = float(input(\"Enter side 1: \"))\n",
        "side2 = float(input(\"Enter side 2: \"))\n",
        "side3 = float(input(\"Enter side 3: \"))\n",
        "if side1 == side2 == side3:\n",
        "    print(\"Equilateral triangle\")\n",
        "elif side1 == side2 or side2 == side3 or side1 == side3:\n",
        "    print(\"Isosceles triangle\")\n",
        "else:\n",
        "    print(\"Scalene triangle\")"
      ],
      "metadata": {
        "colab": {
          "base_uri": "https://localhost:8080/"
        },
        "id": "2-l_dKhOqP_1",
        "outputId": "95763d06-221e-4ffc-b8e7-690b1c76bdbb"
      },
      "execution_count": 36,
      "outputs": [
        {
          "output_type": "stream",
          "name": "stdout",
          "text": [
            "Enter side 1: 5\n",
            "Enter side 2: 7\n",
            "Enter side 3: 3\n",
            "Scalene triangle\n"
          ]
        }
      ]
    },
    {
      "cell_type": "markdown",
      "source": [
        "## 7. Build a program that determines the largest of three given numbers.\n"
      ],
      "metadata": {
        "id": "MsLp8XuxqQsD"
      }
    },
    {
      "cell_type": "code",
      "source": [
        "num1 = float(input(\"Enter the first number: \"))\n",
        "num2 = float(input(\"Enter the second number: \"))\n",
        "num3 = float(input(\"Enter the third number: \"))\n",
        "\n",
        "# Determine the largest number using if-else statements\n",
        "if (num1 >= num2) and (num1 >= num3):\n",
        "    largest = num1\n",
        "elif (num2 >= num1) and (num2 >= num3):\n",
        "    largest = num2\n",
        "else:\n",
        "    largest = num3\n",
        "\n",
        "print(f\"The largest number is {largest}.\")"
      ],
      "metadata": {
        "colab": {
          "base_uri": "https://localhost:8080/"
        },
        "id": "JZpMe1fFqTt_",
        "outputId": "c68ab5e3-e2e6-47ca-bf6f-6fb3176ad72c"
      },
      "execution_count": 37,
      "outputs": [
        {
          "output_type": "stream",
          "name": "stdout",
          "text": [
            "Enter the first number: 2\n",
            "Enter the second number: 3\n",
            "Enter the third number: 4\n",
            "The largest number is 4.0.\n"
          ]
        }
      ]
    },
    {
      "cell_type": "markdown",
      "source": [
        "## 8. Develop a program that checks whether a character is a vowel or a consonant.\n"
      ],
      "metadata": {
        "id": "OfMUsxehqUgl"
      }
    },
    {
      "cell_type": "code",
      "source": [
        "char = input(\"Enter a character: \").lower()\n",
        "\n",
        "if char in 'aeiou':\n",
        "    print(f\"'{char}' is a vowel.\")\n",
        "else:\n",
        "    print(f\"'{char}' is a consonant.\")"
      ],
      "metadata": {
        "colab": {
          "base_uri": "https://localhost:8080/"
        },
        "id": "uAI1QG57qWcX",
        "outputId": "e846df3d-d9ac-43dc-bbf3-ad3cd46e24fb"
      },
      "execution_count": 38,
      "outputs": [
        {
          "output_type": "stream",
          "name": "stdout",
          "text": [
            "Enter a character: t\n",
            "'t' is a consonant.\n"
          ]
        }
      ]
    },
    {
      "cell_type": "markdown",
      "source": [
        "## 9. Create a program to calculate the total cost of a shopping cart based on discounts.\n"
      ],
      "metadata": {
        "id": "mJ8k7NRvqXIv"
      }
    },
    {
      "cell_type": "code",
      "source": [
        "def calculate_discounted_price(amount):\n",
        "    # Define discount rates based on purchase amounts\n",
        "    if amount >= 500:\n",
        "        discount_rate = 0.20  # 20% discount\n",
        "    elif amount >= 200:\n",
        "        discount_rate = 0.15  # 15% discount\n",
        "    elif amount >= 100:\n",
        "        discount_rate = 0.10  # 10% discount\n",
        "    else:\n",
        "        discount_rate = 0.05  # 5% discount\n",
        "\n",
        "    # Calculate the discounted price\n",
        "    discount = amount * discount_rate\n",
        "    discounted_price = amount - discount\n",
        "\n",
        "    return discounted_price\n",
        "\n",
        "# Input the purchase amount from the user\n",
        "try:\n",
        "    purchase_amount = float(input(\"Enter the purchase amount: \"))\n",
        "    if purchase_amount < 0:\n",
        "        print(\"Purchase amount cannot be negative.\")\n",
        "    else:\n",
        "        # Calculate the discounted price\n",
        "        final_price = calculate_discounted_price(purchase_amount)\n",
        "        print(f\"The discounted price is: {final_price:.2f}\")\n",
        "except ValueError:\n",
        "    print(\"Invalid input. Please enter a numeric value.\")"
      ],
      "metadata": {
        "colab": {
          "base_uri": "https://localhost:8080/"
        },
        "id": "D0CI3tisqYoA",
        "outputId": "85c889b9-cc9e-4e85-f089-e7410e04b349"
      },
      "execution_count": 39,
      "outputs": [
        {
          "output_type": "stream",
          "name": "stdout",
          "text": [
            "Enter the purchase amount: 12465\n",
            "The discounted price is: 9972.00\n"
          ]
        }
      ]
    },
    {
      "cell_type": "markdown",
      "source": [
        "## 10. Write a program that checks if a given number is even or odd."
      ],
      "metadata": {
        "id": "uE6NqjJOqZKU"
      }
    },
    {
      "cell_type": "code",
      "source": [
        "number = int(input(\"Enter a number: \"))\n",
        "\n",
        "if number % 2 == 0:\n",
        "    print(f\"{number} is even.\")\n",
        "else:\n",
        "    print(f\"{number} is odd.\")"
      ],
      "metadata": {
        "id": "TvxSp6bqqaCq",
        "colab": {
          "base_uri": "https://localhost:8080/"
        },
        "outputId": "d527a666-0594-4fc5-b5c5-a4e1154be82c"
      },
      "execution_count": 40,
      "outputs": [
        {
          "output_type": "stream",
          "name": "stdout",
          "text": [
            "Enter a number: 5\n",
            "5 is odd.\n"
          ]
        }
      ]
    },
    {
      "cell_type": "markdown",
      "source": [
        "# Intermediate Level:"
      ],
      "metadata": {
        "id": "RetBYECyJoxE"
      }
    },
    {
      "cell_type": "markdown",
      "source": [
        "## 11. Write a program that calculates the roots of a quadratic equation .\n"
      ],
      "metadata": {
        "id": "e2vmueLQJvzB"
      }
    },
    {
      "cell_type": "code",
      "source": [
        "import cmath  # For handling complex square roots\n",
        "\n",
        "def calculate_roots(a, b, c):\n",
        "    # Calculate the discriminant\n",
        "    discriminant = b**2 - 4*a*c\n",
        "\n",
        "    # Calculate the two roots using the quadratic formula\n",
        "    root1 = (-b + cmath.sqrt(discriminant)) / (2*a)\n",
        "    root2 = (-b - cmath.sqrt(discriminant)) / (2*a)\n",
        "\n",
        "    return root1, root2\n",
        "\n",
        "# Input coefficients from the user\n",
        "a = float(input(\"Enter coefficient a: \"))\n",
        "b = float(input(\"Enter coefficient b: \"))\n",
        "c = float(input(\"Enter coefficient c: \"))\n",
        "\n",
        "# Calculate the roots\n",
        "root1, root2 = calculate_roots(a, b, c)\n",
        "\n",
        "# Output the results with 2 decimal places\n",
        "print(f\"The roots of the quadratic equation are: {root1.real:.2f} + {root1.imag:.2f}i and {root2.real:.2f} + {root2.imag:.2f}i\")"
      ],
      "metadata": {
        "colab": {
          "base_uri": "https://localhost:8080/"
        },
        "id": "owHRZU4hJh8E",
        "outputId": "a97b6fce-f1e1-438b-b2f2-b4e4c96411ed"
      },
      "execution_count": 52,
      "outputs": [
        {
          "output_type": "stream",
          "name": "stdout",
          "text": [
            "Enter coefficient a: 2\n",
            "Enter coefficient b: 1\n",
            "Enter coefficient c: 3\n",
            "The roots of the quadratic equation are: -0.25 + 1.20i and -0.25 + -1.20i\n"
          ]
        }
      ]
    },
    {
      "cell_type": "markdown",
      "source": [
        "## 12. Create a program that determines the day of the week based on the day number (1-7).\n"
      ],
      "metadata": {
        "id": "C-dtPdCOJyp0"
      }
    },
    {
      "cell_type": "code",
      "source": [
        "day_number = int(input(\"Enter day number (1-7): \"))\n",
        "days = {1: \"Monday\", 2: \"Tuesday\", 3: \"Wednesday\", 4: \"Thursday\", 5: \"Friday\", 6: \"Saturday\", 7: \"Sunday\"}\n",
        "print(days.get(day_number, \"Invalid day number\"))"
      ],
      "metadata": {
        "colab": {
          "base_uri": "https://localhost:8080/"
        },
        "id": "SanvzKorJ0n5",
        "outputId": "786dce58-984d-4dfd-8cf8-581110206740"
      },
      "execution_count": 42,
      "outputs": [
        {
          "output_type": "stream",
          "name": "stdout",
          "text": [
            "Enter day number (1-7): 2\n",
            "Tuesday\n"
          ]
        }
      ]
    },
    {
      "cell_type": "markdown",
      "source": [
        "## 13. Develop a program that calculates the factorial of a given number using recursion.\n"
      ],
      "metadata": {
        "id": "w_CCgnJgJ1dY"
      }
    },
    {
      "cell_type": "code",
      "source": [
        "def factorial(n):\n",
        "    if n == 1 or n == 0:\n",
        "        return 1\n",
        "    else:\n",
        "        return n * factorial(n-1)\n",
        "\n",
        "num = int(input(\"Enter a number: \"))\n",
        "print(f\"Factorial of {num} is {factorial(num)}\")"
      ],
      "metadata": {
        "colab": {
          "base_uri": "https://localhost:8080/"
        },
        "id": "G7abbFfTJ3WW",
        "outputId": "6471020d-a5ea-462c-cb4e-3f700c269284"
      },
      "execution_count": 43,
      "outputs": [
        {
          "output_type": "stream",
          "name": "stdout",
          "text": [
            "Enter a number: 5\n",
            "Factorial of 5 is 120\n"
          ]
        }
      ]
    },
    {
      "cell_type": "markdown",
      "source": [
        "## 14. Write a program to find the largest among three numbers without using the `max()` function.\n"
      ],
      "metadata": {
        "id": "1xl-ERVlJ4Rz"
      }
    },
    {
      "cell_type": "code",
      "source": [
        "num1 = float(input(\"Enter first number: \"))\n",
        "num2 = float(input(\"Enter second number: \"))\n",
        "num3 = float(input(\"Enter third number: \"))\n",
        "\n",
        "if num1 >= num2 and num1 >= num3:\n",
        "    largest = num1\n",
        "elif num2 >= num1 and num2 >= num3:\n",
        "    largest = num2\n",
        "else:\n",
        "    largest = num3\n",
        "\n",
        "print(f\"The largest number is {largest}\")"
      ],
      "metadata": {
        "colab": {
          "base_uri": "https://localhost:8080/"
        },
        "id": "meMXlTpjJ6RW",
        "outputId": "f61c6790-d40e-4b43-85be-1a1aefa17d2a"
      },
      "execution_count": 44,
      "outputs": [
        {
          "output_type": "stream",
          "name": "stdout",
          "text": [
            "Enter first number: 25\n",
            "Enter second number: 1\n",
            "Enter third number: 0\n",
            "The largest number is 25.0\n"
          ]
        }
      ]
    },
    {
      "cell_type": "markdown",
      "source": [
        "## 15. Create a program that simulates a basic ATM transaction menu.\n"
      ],
      "metadata": {
        "id": "wJTnyXk3J68c"
      }
    },
    {
      "cell_type": "code",
      "source": [
        "balance = 1000  # Default balance\n",
        "\n",
        "def check_balance():\n",
        "    print(f\"Your balance is {balance}\")\n",
        "\n",
        "def deposit(amount):\n",
        "    global balance\n",
        "    balance += amount\n",
        "    print(f\"Deposited {amount}. New balance is {balance}\")\n",
        "\n",
        "def withdraw(amount):\n",
        "    global balance\n",
        "    if amount <= balance:\n",
        "        balance -= amount\n",
        "        print(f\"Withdrawn {amount}. New balance is {balance}\")\n",
        "    else:\n",
        "        print(\"Insufficient balance\")\n",
        "\n",
        "while True:\n",
        "    print(\"\\nATM Menu\")\n",
        "    print(\"1. Check Balance\")\n",
        "    print(\"2. Deposit\")\n",
        "    print(\"3. Withdraw\")\n",
        "    print(\"4. Exit\")\n",
        "    choice = int(input(\"Choose an option (1-4): \"))\n",
        "\n",
        "    if choice == 1:\n",
        "        check_balance()\n",
        "    elif choice == 2:\n",
        "        amount = float(input(\"Enter amount to deposit: \"))\n",
        "        deposit(amount)\n",
        "    elif choice == 3:\n",
        "        amount = float(input(\"Enter amount to withdraw: \"))\n",
        "        withdraw(amount)\n",
        "    elif choice == 4:\n",
        "        print(\"Thank you for using the ATM!\")\n",
        "        break\n",
        "    else:\n",
        "        print(\"Invalid choice\")"
      ],
      "metadata": {
        "colab": {
          "base_uri": "https://localhost:8080/"
        },
        "id": "robn2V5gJ9Ze",
        "outputId": "0cd3f0eb-892d-465d-e728-0acc93e597a6"
      },
      "execution_count": 45,
      "outputs": [
        {
          "output_type": "stream",
          "name": "stdout",
          "text": [
            "\n",
            "ATM Menu\n",
            "1. Check Balance\n",
            "2. Deposit\n",
            "3. Withdraw\n",
            "4. Exit\n",
            "Choose an option (1-4): 1\n",
            "Your balance is 1000\n",
            "\n",
            "ATM Menu\n",
            "1. Check Balance\n",
            "2. Deposit\n",
            "3. Withdraw\n",
            "4. Exit\n",
            "Choose an option (1-4): 2\n",
            "Enter amount to deposit: 500\n",
            "Deposited 500.0. New balance is 1500.0\n",
            "\n",
            "ATM Menu\n",
            "1. Check Balance\n",
            "2. Deposit\n",
            "3. Withdraw\n",
            "4. Exit\n",
            "Choose an option (1-4): 3\n",
            "Enter amount to withdraw: 100\n",
            "Withdrawn 100.0. New balance is 1400.0\n",
            "\n",
            "ATM Menu\n",
            "1. Check Balance\n",
            "2. Deposit\n",
            "3. Withdraw\n",
            "4. Exit\n",
            "Choose an option (1-4): 4\n",
            "Thank you for using the ATM!\n"
          ]
        }
      ]
    },
    {
      "cell_type": "markdown",
      "source": [
        "## 16. Build a program that checks if a given string is a palindrome or not.\n"
      ],
      "metadata": {
        "id": "_vkFymeMJ-Ij"
      }
    },
    {
      "cell_type": "code",
      "source": [
        "def is_palindrome(s):\n",
        "    # Convert the string to lowercase to make the check case-insensitive\n",
        "    s = s.lower()\n",
        "    # Remove spaces from the string\n",
        "    s = s.replace(\" \", \"\")\n",
        "    # Check if the string is equal to its reverse\n",
        "    return s == s[::-1]\n",
        "\n",
        "# Input: string from the user\n",
        "string = input(\"Enter a string: \")\n",
        "\n",
        "# Check if the string is a palindrome\n",
        "if is_palindrome(string):\n",
        "    print(f\"'{string}' is a palindrome.\")\n",
        "else:\n",
        "    print(f\"'{string}' is not a palindrome.\")"
      ],
      "metadata": {
        "colab": {
          "base_uri": "https://localhost:8080/"
        },
        "id": "PihCn2HaKA3O",
        "outputId": "68389643-aa52-44fb-cbb6-e2f55572fc42"
      },
      "execution_count": 46,
      "outputs": [
        {
          "output_type": "stream",
          "name": "stdout",
          "text": [
            "Enter a string: Radar\n",
            "'Radar' is a palindrome.\n"
          ]
        }
      ]
    },
    {
      "cell_type": "markdown",
      "source": [
        "## 17. Write a program that calculates the average of a list of numbers, excluding the smallest and largest values.\n"
      ],
      "metadata": {
        "id": "mYbOgi2bKBeL"
      }
    },
    {
      "cell_type": "code",
      "source": [
        "def average_exclude_min_max(numbers):\n",
        "    if len(numbers) < 3:\n",
        "        return \"List must have at least 3 numbers\"\n",
        "    numbers.sort()\n",
        "    return sum(numbers[1:-1]) / (len(numbers) - 2)\n",
        "\n",
        "numbers = [float(x) for x in input(\"Enter numbers separated by space: \").split()]\n",
        "print(f\"Average (excluding min and max): {average_exclude_min_max(numbers)}\")"
      ],
      "metadata": {
        "colab": {
          "base_uri": "https://localhost:8080/"
        },
        "id": "0ygN3khwKDcG",
        "outputId": "7e34cfa9-c28d-4ea6-ec7b-145db4131e4a"
      },
      "execution_count": 47,
      "outputs": [
        {
          "output_type": "stream",
          "name": "stdout",
          "text": [
            "Enter numbers separated by space: 7\n",
            "Average (excluding min and max): List must have at least 3 numbers\n"
          ]
        }
      ]
    },
    {
      "cell_type": "markdown",
      "source": [
        "## 18. Develop a program that converts a given temperature from Celsius to Fahrenheit.\n"
      ],
      "metadata": {
        "id": "IoEfqH2cKEVm"
      }
    },
    {
      "cell_type": "code",
      "source": [
        "celsius = float(input(\"Enter temperature in Celsius: \"))\n",
        "fahrenheit = (celsius * 9/5) + 32\n",
        "print(f\"{celsius}°C is {fahrenheit}°F\")"
      ],
      "metadata": {
        "colab": {
          "base_uri": "https://localhost:8080/"
        },
        "id": "srSbzYOgKGau",
        "outputId": "b9a0f10d-bd1c-4247-830c-a17a09dc1e02"
      },
      "execution_count": 48,
      "outputs": [
        {
          "output_type": "stream",
          "name": "stdout",
          "text": [
            "Enter temperature in Celsius: 27\n",
            "27.0°C is 80.6°F\n"
          ]
        }
      ]
    },
    {
      "cell_type": "markdown",
      "source": [
        "## 19. Create a program that simulates a basic calculator for addition, subtraction, multiplication, and division.\n"
      ],
      "metadata": {
        "id": "EycdEirsKHbS"
      }
    },
    {
      "cell_type": "code",
      "source": [
        "def calculator(num1, num2, operator):\n",
        "    if operator == '+':\n",
        "        return num1 + num2\n",
        "    elif operator == '-':\n",
        "        return num1 - num2\n",
        "    elif operator == '*':\n",
        "        return num1 * num2\n",
        "    elif operator == '/':\n",
        "        if num2 != 0:\n",
        "            return num1 / num2\n",
        "        else:\n",
        "            return \"Error! Division by zero.\"\n",
        "    else:\n",
        "        return \"Invalid operator\"\n",
        "\n",
        "num1 = float(input(\"Enter first number: \"))\n",
        "num2 = float(input(\"Enter second number: \"))\n",
        "operator = input(\"Enter an operator (+, -, *, /): \")\n",
        "\n",
        "result = calculator(num1, num2, operator)\n",
        "print(f\"Result: {result}\")"
      ],
      "metadata": {
        "colab": {
          "base_uri": "https://localhost:8080/"
        },
        "id": "mvIxGN0nKKQG",
        "outputId": "601e0401-7b04-4f1f-9314-3341d849b8d6"
      },
      "execution_count": 49,
      "outputs": [
        {
          "output_type": "stream",
          "name": "stdout",
          "text": [
            "Enter first number: 4\n",
            "Enter second number: 1\n",
            "Enter an operator (+, -, *, /): *\n",
            "Result: 4.0\n"
          ]
        }
      ]
    },
    {
      "cell_type": "markdown",
      "source": [
        "## 20. Write a program that determines the roots of a cubic equation using the Cardano formula."
      ],
      "metadata": {
        "id": "doYREAcKKK7w"
      }
    },
    {
      "cell_type": "code",
      "source": [
        "import math\n",
        "\n",
        "def cubic_roots(a, b, c, d):\n",
        "    f = ((3*c/a) - (b**2/a**2)) / 3\n",
        "    g = ((2*b**3/a**3) - (9*b*c/a**2) + (27*d/a)) / 27\n",
        "    h = (g**2/4) + (f**3/27)\n",
        "\n",
        "    if h > 0:\n",
        "        r = -(g/2) + math.sqrt(h)\n",
        "        s = math.copysign(abs(r)**(1/3), r)\n",
        "        t = -(g/2) - math.sqrt(h)\n",
        "        u = math.copysign(abs(t)**(1/3), t)\n",
        "        root1 = (s + u) - (b / (3*a))\n",
        "        return root1, None, None\n",
        "    else:\n",
        "        i = math.sqrt(((g**2)/4) - h)\n",
        "        j = i**(1/3)\n",
        "        k = math.acos(-(g/(2*i)))\n",
        "        L = j * -1\n",
        "        M = math.cos(k/3)\n",
        "        N = math.sqrt(3) * math.sin(k/3)\n",
        "        P = -(b / (3*a))\n",
        "\n",
        "        root1 = 2*j*math.cos(k/3) - (b / (3*a))\n",
        "        root2 = L*(M + N) + P\n",
        "        root3 = L*(M - N) + P\n",
        "        return root1, root2, root3\n",
        "\n",
        "a = float(input(\"Enter coefficient a: \"))\n",
        "b = float(input(\"Enter coefficient b: \"))\n",
        "c = float(input(\"Enter coefficient c: \"))\n",
        "d = float(input(\"Enter coefficient d: \"))\n",
        "\n",
        "roots = cubic_roots(a, b, c, d)\n",
        "\n",
        "if roots[1] is None:  # Only one real root\n",
        "    print(f\"The real root is: {roots[0]:.2f}\")\n",
        "else:  # Three real roots\n",
        "    print(f\"The roots are: {roots[0]:.2f}, {roots[1]:.2f}, {roots[2]:.2f}\")"
      ],
      "metadata": {
        "colab": {
          "base_uri": "https://localhost:8080/"
        },
        "id": "FbKwSYZCKLtu",
        "outputId": "e2569d4b-7aae-4881-b099-8cd71825739c"
      },
      "execution_count": 54,
      "outputs": [
        {
          "output_type": "stream",
          "name": "stdout",
          "text": [
            "Enter coefficient a: 5\n",
            "Enter coefficient b: 4\n",
            "Enter coefficient c: 5\n",
            "Enter coefficient d: 8\n",
            "The real root is: -1.15\n"
          ]
        }
      ]
    },
    {
      "cell_type": "markdown",
      "source": [
        "# Advanced Level:"
      ],
      "metadata": {
        "id": "3C1bxgIVWwUM"
      }
    },
    {
      "cell_type": "markdown",
      "source": [
        "## 21. Create a program that calculates the income tax based on the user's income and tax brackets.\n"
      ],
      "metadata": {
        "id": "rRjXzX3uW0B-"
      }
    },
    {
      "cell_type": "code",
      "source": [
        "def calculate_tax(income):\n",
        "    if income <= 10000:\n",
        "        tax = 0\n",
        "    elif income <= 30000:\n",
        "        tax = (income - 10000) * 0.10  # 10% for income between 10k and 30k\n",
        "    elif income <= 100000:\n",
        "        tax = 2000 + (income - 30000) * 0.20  # 20% for income between 30k and 100k\n",
        "    else:\n",
        "        tax = 16000 + (income - 100000) * 0.30  # 30% for income above 100k\n",
        "    return tax\n",
        "\n",
        "income = float(input(\"Enter your income: \"))\n",
        "tax = calculate_tax(income)\n",
        "print(f\"The calculated tax is: {tax:.2f}\")"
      ],
      "metadata": {
        "colab": {
          "base_uri": "https://localhost:8080/"
        },
        "id": "oLbBXFxBVsfe",
        "outputId": "4844b038-2c1a-4a59-9b85-178fa8d296dc"
      },
      "execution_count": 56,
      "outputs": [
        {
          "output_type": "stream",
          "name": "stdout",
          "text": [
            "Enter your income: 35000\n",
            "The calculated tax is: 3000.00\n"
          ]
        }
      ]
    },
    {
      "cell_type": "markdown",
      "source": [
        "## 22. Write a program that simulates a rock-paper-scissors game against the computer.\n"
      ],
      "metadata": {
        "id": "vBITeQQHW2H9"
      }
    },
    {
      "cell_type": "code",
      "source": [
        "import random\n",
        "\n",
        "def determine_winner(user, computer):\n",
        "    if user == computer:\n",
        "        return \"It's a tie!\"\n",
        "    elif (user == \"rock\" and computer == \"scissors\") or (user == \"paper\" and computer == \"rock\") or (user == \"scissors\" and computer == \"paper\"):\n",
        "        return \"You win!\"\n",
        "    else:\n",
        "        return \"Computer wins!\"\n",
        "\n",
        "choices = [\"rock\", \"paper\", \"scissors\"]\n",
        "user_choice = input(\"Enter rock, paper, or scissors: \").lower()\n",
        "computer_choice = random.choice(choices)\n",
        "print(f\"Computer chose: {computer_choice}\")\n",
        "result = determine_winner(user_choice, computer_choice)\n",
        "print(result)"
      ],
      "metadata": {
        "colab": {
          "base_uri": "https://localhost:8080/"
        },
        "id": "vKlSbB5SW3f1",
        "outputId": "27b331e9-8c67-425c-f63c-1c8a06db8d13"
      },
      "execution_count": 60,
      "outputs": [
        {
          "output_type": "stream",
          "name": "stdout",
          "text": [
            "Enter rock, paper, or scissors: scissors\n",
            "Computer chose: scissors\n",
            "It's a tie!\n"
          ]
        }
      ]
    },
    {
      "cell_type": "markdown",
      "source": [
        "## 23. Develop a program that generates a random password based on user preferences (length, complexity).\n"
      ],
      "metadata": {
        "id": "VisQVy91W4JH"
      }
    },
    {
      "cell_type": "code",
      "source": [
        "import random\n",
        "import string\n",
        "\n",
        "# Function to generate a random password\n",
        "def generate_password(length, use_special_chars):\n",
        "    characters = string.ascii_letters + string.digits\n",
        "    if use_special_chars:\n",
        "        characters += string.punctuation\n",
        "\n",
        "    password = ''.join(random.choice(characters) for _ in range(length))\n",
        "    return password\n",
        "\n",
        "length = int(input(\"Enter the desired password length: \"))\n",
        "use_special_chars = input(\"Use special characters? (yes/no): \").lower() == 'yes'\n",
        "\n",
        "password = generate_password(length, use_special_chars)\n",
        "print(f\"Generated password: {password}\")"
      ],
      "metadata": {
        "colab": {
          "base_uri": "https://localhost:8080/"
        },
        "id": "Pejqyf4nW6cV",
        "outputId": "df814cd7-0c3b-45ed-900f-b22d339112dc"
      },
      "execution_count": 62,
      "outputs": [
        {
          "output_type": "stream",
          "name": "stdout",
          "text": [
            "Enter the desired password length: 7\n",
            "Use special characters? (yes/no): no\n",
            "Generated password: wZd6Hz0\n"
          ]
        }
      ]
    },
    {
      "cell_type": "markdown",
      "source": [
        "## 24. Create a program that implements a simple text-based adventure game with branching scenarios.\n"
      ],
      "metadata": {
        "id": "av1eGQVsW7Mt"
      }
    },
    {
      "cell_type": "code",
      "source": [
        "def start_game():\n",
        "    print(\"Welcome to the Adventure Game!\")\n",
        "    print(\"You are standing at a fork in the road.\")\n",
        "    choice = input(\"Do you want to go left or right? (left/right): \").lower()\n",
        "\n",
        "    if choice == \"left\":\n",
        "        print(\"You encounter a friendly wizard. He gives you a magic potion.\")\n",
        "        second_choice = input(\"Do you drink the potion? (yes/no): \").lower()\n",
        "        if second_choice == \"yes\":\n",
        "            print(\"The potion gives you strength, and you continue your journey.\")\n",
        "        else:\n",
        "            print(\"You decide to save the potion for later.\")\n",
        "    elif choice == \"right\":\n",
        "        print(\"You find a treasure chest!\")\n",
        "        second_choice = input(\"Do you open it? (yes/no): \").lower()\n",
        "        if second_choice == \"yes\":\n",
        "            print(\"You find a lot of gold inside!\")\n",
        "        else:\n",
        "            print(\"You leave the chest untouched.\")\n",
        "    else:\n",
        "        print(\"Invalid choice. Game over.\")\n",
        "\n",
        "start_game()"
      ],
      "metadata": {
        "colab": {
          "base_uri": "https://localhost:8080/"
        },
        "id": "h_VvjXZ3W-zE",
        "outputId": "6b0d4cf2-bffd-4cb5-ca8b-7a14e9b2dd27"
      },
      "execution_count": 66,
      "outputs": [
        {
          "output_type": "stream",
          "name": "stdout",
          "text": [
            "Welcome to the Adventure Game!\n",
            "You are standing at a fork in the road.\n",
            "Do you want to go left or right? (left/right): right\n",
            "You find a treasure chest!\n",
            "Do you open it? (yes/no): yes\n",
            "You find a lot of gold inside!\n"
          ]
        }
      ]
    },
    {
      "cell_type": "markdown",
      "source": [
        "## 25. Build a program that solves a linear equation for x, considering different cases.\n"
      ],
      "metadata": {
        "id": "4lnNMZiyW_Vr"
      }
    },
    {
      "cell_type": "code",
      "source": [
        "# Solving linear equation ax + b = 0\n",
        "def solve_linear_equation(a, b):\n",
        "    if a == 0:\n",
        "        if b == 0:\n",
        "            return \"Infinite solutions\"  # Case: 0x = 0\n",
        "        else:\n",
        "            return \"No solution\"  # Case: 0x = b, b != 0\n",
        "    else:\n",
        "        return -b / a  # Solve for x\n",
        "\n",
        "a = float(input(\"Enter coefficient a: \"))\n",
        "b = float(input(\"Enter coefficient b: \"))\n",
        "solution = solve_linear_equation(a, b)\n",
        "print(f\"Solution: {solution}\")"
      ],
      "metadata": {
        "colab": {
          "base_uri": "https://localhost:8080/"
        },
        "id": "oRhZg8xDXB8d",
        "outputId": "60dc0655-2dd6-4036-9655-daa7f390da20"
      },
      "execution_count": 67,
      "outputs": [
        {
          "output_type": "stream",
          "name": "stdout",
          "text": [
            "Enter coefficient a: 2\n",
            "Enter coefficient b: 4\n",
            "Solution: -2.0\n"
          ]
        }
      ]
    },
    {
      "cell_type": "markdown",
      "source": [
        "## 26. Write a program that simulates a basic quiz game with multiple-choice questions and scoring.\n"
      ],
      "metadata": {
        "id": "zBbA5LS1XCl8"
      }
    },
    {
      "cell_type": "code",
      "source": [
        "# Simple quiz game with multiple-choice questions\n",
        "questions = {\n",
        "    \"What is the capital of France?\": \"a) Paris b) London c) Rome\",\n",
        "    \"What is the largest planet?\": \"a) Earth b) Jupiter c) Mars\",\n",
        "    \"Who wrote 'Hamlet'?\": \"a) Charles Dickens b) William Shakespeare c) Mark Twain\"\n",
        "}\n",
        "\n",
        "answers = {\n",
        "    \"What is the capital of France?\": \"a\",\n",
        "    \"What is the largest planet?\": \"b\",\n",
        "    \"Who wrote 'Hamlet'?\": \"b\"\n",
        "}\n",
        "\n",
        "score = 0\n",
        "for question, options in questions.items():\n",
        "    print(question)\n",
        "    print(options)\n",
        "    user_answer = input(\"Enter your answer (a/b/c): \").lower()\n",
        "    if user_answer == answers[question]:\n",
        "        score += 1\n",
        "\n",
        "print(f\"Your score is: {score}/{len(questions)}\")"
      ],
      "metadata": {
        "colab": {
          "base_uri": "https://localhost:8080/"
        },
        "id": "4OQwHpp6XEok",
        "outputId": "d34a1a68-ee08-445f-b791-5b6515f3ed0f"
      },
      "execution_count": 69,
      "outputs": [
        {
          "output_type": "stream",
          "name": "stdout",
          "text": [
            "What is the capital of France?\n",
            "a) Paris b) London c) Rome\n",
            "Enter your answer (a/b/c): a\n",
            "What is the largest planet?\n",
            "a) Earth b) Jupiter c) Mars\n",
            "Enter your answer (a/b/c): b\n",
            "Who wrote 'Hamlet'?\n",
            "a) Charles Dickens b) William Shakespeare c) Mark Twain\n",
            "Enter your answer (a/b/c): b\n",
            "Your score is: 3/3\n"
          ]
        }
      ]
    },
    {
      "cell_type": "markdown",
      "source": [
        "## 27. Develop a program that determines whether a given year is a prime number or not.\n"
      ],
      "metadata": {
        "id": "i4TlYw0rXFKg"
      }
    },
    {
      "cell_type": "code",
      "source": [
        "# Function to check if a number is prime\n",
        "def is_prime(year):\n",
        "    if year < 2:\n",
        "        return False\n",
        "    for i in range(2, int(year**0.5) + 1):\n",
        "        if year % i == 0:\n",
        "            return False\n",
        "    return True\n",
        "\n",
        "year = int(input(\"Enter a year: \"))\n",
        "if is_prime(year):\n",
        "    print(f\"{year} is a prime year.\")\n",
        "else:\n",
        "    print(f\"{year} is not a prime year.\")"
      ],
      "metadata": {
        "colab": {
          "base_uri": "https://localhost:8080/"
        },
        "id": "Zd1KDamTXHkq",
        "outputId": "c223e5eb-cf0c-4409-fce2-369384e99d06"
      },
      "execution_count": 74,
      "outputs": [
        {
          "output_type": "stream",
          "name": "stdout",
          "text": [
            "Enter a year: 2029\n",
            "2029 is a prime year.\n"
          ]
        }
      ]
    },
    {
      "cell_type": "markdown",
      "source": [
        "## 28. Create a program that sorts three numbers in ascending order using conditional statements.\n"
      ],
      "metadata": {
        "id": "33jSY4zjXKSP"
      }
    },
    {
      "cell_type": "code",
      "source": [
        "def sort_three_numbers(a, b, c):\n",
        "    if a > b:\n",
        "        a, b = b, a\n",
        "    if a > c:\n",
        "        a, c = c, a\n",
        "    if b > c:\n",
        "        b, c = c, b\n",
        "    return a, b, c\n",
        "\n",
        "a = float(input(\"Enter first number: \"))\n",
        "b = float(input(\"Enter second number: \"))\n",
        "c = float(input(\"Enter third number: \"))\n",
        "sorted_numbers = sort_three_numbers(a, b, c)\n",
        "print(f\"Sorted numbers: {sorted_numbers}\")"
      ],
      "metadata": {
        "colab": {
          "base_uri": "https://localhost:8080/"
        },
        "id": "6ocLL-FuXMIV",
        "outputId": "f20ab8e9-73f4-4516-9e6b-183faa9a3029"
      },
      "execution_count": 76,
      "outputs": [
        {
          "output_type": "stream",
          "name": "stdout",
          "text": [
            "Enter first number: 20\n",
            "Enter second number: 50\n",
            "Enter third number: 30\n",
            "Sorted numbers: (20.0, 30.0, 50.0)\n"
          ]
        }
      ]
    },
    {
      "cell_type": "markdown",
      "source": [
        "## 29. Build a program that determines the roots of a quartic equation using numerical methods.\n"
      ],
      "metadata": {
        "id": "Dnavs_vRXSY3"
      }
    },
    {
      "cell_type": "code",
      "source": [
        "def quartic_equation(x, coeffs):\n",
        "    a, b, c, d, e = coeffs\n",
        "    return a*x**4 + b*x**3 + c*x**2 + d*x + e\n",
        "\n",
        "def derivative(x, coeffs):\n",
        "    a, b, c, d, e = coeffs\n",
        "    return 4*a*x**3 + 3*b*x**2 + 2*c*x + d\n",
        "\n",
        "def newton_raphson(x0, coeffs, tol=1e-6, max_iter=100):\n",
        "    x = x0\n",
        "    for _ in range(max_iter):\n",
        "        fx = quartic_equation(x, coeffs)\n",
        "        dfx = derivative(x, coeffs)\n",
        "        if dfx == 0:  # Avoid division by zero\n",
        "            return None\n",
        "        x_new = x - fx / dfx\n",
        "        if abs(x_new - x) < tol:\n",
        "            return x_new\n",
        "        x = x_new\n",
        "    return x\n",
        "\n",
        "def find_roots(coeffs):\n",
        "    # Initial guesses for the roots\n",
        "    guesses = [-2, -1, 0, 1, 2]\n",
        "    roots = []\n",
        "    tol = 1e-6\n",
        "    for guess in guesses:\n",
        "        root = newton_raphson(guess, coeffs, tol)\n",
        "        if root is not None:\n",
        "            # Check if the root is unique (within a tolerance)\n",
        "            if not any(abs(root - r) < tol for r in roots):\n",
        "                roots.append(root)\n",
        "    return roots\n",
        "\n",
        "def get_coefficients():\n",
        "    print(\"Enter the coefficients of the quartic equation (ax^4 + bx^3 + cx^2 + dx + e = 0):\")\n",
        "    a = float(input(\"a: \"))\n",
        "    b = float(input(\"b: \"))\n",
        "    c = float(input(\"c: \"))\n",
        "    d = float(input(\"d: \"))\n",
        "    e = float(input(\"e: \"))\n",
        "    return [a, b, c, d, e]\n",
        "\n",
        "# Main program\n",
        "coeffs = get_coefficients()\n",
        "roots = find_roots(coeffs)\n",
        "\n",
        "print(\"Roots of the quartic equation are:\")\n",
        "for r in roots:\n",
        "    print(f\"{r:.2f}\")\n",
        ""
      ],
      "metadata": {
        "colab": {
          "base_uri": "https://localhost:8080/"
        },
        "id": "QeCPl03sXU-1",
        "outputId": "ed79cbc9-b7f3-45ff-9491-16a78c01b0ba"
      },
      "execution_count": 80,
      "outputs": [
        {
          "output_type": "stream",
          "name": "stdout",
          "text": [
            "Enter the coefficients of the quartic equation (ax^4 + bx^3 + cx^2 + dx + e = 0):\n",
            "a: 2\n",
            "b: 1\n",
            "c: 5\n",
            "d: 4\n",
            "e: 9\n",
            "Roots of the quartic equation are:\n",
            "-3.43\n",
            "-1.14\n",
            "-0.31\n",
            "2.37\n",
            "-0.79\n"
          ]
        }
      ]
    },
    {
      "cell_type": "markdown",
      "source": [
        "## 30. Write a program that calculates the BMI (Body Mass Index) and provides health recommendations based on the user's input."
      ],
      "metadata": {
        "id": "X50VlbTtXVlk"
      }
    },
    {
      "cell_type": "code",
      "source": [
        "# BMI Calculator with health recommendations\n",
        "def calculate_bmi(weight, height):\n",
        "    bmi = weight / (height**2)\n",
        "    return bmi\n",
        "\n",
        "def health_recommendation(bmi):\n",
        "    if bmi < 18.5:\n",
        "        return \"Underweight. Eat a balanced diet and consult a physician.\"\n",
        "    elif 18.5 <= bmi < 24.9:\n",
        "        return \"Normal weight. Maintain your current lifestyle.\"\n",
        "    elif 25 <= bmi < 29.9:\n",
        "        return \"Overweight. Consider regular exercise and a healthy diet.\"\n",
        "    else:\n",
        "        return \"Obese. Consult a healthcare professional.\"\n",
        "\n",
        "weight = float(input(\"Enter weight in kg: \"))\n",
        "height = float(input(\"Enter height in meters: \"))\n",
        "bmi = calculate_bmi(weight, height)\n",
        "recommendation = health_recommendation(bmi)\n",
        "print(f\"Your BMI is: {bmi:.2f}\")\n",
        "print(recommendation)"
      ],
      "metadata": {
        "colab": {
          "base_uri": "https://localhost:8080/"
        },
        "id": "BB1nwHUsaEtx",
        "outputId": "9295ec8e-f7e3-4cfc-891c-414e622101d8"
      },
      "execution_count": 77,
      "outputs": [
        {
          "output_type": "stream",
          "name": "stdout",
          "text": [
            "Enter weight in kg: 55\n",
            "Enter height in meters: 1.7\n",
            "Your BMI is: 19.03\n",
            "Normal weight. Maintain your current lifestyle.\n"
          ]
        }
      ]
    },
    {
      "cell_type": "markdown",
      "source": [
        "# Challenge Level:\n"
      ],
      "metadata": {
        "id": "ODzFgTh5bWyD"
      }
    },
    {
      "cell_type": "markdown",
      "source": [
        "## 31. Create a program that validates a password based on complexity rules (length, characters, etc.).\n"
      ],
      "metadata": {
        "id": "5aoEYnHYbb2W"
      }
    },
    {
      "cell_type": "code",
      "source": [
        "def validate_password(password):\n",
        "    # Check if the password length is at least 8 characters\n",
        "    if len(password) < 8:\n",
        "        return \"Password must be at least 8 characters long.\"\n",
        "\n",
        "    # Check if the password contains at least one uppercase letter\n",
        "    if not any(char.isupper() for char in password):\n",
        "        return \"Password must contain at least one uppercase letter.\"\n",
        "\n",
        "    # Check if the password contains at least one lowercase letter\n",
        "    if not any(char.islower() for char in password):\n",
        "        return \"Password must contain at least one lowercase letter.\"\n",
        "\n",
        "    # Check if the password contains at least one digit\n",
        "    if not any(char.isdigit() for char in password):\n",
        "        return \"Password must contain at least one digit.\"\n",
        "\n",
        "    # Check if the password contains at least one special character\n",
        "    if not any(char in \"!@#$%^&*()-+\" for char in password):\n",
        "        return \"Password must contain at least one special character.\"\n",
        "\n",
        "    return \"Password is valid.\"\n",
        "\n",
        "# Example usage\n",
        "password = input(\"Enter your password: \")\n",
        "print(validate_password(password))"
      ],
      "metadata": {
        "colab": {
          "base_uri": "https://localhost:8080/"
        },
        "id": "PXfZZ_nEaF8T",
        "outputId": "815e2154-c7cc-43f2-e47c-84951985b9f7"
      },
      "execution_count": 81,
      "outputs": [
        {
          "output_type": "stream",
          "name": "stdout",
          "text": [
            "Enter your password: Relax@@241\n",
            "Password is valid.\n"
          ]
        }
      ]
    },
    {
      "cell_type": "markdown",
      "source": [
        "## 32. Develop a program that performs matrix addition and subtraction based on user input.\n"
      ],
      "metadata": {
        "id": "4Bz9nZOrbfKl"
      }
    },
    {
      "cell_type": "code",
      "source": [
        "def matrix_addition(matrix1, matrix2):\n",
        "    result = []\n",
        "    for i in range(len(matrix1)):\n",
        "        row = []\n",
        "        for j in range(len(matrix1[0])):\n",
        "            row.append(matrix1[i][j] + matrix2[i][j])\n",
        "        result.append(row)\n",
        "    return result\n",
        "\n",
        "def matrix_subtraction(matrix1, matrix2):\n",
        "    result = []\n",
        "    for i in range(len(matrix1)):\n",
        "        row = []\n",
        "        for j in range(len(matrix1[0])):\n",
        "            row.append(matrix1[i][j] - matrix2[i][j])\n",
        "        result.append(row)\n",
        "    return result\n",
        "\n",
        "# Get user input for matrices\n",
        "def get_matrix(rows, cols):\n",
        "    matrix = []\n",
        "    print(f\"Enter the elements of {rows}x{cols} matrix:\")\n",
        "    for i in range(rows):\n",
        "        row = list(map(int, input().split()))\n",
        "        matrix.append(row)\n",
        "    return matrix\n",
        "\n",
        "# Example usage\n",
        "rows = int(input(\"Enter the number of rows: \"))\n",
        "cols = int(input(\"Enter the number of columns: \"))\n",
        "\n",
        "print(\"Matrix 1:\")\n",
        "matrix1 = get_matrix(rows, cols)\n",
        "print(\"Matrix 2:\")\n",
        "matrix2 = get_matrix(rows, cols)\n",
        "\n",
        "operation = input(\"Enter operation (+ or -): \")\n",
        "\n",
        "if operation == '+':\n",
        "    result = matrix_addition(matrix1, matrix2)\n",
        "elif operation == '-':\n",
        "    result = matrix_subtraction(matrix1, matrix2)\n",
        "else:\n",
        "    print(\"Invalid operation.\")\n",
        "    result = None\n",
        "\n",
        "if result:\n",
        "    print(\"Result:\")\n",
        "    for row in result:\n",
        "        print(row)"
      ],
      "metadata": {
        "colab": {
          "base_uri": "https://localhost:8080/"
        },
        "id": "ro4OkqvEbiG6",
        "outputId": "87d0efc9-27b2-41c5-f14f-92dc77b25cb4"
      },
      "execution_count": 83,
      "outputs": [
        {
          "output_type": "stream",
          "name": "stdout",
          "text": [
            "Enter the number of rows: 2\n",
            "Enter the number of columns: 3\n",
            "Matrix 1:\n",
            "Enter the elements of 2x3 matrix:\n",
            "2 3 5\n",
            "1 2 3\n",
            "Matrix 2:\n",
            "Enter the elements of 2x3 matrix:\n",
            "4 5 6\n",
            "7 2 4\n",
            "Enter operation (+ or -): +\n",
            "Result:\n",
            "[6, 8, 11]\n",
            "[8, 4, 7]\n"
          ]
        }
      ]
    },
    {
      "cell_type": "markdown",
      "source": [
        "## 33. Write a program that calculates the greatest common divisor (GCD) of two numbers using the Euclidean algorithm.\n"
      ],
      "metadata": {
        "id": "52RgkItPbiuR"
      }
    },
    {
      "cell_type": "code",
      "source": [
        "def gcd(a, b):\n",
        "    while b != 0:\n",
        "        a, b = b, a % b\n",
        "    return a\n",
        "\n",
        "# Example usage\n",
        "num1 = int(input(\"Enter the first number: \"))\n",
        "num2 = int(input(\"Enter the second number: \"))\n",
        "\n",
        "print(\"The GCD is:\", gcd(num1, num2))"
      ],
      "metadata": {
        "colab": {
          "base_uri": "https://localhost:8080/"
        },
        "id": "sR2lN8E1buxA",
        "outputId": "f3ec0e23-d611-4627-b844-30bc0626a961"
      },
      "execution_count": 84,
      "outputs": [
        {
          "output_type": "stream",
          "name": "stdout",
          "text": [
            "Enter the first number: 5\n",
            "Enter the second number: 4\n",
            "The GCD is: 1\n"
          ]
        }
      ]
    },
    {
      "cell_type": "markdown",
      "source": [
        "## 34. Build a program that performs matrix multiplication using nested loops and conditional statements.\n"
      ],
      "metadata": {
        "id": "FBnsW-NqbvX1"
      }
    },
    {
      "cell_type": "code",
      "source": [
        "def matrix_multiplication(matrix1, matrix2):\n",
        "    # Get dimensions\n",
        "    rows1 = len(matrix1)\n",
        "    cols1 = len(matrix1[0])\n",
        "    rows2 = len(matrix2)\n",
        "    cols2 = len(matrix2[0])\n",
        "\n",
        "    # Check if multiplication is possible\n",
        "    if cols1 != rows2:\n",
        "        return \"Matrix multiplication is not possible. The number of columns in the first matrix must equal the number of rows in the second matrix.\"\n",
        "\n",
        "    # Initialize result matrix with zeros\n",
        "    result = [[0] * cols2 for _ in range(rows1)]\n",
        "\n",
        "    # Perform matrix multiplication\n",
        "    for i in range(rows1):\n",
        "        for j in range(cols2):\n",
        "            for k in range(cols1):\n",
        "                result[i][j] += matrix1[i][k] * matrix2[k][j]\n",
        "\n",
        "    return result\n",
        "\n",
        "# Get user input for matrices\n",
        "def get_matrix(rows, cols):\n",
        "    matrix = []\n",
        "    print(f\"Enter the elements of {rows}x{cols} matrix (row by row):\")\n",
        "    for i in range(rows):\n",
        "        row = list(map(int, input().split()))\n",
        "        matrix.append(row)\n",
        "    return matrix\n",
        "\n",
        "# Example usage\n",
        "rows1 = int(input(\"Enter the number of rows for matrix 1: \"))\n",
        "cols1 = int(input(\"Enter the number of columns for matrix 1: \"))\n",
        "matrix1 = get_matrix(rows1, cols1)\n",
        "\n",
        "rows2 = int(input(\"Enter the number of rows for matrix 2: \"))\n",
        "cols2 = int(input(\"Enter the number of columns for matrix 2: \"))\n",
        "matrix2 = get_matrix(rows2, cols2)\n",
        "\n",
        "result = matrix_multiplication(matrix1, matrix2)\n",
        "\n",
        "if isinstance(result, str):  # Check if result is an error message\n",
        "    print(result)\n",
        "else:\n",
        "    print(\"Result of matrix multiplication:\")\n",
        "    for row in result:\n",
        "        print(row)"
      ],
      "metadata": {
        "colab": {
          "base_uri": "https://localhost:8080/"
        },
        "id": "1g4G1UXKbxvg",
        "outputId": "4d4daea0-f18f-49d1-b9d8-9082f9117613"
      },
      "execution_count": 87,
      "outputs": [
        {
          "output_type": "stream",
          "name": "stdout",
          "text": [
            "Enter the number of rows for matrix 1: 3\n",
            "Enter the number of columns for matrix 1: 3\n",
            "Enter the elements of 3x3 matrix (row by row):\n",
            "1 2 3\n",
            "4 5 6 \n",
            "7 8 9\n",
            "Enter the number of rows for matrix 2: 3\n",
            "Enter the number of columns for matrix 2: 3\n",
            "Enter the elements of 3x3 matrix (row by row):\n",
            "1 1 1\n",
            "1 1 1\n",
            "1 1 1\n",
            "Result of matrix multiplication:\n",
            "[6, 6, 6]\n",
            "[15, 15, 15]\n",
            "[24, 24, 24]\n"
          ]
        }
      ]
    },
    {
      "cell_type": "markdown",
      "source": [
        "## 35. Create a program that simulates a basic text-based tic-tac-toe game against the computer.\n"
      ],
      "metadata": {
        "id": "oSkwqMVkbyQ2"
      }
    },
    {
      "cell_type": "code",
      "source": [
        "import random\n",
        "\n",
        "def print_board(board):\n",
        "    for row in board:\n",
        "        print(\" | \".join(row))\n",
        "        print(\"-\" * 5)\n",
        "\n",
        "def check_winner(board, player):\n",
        "    win_conditions = [\n",
        "        # Check rows\n",
        "        [board[0][0], board[0][1], board[0][2]],\n",
        "        [board[1][0], board[1][1], board[1][2]],\n",
        "        [board[2][0], board[2][1], board[2][2]],\n",
        "        # Check columns\n",
        "        [board[0][0], board[1][0], board[2][0]],\n",
        "        [board[0][1], board[1][1], board[2][1]],\n",
        "        [board[0][2], board[1][2], board[2][2]],\n",
        "        # Check diagonals\n",
        "        [board[0][0], board[1][1], board[2][2]],\n",
        "        [board[0][2], board[1][1], board[2][0]],\n",
        "    ]\n",
        "    return [player, player, player] in win_conditions\n",
        "\n",
        "def is_board_full(board):\n",
        "    return all(cell != ' ' for row in board for cell in row)\n",
        "\n",
        "def player_move(board):\n",
        "    while True:\n",
        "        try:\n",
        "            row = int(input(\"Enter row (0, 1, 2): \"))\n",
        "            col = int(input(\"Enter column (0, 1, 2): \"))\n",
        "            if board[row][col] == ' ':\n",
        "                board[row][col] = 'X'\n",
        "                break\n",
        "            else:\n",
        "                print(\"Cell already taken. Choose another.\")\n",
        "        except (IndexError, ValueError):\n",
        "            print(\"Invalid input. Please enter row and column as 0, 1, or 2.\")\n",
        "\n",
        "def computer_move(board):\n",
        "    empty_cells = [(r, c) for r in range(3) for c in range(3) if board[r][c] == ' ']\n",
        "    row, col = random.choice(empty_cells)\n",
        "    board[row][col] = 'O'\n",
        "\n",
        "def play_game():\n",
        "    board = [[' ' for _ in range(3)] for _ in range(3)]\n",
        "    print(\"Welcome to Tic-Tac-Toe!\")\n",
        "    print_board(board)\n",
        "\n",
        "    while True:\n",
        "        player_move(board)\n",
        "        print_board(board)\n",
        "\n",
        "        if check_winner(board, 'X'):\n",
        "            print(\"Congratulations! You win!\")\n",
        "            break\n",
        "\n",
        "        if is_board_full(board):\n",
        "            print(\"It's a tie!\")\n",
        "            break\n",
        "\n",
        "        computer_move(board)\n",
        "        print(\"Computer's move:\")\n",
        "        print_board(board)\n",
        "\n",
        "        if check_winner(board, 'O'):\n",
        "            print(\"Computer wins! Better luck next time.\")\n",
        "            break\n",
        "\n",
        "        if is_board_full(board):\n",
        "            print(\"It's a tie!\")\n",
        "            break\n",
        "\n",
        "play_game()"
      ],
      "metadata": {
        "colab": {
          "base_uri": "https://localhost:8080/"
        },
        "id": "sYDKGKPzbzyT",
        "outputId": "2073f4f1-93a3-40a9-c7b0-0d0294cb407a"
      },
      "execution_count": 88,
      "outputs": [
        {
          "output_type": "stream",
          "name": "stdout",
          "text": [
            "Welcome to Tic-Tac-Toe!\n",
            "  |   |  \n",
            "-----\n",
            "  |   |  \n",
            "-----\n",
            "  |   |  \n",
            "-----\n",
            "Enter row (0, 1, 2): 1\n",
            "Enter column (0, 1, 2): 2\n",
            "  |   |  \n",
            "-----\n",
            "  |   | X\n",
            "-----\n",
            "  |   |  \n",
            "-----\n",
            "Computer's move:\n",
            "O |   |  \n",
            "-----\n",
            "  |   | X\n",
            "-----\n",
            "  |   |  \n",
            "-----\n",
            "Enter row (0, 1, 2): 1\n",
            "Enter column (0, 1, 2): 0\n",
            "O |   |  \n",
            "-----\n",
            "X |   | X\n",
            "-----\n",
            "  |   |  \n",
            "-----\n",
            "Computer's move:\n",
            "O | O |  \n",
            "-----\n",
            "X |   | X\n",
            "-----\n",
            "  |   |  \n",
            "-----\n",
            "Enter row (0, 1, 2): 1\n",
            "Enter column (0, 1, 2): 1\n",
            "O | O |  \n",
            "-----\n",
            "X | X | X\n",
            "-----\n",
            "  |   |  \n",
            "-----\n",
            "Congratulations! You win!\n"
          ]
        }
      ]
    },
    {
      "cell_type": "markdown",
      "source": [
        "## 36. Write a program that generates Fibonacci numbers up to a specified term using iterative methods.\n"
      ],
      "metadata": {
        "id": "JLtZSpNWb0UP"
      }
    },
    {
      "cell_type": "code",
      "source": [
        "def generate_fibonacci(n):\n",
        "    fib_sequence = []\n",
        "    a, b = 0, 1\n",
        "    while a <= n:\n",
        "        fib_sequence.append(a)\n",
        "        a, b = b, a + b\n",
        "    return fib_sequence\n",
        "\n",
        "# Example usage\n",
        "terms = int(input(\"Enter the maximum value for Fibonacci sequence: \"))\n",
        "fib_sequence = generate_fibonacci(terms)\n",
        "print(\"Fibonacci sequence up to\", terms, \"is:\", fib_sequence)"
      ],
      "metadata": {
        "colab": {
          "base_uri": "https://localhost:8080/"
        },
        "id": "GqfUcvqCb18Q",
        "outputId": "175e8c05-0a9f-49f8-a731-a6878a04c245"
      },
      "execution_count": 89,
      "outputs": [
        {
          "output_type": "stream",
          "name": "stdout",
          "text": [
            "Enter the maximum value for Fibonacci sequence: 7\n",
            "Fibonacci sequence up to 7 is: [0, 1, 1, 2, 3, 5]\n"
          ]
        }
      ]
    },
    {
      "cell_type": "markdown",
      "source": [
        "## 37. Develop a program that calculates the nth term of the Fibonacci sequence using memoization.\n"
      ],
      "metadata": {
        "id": "6d2DFfsEb2kF"
      }
    },
    {
      "cell_type": "code",
      "source": [
        "def fibonacci(n, memo={}):\n",
        "    # Base case\n",
        "    if n <= 0:\n",
        "        return 0\n",
        "    elif n == 1:\n",
        "        return 1\n",
        "\n",
        "    # Check if value is already in memo\n",
        "    if n in memo:\n",
        "        return memo[n]\n",
        "\n",
        "    # Compute the value and store it in memo\n",
        "    memo[n] = fibonacci(n - 1, memo) + fibonacci(n - 2, memo)\n",
        "    return memo[n]\n",
        "\n",
        "# Example usage\n",
        "n = int(input(\"Enter the term number for Fibonacci sequence: \"))\n",
        "print(f\"The {n}th term of the Fibonacci sequence is: {fibonacci(n)}\")"
      ],
      "metadata": {
        "colab": {
          "base_uri": "https://localhost:8080/"
        },
        "id": "5KFCoC3fb416",
        "outputId": "477396f5-1118-4b9f-a7fc-8ddae6a9545e"
      },
      "execution_count": 91,
      "outputs": [
        {
          "output_type": "stream",
          "name": "stdout",
          "text": [
            "Enter the term number for Fibonacci sequence: 29\n",
            "The 29th term of the Fibonacci sequence is: 514229\n"
          ]
        }
      ]
    },
    {
      "cell_type": "markdown",
      "source": [
        "## 38. Create a program that generates a calendar for a given month and year using conditional statements.\n"
      ],
      "metadata": {
        "id": "UOo1cOqHb5dL"
      }
    },
    {
      "cell_type": "code",
      "source": [
        "import calendar\n",
        "\n",
        "def generate_calendar(month, year):\n",
        "    # Validate month and year\n",
        "    if month < 1 or month > 12:\n",
        "        return \"Invalid month. Please enter a value between 1 and 12.\"\n",
        "    if year < 1:\n",
        "        return \"Invalid year. Please enter a positive integer.\"\n",
        "\n",
        "    # Generate and return the calendar for the given month and year\n",
        "    return calendar.month(year, month)\n",
        "\n",
        "# Example usage\n",
        "month = int(input(\"Enter the month (1-12): \"))\n",
        "year = int(input(\"Enter the year: \"))\n",
        "\n",
        "print(generate_calendar(month, year))"
      ],
      "metadata": {
        "colab": {
          "base_uri": "https://localhost:8080/"
        },
        "id": "_NmkHRdHb7Gq",
        "outputId": "045ee6e1-52a5-4aaa-a510-b59384998739"
      },
      "execution_count": 92,
      "outputs": [
        {
          "output_type": "stream",
          "name": "stdout",
          "text": [
            "Enter the month (1-12): 2\n",
            "Enter the year: 2024\n",
            "   February 2024\n",
            "Mo Tu We Th Fr Sa Su\n",
            "          1  2  3  4\n",
            " 5  6  7  8  9 10 11\n",
            "12 13 14 15 16 17 18\n",
            "19 20 21 22 23 24 25\n",
            "26 27 28 29\n",
            "\n"
          ]
        }
      ]
    },
    {
      "cell_type": "markdown",
      "source": [
        "## 39. Build a program that simulates a basic text-based blackjack game against the computer.\n"
      ],
      "metadata": {
        "id": "yT_CnjOxb8LN"
      }
    },
    {
      "cell_type": "code",
      "source": [
        "import random\n",
        "\n",
        "def deal_card():\n",
        "    \"\"\"Returns a random card from a deck of cards.\"\"\"\n",
        "    cards = [2, 3, 4, 5, 6, 7, 8, 9, 10, 10, 10, 10, 11]  # 11 represents Ace\n",
        "    return random.choice(cards)\n",
        "\n",
        "def calculate_score(hand):\n",
        "    \"\"\"Calculates the score of a hand of cards.\"\"\"\n",
        "    score = sum(hand)\n",
        "    # Adjust for Aces\n",
        "    while score > 21 and 11 in hand:\n",
        "        score -= 10\n",
        "        hand.remove(11)\n",
        "    return score\n",
        "\n",
        "def blackjack():\n",
        "    print(\"Welcome to Blackjack!\")\n",
        "\n",
        "    # Initial hands\n",
        "    player_hand = [deal_card(), deal_card()]\n",
        "    computer_hand = [deal_card(), deal_card()]\n",
        "\n",
        "    game_over = False\n",
        "\n",
        "    # Player's turn\n",
        "    while not game_over:\n",
        "        print(f\"Your hand: {player_hand}, current score: {calculate_score(player_hand)}\")\n",
        "        print(f\"Computer's first card: {computer_hand[0]}\")\n",
        "\n",
        "        if calculate_score(player_hand) == 21:\n",
        "            print(\"Blackjack! You win!\")\n",
        "            return\n",
        "        elif calculate_score(player_hand) > 21:\n",
        "            print(\"You went over 21. You lose!\")\n",
        "            return\n",
        "\n",
        "        action = input(\"Type 'hit' to get another card, 'stand' to pass: \").lower()\n",
        "        if action == 'hit':\n",
        "            player_hand.append(deal_card())\n",
        "        elif action == 'stand':\n",
        "            game_over = True\n",
        "        else:\n",
        "            print(\"Invalid input. Please type 'hit' or 'stand'.\")\n",
        "\n",
        "    # Computer's turn\n",
        "    while calculate_score(computer_hand) < 17:\n",
        "        computer_hand.append(deal_card())\n",
        "\n",
        "    print(f\"Your final hand: {player_hand}, final score: {calculate_score(player_hand)}\")\n",
        "    print(f\"Computer's final hand: {computer_hand}, final score: {calculate_score(computer_hand)}\")\n",
        "\n",
        "    # Determine the winner\n",
        "    player_score = calculate_score(player_hand)\n",
        "    computer_score = calculate_score(computer_hand)\n",
        "\n",
        "    if computer_score > 21 or player_score > computer_score:\n",
        "        print(\"You win!\")\n",
        "    elif player_score < computer_score:\n",
        "        print(\"Computer wins!\")\n",
        "    else:\n",
        "        print(\"It's a tie!\")\n",
        "\n",
        "blackjack()\n"
      ],
      "metadata": {
        "colab": {
          "base_uri": "https://localhost:8080/"
        },
        "id": "Ilr0wyEab9vy",
        "outputId": "8ca22221-7f32-4eb8-e775-d4c439c289f1"
      },
      "execution_count": 97,
      "outputs": [
        {
          "output_type": "stream",
          "name": "stdout",
          "text": [
            "Welcome to Blackjack!\n",
            "Your hand: [10, 8], current score: 18\n",
            "Computer's first card: 6\n",
            "Type 'hit' to get another card, 'stand' to pass: hit\n",
            "Your hand: [10, 8, 10], current score: 28\n",
            "Computer's first card: 6\n",
            "You went over 21. You lose!\n"
          ]
        }
      ]
    },
    {
      "cell_type": "markdown",
      "source": [
        "## 40. Write a program that generates the prime factors of a given number using trial division."
      ],
      "metadata": {
        "id": "XQV8tqa9b-TE"
      }
    },
    {
      "cell_type": "code",
      "source": [
        "def prime_factors(n):\n",
        "    factors = []\n",
        "    # Check for number of 2s\n",
        "    while n % 2 == 0:\n",
        "        factors.append(2)\n",
        "        n //= 2\n",
        "\n",
        "    # Check for odd factors from 3 upwards\n",
        "    divisor = 3\n",
        "    while divisor * divisor <= n:\n",
        "        while n % divisor == 0:\n",
        "            factors.append(divisor)\n",
        "            n //= divisor\n",
        "        divisor += 2\n",
        "\n",
        "    # If n is a prime number greater than 2\n",
        "    if n > 2:\n",
        "        factors.append(n)\n",
        "\n",
        "    return factors\n",
        "\n",
        "# Example usage\n",
        "number = int(input(\"Enter a number to find its prime factors: \"))\n",
        "print(\"Prime factors:\", prime_factors(number))"
      ],
      "metadata": {
        "colab": {
          "base_uri": "https://localhost:8080/"
        },
        "id": "9J9JpUZ-b_OB",
        "outputId": "ea1f5f5b-f011-4b3b-97f7-df258c7a910a"
      },
      "execution_count": 99,
      "outputs": [
        {
          "output_type": "stream",
          "name": "stdout",
          "text": [
            "Enter a number to find its prime factors: 245\n",
            "Prime factors: [5, 7, 7]\n"
          ]
        }
      ]
    },
    {
      "cell_type": "code",
      "source": [],
      "metadata": {
        "id": "3gqsvxgkfupf"
      },
      "execution_count": null,
      "outputs": []
    }
  ]
}