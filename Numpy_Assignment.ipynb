{
  "nbformat": 4,
  "nbformat_minor": 0,
  "metadata": {
    "colab": {
      "provenance": []
    },
    "kernelspec": {
      "name": "python3",
      "display_name": "Python 3"
    },
    "language_info": {
      "name": "python"
    }
  },
  "cells": [
    {
      "cell_type": "markdown",
      "source": [
        "1. What is a Python library? Why do we use Python libraries?"
      ],
      "metadata": {
        "id": "4whQsTACpzIL"
      }
    },
    {
      "cell_type": "code",
      "execution_count": null,
      "metadata": {
        "id": "E7fNO9p7podf"
      },
      "outputs": [],
      "source": [
        "'''\n",
        "A Python library is a collection of pre-written code that provides specific functionality, such as performing mathematical operations, interacting with databases, or creating web applications.\n",
        "Libraries are organized in modules, which can be imported into a Python program to reuse code without needing to write it from scratch.\n",
        "\n",
        "Python libraries are used for the following reasons:\n",
        "* Efficiency: They save time by providing pre-built functions.\n",
        "* Code Reusability: They reduce the need to write repetitive code.\n",
        "* Functionality: They extend Python's capabilities by offering specialized tools.\n",
        "* Community Support: Popular libraries often have strong community support, offering updates and improvements.\n",
        "'''\n",
        "pass\n"
      ]
    },
    {
      "cell_type": "markdown",
      "source": [
        "2. What is the difference between Numpy array and List?"
      ],
      "metadata": {
        "id": "eQYY9FnQuCU8"
      }
    },
    {
      "cell_type": "markdown",
      "source": [
        "The key differences between a NumPy array and a Python list are:\n",
        "\n",
        "1. **Data Type**:  \n",
        "   - **NumPy Array**: Requires all elements to be of the same data type (e.g., all integers or all floats).\n",
        "   - **List**: Can contain elements of different data types (e.g., integers, floats, strings).\n",
        "\n",
        "2. **Performance**:  \n",
        "   - **NumPy Array**: Provides faster performance, especially for large datasets, because it is optimized for numerical operations.\n",
        "   - **List**: Slower for numerical operations since it lacks optimization and performs element-wise operations.\n",
        "\n",
        "3. **Functionality**:  \n",
        "   - **NumPy Array**: Supports advanced mathematical operations (e.g., matrix operations, broadcasting).\n",
        "   - **List**: Limited in built-in functionality for mathematical computations.\n",
        "\n",
        "4. **Memory Usage**:  \n",
        "   - **NumPy Array**: Consumes less memory because it is more efficient in storing data.\n",
        "   - **List**: Consumes more memory due to its flexible data storage format.\n",
        "\n",
        "5. **Dimensionality**:  \n",
        "   - **NumPy Array**: Can handle multi-dimensional data (e.g., 2D arrays, 3D arrays).\n",
        "   - **List**: Typically handles one-dimensional data; multi-dimensional lists are possible but less efficient.\n",
        "\n"
      ],
      "metadata": {
        "id": "wExnObWOuxO-"
      }
    },
    {
      "cell_type": "markdown",
      "source": [
        "3. Find the shape, size and dimension of the following array?\n",
        "\n",
        "[[1, 2, 3, 4]\n",
        "\n",
        "[5, 6, 7, 8],\n",
        "\n",
        "[9, 10, 11, 12]]"
      ],
      "metadata": {
        "id": "Pl02vfE4vF81"
      }
    },
    {
      "cell_type": "code",
      "source": [
        "import numpy as np\n",
        "\n",
        "# Define the array\n",
        "arr = np.array([[1, 2, 3, 4],\n",
        "                [5, 6, 7, 8],\n",
        "                [9, 10, 11, 12]])\n",
        "\n",
        "# Get the shape, size, and dimension\n",
        "shape = arr.shape        # Shape of the array\n",
        "size = arr.size          # Total number of elements\n",
        "dimension = arr.ndim     # Dimension of the array\n",
        "\n",
        "print(\"Shape:\", shape)\n",
        "print(\"Size:\", size)\n",
        "print(\"Dimension:\", dimension)"
      ],
      "metadata": {
        "colab": {
          "base_uri": "https://localhost:8080/"
        },
        "id": "MBpcAs9KuQAQ",
        "outputId": "23e54351-f005-4fa8-f021-268a298add81"
      },
      "execution_count": 2,
      "outputs": [
        {
          "output_type": "stream",
          "name": "stdout",
          "text": [
            "Shape: (3, 4)\n",
            "Size: 12\n",
            "Dimension: 2\n"
          ]
        }
      ]
    },
    {
      "cell_type": "markdown",
      "source": [
        "4. Write python code to access the first row of the following array?\n",
        "\n",
        "[[1, 2, 3, 4]\n",
        "\n",
        "[5, 6, 7, 8],\n",
        "\n",
        "[9, 10, 11, 12]]"
      ],
      "metadata": {
        "id": "aKaiUGx5vocG"
      }
    },
    {
      "cell_type": "code",
      "source": [
        "import numpy as np\n",
        "\n",
        "# Define the array\n",
        "arr = np.array([[1, 2, 3, 4],\n",
        "                [5, 6, 7, 8],\n",
        "                [9, 10, 11, 12]])\n",
        "\n",
        "# Access the first row\n",
        "first_row = arr[0]\n",
        "\n",
        "print(\"First Row:\", first_row)"
      ],
      "metadata": {
        "colab": {
          "base_uri": "https://localhost:8080/"
        },
        "id": "ixHTDtALvhVn",
        "outputId": "25aec94d-41ee-47f7-f280-80745a69cf47"
      },
      "execution_count": 3,
      "outputs": [
        {
          "output_type": "stream",
          "name": "stdout",
          "text": [
            "First Row: [1 2 3 4]\n"
          ]
        }
      ]
    },
    {
      "cell_type": "markdown",
      "source": [
        "5. How do you access the element at the third row and fourth column from the given numpy array?\n",
        "\n",
        "[[1, 2, 3, 4]\n",
        "\n",
        "[5, 6, 7, 8],\n",
        "\n",
        "[9, 10, 11, 12]]"
      ],
      "metadata": {
        "id": "bjZoi8u4w40n"
      }
    },
    {
      "cell_type": "code",
      "source": [
        "import numpy as np\n",
        "\n",
        "# Define the array\n",
        "arr = np.array([[1, 2, 3, 4],\n",
        "                [5, 6, 7, 8],\n",
        "                [9, 10, 11, 12]])\n",
        "\n",
        "# Access the element at the third row and fourth column\n",
        "element = arr[2, 3]\n",
        "\n",
        "print(\"Element at third row and fourth column:\", element)"
      ],
      "metadata": {
        "colab": {
          "base_uri": "https://localhost:8080/"
        },
        "id": "S8gDhcdUw1tA",
        "outputId": "de818d9a-47da-449e-b625-62554bfaf472"
      },
      "execution_count": 4,
      "outputs": [
        {
          "output_type": "stream",
          "name": "stdout",
          "text": [
            "Element at third row and fourth column: 12\n"
          ]
        }
      ]
    },
    {
      "cell_type": "markdown",
      "source": [
        "6. Write code to extract all odd-indexed elements from the given numpy array?\n",
        "\n",
        "[[1, 2, 3, 4]\n",
        "\n",
        "[5, 6, 7, 8],\n",
        "\n",
        "[9, 10, 11, 12]]"
      ],
      "metadata": {
        "id": "VqLV5J3oxZ_4"
      }
    },
    {
      "cell_type": "code",
      "source": [
        "import numpy as np\n",
        "\n",
        "# Define the array\n",
        "arr = np.array([[1, 2, 3, 4],\n",
        "                [5, 6, 7, 8],\n",
        "                [9, 10, 11, 12]])\n",
        "\n",
        "# Flatten the array and extract elements at odd indices\n",
        "odd_indexed_elements = arr.flatten()[1::2]\n",
        "\n",
        "print(\"Odd-indexed elements:\", odd_indexed_elements)"
      ],
      "metadata": {
        "colab": {
          "base_uri": "https://localhost:8080/"
        },
        "id": "ItS-6EyhxVay",
        "outputId": "25809d2a-f895-4915-8645-fd5ab47cc71e"
      },
      "execution_count": 5,
      "outputs": [
        {
          "output_type": "stream",
          "name": "stdout",
          "text": [
            "Odd-indexed elements: [ 2  4  6  8 10 12]\n"
          ]
        }
      ]
    },
    {
      "cell_type": "markdown",
      "source": [
        "7. How can you generate a random 3x3 matrix with values between 0 and 1?"
      ],
      "metadata": {
        "id": "CeYYKQOox51W"
      }
    },
    {
      "cell_type": "code",
      "source": [
        "import numpy as np\n",
        "\n",
        "# Generate a 3x3 matrix with random values between 0 and 1\n",
        "random_matrix = np.random.rand(3, 3)\n",
        "\n",
        "print(\"Random 3x3 Matrix:\\n\", random_matrix)"
      ],
      "metadata": {
        "colab": {
          "base_uri": "https://localhost:8080/"
        },
        "id": "2miAvi2exj4R",
        "outputId": "bcf118ff-f08d-480d-db0f-5ceeeca9a321"
      },
      "execution_count": 6,
      "outputs": [
        {
          "output_type": "stream",
          "name": "stdout",
          "text": [
            "Random 3x3 Matrix:\n",
            " [[0.62126576 0.67439051 0.66329136]\n",
            " [0.32887315 0.00305938 0.88877627]\n",
            " [0.77565765 0.40731919 0.14952459]]\n"
          ]
        }
      ]
    },
    {
      "cell_type": "markdown",
      "source": [
        "8. Describe the difference between np.random.rand and np.random.randn?"
      ],
      "metadata": {
        "id": "nYi5OIl6yNDw"
      }
    },
    {
      "cell_type": "markdown",
      "source": [
        "The difference between **np.random.rand** and **np.random.randn** in NumPy is:\n",
        "\n",
        "- **np.random.rand()**\n",
        "\n",
        " - ***Distribution***: Generates random numbers from a uniform distribution between 0 and 1. This means each value has an equal probability of being selected from the interval [0, 1).\n",
        "  - ***Range***: The values lie between 0 (inclusive) and 1 (exclusive).\n",
        "  - ***Usage***: **np.random.rand(shape)** where **shape** defines the dimensions of the output array.\n",
        "\n",
        "\n",
        "- **np.random.randn()**\n",
        " - ***Distribution***: Generates random numbers from a standard normal distribution (Gaussian distribution) with a mean of 0 and a standard deviation of 1.\n",
        " - ***Range***: The values can be both positive and negative, typically falling between -3 and 3, but theoretically extending to infinity in both directions.\n",
        " - ***Usage***: **np.random.randn(shape)** where **shape** defines the dimensions of the output array."
      ],
      "metadata": {
        "id": "B-Dje0S5zNSF"
      }
    },
    {
      "cell_type": "markdown",
      "source": [
        "9. Write code to increase the dimension of the following array?\n",
        "\n",
        "[[1, 2, 3, 4]\n",
        "\n",
        "[5, 6, 7, 8],\n",
        "\n",
        "[9, 10, 11, 12]]"
      ],
      "metadata": {
        "id": "c0h6oVCO2ExE"
      }
    },
    {
      "cell_type": "code",
      "source": [
        "import numpy as np\n",
        "\n",
        "# Define the array\n",
        "arr = np.array([[1, 2, 3, 4],\n",
        "                [5, 6, 7, 8],\n",
        "                [9, 10, 11, 12]])\n",
        "\n",
        "# Increase the dimension (e.g., from 2D to 3D)\n",
        "arr_expanded = np.expand_dims(arr, axis=0)  # Adds a new dimension at the beginning\n",
        "\n",
        "print(\"Expanded Array:\\n\", arr_expanded)\n",
        "print(\"New Shape:\", arr_expanded.shape)"
      ],
      "metadata": {
        "colab": {
          "base_uri": "https://localhost:8080/"
        },
        "id": "bstXdVWzyE84",
        "outputId": "af525af9-6e35-445e-db76-1ab148897bcf"
      },
      "execution_count": 7,
      "outputs": [
        {
          "output_type": "stream",
          "name": "stdout",
          "text": [
            "Expanded Array:\n",
            " [[[ 1  2  3  4]\n",
            "  [ 5  6  7  8]\n",
            "  [ 9 10 11 12]]]\n",
            "New Shape: (1, 3, 4)\n"
          ]
        }
      ]
    },
    {
      "cell_type": "markdown",
      "source": [
        "10. How to transpose the following array in NumPy?\n",
        "\n",
        "[[1, 2, 3, 4]\n",
        "\n",
        "[5, 6, 7, 8],\n",
        "\n",
        "[9, 10, 11, 12]]"
      ],
      "metadata": {
        "id": "an155sfL2lE7"
      }
    },
    {
      "cell_type": "code",
      "source": [
        "import numpy as np\n",
        "\n",
        "# Define the array\n",
        "arr = np.array([[1, 2, 3, 4],\n",
        "                [5, 6, 7, 8],\n",
        "                [9, 10, 11, 12]])\n",
        "\n",
        "# Transpose the array\n",
        "arr_transposed = np.transpose(arr)\n",
        "\n",
        "print(\"Transposed Array:\\n\", arr_transposed)"
      ],
      "metadata": {
        "colab": {
          "base_uri": "https://localhost:8080/"
        },
        "id": "18OYLSoD2QMb",
        "outputId": "b1bba24c-9375-4634-bfea-8fd379c6006d"
      },
      "execution_count": 8,
      "outputs": [
        {
          "output_type": "stream",
          "name": "stdout",
          "text": [
            "Transposed Array:\n",
            " [[ 1  5  9]\n",
            " [ 2  6 10]\n",
            " [ 3  7 11]\n",
            " [ 4  8 12]]\n"
          ]
        }
      ]
    },
    {
      "cell_type": "markdown",
      "source": [
        "**11. Consider the following matrix:**\n",
        "\n",
        "**Matrix A: [[1, 2, 3, 4] [5, 6, 7, 8],[9, 10, 11, 12]]**\n",
        "\n",
        "**Matrix B: [[1, 2, 3, 4] [5, 6, 7, 8],[9, 10, 11, 12]]**\n",
        "\n",
        "**Perform the following operation using Python:**\n",
        "\n",
        "1. Index wise multiplication\n",
        "2. Matrix multiplication\n",
        "3. Add both the matrics\n",
        "4. Subtract matrix B from A\n",
        "5. Divide Matrix B by A"
      ],
      "metadata": {
        "id": "9iewwr-T3KQ5"
      }
    },
    {
      "cell_type": "code",
      "source": [
        "import numpy as np\n",
        "\n",
        "# Define matrices A and B\n",
        "A = np.array([[1, 2, 3, 4], [5, 6, 7, 8], [9, 10, 11, 12]])\n",
        "B = np.array([[1, 2, 3, 4], [5, 6, 7, 8], [9, 10, 11, 12]])\n",
        "\n",
        "# Index-wise (element-wise) multiplication\n",
        "index_wise_multiplication = A * B\n",
        "\n",
        "# Matrix multiplication\n",
        "matrix_multiplication = np.dot(A, B.T)  # Transpose B for correct matrix multiplication\n",
        "\n",
        "# Addition of matrices\n",
        "matrix_addition = A + B\n",
        "\n",
        "# Subtraction of matrix B from A\n",
        "matrix_subtraction = A - B\n",
        "\n",
        "# Element-wise division of B by A\n",
        "element_wise_division = B / A\n",
        "\n",
        "print(\"Index-wise Multiplication:\\n\", index_wise_multiplication)\n",
        "print(\"Matrix Multiplication (Dot Product):\\n\", matrix_multiplication)\n",
        "print(\"Matrix Addition:\\n\", matrix_addition)\n",
        "print(\"Matrix Subtraction:\\n\", matrix_subtraction)\n",
        "print(\"Element-wise Division (B / A):\\n\", element_wise_division)"
      ],
      "metadata": {
        "colab": {
          "base_uri": "https://localhost:8080/"
        },
        "id": "dEMltfh53GRN",
        "outputId": "343c067c-975d-4854-dfc7-2ee18fcf5826"
      },
      "execution_count": 10,
      "outputs": [
        {
          "output_type": "stream",
          "name": "stdout",
          "text": [
            "Index-wise Multiplication:\n",
            " [[  1   4   9  16]\n",
            " [ 25  36  49  64]\n",
            " [ 81 100 121 144]]\n",
            "Matrix Multiplication (Dot Product):\n",
            " [[ 30  70 110]\n",
            " [ 70 174 278]\n",
            " [110 278 446]]\n",
            "Matrix Addition:\n",
            " [[ 2  4  6  8]\n",
            " [10 12 14 16]\n",
            " [18 20 22 24]]\n",
            "Matrix Subtraction:\n",
            " [[0 0 0 0]\n",
            " [0 0 0 0]\n",
            " [0 0 0 0]]\n",
            "Element-wise Division (B / A):\n",
            " [[1. 1. 1. 1.]\n",
            " [1. 1. 1. 1.]\n",
            " [1. 1. 1. 1.]]\n"
          ]
        }
      ]
    },
    {
      "cell_type": "markdown",
      "source": [
        "12. Which function in Numpy can be used to swap the byte order of an array?"
      ],
      "metadata": {
        "id": "RmK7P1W54qFX"
      }
    },
    {
      "cell_type": "code",
      "source": [
        "import numpy as np\n",
        "\n",
        "# Define an array with a specific byte order\n",
        "arr = np.array([1, 2, 3, 4], dtype='>i4')  # Big-endian integer array\n",
        "\n",
        "# Swap the byte order\n",
        "arr_swapped = arr.byteswap()\n",
        "\n",
        "print(\"Original Array:\", arr)\n",
        "print(\"Swapped Array:\", arr_swapped)"
      ],
      "metadata": {
        "colab": {
          "base_uri": "https://localhost:8080/"
        },
        "id": "-wIBeUnq4TBV",
        "outputId": "114fa0c5-3675-414e-dfe6-4194c3d1cc15"
      },
      "execution_count": 11,
      "outputs": [
        {
          "output_type": "stream",
          "name": "stdout",
          "text": [
            "Original Array: [1 2 3 4]\n",
            "Swapped Array: [16777216 33554432 50331648 67108864]\n"
          ]
        }
      ]
    },
    {
      "cell_type": "markdown",
      "source": [
        "13. What is the significance of the np.linalg.inv function?"
      ],
      "metadata": {
        "id": "F4j3qhVX7Ex7"
      }
    },
    {
      "cell_type": "markdown",
      "source": [
        "The **np.linalg.inv** function in NumPy is used to compute the inverse of a square matrix. The inverse of a matrix **A** is another matrix A^-1 such that when multiplied together, they yield the identity matrix **I**, i.e., **A x A^-1 = I**\n",
        "\n",
        "- Significance:\n",
        "  - ***Solving Linear Systems***: The matrix inverse is used to solve systems of linear equations of the form Ax = b. If A is invertible, the solution can be found as x = A^(-1)b.\n",
        "  - ***Matrix Operations***: Inverse matrices are important in various matrix operations and transformations, such as inverting transformations in graphics and physics simulations.\n",
        "  - ***Stability and Conditioning***: The inverse of a matrix is crucial for understanding the stability and conditioning of a system. For example, in numerical analysis, the condition number of a matrix, which involves the inverse, provides insight into the sensitivity of the solution to changes in the input.\n"
      ],
      "metadata": {
        "id": "aRrysH0g7M_X"
      }
    },
    {
      "cell_type": "code",
      "source": [
        "##Usage\n",
        "\n",
        "import numpy as np\n",
        "\n",
        "# Define a square matrix\n",
        "A = np.array([[1, 2],\n",
        "              [3, 4]])\n",
        "\n",
        "# Compute the inverse\n",
        "A_inv = np.linalg.inv(A)\n",
        "\n",
        "print(\"Matrix A:\\n\", A)\n",
        "print(\"Inverse of Matrix A:\\n\", A_inv)"
      ],
      "metadata": {
        "colab": {
          "base_uri": "https://localhost:8080/"
        },
        "id": "1qoP_q7G6nZb",
        "outputId": "0537cbda-032f-4368-8d24-b119788e57e2"
      },
      "execution_count": 12,
      "outputs": [
        {
          "output_type": "stream",
          "name": "stdout",
          "text": [
            "Matrix A:\n",
            " [[1 2]\n",
            " [3 4]]\n",
            "Inverse of Matrix A:\n",
            " [[-2.   1. ]\n",
            " [ 1.5 -0.5]]\n"
          ]
        }
      ]
    },
    {
      "cell_type": "markdown",
      "source": [
        "14. What does the np.reshape function do, and how is it used?"
      ],
      "metadata": {
        "id": "n1ikJKZr-Jbf"
      }
    },
    {
      "cell_type": "markdown",
      "source": [
        "The **np.reshape** function in NumPy is used to change the shape of an existing array without modifying its data. It allows you to rearrange the elements of the array into a new shape, as long as the total number of elements remains the same.\n",
        "\n",
        "- **Functionality:**\n",
        "  - ***Change Dimensions***: Convert an array into a different number of dimensions or a different shape.\n",
        "  - ***Flatten or Expand***: You can use it to flatten a multidimensional array into a 1D array or expand a 1D array into a multidimensional array."
      ],
      "metadata": {
        "id": "Iiz7XDXx-eO0"
      }
    },
    {
      "cell_type": "code",
      "source": [
        "##Example usage\n",
        "import numpy as np\n",
        "\n",
        "# Define a 1D array\n",
        "arr = np.arange(12)  # Array with 12 elements: [0, 1, 2, ..., 11]\n",
        "\n",
        "# Reshape the array into a 3x4 matrix\n",
        "reshaped_arr = np.reshape(arr, (3, 4))\n",
        "\n",
        "print(\"Original Array:\\n\", arr)\n",
        "print(\"Reshaped Array:\\n\", reshaped_arr)"
      ],
      "metadata": {
        "colab": {
          "base_uri": "https://localhost:8080/"
        },
        "id": "hc_dOGmY-A-O",
        "outputId": "f1b5ef1a-90a2-412b-f06e-d671b382694f"
      },
      "execution_count": 14,
      "outputs": [
        {
          "output_type": "stream",
          "name": "stdout",
          "text": [
            "Original Array:\n",
            " [ 0  1  2  3  4  5  6  7  8  9 10 11]\n",
            "Reshaped Array:\n",
            " [[ 0  1  2  3]\n",
            " [ 4  5  6  7]\n",
            " [ 8  9 10 11]]\n"
          ]
        }
      ]
    },
    {
      "cell_type": "markdown",
      "source": [
        "15. What is broadcasting in Numpy?"
      ],
      "metadata": {
        "id": "BVp35cLD_JkQ"
      }
    },
    {
      "cell_type": "markdown",
      "source": [
        "Broadcasting in NumPy is a set of rules and techniques that allow NumPy to perform operations on arrays of different shapes in a way that is both efficient and intuitive. Broadcasting enables element-wise operations on arrays with different shapes by automatically expanding the smaller array to match the shape of the larger array.\n",
        "\n",
        "**Key Concepts:**\n",
        "\n",
        "- **Broadcasting Rules:**\n",
        "  - ***Rule 1***: If the arrays have a different number of dimensions, the shape of the smaller-dimensional array is padded with ones on the left side until both shapes have the same length.\n",
        "  - ***Rule 2***: If the shape of the arrays does not match, the dimensions of the arrays are compared element-wise. Two dimensions are compatible when: They are equal, or One of them is 1.\n",
        "  - ***Rule 3***: If the dimensions are compatible, the smaller array is \"broadcast\" across the larger array so that they have the same shape.\n",
        "- **Example of Broadcasting**: Suppose you have a 2D array and a 1D array, and you want to add them together. Broadcasting allows NumPy to automatically handle the shape mismatch."
      ],
      "metadata": {
        "id": "Idy6VMSv_Ofw"
      }
    },
    {
      "cell_type": "code",
      "source": [
        "##Example usage\n",
        "import numpy as np\n",
        "\n",
        "# Define a 2D array\n",
        "array_2d = np.array([[1, 2, 3],\n",
        "                     [4, 5, 6]])\n",
        "\n",
        "# Define a 1D array\n",
        "array_1d = np.array([10, 20, 30])\n",
        "\n",
        "# Perform addition using broadcasting\n",
        "result = array_2d + array_1d\n",
        "\n",
        "print(\"2D Array:\\n\", array_2d)\n",
        "print(\"1D Array:\\n\", array_1d)\n",
        "print(\"Result of Broadcasting:\\n\", result)"
      ],
      "metadata": {
        "colab": {
          "base_uri": "https://localhost:8080/"
        },
        "id": "TkZMRfz2_C9D",
        "outputId": "af754d86-2d13-4c0e-d27c-0c61194f3766"
      },
      "execution_count": 15,
      "outputs": [
        {
          "output_type": "stream",
          "name": "stdout",
          "text": [
            "2D Array:\n",
            " [[1 2 3]\n",
            " [4 5 6]]\n",
            "1D Array:\n",
            " [10 20 30]\n",
            "Result of Broadcasting:\n",
            " [[11 22 33]\n",
            " [14 25 36]]\n"
          ]
        }
      ]
    },
    {
      "cell_type": "code",
      "source": [],
      "metadata": {
        "id": "M7WFhYzJADG7"
      },
      "execution_count": null,
      "outputs": []
    }
  ]
}